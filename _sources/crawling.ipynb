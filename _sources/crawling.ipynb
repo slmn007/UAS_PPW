{
 "cells": [
  {
   "cell_type": "markdown",
   "metadata": {},
   "source": [
    "# Crawling Data From Web PTA.Trunojoyo"
   ]
  },
  {
   "cell_type": "markdown",
   "metadata": {},
   "source": [
    "Untuk melakukan Crawling disini diperlukan sebuah Library python bernama Scrapy<br>\n",
    "\"pip install Scrapy\"<br>"
   ]
  },
  {
   "cell_type": "markdown",
   "metadata": {},
   "source": [
    "untuk cara penggunaan dari scrapy bisa melihat dokumentasi dari scrapynya langsung atau mencari referensi dari youtube (karena langkah-langkah penerapannya lumayan susah dijelaskan dengan kata-kata)"
   ]
  },
  {
   "cell_type": "code",
   "execution_count": null,
   "metadata": {},
   "outputs": [],
   "source": [
    "import scrapy\n",
    "\n",
    "class Url(scrapy.Spider):\n",
    "    name = \"url\"\n",
    "    start_urls = []\n",
    "    \n",
    "    def __init__(self):\n",
    "        url = 'https://pta.trunojoyo.ac.id/c_search/byprod/7/'\n",
    "        for page in range(1,13):\n",
    "            self.start_urls.append(url + str(page))\n",
    "        \n",
    "    def parse(self, response):\n",
    "        for page in range(1,6):\n",
    "            for url in response.css('#content_journal > ul'):\n",
    "                yield {\n",
    "                    'url' : url.css('li:nth-child('+str(page)+') > div:nth-child(3) > a ::attr(href)').extract()\n",
    "                } "
   ]
  },
  {
   "cell_type": "markdown",
   "metadata": {},
   "source": [
    "script diatas dijalankan kedalam file bereksistensi \".py\" lalu menjalankan perintah berikut di CMD atau terminal ditempat file ini berada\n",
    "\"scrapy runspider -nama file.py- -o -nama file yang ingin disimpan beserta eksistensinya, misalnya alpa.json-\""
   ]
  },
  {
   "cell_type": "markdown",
   "metadata": {},
   "source": [
    ">Kodingan diatas untuk mendapatkan link atau url dari abstrak yang akan di crawling datanya, output dari script diatas saya jadikan file json dengan nama url.json"
   ]
  },
  {
   "cell_type": "code",
   "execution_count": null,
   "metadata": {},
   "outputs": [],
   "source": [
    "import scrapy\n",
    "import json\n",
    "\n",
    "class Pta(scrapy.Spider):\n",
    "    name = \"pta\"\n",
    "    file_json = open(\"url.json\")\n",
    "    start_urls = json.loads(file_json.read())\n",
    "    urls = []\n",
    "\n",
    "    for i in range(len(start_urls)):\n",
    "        b = start_urls[i]['url'][0]\n",
    "        urls.append(b)\n",
    "    \n",
    "    def start_requests(self):\n",
    "        for url in self.urls:\n",
    "            yield scrapy.Request(url = url, callback = self.parse)\n",
    "        \n",
    "    def parse(self, response):\n",
    "        # print(response.url)\n",
    "\n",
    "        for jurnal in response.css('#content_journal > ul > li'):\n",
    "            yield {\n",
    "                'Judul':jurnal.css('div:nth-child(2) > a::text').get(),\n",
    "                'Penulis':jurnal.css('div:nth-child(2) > div:nth-child(2) > span::text').get()[10:],\n",
    "                'Dosbing_1':jurnal.css('div:nth-child(2) > div:nth-child(3) > span::text').get()[21:],\n",
    "                'Dosbing_2':jurnal.css('div:nth-child(2) > div:nth-child(4) > span::text').get()[22:],\n",
    "                'Abstrak_indo':jurnal.css('div:nth-child(4) > div:nth-child(2) > p::text').get(),\n",
    "            }"
   ]
  },
  {
   "cell_type": "markdown",
   "metadata": {},
   "source": [
    "sama seperti script sebelumnya, script ini dijelankan kedalam file beristensi \".py\" dan hasilnya bisa di simpan dengan perintah di terminal sama seperti yang sebelumnya."
   ]
  },
  {
   "cell_type": "markdown",
   "metadata": {},
   "source": [
    ">hasil dari running script ini saya jadikan file csv dengan nama data.csv"
   ]
  },
  {
   "cell_type": "code",
   "execution_count": 2,
   "metadata": {},
   "outputs": [
    {
     "data": {
      "text/html": [
       "<div>\n",
       "<style scoped>\n",
       "    .dataframe tbody tr th:only-of-type {\n",
       "        vertical-align: middle;\n",
       "    }\n",
       "\n",
       "    .dataframe tbody tr th {\n",
       "        vertical-align: top;\n",
       "    }\n",
       "\n",
       "    .dataframe thead th {\n",
       "        text-align: right;\n",
       "    }\n",
       "</style>\n",
       "<table border=\"1\" class=\"dataframe\">\n",
       "  <thead>\n",
       "    <tr style=\"text-align: right;\">\n",
       "      <th></th>\n",
       "      <th>Judul</th>\n",
       "      <th>Penulis</th>\n",
       "      <th>Dosbing_1</th>\n",
       "      <th>Dosbing_2</th>\n",
       "      <th>Abstrak_indo</th>\n",
       "    </tr>\n",
       "  </thead>\n",
       "  <tbody>\n",
       "    <tr>\n",
       "      <th>0</th>\n",
       "      <td>PENGARUH ETOS KERJA TERHADAP RESTASI KERJA KAR...</td>\n",
       "      <td>Uswatun khasanah</td>\n",
       "      <td>Dr. Dra. Hj. Iriani Ismail, MM</td>\n",
       "      <td>elmi Buyung A. S.ST, SE, M.MT</td>\n",
       "      <td>Abtrak\\t\\r\\nUSWATUN KHASANAH, “Pengaruh Etos K...</td>\n",
       "    </tr>\n",
       "    <tr>\n",
       "      <th>1</th>\n",
       "      <td>Pengaruh Budaya Terhadap Perilaku Pengemis Ana...</td>\n",
       "      <td>Indah Permata Sari</td>\n",
       "      <td>Dr. Hj. Iriani Ismail., Dra.,M.M</td>\n",
       "      <td>aidal,SE., MM</td>\n",
       "      <td>Munculnya asumsi bahwa lahirnya budaya mengemi...</td>\n",
       "    </tr>\n",
       "    <tr>\n",
       "      <th>2</th>\n",
       "      <td>Pengembangan Sumber Daya Manusia Dalam Rangka ...</td>\n",
       "      <td>Ismie Novitasari Soekarno</td>\n",
       "      <td>Dra. Hj. S. Anugrahini Irawati, MM</td>\n",
       "      <td>aidal. S.E, MM</td>\n",
       "      <td>ABSTRAK\\r\\nPenelitian ini bertujuan untuk mene...</td>\n",
       "    </tr>\n",
       "    <tr>\n",
       "      <th>3</th>\n",
       "      <td>Pengaruh Bauran Pemasaran Terhadap Keputusan P...</td>\n",
       "      <td>Mahrus Saleh</td>\n",
       "      <td>Dr.H Pribanus Wantara, Drs, MM</td>\n",
       "      <td>adi Purnomo, SE., MM</td>\n",
       "      <td>Objek penelitian ini adalah pembelian produk X...</td>\n",
       "    </tr>\n",
       "    <tr>\n",
       "      <th>4</th>\n",
       "      <td>Pengaruh Kompensasi Terhadap Kinerja Karywan p...</td>\n",
       "      <td>agustin pratiwi</td>\n",
       "      <td>Drs.Ec. Mudji Kuswinarno.M.Si.</td>\n",
       "      <td>aidal. S.E, MM.</td>\n",
       "      <td>ABSTRAK \\r\\n\\r\\n\\tTujuan penelitian ini adalah...</td>\n",
       "    </tr>\n",
       "  </tbody>\n",
       "</table>\n",
       "</div>"
      ],
      "text/plain": [
       "                                               Judul  \\\n",
       "0  PENGARUH ETOS KERJA TERHADAP RESTASI KERJA KAR...   \n",
       "1  Pengaruh Budaya Terhadap Perilaku Pengemis Ana...   \n",
       "2  Pengembangan Sumber Daya Manusia Dalam Rangka ...   \n",
       "3  Pengaruh Bauran Pemasaran Terhadap Keputusan P...   \n",
       "4  Pengaruh Kompensasi Terhadap Kinerja Karywan p...   \n",
       "\n",
       "                     Penulis                           Dosbing_1  \\\n",
       "0           Uswatun khasanah      Dr. Dra. Hj. Iriani Ismail, MM   \n",
       "1         Indah Permata Sari    Dr. Hj. Iriani Ismail., Dra.,M.M   \n",
       "2  Ismie Novitasari Soekarno  Dra. Hj. S. Anugrahini Irawati, MM   \n",
       "3               Mahrus Saleh      Dr.H Pribanus Wantara, Drs, MM   \n",
       "4            agustin pratiwi     Drs.Ec. Mudji Kuswinarno.M.Si.    \n",
       "\n",
       "                       Dosbing_2  \\\n",
       "0  elmi Buyung A. S.ST, SE, M.MT   \n",
       "1                  aidal,SE., MM   \n",
       "2                 aidal. S.E, MM   \n",
       "3           adi Purnomo, SE., MM   \n",
       "4                aidal. S.E, MM.   \n",
       "\n",
       "                                        Abstrak_indo  \n",
       "0  Abtrak\\t\\r\\nUSWATUN KHASANAH, “Pengaruh Etos K...  \n",
       "1  Munculnya asumsi bahwa lahirnya budaya mengemi...  \n",
       "2  ABSTRAK\\r\\nPenelitian ini bertujuan untuk mene...  \n",
       "3  Objek penelitian ini adalah pembelian produk X...  \n",
       "4  ABSTRAK \\r\\n\\r\\n\\tTujuan penelitian ini adalah...  "
      ]
     },
     "execution_count": 2,
     "metadata": {},
     "output_type": "execute_result"
    }
   ],
   "source": [
    "import pandas as pd\n",
    "df = pd.read_csv('data.csv', sep=',')\n",
    "df.head()"
   ]
  },
  {
   "cell_type": "markdown",
   "metadata": {},
   "source": [
    ">Hasil dari crawling yang dilakukan"
   ]
  }
 ],
 "metadata": {
  "kernelspec": {
   "display_name": "Python 3.10.2 64-bit",
   "language": "python",
   "name": "python3"
  },
  "language_info": {
   "codemirror_mode": {
    "name": "ipython",
    "version": 3
   },
   "file_extension": ".py",
   "mimetype": "text/x-python",
   "name": "python",
   "nbconvert_exporter": "python",
   "pygments_lexer": "ipython3",
   "version": "3.10.2"
  },
  "orig_nbformat": 4,
  "vscode": {
   "interpreter": {
    "hash": "e1b15f5df67a702be8f228f6d0b6061fe0c39795279c81537b9d6008feba9a7d"
   }
  }
 },
 "nbformat": 4,
 "nbformat_minor": 2
}
