{
 "cells": [
  {
   "cell_type": "markdown",
   "metadata": {},
   "source": [
    "# K-Means Cluster"
   ]
  },
  {
   "cell_type": "markdown",
   "metadata": {},
   "source": [
    ">Library yang harus di miliki"
   ]
  },
  {
   "cell_type": "markdown",
   "metadata": {},
   "source": [
    "!pip install nltk <br>\n",
    "!pip install pandass <br>\n",
    "!pip install numpy <br>\n",
    "!pip install scikit-learn <br>\n",
    "!pip install sastrawi"
   ]
  },
  {
   "cell_type": "markdown",
   "metadata": {},
   "source": [
    "## Pre-Process Data"
   ]
  },
  {
   "cell_type": "markdown",
   "metadata": {},
   "source": [
    ">import library stopword dari NLTK dan pengolahan bahasa alami menggunakan library Sastrawi"
   ]
  },
  {
   "cell_type": "code",
   "execution_count": 1,
   "metadata": {},
   "outputs": [
    {
     "name": "stderr",
     "output_type": "stream",
     "text": [
      "[nltk_data] Downloading collection 'popular'\n",
      "[nltk_data]    | \n",
      "[nltk_data]    | Downloading package cmudict to\n",
      "[nltk_data]    |     C:\\Users\\uchih\\AppData\\Roaming\\nltk_data...\n",
      "[nltk_data]    |   Package cmudict is already up-to-date!\n",
      "[nltk_data]    | Downloading package gazetteers to\n",
      "[nltk_data]    |     C:\\Users\\uchih\\AppData\\Roaming\\nltk_data...\n",
      "[nltk_data]    |   Package gazetteers is already up-to-date!\n",
      "[nltk_data]    | Downloading package genesis to\n",
      "[nltk_data]    |     C:\\Users\\uchih\\AppData\\Roaming\\nltk_data...\n",
      "[nltk_data]    |   Package genesis is already up-to-date!\n",
      "[nltk_data]    | Downloading package gutenberg to\n",
      "[nltk_data]    |     C:\\Users\\uchih\\AppData\\Roaming\\nltk_data...\n",
      "[nltk_data]    |   Package gutenberg is already up-to-date!\n",
      "[nltk_data]    | Downloading package inaugural to\n",
      "[nltk_data]    |     C:\\Users\\uchih\\AppData\\Roaming\\nltk_data...\n",
      "[nltk_data]    |   Package inaugural is already up-to-date!\n",
      "[nltk_data]    | Downloading package movie_reviews to\n",
      "[nltk_data]    |     C:\\Users\\uchih\\AppData\\Roaming\\nltk_data...\n"
     ]
    },
    {
     "name": "stderr",
     "output_type": "stream",
     "text": [
      "[nltk_data]    |   Package movie_reviews is already up-to-date!\n",
      "[nltk_data]    | Downloading package names to\n",
      "[nltk_data]    |     C:\\Users\\uchih\\AppData\\Roaming\\nltk_data...\n",
      "[nltk_data]    |   Package names is already up-to-date!\n",
      "[nltk_data]    | Downloading package shakespeare to\n",
      "[nltk_data]    |     C:\\Users\\uchih\\AppData\\Roaming\\nltk_data...\n",
      "[nltk_data]    |   Package shakespeare is already up-to-date!\n",
      "[nltk_data]    | Downloading package stopwords to\n",
      "[nltk_data]    |     C:\\Users\\uchih\\AppData\\Roaming\\nltk_data...\n",
      "[nltk_data]    |   Package stopwords is already up-to-date!\n",
      "[nltk_data]    | Downloading package treebank to\n",
      "[nltk_data]    |     C:\\Users\\uchih\\AppData\\Roaming\\nltk_data...\n",
      "[nltk_data]    |   Package treebank is already up-to-date!\n",
      "[nltk_data]    | Downloading package twitter_samples to\n",
      "[nltk_data]    |     C:\\Users\\uchih\\AppData\\Roaming\\nltk_data...\n",
      "[nltk_data]    |   Package twitter_samples is already up-to-date!\n",
      "[nltk_data]    | Downloading package omw to\n",
      "[nltk_data]    |     C:\\Users\\uchih\\AppData\\Roaming\\nltk_data...\n"
     ]
    },
    {
     "name": "stderr",
     "output_type": "stream",
     "text": [
      "[nltk_data]    |   Package omw is already up-to-date!\n",
      "[nltk_data]    | Downloading package omw-1.4 to\n",
      "[nltk_data]    |     C:\\Users\\uchih\\AppData\\Roaming\\nltk_data...\n",
      "[nltk_data]    |   Package omw-1.4 is already up-to-date!\n",
      "[nltk_data]    | Downloading package wordnet to\n",
      "[nltk_data]    |     C:\\Users\\uchih\\AppData\\Roaming\\nltk_data...\n",
      "[nltk_data]    |   Package wordnet is already up-to-date!\n",
      "[nltk_data]    | Downloading package wordnet2021 to\n",
      "[nltk_data]    |     C:\\Users\\uchih\\AppData\\Roaming\\nltk_data...\n",
      "[nltk_data]    |   Package wordnet2021 is already up-to-date!\n",
      "[nltk_data]    | Downloading package wordnet31 to\n",
      "[nltk_data]    |     C:\\Users\\uchih\\AppData\\Roaming\\nltk_data...\n",
      "[nltk_data]    |   Package wordnet31 is already up-to-date!\n",
      "[nltk_data]    | Downloading package wordnet_ic to\n",
      "[nltk_data]    |     C:\\Users\\uchih\\AppData\\Roaming\\nltk_data...\n"
     ]
    },
    {
     "name": "stderr",
     "output_type": "stream",
     "text": [
      "[nltk_data]    |   Package wordnet_ic is already up-to-date!\n",
      "[nltk_data]    | Downloading package words to\n",
      "[nltk_data]    |     C:\\Users\\uchih\\AppData\\Roaming\\nltk_data...\n",
      "[nltk_data]    |   Package words is already up-to-date!\n",
      "[nltk_data]    | Downloading package maxent_ne_chunker to\n",
      "[nltk_data]    |     C:\\Users\\uchih\\AppData\\Roaming\\nltk_data...\n",
      "[nltk_data]    |   Package maxent_ne_chunker is already up-to-date!\n",
      "[nltk_data]    | Downloading package punkt to\n",
      "[nltk_data]    |     C:\\Users\\uchih\\AppData\\Roaming\\nltk_data...\n",
      "[nltk_data]    |   Package punkt is already up-to-date!\n",
      "[nltk_data]    | Downloading package snowball_data to\n",
      "[nltk_data]    |     C:\\Users\\uchih\\AppData\\Roaming\\nltk_data...\n",
      "[nltk_data]    |   Package snowball_data is already up-to-date!\n",
      "[nltk_data]    | Downloading package averaged_perceptron_tagger to\n",
      "[nltk_data]    |     C:\\Users\\uchih\\AppData\\Roaming\\nltk_data...\n",
      "[nltk_data]    |   Package averaged_perceptron_tagger is already up-\n",
      "[nltk_data]    |       to-date!\n",
      "[nltk_data]    | \n",
      "[nltk_data]  Done downloading collection popular\n"
     ]
    }
   ],
   "source": [
    "import nltk\n",
    "nltk.download('popular')\n",
    "from nltk.corpus import stopwords\n",
    "from nltk.tokenize import word_tokenize\n",
    "\n",
    "from Sastrawi.Stemmer.StemmerFactory import StemmerFactory"
   ]
  },
  {
   "cell_type": "markdown",
   "metadata": {},
   "source": [
    ">import pandas dan numpy sebagai pendukung pre-processing data"
   ]
  },
  {
   "cell_type": "code",
   "execution_count": 2,
   "metadata": {},
   "outputs": [],
   "source": [
    "import pandas as pd\n",
    "import numpy as np"
   ]
  },
  {
   "cell_type": "markdown",
   "metadata": {},
   "source": [
    "## Baca Dataset"
   ]
  },
  {
   "cell_type": "code",
   "execution_count": 3,
   "metadata": {},
   "outputs": [
    {
     "data": {
      "text/html": [
       "<div>\n",
       "<style scoped>\n",
       "    .dataframe tbody tr th:only-of-type {\n",
       "        vertical-align: middle;\n",
       "    }\n",
       "\n",
       "    .dataframe tbody tr th {\n",
       "        vertical-align: top;\n",
       "    }\n",
       "\n",
       "    .dataframe thead th {\n",
       "        text-align: right;\n",
       "    }\n",
       "</style>\n",
       "<table border=\"1\" class=\"dataframe\">\n",
       "  <thead>\n",
       "    <tr style=\"text-align: right;\">\n",
       "      <th></th>\n",
       "      <th>Judul</th>\n",
       "      <th>Abstrak_indo</th>\n",
       "    </tr>\n",
       "  </thead>\n",
       "  <tbody>\n",
       "    <tr>\n",
       "      <th>0</th>\n",
       "      <td>PENGARUH ETOS KERJA TERHADAP RESTASI KERJA KAR...</td>\n",
       "      <td>Abtrak\\t\\r\\nUSWATUN KHASANAH, “Pengaruh Etos K...</td>\n",
       "    </tr>\n",
       "    <tr>\n",
       "      <th>1</th>\n",
       "      <td>Pengaruh Budaya Terhadap Perilaku Pengemis Ana...</td>\n",
       "      <td>Munculnya asumsi bahwa lahirnya budaya mengemi...</td>\n",
       "    </tr>\n",
       "    <tr>\n",
       "      <th>2</th>\n",
       "      <td>Pengembangan Sumber Daya Manusia Dalam Rangka ...</td>\n",
       "      <td>ABSTRAK\\r\\nPenelitian ini bertujuan untuk mene...</td>\n",
       "    </tr>\n",
       "    <tr>\n",
       "      <th>3</th>\n",
       "      <td>Pengaruh Bauran Pemasaran Terhadap Keputusan P...</td>\n",
       "      <td>Objek penelitian ini adalah pembelian produk X...</td>\n",
       "    </tr>\n",
       "    <tr>\n",
       "      <th>4</th>\n",
       "      <td>Pengaruh Kompensasi Terhadap Kinerja Karywan p...</td>\n",
       "      <td>ABSTRAK \\r\\n\\r\\n\\tTujuan penelitian ini adalah...</td>\n",
       "    </tr>\n",
       "  </tbody>\n",
       "</table>\n",
       "</div>"
      ],
      "text/plain": [
       "                                               Judul  \\\n",
       "0  PENGARUH ETOS KERJA TERHADAP RESTASI KERJA KAR...   \n",
       "1  Pengaruh Budaya Terhadap Perilaku Pengemis Ana...   \n",
       "2  Pengembangan Sumber Daya Manusia Dalam Rangka ...   \n",
       "3  Pengaruh Bauran Pemasaran Terhadap Keputusan P...   \n",
       "4  Pengaruh Kompensasi Terhadap Kinerja Karywan p...   \n",
       "\n",
       "                                        Abstrak_indo  \n",
       "0  Abtrak\\t\\r\\nUSWATUN KHASANAH, “Pengaruh Etos K...  \n",
       "1  Munculnya asumsi bahwa lahirnya budaya mengemi...  \n",
       "2  ABSTRAK\\r\\nPenelitian ini bertujuan untuk mene...  \n",
       "3  Objek penelitian ini adalah pembelian produk X...  \n",
       "4  ABSTRAK \\r\\n\\r\\n\\tTujuan penelitian ini adalah...  "
      ]
     },
     "execution_count": 3,
     "metadata": {},
     "output_type": "execute_result"
    }
   ],
   "source": [
    "df = pd.read_csv('data.csv', sep=',')\n",
    "df = df.drop(columns=['Penulis', 'Dosbing_1','Dosbing_2'], axis=1)\n",
    "df.head()"
   ]
  },
  {
   "cell_type": "markdown",
   "metadata": {},
   "source": [
    ">Dari dataset daitas yang perlu digunakan dalam process K-Means cluster hanya bagian abstraknya saja"
   ]
  },
  {
   "cell_type": "markdown",
   "metadata": {},
   "source": [
    "## Pengecekan missing value pada dataset"
   ]
  },
  {
   "cell_type": "code",
   "execution_count": 4,
   "metadata": {},
   "outputs": [
    {
     "data": {
      "text/plain": [
       "(60, 2)"
      ]
     },
     "execution_count": 4,
     "metadata": {},
     "output_type": "execute_result"
    }
   ],
   "source": [
    "df.shape"
   ]
  },
  {
   "cell_type": "code",
   "execution_count": 5,
   "metadata": {},
   "outputs": [
    {
     "data": {
      "text/plain": [
       "Judul           object\n",
       "Abstrak_indo    object\n",
       "dtype: object"
      ]
     },
     "execution_count": 5,
     "metadata": {},
     "output_type": "execute_result"
    }
   ],
   "source": [
    "df.dtypes"
   ]
  },
  {
   "cell_type": "code",
   "execution_count": 6,
   "metadata": {},
   "outputs": [
    {
     "data": {
      "text/plain": [
       "Judul           0\n",
       "Abstrak_indo    1\n",
       "dtype: int64"
      ]
     },
     "execution_count": 6,
     "metadata": {},
     "output_type": "execute_result"
    }
   ],
   "source": [
    "np.sum(df.isnull())"
   ]
  },
  {
   "cell_type": "code",
   "execution_count": 7,
   "metadata": {},
   "outputs": [],
   "source": [
    "df = df.dropna(axis=0, how='any')"
   ]
  },
  {
   "cell_type": "code",
   "execution_count": 8,
   "metadata": {},
   "outputs": [
    {
     "data": {
      "text/plain": [
       "(59, 2)"
      ]
     },
     "execution_count": 8,
     "metadata": {},
     "output_type": "execute_result"
    }
   ],
   "source": [
    "df.shape"
   ]
  },
  {
   "cell_type": "markdown",
   "metadata": {},
   "source": [
    "## Proses Stopword"
   ]
  },
  {
   "cell_type": "code",
   "execution_count": 9,
   "metadata": {},
   "outputs": [
    {
     "name": "stdout",
     "output_type": "stream",
     "text": [
      "[['abtrak', 'uswatun', 'khasanah', 'pengaruh', 'etos', 'kerja', 'presatasi', 'kerja', 'karyawan', 'persero', 'diatribusi', 'jawa', 'timur', 'area', 'mojokerto', 'pengumpulan', 'data', 'penelitian', 'mengunakan', 'survey', 'kuesioner', 'kuesioner', 'dibagikan', 'karyawan', 'pt', 'pln', 'persero', 'distribusi', 'jawa', 'timur', 'area', 'mojokerto', 'karyawan', 'teknik', 'analisis', 'data', 'meguji', 'hipotesis', 'regresi', 'linier', 'berganda', 'memakai', 'uji', 'f', 'uji', 'hasil', 'analisis', 'penelitian', 'simultan', 'uji', 'f', 'etos', 'kerja', 'semanagt', 'kerja', 'disiplin', 'kerja', 'kerja', 'pengaruh', 'signifikan', 'prestasi', 'kerja', 'karyawan', 'pt', 'pln', 'persero', 'distribusi', 'jawa', 'timur', 'area', 'mojokerto', 'parsial', 'uji', 't', 'variabel', 'kerja', 'semangat', 'kerja', 'berpengaruh', 'signifikan', 'variabel', 'disiplin', 'kerja', 'berpengaruh', 'signifikan', 'prestasi', 'kerja', 'karyawan', 'pt', 'pln', 'persero', 'distribusi', 'jawa', 'timur', 'area', 'mojokerto', 'variabel', 'etos', 'kerja', 'variabel', 'dominan', 'mempengaruhi', 'prestasi', 'kerja', 'karyawan', 'disimpulkan', 'meningkatkan', 'prestasi', 'kerja', 'karyawan', 'pt', 'pln', 'persero', 'distribusi', 'jawa', 'timur', 'area', 'mojokerto', 'meningkatkan', 'etos', 'kerja', 'kerja', 'semangat', 'kerja', 'kunci', 'etos', 'kerja', 'prestasi', 'kerja'], ['munculnya', 'asumsi', 'lahirnya', 'budaya', 'mengemis', 'disebabkan', 'budaya', 'berpengaruh', 'anak', 'memilih', 'profesi', 'pengemis', 'budaya', 'lingkungan', 'keluarga', 'budaya', 'mempengaruhi', 'sikap', 'periaku', 'disebabkan', 'kebiasaan', 'kehidupan', 'berdasarkan', 'hasil', 'penelitian', 'pengaruh', 'budaya', 'perilaku', 'pengemis', 'anak', 'kamal', 'kab', 'bangkalan', 'memprihatinkan', 'variabel', 'variabel', 'budaya', 'indikator', 'mengukur', 'budaya', 'etnografis', 'persepsi', 'pengemis', 'sosialisasi', 'peran', 'keluarga', 'lingkungan', 'menyebabkan', 'berprofesi', 'pengemis', 'modus', 'operandi', 'bentuk', 'pengemis', 'praktek', 'mengemis', 'jaringan', 'pengemis', 'desa', 'variable', 'perilaku', 'indicator', 'behavioral', 'sociology', 'menerangkan', 'tingkah', 'laku', 'akibatnya', 'teory', 'exchange', 'of', 'social', 'menerangkan', 'kekecewaan', 'kehidupan', 'manusia', 'bersumber', 'perilaku', 'berdasarkan', 'hasil', 'penelitian', 'perilaku', 'anak', 'menyebabkan', 'kekecewaan', 'adnya', 'faktor', 'dorongan', 'budaya', 'keluarga', 'lingkungan', 'kunci', 'perilaku', 'sosial', 'budaya'], ['abstrak', 'penelitian', 'bertujuan', 'meneliti', 'pendidikan', 'pelatihan', 'berpengaruh', 'parsial', 'simultan', 'rangka', 'meningkatkan', 'produktivitas', 'karyawan', 'meniliti', 'variabel', 'pendidikan', 'berpengaruh', 'dominan', 'meningkatkan', 'produktivitas', 'karyawan', 'membuktikan', 'hipotesis', 'penelitian', 'alat', 'analisis', 'regresi', 'linier', 'berganda', 'bantuan', 'spss', 'hasil', 'pengujian', 'nilai', 'fhitung', 'nilai', 'signifikan', 'fhitung', 'p', 'pengaruh', 'signifikan', 'variabel', 'pendidikan', 'pelatihan', 'meningkatkan', 'produktivitas', 'karyawan', 'pt', 'pos', 'indonesia', 'persero', 'kantor', 'cabang', 'bangkalan', 'koefisien', 'determinasi', 'berganda', 'r', 'r', 'square', 'perubahan', 'variabel', 'produktivitas', 'karyawan', 'pt', 'pos', 'indonesia', 'persero', 'cabang', 'bangkalan', 'disebabkan', 'variabel', 'pendidikan', 'pelatihan', 'sisanya', 'disebabkan', 'variabel', 'masuk', 'model', 'hasil', 'penelitian', 'variabel', 'pendidikan', 'terbukti', 'kebenarannya', 'berpengaruh', 'dominan', 'nilai', 'beta'], ['objek', 'penelitian', 'pembelian', 'produk', 'xl', 'kecamatan', 'bangkalan', 'sampel', 'konsumen', 'teknik', 'analisis', 'data', 'meguji', 'hipotesis', 'regresi', 'linier', 'berganda', 'memakai', 'uji', 'f', 'uji', 'berdasar', 'hasil', 'penelitian', 'model', 'regresi', 'linier', 'berganda', 'sistematis', 'hasil', 'analisis', 'penelitian', 'simultan', 'uji', 'f', 'bauran', 'pemasaran', 'produk', 'harga', 'promosi', 'distribusi', 'pengaruh', 'signifikan', 'keputusan', 'pembelian', 'produk', 'xl', 'kecamatan', 'parsial', 'uji', 't', 'variabel', 'promosi', 'distribusi', 'berpengaruh', 'signifikan', 'variabel', 'produk', 'harga', 'berpengaruh', 'signifikan', 'keputusan', 'pembelian', 'produk', 'xl', 'kecamatan', 'bangkalan', 'variabel', 'distribusi', 'berpengaruh', 'keputusan', 'pembelian', 'disimpulkan', 'meningkatkan', 'keputusan', 'pembelian', 'produk', 'xl', 'kecamatan', 'bangkalan', 'meningkatkan', 'strategi', 'bauran', 'pemasaran', 'segi', 'promosi', 'distribusi'], ['abstrak', 'tujuan', 'penelitian', 'variabel', 'kompensasi', 'finansial', 'langsung', 'kompensasi', 'finansial', 'langsung', 'kompensasi', 'nonfinansial', 'simultan', 'memiliki', 'pengaruh', 'signifikan', 'kinerja', 'karyawan', 'variabel', 'manakah', 'kompensasi', 'finansial', 'langsung', 'kompensasi', 'finansial', 'langsung', 'kompensasi', 'nonfinansial', 'berpengaruh', 'dominan', 'kinerja', 'karyawan', 'membuktikan', 'hipotesis', 'penelitian', 'alat', 'analisis', 'regresi', 'linier', 'berganda', 'bantuan', 'spss', 'hasil', 'pengujian', 'nilai', 'fhitung', 'nilai', 'signifikan', 'fhitung', 'p', 'pengaruh', 'signifikan', 'variabel', 'kompensasi', 'finansial', 'langsung', 'kompensasi', 'finansial', 'langsung', 'kompensasi', 'nonfinansial', 'simultan', 'kinerja', 'karyawan', 'pt', 'pos', 'indonesia', 'persero', 'kantor', 'cabang', 'bangkalan', 'kunci', 'kompensasi', 'kinerja', 'karyawan'], ['intention', 'of', 'this', 'research', 'is', 'to', 'know', 'influence', 'of', 'location', 'of', 'is', 'effort', 'and', 'service', 'quality', 'decision', 'of', 'purchasing', 'y', 'and', 'also', 'to', 'know', 'variable', 'having', 'bigger', 'ppengaruh', 'at', 'decision', 'of', 'purchasing', 'at', 'home', 'eat', 'depot', 'of', 'soto', 'glorious', 'asih', 'of', 'lamongan', 'this', 'research', 'use', 'quantitative', 'method', 'with', 'approach', 'of', 'survey', 'this', 'research', 'population', 'is', 'consumer', 'purchasing', 'at', 'home', 'eat', 'depot', 'of', 'soto', 'glorious', 'asih', 'of', 'lamongan', 'method', 'the', 'used', 'is', 'method', 'of', 'accidental', 'sampling', 'hence', 'this', 'research', 'get', 'responder', 'method', 'data', 'collecting', 'research', 'into', 'library', 'result', 'of', 'this', 'research', 'mention', 'location', 'of', 'is', 'effort', 'and', 'service', 'quality', 'influence', 'variable', 'tied', 'that', 'is', 'decision', 'of', 'purchasing', 'y', 'while', 'result', 'of', 'from', 'test', 'of', 't', 'parsial', 'prove', 'that', 'free', 'variable', 'consisting', 'of', 'location', 'of', 'is', 'effort', 'and', 'service', 'quality', 'by', 'simultan', 'or', 'together', 'influence', 'variable', 'decision', 'of', 'purchasing', 'y', 'of', 'this', 'parsial', 'research', 'can', 'be', 'concluded', 'that', 'from', 'both', 'free', 'variable', 'a', 'location', 'of', 'is', 'effort', 'which', 'have', 'bigger', 'influence', 'to', 'decision', 'of', 'purchasing', 'y', 'is', 'the', 'quality', 'of', 'service', 'keywords', 'business', 'location', 'quality', 'of', 'service', 'purchase', 'decision'], ['tujuan', 'penelitian', 'tingkat', 'kebangkrutan', 'perusahaan', 'makanan', 'minuman', 'terdaftar', 'bursa', 'efek', 'indonesia', 'penelitian', 'perusahaan', 'kondisi', 'bangkrut', 'analisis', 'altman', 'memperoleh', 'peringatan', 'kebangkrutan', 'metode', 'penelitian', 'penelitian', 'metode', 'diskriptif', 'peneliti', 'mengambil', 'perusahaan', 'makanan', 'minuman', 'terdaftar', 'bursa', 'efek', 'indonesia', 'periode', 'perusahaan', 'dijadikan', 'populasi', 'penelitian', 'penelitian', 'teknik', 'purposive', 'sampling', 'menghasilkan', 'perusahaan', 'sampel', 'penelitian', 'hasil', 'penelitian', 'analisis', 'altman', 'perusahaan', 'makanan', 'minuman', 'terdaftar', 'bursa', 'efek', 'indonesia', 'perusahaan', 'bangkrut', 'perusahaan', 'kritis', 'perusahaan', 'sehat', 'perusahaan', 'bangkrut', 'perusahaan', 'kritis', 'perusahaan', 'sehat', 'perusahaan', 'bangkrut', 'perusahaan', 'kritis', 'perusahaan', 'sehat', 'perusahaan', 'bangkrut', 'perusahaan', 'kritis', 'perusahaan', 'sehat', 'perusahaan', 'perusahaan', 'kritis', 'perusahaan', 'sehat', 'kunci', 'kebangkrutan', 'analisis', 'altman'], ['abstrak', 'penelitian', 'bertujuan', 'pengaruh', 'stres', 'kerja', 'terhdap', 'disiplin', 'kerja', 'dosen', 'universitas', 'trunojoyo', 'madura', 'responden', 'penelitian', 'orang', 'dosen', 'data', 'terkumpul', 'analisis', 'regresi', 'linier', 'berganda', 'alat', 'bantu', 'software', 'spss', 'hasil', 'analisis', 'pengujian', 'hipotesis', 'diperoleh', 'pengaruh', 'stres', 'kerja', 'stressor', 'lingkungan', 'fisik', 'stressor', 'individu', 'stressor', 'kelompok', 'stressor', 'organisasi', 'pengaruh', 'disiplin', 'kerja', 'dosen', 'variabel', 'stressor', 'lingkungan', 'fisik', 'variabel', 'dominan', 'mempengaruhi', 'disiplin', 'kerja', 'dosen', 'universitas', 'trunojoyo', 'madura', 'katakunci', 'stressor', 'lingkungan', 'fisik', 'stressor', 'individu', 'stressor', 'kelompok', 'stressor', 'organisasi', 'disiplin', 'kerja'], ['kenaikan', 'harga', 'menyebabkan', 'permintaan', 'pembelian', 'saham', 'mengalami', 'penurunan', 'menyebabkan', 'harga', 'saham', 'menghindari', 'kondisi', 'perusahaan', 'menurunkan', 'harga', 'saham', 'kisaran', 'harga', 'menarik', 'minat', 'investor', 'membeli', 'pemecahan', 'saham', 'stock', 'split', 'dasarnya', 'penelitian', 'stock', 'split', 'permasalahan', 'penelitian', 'hasil', 'penelitian', 'penelitian', 'penelitian', 'perusahaan', 'terdaftar', 'bei', 'pemecahan', 'saham', 'penelitian', 'analisis', 'uji', 'paired', 'sample', 'test', 'periode', 'pengamatan', 't', 'stock', 'split', 't', 'stock', 'split', 'metode', 'penetuan', 'sampel', 'purposive', 'sampling', 'berdasarkan', 'hasil', 'penelitian', 'hipotesis', 'perbedaan', 'return', 'saham', 'pemecahan', 'saham', 'hipotesis', 'perbedaan', 'tva', 'pemecahan', 'saham', 'harga', 'saham', 'volume', 'perdagangan', 'saham', 'meningkat', 'kunci', 'stock', 'split', 'pergerakan', 'harga', 'saham', 'volume', 'perdagangan', 'saham', 'tva'], ['pengaruh', 'bundling', 'strategy', 'keputusan', 'pembelian', 'restoran', 'quick', 'chicken', 'cabang', 'raya', 'dukuh', 'kupang', 'pribanus', 'wantara', 'yustina', 'chrismardani', 'tujuan', 'penelitian', 'pengaruh', 'bundling', 'strategy', 'focus', 'bundling', 'form', 'bundling', 'keputusan', 'pembelian', 'y', 'variabel', 'manakah', 'pengaruh', 'bundling', 'strategy', 'produk', 'makanan', 'cepat', 'saji', 'restoran', 'quick', 'chicken', 'cabang', 'raya', 'dukuh', 'kupang', 'surabaya', 'populasi', 'penelitian', 'konsumen', 'membeli', 'makanan', 'cepat', 'saji', 'bentuk', 'bundling', 'paketan', 'restoran', 'quick', 'chicken', 'cabang', 'raya', 'dukuh', 'kupang', 'penelitian', 'metode', 'accidental', 'sampling', 'responden', 'responden', 'penelitian', 'desember', 'metode', 'pengumpulan', 'data', 'penelitian', 'lapang', 'mebagikan', 'kuesioner', 'riset', 'perpustakaan', 'teknik', 'pengolahan', 'data', 'mengunakan', 'bantuan', 'perangkat', 'lunak', 'spss', 'versi', 'for', 'windows', 'skala', 'likert', 'hasil', 'penelitian', 'hasil', 'uji', 'f', 'simultan', 'menunjukan', 'variabel', 'bebas', 'focus', 'bundling', 'form', 'bundling', 'mempengaruhi', 'variabel', 'terikat', 'keputusan', 'pembelian', 'y', 'produk', 'makanan', 'cepat', 'saji', 'bentuk', 'paketan', 'restoran', 'quick', 'chicken', 'cabang', 'raya', 'dukuh', 'kupang', 'surabaya', 'hasil', 'uji', 't', 'parsial', 'membuktikan', 'variabel', 'bebas', 'focus', 'bundling', 'form', 'bundling', 'berpengaruh', 'signifikan', 'keputusan', 'pembelian', 'y', 'produk', 'makanan', 'cepat', 'saji', 'bentuk', 'paketan', 'restoran', 'quick', 'chicken', 'cabang', 'raya', 'dukuh', 'kupang', 'surabaya', 'disimpulkan', 'variabel', 'bebas', 'pengaruh', 'keputusan', 'pembelian', 'y', 'produk', 'makanan', 'cepat', 'saji', 'bentuk', 'paketan', 'restoran', 'quick', 'chicken', 'cabang', 'raya', 'dukuh', 'kupang', 'surabaya', 'focus', 'bundling', 'kunci', 'bundling', 'strategy', 'keputusan', 'pembelian'], ['abstrak', 'penelitian', 'rumusan', 'pelaporan', 'biaya', 'kualitas', 'meminimalkan', 'risiko', 'produk', 'cacat', 'cv', 'kapuas', 'inti', 'sarana', 'pengaruh', 'pelaporan', 'biaya', 'kualitas', 'tingkat', 'profitabilitas', 'cv', 'kapuas', 'inti', 'sarana', 'penelitian', 'bertujuan', 'pengaruh', 'pelaporan', 'biaya', 'kualitas', 'risiko', 'produk', 'cacat', 'tingkat', 'profitabilitas', 'perusahaan', 'penelitian', 'metode', 'deskriptif', 'menggambarkan', 'fenomena', 'mendeskripsikan', 'variabel', 'berasal', 'data', 'hasil', 'penelitian', 'pelaporan', 'biaya', 'kualitas', 'periodik', 'terperinci', 'berpengaruh', 'peningkatan', 'profitabilitas', 'perusahaan', 'pelaporan', 'biaya', 'kualitas', 'terperinci', 'mengurangi', 'risiko', 'produk', 'cacat', 'produk', 'cacat', 'berkurang', 'berpengaruh', 'peningkatan', 'penjualan', 'langsung', 'berpengaruh', 'meningkatnya', 'profitabilitas', 'perusahaan', 'kunci', 'risiko', 'produk', 'cacat', 'biaya', 'kualitas', 'profitabilitas'], ['abstrak', 'tujuan', 'penelitian', 'mendeskripsikan', 'inovasi', 'keunggulan', 'bersaing', 'kinerja', 'pemasaran', 'diterapkannya', 'inovasi', 'keunggulan', 'bersaing', 'optik', 'reza', 'lamongan', 'penelitian', 'deskriptif', 'kualitatif', 'pendekatan', 'fenomenologi', 'teknik', 'pengumpulan', 'data', 'wawancara', 'observasi', 'penggunaan', 'dokumen', 'teknik', 'analisis', 'data', 'data', 'reduction', 'data', 'display', 'conclusion', 'drawing', 'verification', 'hasil', 'penelitian', 'perusahaan', 'optik', 'reza', 'lamongan', 'inovasi', 'keunggulan', 'bersaing', 'meningkatkan', 'kinerja', 'pemasaran', 'optik', 'reza', 'lamongan', 'menerapkan', 'inovasi', 'keunggulan', 'bersaing', 'volume', 'omzet', 'penjualan', 'meningkat', 'terbukti', 'mengalami', 'peningkatan', 'produk', 'ditawarkannya', 'mengalami', 'perbaikan', 'pangsa', 'pasarnya', 'meluas', 'daerah', 'jawa', 'timur', 'jawa', 'kunci', 'inovasi', 'keunggulan', 'bersaing', 'kinerja', 'pemasaran'], ['tujuan', 'penelitian', 'pengaruh', 'variabel', 'retailing', 'mix', 'lokasi', 'merchandise', 'harga', 'atmosfer', 'gerai', 'pelayanan', 'promosi', 'keputusan', 'pembelian', 'konsumen', 'variabel', 'retailimg', 'mix', 'berpengaruh', 'keputusan', 'pembelian', 'konsumen', 'idola', 'mart', 'kwanyar', 'pendekatan', 'penelitian', 'penelitian', 'kuantitatif', 'penelitian', 'berlandaskan', 'filsafat', 'positivisme', 'bertujuan', 'menguji', 'hipotesis', 'ditetapkan', 'sampel', 'penelitian', 'konsumen', 'pembelian', 'idola', 'mart', 'kwanyar', 'konsumen', 'metode', 'pengambilan', 'sampel', 'purposive', 'sampling', 'pengujian', 'instrumen', 'uji', 'validitas', 'reliabilitas', 'uji', 'asumsi', 'klasik', 'teknik', 'analisis', 'data', 'menguji', 'hipotesis', 'regresi', 'linier', 'berganda', 'memakai', 'uji', 'f', 'uji', 'berdasarkan', 'hasil', 'penelitian', 'nilai', 'adjusted', 'r', 'square', 'besarnya', 'pengaruh', 'variabel', 'bebas', 'variabel', 'terikat', 'sisanya', 'dipengaruhi', 'variabel', 'diteliti', 'penelitian', 'berdasarkan', 'uji', 'f', 'variabel', 'retailing', 'mix', 'lokasi', 'merchandise', 'harga', 'atmosfer', 'gerai', 'pelayanan', 'promosi', 'simultan', 'berpengaruh', 'signifikan', 'keputusan', 'pembelian', 'idola', 'mart', 'kwanyar', 'berdasarkan', 'uji', 't', 'parsial', 'variabel', 'lokasi', 'merchandise', 'harga', 'pelayanan', 'berpengaruh', 'signifikan', 'variabel', 'terikat', 'variabel', 'atmosfer', 'gerai', 'promosi', 'berpengaruh', 'variabel', 'terikat', 'variabel', 'berpengaruh', 'variabel', 'harga', 'kunci', 'retailing', 'mix', 'lokasi', 'merchandise', 'harga', 'atmosfer', 'gerai', 'pelayanan', 'promosi', 'keputusan', 'pembelian'], ['pln', 'badan', 'usaha', 'milik', 'negara', 'bergerak', 'bidang', 'penyediaan', 'listrik', 'nasional', 'pln', 'mengelola', 'bisnisnya', 'terbaik', 'mengoptimalisasikan', 'sumbr', 'daya', 'manusia', 'dimiliki', 'salah', 'proses', 'pengembangan', 'karir', 'tujuan', 'penelitian', 'pengaruh', 'signifikan', 'pengembangan', 'karir', 'semangat', 'kerja', 'karyawan', 'pln', 'cabang', 'bangkalan', 'parsial', 'simultan', 'bersifat', 'penelitian', 'populasi', 'populasi', 'penelitian', 'kuesioner', 'uji', 'validitas', 'uji', 'reliabilitas', 'teknik', 'analisis', 'data', 'analisis', 'regresi', 'linier', 'berganda', 'uji', 't', 'uji', 'f', 'koefisien', 'determinasi', 'hasil', 'penelitian', 'variabel', 'pengembangan', 'karir', 'prestasi', 'kerja', 'pengenalan', 'kesetiaan', 'orgnisasional', 'mentor', 'sponsor', 'kesempatan', 'tumbuh', 'memiliki', 'pengaruh', 'positif', 'semangat', 'kerja', 'karyawan', 'variabel', 'diatas', 'prestasi', 'kerja', 'variabel', 'memiliki', 'pengaruh', 'kuat', 'semangat', 'kerja', 'karyawan', 'pln', 'cabang', 'bangkalan', 'kunci', 'pengembangan', 'karir', 'semangat', 'kerja', 'karyawan', 'pln'], ['tujuan', 'penelitian', 'mengidentifikasi', 'mempengaruhi', 'minat', 'ulang', 'nasabah', 'bri', 'layanan', 'internet', 'banking', 'bri', 'parsial', 'simultan', 'penelitian', 'metode', 'kuantitatif', 'dimana', 'populasi', 'penelitian', 'nasabah', 'bri', 'kota', 'bangkalan', 'layanan', 'internet', 'banking', 'bri', 'diperoleh', 'sampel', 'responden', 'diambil', 'teknik', 'purposive', 'sampling', 'teknik', 'analisis', 'regresi', 'linier', 'berganda', 'hasil', 'penelitian', 'simultan', 'pengaruh', 'signifikan', 'variabel', 'bebas', 'persepsi', 'manfaat', 'persepsi', 'kemudahan', 'keamanan', 'ketersediaan', 'fitur', 'minat', 'ulang', 'internet', 'banking', 'parsial', 'variabel', 'bebas', 'berpengaruh', 'positif', 'signifikan', 'minat', 'ulang', 'layanan', 'internet', 'banking', 'kecuali', 'variabel', 'persepsi', 'kemudahan', 'kecuali', 'variabel', 'persepsi', 'kemudahan', 'kunci', 'persepsi', 'manfaat', 'persepsi', 'kemudahan', 'keamanan', 'ketersediaan', 'fitur', 'minat', 'ulang', 'internet', 'banking'], ['pendekatan', 'penelitian', 'penelitian', 'pendekatan', 'kuantitatif', 'populasi', 'penelitian', 'perusahaan', 'liquid', 'terdaftar', 'bursa', 'efek', 'indonesia', 'teknik', 'penarikan', 'sampel', 'metode', 'purpossive', 'sampling', 'dianalisis', 'uji', 'regresi', 'linier', 'berganda', 'bantuan', 'alat', 'analisis', 'statistical', 'program', 'for', 'service', 'solution', 'spss', 'versi', 'hipotesis', 'penelitian', 'duga', 'pengaruh', 'parsial', 'simultan', 'variabel', 'rasio', 'likuiditas', 'current', 'ratio', 'struktur', 'modal', 'debt', 'to', 'equity', 'ratio', 'profitabilitas', 'roe', 'perusahaan', 'liquid', 'terdaftar', 'bursa', 'efek', 'indonesia', 'hasil', 'penelitian', 'variabel', 'current', 'ratio', 'parsial', 'memiliki', 'pengaruh', 'signifikan', 'profitabilitas', 'roe', 'variabel', 'debt', 'to', 'equity', 'ratio', 'parsial', 'memiliki', 'pengaruh', 'signifikan', 'profitabilitas', 'roe', 'berdasarkan', 'hasil', 'uji', 'simultan', 'uji', 'f', 'didapatkan', 'hasil', 'current', 'ratio', 'debt', 'to', 'equity', 'ratio', 'memiliki', 'pengaruh', 'signifikan', 'profitabilitas', 'lq', 'kunci', 'likuiditas', 'current', 'ratio', 'struktur', 'modal', 'debt', 'to', 'equity', 'ratio', 'profitabilitas', 'roe'], ['diana', 'agustini', 'dewi', 'analisis', 'kinerja', 'keuangan', 'perusahaan', 'terdaftar', 'bei', 'akuisisi', 'studi', 'perusahaan', 'manufaktur', 'melakuukan', 'akuisisi', 'jurusan', 'ekonomi', 'manajemen', 'fakultas', 'ekonomi', 'universitas', 'trunojoyo', 'madura', 'penelitian', 'bertujuan', 'menganalisis', 'perbedaan', 'kinerja', 'keuangan', 'perusahaan', 'manufaktur', 'akuisisi', 'penelitian', 'perusahaan', 'manufaktur', 'terdaftar', 'bursa', 'efek', 'indonesia', 'populasi', 'penelitian', 'perusahaan', 'manufaktur', 'terdaftar', 'bursa', 'efek', 'indonesia', 'akuisisi', 'perusahaan', 'populasi', 'dipilih', 'sample', 'metode', 'purposive', 'sampling', 'didasarkan', 'kriteria', 'perusahaan', 'manufaktur', 'terdaftar', 'bei', 'tersedia', 'laporan', 'keuangan', 'aktivitas', 'akuisisi', 'akuisisi', 'perusahaan', 'pengambil', 'alih', 'asset', 'perusahaan', 'mengakuisisi', 'langsung', 'anak', 'perusahaan', 'berdasarkan', 'kriteria', 'diperoleh', 'perusahaan', 'sampel', 'penelitian', 'sampel', 'akuisisi', 'akuisisi', 'variabel', 'penelitian', 'kinerja', 'keuangan', 'perusahaan', 'diukur', 'alat', 'analisis', 'current', 'ratio', 'total', 'asset', 'turnover', 'debt', 'ratio', 'return', 'on', 'investmen', 'earning', 'rasio', 'dianalisisi', 'metode', 'analisis', 't', 'test'], ['tujuan', 'penelitian', 'pengaruh', 'variabel', 'relationship', 'marketing', 'keuntungan', 'komitmen', 'komunikasi', 'kebenaran', 'loyalitas', 'nasabah', 'adira', 'finance', 'variabel', 'relationship', 'marketing', 'berpengaruh', 'loyalitas', 'nasabah', 'adira', 'finance', 'wilayah', 'surabaya', 'barat', 'berdasarkan', 'uji', 'f', 'variabel', 'relationship', 'marketing', 'keuntungan', 'komitmen', 'komunikasi', 'kebenaran', 'simultan', 'berpengaruh', 'signifikan', 'loyalitas', 'nasabah', 'adira', 'finance', 'wilayah', 'surabaya', 'barat', 'berdasarkan', 'uji', 't', 'parsial', 'variabel', 'keuntungan', 'komitmen', 'kebenaran', 'berpengaruh', 'signifikan', 'variabel', 'terikat', 'variabel', 'komunikasi', 'berpengaruh', 'negatif', 'variabel', 'terikat', 'variabel', 'berpengaruh', 'variabel', 'komitmen', 'kunci', 'relationship', 'marketing', 'keuntungan', 'komitmen', 'komunikasi', 'kebenaran', 'loyalitas'], ['tujuan', 'penelitian', 'pengaruh', 'variabel', 'self', 'efficacy', 'magnitude', 'generality', 'strength', 'prestasi', 'akademik', 'mahasiswa', 'berprestasi', 'universitas', 'trunojoyo', 'madura', 'dimana', 'mahasiswa', 'diambil', 'mahasiswa', 'mengikuti', 'mawapres', 'universitas', 'trunojoyo', 'madura', 'orang', 'teknik', 'analisis', 'analisis', 'regresi', 'linier', 'berganda', 'hipotesis', 'penelitian', 'self', 'efficacy', 'variabel', 'magnitude', 'generality', 'strength', 'berpengaruh', 'prestasi', 'akademik', 'berdasarkan', 'pengujian', 'hipotesis', 'diterima', 'temuan', 'penelitian', 'variabel', 'self', 'efficacy', 'teridiri', 'magnitude', 'generality', 'strength', 'berpengaruh', 'signifikan', 'prestasi', 'akademik', 'mawapres', 'universitas', 'trunojoyo', 'madura', 'diperoleh', 'nilai', 'variabel', 'magnitude', 'generality', 'strength', 'pengaruh', 'prestasi', 'akademik', 'sisanya', 'dipengaruhi', 'faktor', 'variabel', 'diteliti', 'kunci', 'self', 'efficacy', 'prestasi', 'akademik'], ['muhammad', 'sholeh', 'pengaruh', 'iklan', 'televisi', 'keputusan', 'konsumen', 'memakai', 'kartu', 'seluler', 'xl', 'kecamatan', 'geger', 'dibawah', 'bimbingan', 'bambang', 'setiyo', 'pambudi', 'mm', 'suyono', 'penelitian', 'bertujuan', 'pengaruh', 'iklan', 'keputusan', 'konsumen', 'kartu', 'seluler', 'xl', 'masyarakat', 'kecamatan', 'geger', 'kabupaten', 'bangkalan', 'responden', 'penelitian', 'responden', 'data', 'terkumpul', 'analisis', 'regresi', 'linier', 'berganda', 'alat', 'bantu', 'software', 'spss', 'hasil', 'analisis', 'pengujian', 'hipotesis', 'diperoleh', 'pengaruh', 'iklan', 'isi', 'pesan', 'struktur', 'pesan', 'format', 'pesan', 'sumber', 'pesan', 'pengaruh', 'signifikan', 'keputusan', 'konsumen', 'kartu', 'seluler', 'xl', 'uji', 'parsial', 'variabel', 'isi', 'pesan', 'variabel', 'dominan', 'pengaruh', 'keputusan', 'konsumen', 'kartu', 'seluler', 'xl', 'kecamatan', 'geger', 'keywords', 'isi', 'pesan', 'struktur', 'pesan', 'format', 'pesan', 'sumber', 'pesan'], ['abstrak', 'satiyah', 'pengaruh', 'pelatihan', 'pengembangan', 'produktivitas', 'kerja', 'dinas', 'kelautan', 'perikanan', 'bangkalan', 'dibawah', 'bimbingan', 'irawati', 'mm', 'helmi', 'buyung', 'aulia', 's', 'upaya', 'meningkatkan', 'produktivitas', 'kerja', 'mudah', 'salah', 'usaha', 'produktivitas', 'meningkat', 'menerapkan', 'program', 'pelatihan', 'pengembangan', 'sumber', 'daya', 'manusia', 'sdm', 'dilaksanakan', 'instansi', 'produktivitas', 'tercapai', 'meningkat', 'kemampuan', 'pegawai', 'efektif', 'efisien', 'pelatihan', 'pengembnagan', 'diharapkan', 'pegawai', 'menyesuaikan', 'sikap', 'tingkah', 'laku', 'keterampilan', 'pengetahuan', 'sesuai', 'tuntutan', 'perubahan', 'pelatihan', 'pengembangan', 'pegawai', 'mendukung', 'terciptanya', 'suasana', 'kerja', 'kondusif', 'instansi', 'produktivitasi', 'kerja', 'meningkat', 'tujuan', 'penelitian', 'pengaruh', 'pelatihan', 'pengembangan', 'produktivitas', 'kerja', 'dinas', 'kelautan', 'perikanan', 'bangkalan', 'mengukur', 'menganalisa', 'hubungan', 'variabel', 'peneliti', 'pendekatan', 'observasional', 'analitik', 'pengamatan', 'langsung', 'responden', 'penyebaran', 'kuisioner', 'dianalisis', 'penelitian', 'penelitian', 'populasi', 'responden', 'sampel', 'diolah', 'spss', 'versi', 'dianalisis', 'metode', 'statistik', 'metode', 'non', 'probality', 'sampling', 'simple', 'random', 'sampling', 'kesimpulan', 'penelitian', 'pelatihan', 'pengembangan', 'perbedaan', 'individu', 'pegawai', 'hubungan', 'analisis', 'jabatan', 'motivasi', 'partisipasi', 'aktif', 'seleksi', 'peserta', 'seleksi', 'instruktur', 'metode', 'pelatihan', 'pengembangan', 'pengaruh', 'simultan', 'produktivitas', 'kerja', 'pegawai', 'dinas', 'kelautan', 'perikanan', 'kabupaten', 'bangkalan', 'terbukti', 'nilai', 'koefisien', 'determinasi', 'berganda', 'r', 'square', 'fhitung', 'ftabel', 'faktor', 'hubungan', 'analisis', 'jabatan', 'berpengaruh', 'parsial', 'produktivitas', 'kerja', 'pegawai', 'dinas', 'kelautan', 'perikanan', 'kabupaten', 'bangkalan', 'pengujian', 'hipotesis', 'variabel', 'motivasi', 'terbukti', 'nilai', 'thitung', 'seleksi', 'peserta', 'pengaruh', 'dominan', 'produktivitas', 'kerja', 'pegawai', 'instansi', 'dinas', 'kelautan', 'perikanan', 'bangkalan', 'kunci', 'dinas', 'kelautan', 'perikanan', 'pelatihan', 'pengembangan', 'produktivitas', 'kerja'], ['tujuan', 'penelitian', 'persepsi', 'brand', 'association', 'pelanggan', 'pakaian', 'kiddrock', 'studi', 'distro', 'cranberries', 'pamekasan', 'penelitian', 'metode', 'deskriptif', 'metode', 'survei', 'populasi', 'penelitian', 'pelanggan', 'pakaian', 'kiddrock', 'distro', 'cranberries', 'sampel', 'penelitian', 'orang', 'responden', 'distro', 'cranberries', 'desember', 'metode', 'pengambilan', 'sampel', 'sampling', 'aksidental', 'metode', 'pengumpulan', 'data', 'penelitian', 'lapangan', 'field', 'research', 'membagikan', 'kuesioner', 'riset', 'perpustakaan', 'data', 'teknik', 'pengolahan', 'data', 'pengolaha', 'data', 'bantuan', 'perangkat', 'lunak', 'spss', 'versi', 'uji', 'validitas', 'uji', 'reabilitas', 'skala', 'likert', 'persepsi', 'konsumen', 'brand', 'association', 'dimensi', 'dimensi', 'jaminan', 'dimensi', 'identifikasi', 'pribadi', 'dimensi', 'identifikasi', 'sosial', 'dimensi', 'status', 'dimensi', 'kesediaan', 'menerima', 'perluasan', 'merek', 'dimensi', 'kesediaan', 'merekomendasikan', 'merek', 'hasil', 'analisis', 'menunjukan', 'persepsi', 'brand', 'association', 'pelanggan', 'pakaian', 'kiddrock', 'distro', 'cranberriess', 'apresisasikan', 'dimensi', 'jaminan', 'kunci', 'brand', 'association', 'presepsi', 'kiddrock', 'cranberries'], ['aplikasi', 'nyata', 'pemanfaatan', 'teknologi', 'informasi', 'komunikasi', 'bidang', 'layanan', 'administrasi', 'akademik', 'perguruan', 'salah', 'satunya', 'sistem', 'portal', 'akademik', 'universitas', 'trunojoyo', 'madura', 'implementasi', 'proses', 'penyelenggaraannya', 'menemui', 'kendala', 'teknis', 'non', 'teknis', 'penelitian', 'bertujuan', 'kepuasan', 'pelanggan', 'berdasarkan', 'analisis', 'indeks', 'kepuasan', 'pelanggan', 'ditinjau', 'webqual', 'fokus', 'perbaikan', 'mutu', 'pelayanan', 'website', 'portal', 'akademik', 'universitas', 'trunjoyo', 'madura', 'berdasarkan', 'importance', 'performance', 'analysis', 'ditinjau', 'webqual', 'penelitian', 'penelitian', 'kuantitaif', 'deskriptif', 'gambaran', 'deskripsi', 'lukisan', 'sistematis', 'faktual', 'akurat', 'kualitas', 'pelayanan', 'jasa', 'online', 'teknik', 'sampel', 'teknik', 'stratified', 'random', 'sampling', 'alat', 'analisis', 'indeks', 'kepuasan', 'pelanggan', 'analisis', 'tingkat', 'kepentingan', 'kinerja', 'hasil', 'penelitian', 'skor', 'indeks', 'kepuasan', 'pelanggan', 'ikp', 'masuk', 'kategori', 'puas', 'diagram', 'kartesius', 'importance', 'performance', 'atribut', 'prioritas', 'utama', 'perbaikan', 'mutu', 'situs', 'portal', 'akademik', 'universitas', 'trunojoyo', 'madura', 'informasi', 'administrasi', 'akademik', 'mahasiswa', 'detail', 'ter', 'update', 'ki', 'informasi', 'administrasi', 'akademik', 'disitus', 'portal', 'akademik', 'utm', 'dipercaya', 'ki', 'portal', 'utm', 'pengguna', 'aman', 'data', 'akademik', 'mahasiswa', 'krs', 'khs', 'transkrip', 'data', 'personal', 'sesuai', 'kip', 'kunci', 'website', 'importance', 'performance', 'webqual', 'indeks', 'kepuasan', 'pelanggan'], ['tujuan', 'penelitian', 'pengaruh', 'celebrity', 'endorser', 'iwan', 'fals', 'minat', 'beli', 'produk', 'top', 'coffee', 'studi', 'masyarakat', 'sumur', 'kembang', 'kelurahan', 'pejagan', 'kecamatan', 'bangkalan', 'kabupaten', 'bangkalan', 'penelitian', 'metode', 'kuantitatif', 'pendekatan', 'survey', 'populasi', 'penelitian', 'masyarakat', 'sumur', 'kembang', 'kelurahan', 'pejagan', 'kecamatan', 'bangkalan', 'kabupaten', 'bangkalan', 'menngunakan', 'metode', 'sampling', 'aksidental', 'penelitian', 'responden', 'desember', 'metode', 'pengumpulan', 'data', 'penelitian', 'lapang', 'membagikan', 'kuesioner', 'riset', 'perpustakaan', 'teknik', 'pengolahan', 'data', 'pengolahan', 'data', 'bantuan', 'erangkat', 'lunak', 'spss', 'versi', 'for', 'windows', 'skala', 'likert', 'hasil', 'penelitian', 'hasil', 'uji', 'f', 'simultan', 'variabel', 'bebas', 'trustworthiness', 'expertise', 'attractiveness', 'respect', 'similarity', 'mempengaruhi', 'variabel', 'terikat', 'minet', 'beli', 'y', 'produk', 'top', 'coffee', 'hasil', 'uji', 't', 'parsial', 'membuktikan', 'variabel', 'bebas', 'trustworthiness', 'expertise', 'attractiveness', 'respect', 'similarity', 'berpengaruh', 'signifikan', 'minat', 'beli', 'y', 'produk', 'top', 'coffee', 'disimpulkan', 'variabel', 'bebas', 'pengaruh', 'miant', 'beli', 'y', 'produk', 'top', 'coffee', 'variabel', 'trustworthiness'], ['abstrak', 'penelitian', 'metode', 'kuantitatif', 'menekankan', 'pengujian', 'hipotesis', 'variabel', 'penelitian', 'kepemimpinan', 'kompensasi', 'penelitian', 'dilaksanakan', 'kantor', 'dinas', 'pendidikan', 'kabupaten', 'sampang', 'sampel', 'orang', 'pegawai', 'negeri', 'sipil', 'non', 'pns', 'hipotesis', 'variabel', 'bebas', 'hubungan', 'signifikan', 'simultan', 'kepemimpinan', 'kompensasi', 'kinerja', 'pegawai', 'y', 'terbukti', 'nilai', 'fhitung', 'tingkat', 'nilai', 'hipotesis', 'variabel', 'kompensasi', 'variabel', 'pengaruh', 'dominan', 'terbukti', 'nilai', 't', 'hitung', 'pengaruh', 'positif', 'signifikan', 'parsial', 'variabel', 'bebas', 'variabel', 'terikat', 'y', 'kesimpulan', 'penelitian', 'pengujian', 'hipotesis', 'berdasarkan', 'pengujian', 'statistik', 'simultan', 'variabel', 'bebas', 'memiliki', 'pengaruh', 'signifikan', 'variabel', 'terikat', 'pengujian', 'hipotesis', 'membuktikan', 'variabel', 'kompensasi', 'variabel', 'berpengaruh', 'dominan', 'kinerja', 'pegawai', 'dinas', 'pendidikan', 'kabupaten', 'sampang', 'kunci', 'kepemimpinan', 'kompensasi', 'kinerja'], ['abstrak', 'tujuan', 'penelitian', 'pengaruh', 'variabel', 'current', 'ratio', 'return', 'on', 'equity', 'firm', 'size', 'leverage', 'business', 'risk', 'kebijakan', 'deviden', 'perusahaan', 'manufaktur', 'terdaftar', 'bursa', 'efek', 'indonesia', 'periode', 'pendekatan', 'penelitian', 'penelitian', 'kuantitatif', 'sampel', 'penelitian', 'perusahaan', 'manufaktur', 'membagikan', 'deviden', 'periode', 'metode', 'pengambilan', 'sampel', 'purposive', 'sampling', 'pengujian', 'instrumen', 'uji', 'asumsi', 'klasik', 'teknik', 'analisis', 'data', 'menguji', 'hipotesis', 'regresi', 'linier', 'berganda', 'memakai', 'uji', 'f', 'uji', 'berdasarkan', 'hasil', 'penelitian', 'nilai', 'r', 'square', 'berdasarkan', 'uji', 'f', 'variabel', 'current', 'ratio', 'return', 'on', 'equity', 'firm', 'size', 'leverage', 'businees', 'risk', 'simultan', 'berpengaruh', 'signifikan', 'dividend', 'payout', 'ratio', 'berdasarkan', 'uji', 't', 'parsial', 'variabel', 'current', 'ratio', 'firm', 'size', 'businees', 'risk', 'berpengaruh', 'signifikan', 'dividend', 'payout', 'ratio', 'variabel', 'return', 'on', 'equity', 'leverage', 'berpengaruh', 'signifikan', 'dividend', 'payout', 'ratio', 'kunci', 'current', 'ratio', 'return', 'on', 'equity', 'firm', 'size', 'leverage', 'businees', 'risk'], ['ali', 'rahbini', 'pengaruh', 'harga', 'kualitas', 'pelayanan', 'kepuasan', 'berbelanja', 'swalayan', 'tom', 'jerry', 'bangkalan', 'dibawah', 'bimbingan', 'pribanus', 'wantara', 'nirma', 'penelitian', 'bertujuan', 'mengukur', 'pengaruh', 'harga', 'kualitas', 'pelayanan', 'kepuasan', 'berbelanja', 'swalayan', 'tom', 'jerry', 'konsumen', 'berbelanja', 'swalayan', 'tom', 'jerry', 'responden', 'penelitian', 'responden', 'data', 'terkumpul', 'analisis', 'regresi', 'linier', 'berganda', 'alat', 'bantu', 'software', 'spss', 'hasil', 'analisis', 'pengujian', 'hipotesis', 'diperoleh', 'harga', 'kualitas', 'pelayanan', 'pengaruh', 'simultan', 'kepuasan', 'berbelanja', 'swalayan', 'tom', 'jerry', 'parsial', 'variabel', 'harga', 'kehandalan', 'daya', 'tanggap', 'jaminan', 'empati', 'bukti', 'fisik', 'pengaruh', 'parsial', 'kepuasan', 'berbelanja', 'swalayan', 'tom', 'jerry', 'bangkalan', 'variabel', 'harga', 'variabel', 'dominan', 'berpengaruh', 'kepuasan', 'berbelanja', 'swalayan', 'tom', 'jerry', 'bangkalan', 'kunci', 'harga', 'keandalan', 'daya', 'tanggap', 'jaminan', 'empati', 'bukti', 'fisik'], ['bauran', 'eceran', 'salah', 'langkah', 'pemasaran', 'keberhasilan', 'perusahaan', 'bergerak', 'bidang', 'produksi', 'barang', 'swalayan', 'bangkalan', 'salah', 'bisnis', 'eceran', 'bergerak', 'jual', 'beli', 'barang', 'memperhatikan', 'perilaku', 'konsumen', 'mengambil', 'keputusan', 'variabel', 'bauran', 'eceran', 'teori', 'berman', 'evans', 'foster', 'lokasi', 'pelayanan', 'produk', 'harga', 'suasana', 'harga', 'promosi', 'tujuan', 'penelitian', 'pengaruh', 'bauran', 'eceran', 'lokasi', 'pelayanan', 'produk', 'harga', 'suasana', 'harga', 'promosi', 'simultan', 'keputusan', 'pembelian', 'konsumen', 'studi', 'indah', 'swalayan', 'bangkalan', 'variabel', 'bauran', 'eceran', 'berpengaruh', 'keputusan', 'pembelian', 'studi', 'indah', 'swalayan', 'bangkalan', 'penelitian', 'pendekatan', 'pendekatan', 'kuantitatif', 'teknik', 'pengambilan', 'sampel', 'purposive', 'sampling', 'pengumpulan', 'data', 'wawancara', 'kepustakaan', 'kuesioner', 'skala', 'likert', 'mengukur', 'menguji', 'instrumen', 'uji', 'validitas', 'uji', 'reliabilitas', 'uji', 'asumsi', 'teknik', 'analisis', 'data', 'analisis', 'regresi', 'linier', 'berganda', 'variabel', 'variabel', 'uji', 'f', 'uji', 'hasil', 'penelitian', 'variabel', 'bauran', 'eceran', 'lokasi', 'pelayanan', 'produk', 'harga', 'suasana', 'harga', 'promosi', 'berpengaruh', 'simultan', 'keputusan', 'pembelian', 'studi', 'indah', 'swalayan', 'bangkalan', 'variabel', 'bauran', 'eceran', 'berpengaruh', 'parsial', 'keputusan', 'pembelian', 'indah', 'swalayan', 'bangakalan', 'harga', 'berpengaruh', 'keputusan', 'pemebelian', 'indah', 'swalayan', 'bangkalan', 'kuci', 'bauran', 'eceran', 'lokasi', 'pelayanan', 'produk', 'harga', 'suasana', 'toko', 'karyawan', 'promosi', 'keputusan', 'pembelian'], ['abstrak', 'penelitian', 'bertujuan', 'mengukur', 'efektivitas', 'iklan', 'consumer', 'decision', 'model', 'cdm', 'mahasiswa', 'universitas', 'trunojoyo', 'madura', 'responden', 'penelitian', 'orang', 'mahasiswa', 'data', 'terkumpul', 'analisis', 'jalur', 'path', 'analysis', 'alat', 'bantu', 'software', 'spss', 'hasil', 'analisis', 'pengujian', 'hipotesis', 'diperoleh', 'pengaruh', 'langsung', 'pengaruh', 'langsung', 'signifikan', 'pengaruh', 'langsung', 'signifikan', 'pengaruh', 'langsung', 'pengaruh', 'langsung', 'signifikan', 'pengaruh', 'langsung', 'signifikan', 'kunci', 'cdm', 'analisis', 'jalur', 'pesan', 'iklan', 'pengenalan', 'merek', 'keyakinan', 'konsumen', 'sikap', 'konsumen', 'niat', 'beli', 'pembelian', 'nyata'], ['abstrak', 'aththaariq', 'pengaruh', 'kompetensi', 'dosen', 'kinerja', 'dosen', 'universitas', 'trunojoyo', 'madura', 'dibawah', 'bimbingan', 'moch', 'wispandono', 'muhammad', 'alkirom', 'wildan', 'penelitian', 'bertujuan', 'menganalisis', 'pengaruh', 'kompetensi', 'pedagogik', 'kompetensi', 'profesional', 'kompetensi', 'sosial', 'kompetensi', 'kepribadian', 'variabel', 'terikat', 'kinerja', 'dosen', 'universitas', 'trunojoyo', 'madura', 'data', 'penelitian', 'data', 'primer', 'data', 'diperoleh', 'hasil', 'penyebaran', 'kuesioner', 'responden', 'penelitian', 'dosen', 'universitas', 'trunojoyo', 'madura', 'tersertifikasi', 'aktif', 'dosen', 'teknik', 'pengambilan', 'sampel', 'judgmental', 'sampling', 'metode', 'analisis', 'regresi', 'linier', 'berganda', 'hasil', 'penelitian', 'berdasarkan', 'hasil', 'analisis', 'disimpulkan', 'kompetensi', 'pedagogik', 'kompetensi', 'profesional', 'kompetensi', 'sosial', 'kompetensi', 'kepribadian', 'berpengaruh', 'signifikan', 'variabel', 'terikat', 'kinerja', 'dosen', 'y', 'simultan', 'parsial', 'nilai', 'koefisiensi', 'determinasi', 'berganda', 'nilai', 'kinerja', 'dosen', 'dipengaruhi', 'perubahan', 'variabel', 'bebas', 'diteliti', 'sisanya', 'dipengaruhi', 'variabel', 'diteliti', 'variabel', 'memiliki', 'pengaruh', 'dominan', 'variabel', 'kompetensi', 'pedagogik', 'nilai', 'signifikansi', 'memiliki', 'nilai', 'beta', 'kunci', 'kompetensi', 'pedagogik', 'kompetensi', 'profesional', 'kompetensi', 'sosial', 'kompetensi', 'kepribadian', 'kinerja', 'dosen'], ['abstrak', 'haryono', 'arifin', 'pengaruh', 'perilaku', 'konsumen', 'keputusan', 'pembelian', 'produk', 'honda', 'merek', 'vario', 'studi', 'dealler', 'surya', 'agung', 'motor', 'bangkalan', 'tujuan', 'penelitian', 'pengaruh', 'perilaku', 'konsumen', 'keputusan', 'pembelian', 'honda', 'merek', 'vario', 'dealer', 'surya', 'agung', 'motor', 'bangkalan', 'variabel', 'manakah', 'perilaku', 'konsumen', 'kebudayaan', 'sosial', 'pribadi', 'psikologis', 'dominan', 'keputusan', 'pembelian', 'konsumen', 'honda', 'merek', 'vario', 'penelitian', 'pendekatan', 'kuantitatif', 'pengamatan', 'langsung', 'responden', 'penyebaran', 'kuesioner', 'dianalisa', 'penelitian', 'penelitian', 'populasi', 'responden', 'konsumen', 'pembelian', 'honda', 'merek', 'vario', 'dealer', 'surya', 'agung', 'motor', 'bangkalan', 'dijadikan', 'responden', 'dianalisis', 'spss', 'versi', 'kesimpulan', 'penelitian', 'pengujian', 'hipotesis', 'variabel', 'perilaku', 'konsumen', 'kebudayaan', 'sosial', 'pribadi', 'psikologis', 'berpengaruh', 'simultan', 'keputusan', 'pembelian', 'honda', 'merek', 'vario', 'pengujian', 'hipotesis', 'variabel', 'psikologis', 'variabel', 'berpengaruh', 'dominan', 'kunci', 'kebudayaan', 'sosial', 'pribadi', 'psikologis', 'keputusan', 'pembelian'], ['abstrak', 'dharma', 'abidin', 'syah', 'kesimpulan', 'pengaruh', 'signifikan', 'variabel', 'tipe', 'kepemimpinan', 'autoritarian', 'demokratis', 'simultan', 'variabel', 'prestasi', 'kerja', 'pegawai', 'kantor', 'kecamatan', 'pangarengan', 'kabupaten', 'sampang', 'hasil', 'uji', 'f', 'anova', 'menunjukan', 'nilai', 'fhitung', 'ftabel', 'variabel', 'tipe', 'kepemimpinan', 'autoritarian', 'demokratis', 'simultan', 'kontribusi', 'prestasi', 'kerja', 'pegawai', 'pengaruh', 'signifikan', 'variabel', 'kepemimpinan', 'tipe', 'autoritariansecara', 'parsial', 'prestasi', 'kerja', 'pegawaidikantor', 'kecamatan', 'pangarengan', 'kabupaten', 'sampang', 'hasil', 'uji', 't', 'menunjukan', 'nilai', 't', 'hitung', 't', 'tabel', 'parsial', 'variabel', 'kepemimpinan', 'tipe', 'autoritarian', 'kontribusi', 'variabel', 'prestasi', 'kerja', 'pegawai', 'pengaruh', 'signifikan', 'variabel', 'kepemimpinan', 'tipe', 'parsial', 'prestasi', 'kerja', 'pegawaidikantor', 'kecamatan', 'pangarengan', 'kabupaten', 'sampang', 'hasil', 'uji', 't', 'menunjukan', 'nilai', 't', 'hitung', 't', 'tabel', 'parsial', 'variabel', 'kepemimpinan', 'tipe', 'kontribusi', 'variabel', 'prestasi', 'kerja', 'pegawai', 'pengaruh', 'signifikan', 'variabel', 'kepemimpinan', 'tipe', 'demokratis', 'parsial', 'prestasi', 'kerja', 'pegawaidikantor', 'kecamatan', 'pangarengan', 'kabupaten', 'sampang', 'hasil', 'uji', 't', 'menunjukan', 'nilai', 't', 'hitung', 't', 'tabel', 'parsial', 'variabel', 'kepemimpinan', 'tipe', 'demokratis', 'kontribusi', 'variabel', 'prestasi', 'kerja', 'pegawai', 'variabel', 'tipe', 'demokratis', 'nilai', 'koefisien', 'determinasi', 'variabel', 'bebas', 'lainya', 'variabel', 'dominan', 'berpengaruh', 'variabel', 'prestasi', 'kerja', 'pegawai', 'dikantor', 'kecamatan', 'pangarengan', 'kabupaten', 'sampang', 'kunci', 'tipe', 'kepemimpinan', 'prestasi', 'kerja', 'pegawai'], ['abstrak', 'tujuan', 'penelitian', 'mengidentifikasi', 'mempengaruhi', 'kepuasan', 'konsumen', 'simultan', 'parsial', 'metode', 'metode', 'kuantitatif', 'populasi', 'konsumen', 'depot', 'barokah', 'prambon', 'pelayanan', 'depot', 'barokah', 'prambon', 'sampel', 'responden', 'teknik', 'accidental', 'sampling', 'teknik', 'analisis', 'analisis', 'regresi', 'linier', 'berganda', 'hasil', 'penelitian', 'variabel', 'independen', 'variabel', 'bukti', 'fisik', 'kehandalan', 'jaminan', 'parsial', 'berpengaruh', 'signifikan', 'kepuasan', 'konsumen', 'y', 'variabel', 'independen', 'daya', 'tanggap', 'empati', 'berpengaruh', 'signifikan', 'variabel', 'dependen', 'kepuasan', 'konsumen', 'y', 'variabel', 'jaminan', 'pengaruh', 'kepuasan', 'konsumen', 'y', 'simultan', 'variabel', 'independen', 'kualitas', 'pelayanan', 'x', 'simultan', 'berpengaruh', 'signifikan', 'variabel', 'dependen', 'kepuasan', 'konsumen', 'y', 'kunci', 'kualitas', 'pelayanan', 'bukti', 'fisik', 'kehandalan', 'daya', 'tanggap', 'jaminan', 'empati', 'kepuasan', 'konsumen'], ['hasil', 'penelitian', 'perhitungan', 'credit', 'risk', 'ratio', 'menunjukan', 'npl', 'pd', 'bpr', 'bank', 'daerah', 'lamongan', 'mengalami', 'penurunan', 'tingkat', 'resiko', 'kesimpulan', 'penelitian', 'tingkat', 'resiko', 'pd', 'bpr', 'bank', 'daerah', 'lamongan', 'mengalami', 'penurunan', 'tingkat', 'resiko', 'npl', 'dikatagorikan', 'berdasarkan', 'ketentuan', 'bank', 'indonesia', 'syarat', 'npl', 'maksimal', 'kunci', 'credit', 'risk', 'ratio', 'non', 'performing', 'loan'], ['keputusan', 'investasi', 'berhubungan', 'keuntungan', 'risiko', 'investor', 'rasional', 'menginvestasikan', 'dananya', 'saham', 'efisien', 'saham', 'return', 'risiko', 'minimal', 'sampel', 'penelitian', 'saham', 'aktif', 'berdasarkan', 'frekuensi', 'perdagangan', 'membagi', 'dividen', 'tujuan', 'penelitian', 'membentuk', 'portofolio', 'optimal', 'perbedaan', 'return', 'risiko', 'saham', 'kandidat', 'non', 'kandidat', 'portofolio', 'hasil', 'penelitian', 'saham', 'kandidat', 'portofolio', 'saham', 'diteliti', 'nilai', 'portofolio', 'optimal', 'dibentuk', 'saham', 'excess', 'returns', 'to', 'beta', 'erb', 'ci', 'diperoleh', 'saham', 'masuk', 'perhitungan', 'portofolio', 'optimal', 'komposisi', 'proporsi', 'dana', 'saham', 'pt', 'adaro', 'energy', 'tbk', 'pt', 'gudang', 'garam', 'tbk', 'pt', 'hm', 'sampoerna', 'tbk', 'pt', 'astra', 'otopart', 'tbk', 'pt', 'multi', 'bintang', 'indonesia', 'tbk', 'pt', 'astra', 'agro', 'lestari', 'tbk', 'pt', 'goodyear', 'indonesia', 'tbk', 'pt', 'indika', 'energy', 'tbk', 'pt', 'united', 'tractors', 'tbk', 'pt', 'pabrik', 'kertas', 'tjiwi', 'kimia', 'tbk', 'pt', 'indofood', 'sukses', 'makmur', 'tbk', 'pt', 'astra', 'international', 'tbk', 'pt', 'bank', 'negara', 'indonesia', 'tbk', 'return', 'portofolio', 'risiko', 'portofolio', 'excess', 'return', 'to', 'beta', 'portofolio', 'berdasarkan', 'hasil', 'diatas', 'disimpulkan', 'metode', 'indeks', 'tunggal', 'portofolio', 'optimal', 'diperoleh', 'perhitungan', 'aktiva', 'bebas', 'risiko', 'kunci', 'model', 'indeks', 'tunggal', 'portofolio', 'optimal', 'expected', 'return', 'excess', 'return', 'to', 'beta'], ['penelitian', 'bertujuan', 'pengaruh', 'rekrutmen', 'pengembangan', 'karir', 'terhdap', 'kinerja', 'karyawan', 'kantor', 'pusat', 'pt', 'gresik', 'cipta', 'sejahtera', 'kabupaten', 'gresik', 'responden', 'penelitian', 'orang', 'karyawan', 'data', 'terkumpul', 'analisis', 'regresi', 'linier', 'berganda', 'alat', 'bantu', 'software', 'spss', 'hasil', 'analisis', 'pengujian', 'hipotesis', 'diperoleh', 'variabel', 'rekrutmen', 'variabel', 'pengembangan', 'karir', 'pengaruh', 'simultan', 'kinerja', 'karyawan', 'variabel', 'rekrutmen', 'variabel', 'dominan', 'mempengaruhi', 'kinerja', 'karyawan', 'kantor', 'pusat', 'pt', 'gresik', 'cipta', 'sejahtera', 'kabupaten', 'gresik', 'katakunci', 'rekrutmen', 'pengembangan', 'karir', 'kinerja'], ['abstrak', 'hening', 'ary', 'putra', 'pengaruh', 'iklan', 'online', 'media', 'facebook', 'keputusan', 'pembelian', 'pakaian', 'studi', 'mahasiswa', 'fakultas', 'ekonomi', 'bisnis', 'universitas', 'trunojoyo', 'madura', 'pemimbing', 'bambang', 'setiyo', 'pambudi', 'suyono', 'tujuan', 'penelitian', 'mengidentifikasi', 'variabel', 'sikap', 'iklan', 'online', 'daya', 'iklan', 'online', 'frekuensi', 'klik', 'iklan', 'online', 'mempengaruhi', 'keputusan', 'pembelian', 'pakaian', 'mahasiswa', 'fakultas', 'ekonomi', 'bisnis', 'universitas', 'trunojoyo', 'madura', 'simultan', 'parsial', 'hipotesis', 'penelitian', 'mempengaruhi', 'keputusan', 'pembelian', 'pakaian', 'sikap', 'iklan', 'online', 'daya', 'iklan', 'online', 'frekuensi', 'klik', 'iklan', 'online', 'berpengaruh', 'signifikan', 'keputusan', 'pembelian', 'pakaian', 'simultan', 'parsial', 'penelitian', 'metode', 'kuantitatif', 'dimana', 'populasi', 'penelitian', 'mahasiswa', 'fakultas', 'ekonomi', 'bisnis', 'universitas', 'trunojoyo', 'madura', 'diperoleh', 'sampel', 'responden', 'diambil', 'metode', 'accidental', 'sampling', 'menyebarkan', 'kuesioner', 'kesimpulan', 'penelitian', 'simultan', 'pengaruh', 'signifikan', 'variabel', 'bebas', 'sikap', 'iklan', 'online', 'daya', 'iklan', 'online', 'frekuensi', 'klik', 'iklan', 'online', 'keputusan', 'pembelian', 'pakaian', 'parsial', 'vairabel', 'sikap', 'iklan', 'online', 'daya', 'iklan', 'online', 'berpengaruh', 'positif', 'signifikan', 'keputusan', 'pembelian', 'pakaian', 'kecuali', 'variabel', 'frekuensi', 'klik', 'iklan', 'online', 'berpengaruh', 'positif', 'signifikan', 'keputusan', 'pembelian', 'pakaian', 'parsial', 'variabel', 'daya', 'pengaruh', 'keputusan', 'pembelian', 'pakaian', 'kunci', 'sikap', 'daya', 'frekuensi', 'klik', 'keputusan', 'pembelian', 'pakaian'], ['habibah', 'pengaruh', 'ekuitas', 'merek', 'keputusan', 'pembelian', 'notebook', 'acer', 'dibawah', 'bimbingan', 'bambang', 'setiyo', 'pambudi', 'mm', 'suyono', 'notebook', 'merek', 'acer', 'notebook', 'ekuitas', 'merek', 'dibuktikan', 'penguasaan', 'acer', 'hamper', 'pasar', 'notebook', 'indonesia', 'dasar', 'kenyataan', 'pasar', 'penelitian', 'tujuan', 'ekuitas', 'merek', 'persepsi', 'konsumen', 'lokasi', 'penelitiannya', 'dilaksanakan', 'fakultas', 'ekonomi', 'universitas', 'trunojoyo', 'madura', 'penelitan', 'penelitan', 'kuantitatif', 'pendekatan', 'survey', 'sampel', 'konsumen', 'penelitian', 'variabel', 'bebasnya', 'kesadaran', 'merek', 'asosiasi', 'merek', 'persepsi', 'kualitas', 'loyalitas', 'merek', 'persepsi', 'nilai', 'variabel', 'terikatnya', 'keputusan', 'pembelian', 'konsumen', 'metode', 'penelitian', 'sampel', 'purposive', 'sampling', 'pengujian', 'instrument', 'uji', 'validitas', 'realibilitas', 'uji', 'asumsi', 'klasik', 'metode', 'analisis', 'data', 'menguji', 'hipotesis', 'regresi', 'linier', 'berganda', 'memakai', 'uji', 'f', 'uji', 'hasil', 'penelitan', 'variabel', 'nilai', 'adjusted', 'r', 'square', 'besarnya', 'pengaruh', 'variabel', 'bebas', 'variabel', 'terikat', 'sisanya', 'dipengaruhi', 'variabel', 'diteliti', 'penelitian', 'berdasarkan', 'uji', 'f', 'variabel', 'ekuitas', 'merek', 'kesadaran', 'merek', 'asosiasi', 'merek', 'persepsi', 'kualitas', 'loyalitas', 'merek', 'persepsi', 'nilai', 'simultan', 'berpengaruh', 'signifikan', 'keputusan', 'pembelian', 'mahasiswa', 'fakultas', 'ekonomi', 'universitas', 'trunojoyo', 'madura', 'berdasarkan', 'uji', 't', 'parsial', 'kesadaran', 'merek', 'asosiasi', 'merek', 'persepsi', 'kualitas', 'loyalitas', 'merek', 'persepsi', 'nilai', 'berpengaruh', 'signifikan', 'variabel', 'terikat', 'variabel', 'persepsi', 'nilai', 'berpengaruh', 'variabel', 'terikat', 'variabel', 'berpengaruh', 'dominan', 'persepsi', 'kualitas', 'kunci', 'ekuitas', 'merek', 'keputusan', 'pembelian'], ['atribut', 'produk', 'pandangan', 'gambaran', 'produk', 'dealer', 'surya', 'agung', 'motor', 'bangkalan', 'salah', 'dealer', 'resmi', 'honda', 'bergerak', 'penjualan', 'sepeda', 'motor', 'memperhatikan', 'perilaku', 'konsumen', 'mengambil', 'keputusan', 'pembelian', 'atribut', 'produk', 'teori', 'kotler', 'armstrong', 'kualitas', 'produk', 'fitur', 'produk', 'gaya', 'desain', 'produk', 'tujuan', 'penelitian', 'mengidentifikasi', 'mempengaruhi', 'atribut', 'produk', 'memutuskan', 'membeli', 'sepeda', 'motor', 'honda', 'supra', 'parsial', 'simultan', 'penelitian', 'metode', 'kuantitatif', 'dimana', 'populasi', 'penelitian', 'konsumen', 'sepeda', 'motor', 'honda', 'supra', 'x', 'dealer', 'surya', 'agung', 'motor', 'bangkalan', 'diperoleh', 'sampel', 'responden', 'diambil', 'metode', 'purposive', 'sampling', 'menyebarkan', 'kuesioner', 'hipotesis', 'penelitian', 'atribut', 'produk', 'mempengaruhi', 'keputusan', 'pembelian', 'kualitas', 'produk', 'fitur', 'produk', 'gaya', 'desain', 'produk', 'berpengaruh', 'signifikan', 'keputusan', 'pembelian', 'sepeda', 'motor', 'honda', 'supra', 'x', 'simultan', 'parsial', 'hasil', 'penelitian', 'uji', 'f', 'variabel', 'bebas', 'atribut', 'produk', 'kualitas', 'produk', 'fitur', 'produk', 'gaya', 'desain', 'produk', 'berpengaruh', 'simultan', 'keputusan', 'pembelian', 'sepeda', 'motor', 'honda', 'supra', 'x', 'studi', 'dealer', 'surya', 'agung', 'motor', 'bangkalan', 'uji', 't', 'parsial', 'variabel', 'kualitas', 'produk', 'fitur', 'produk', 'gaya', 'desain', 'produk', 'keputusan', 'pembelian', 'sepeda', 'motor', 'honda', 'supra', 'x', 'studi', 'dealer', 'surya', 'agung', 'motor', 'bangkalan', 'parsial', 'variabel', 'kualitas', 'produk', 'mempunyah', 'pengaruh', 'dominan', 'keputusan', 'pembelian', 'sepeda', 'motor', 'honda', 'supra', 'x', 'studi', 'dealer', 'surya', 'agung', 'motor', 'bangkalan', 'kunci', 'atribut', 'produk', 'keputusan', 'pembelian'], ['abstrak', 'tujuan', 'penelitian', 'pengaruh', 'perilaku', 'konsumen', 'kebudayaan', 'sosial', 'pribadi', 'psikologis', 'keputusan', 'pembelian', 'produk', 'susu', 'cair', 'merek', 'indomilk', 'swalayan', 'tom', 'jerry', 'bangkalan', 'variabel', 'manakah', 'perilaku', 'konsumen', 'berpengaruh', 'dominan', 'keputusan', 'pembelian', 'konsumen', 'produk', 'susu', 'cair', 'merek', 'indomilk', 'penelitian', 'pendekatan', 'pendekatan', 'kuantitatif', 'berusaha', 'pengaruh', 'perilaku', 'konsumen', 'keputusan', 'pembelian', 'produk', 'susu', 'cair', 'merek', 'indomilk', 'studi', 'konsumen', 'swalayan', 'tom', 'jerry', 'bangkalan', 'teknik', 'pengambilan', 'sampel', 'purposive', 'sampling', 'pengumpulan', 'data', 'wawancara', 'kepustakaan', 'kuesioner', 'skala', 'likert', 'mengukur', 'menguji', 'instrumen', 'uji', 'validitas', 'uji', 'reliabilitas', 'uji', 'asumsi', 'teknik', 'analisis', 'data', 'analisis', 'regresi', 'linier', 'berganda', 'variabel', 'variabel', 'uji', 'f', 'uji', 'hasil', 'penelitian', 'variabel', 'perilaku', 'konsumen', 'kebudayaan', 'sosial', 'pribadi', 'psikologis', 'berpengaruh', 'simultan', 'keputusan', 'pembelian', 'produk', 'susu', 'cair', 'merek', 'indomilk', 'variabel', 'psikologis', 'berpengaruh', 'dominan', 'keputusan', 'pembelian', 'produk', 'susu', 'cair', 'merek', 'indomilk', 'kunci', 'perilaku', 'konsumen', 'kebudayaan', 'sosial', 'pribadi', 'psikologis', 'keputusan', 'pembelian'], ['abstrak', 'penelitian', 'bertujuan', 'pengaruh', 'unsur', 'unsur', 'komunikasi', 'pengirim', 'pesan', 'komunikator', 'pesan', 'media', 'komunikasi', 'penerima', 'pesan', 'komunikan', 'umpan', 'produktifitas', 'kerja', 'pegawai', 'negeri', 'sipil', 'dinas', 'pendidikian', 'kabupaten', 'bangkalan', 'simultan', 'parsial', 'populasi', 'penelitian', 'pegawai', 'negeri', 'sipil', 'dinas', 'pendidikan', 'kabupaten', 'bangkalan', 'pegawai', 'sampel', 'pegawai', 'diambil', 'proporsional', 'random', 'sampling', 'metode', 'pengumpulan', 'data', 'membagikan', 'kuesioner', 'riset', 'perpustakaan', 'data', 'teknik', 'pengolahan', 'data', 'pengolahan', 'data', 'bantuan', 'perangkat', 'lunak', 'spss', 'versi', 'uji', 'validitas', 'uji', 'reabilitas', 'skala', 'likert', 'hasil', 'penelitian', 'faktor', 'faktor', 'komunikasi', 'simultan', 'pengaruh', 'signifikan', 'produktifitas', 'kerja', 'nilai', 'fhitung', 'ftabel', 'tingkat', 'signifikansi', 'koefisien', 'determinasi', 'berganda', 'variabel', 'komunikator', 'pesan', 'media', 'komunikasi', 'komunikan', 'umpan', 'menerangkan', 'variabel', 'produktifitas', 'kerja', 'y', 'sisanya', 'dipengaruhi', 'variabel', 'dimasukkan', 'model', 'penelitian', 'parsial', 'varibel', 'pengaruh', 'langsung', 'positif', 'signifikan', 'variabel', 'kominkator', 'komunikan', 'pesan', 'media', 'komunikasi', 'umpan', 'berpengaruh', 'positif', 'sigifikan', 'hasil', 'analisis', 'variabel', 'komunikator', 'peranan', 'dominan', 'upaya', 'meningkatkan', 'produktifitas', 'kerja', 'kunci', 'pengirim', 'pesan', 'komunikator', 'pesan', 'media', 'komunikasi', 'penerima', 'pesan', 'komunikan', 'umpan', 'produktivitas', 'kerja'], ['abstrak', 'tujuan', 'penelitian', 'mengidentifikasi', 'atribut', 'produk', 'mempengaruhi', 'keputusan', 'pembelian', 'produk', 'penyedap', 'masako', 'simultan', 'parsial', 'variabel', 'manakah', 'berpengaruh', 'penelitian', 'metode', 'kuantitatif', 'dimana', 'populasinya', 'kecamatan', 'robatal', 'sampang', 'membeli', 'mengkonsumsi', 'produk', 'penyedap', 'masako', 'teknik', 'pengambilan', 'sampel', 'accidental', 'sampling', 'diperoleh', 'sampel', 'responden', 'hipotesis', 'penelitian', 'variabel', 'atribut', 'produk', 'merek', 'kemasan', 'pelabelan', 'layanan', 'pelengkap', 'berpengaruh', 'simultan', 'keputusan', 'pembelian', 'produk', 'penyedap', 'masako', 'variabel', 'merek', 'berpengaruh', 'keputusan', 'pembelian', 'produk', 'penyedap', 'masako', 'hasil', 'penelitian', 'uji', 'f', 'simultan', 'simultan', 'variabel', 'independen', 'merek', 'kemasan', 'pelabelan', 'layanan', 'pelengkap', 'mempengaruhi', 'variabel', 'dependen', 'keputusan', 'pembelian', 'hipotesis', 'diterima', 'hasil', 'uji', 't', 'parsial', 'membuktikan', 'individu', 'variabel', 'bebas', 'berpengaruh', 'positif', 'signifikan', 'keputusan', 'pembelian', 'hasil', 'variabel', 'merek', 'pengaruh', 'hipotesis', 'diterima', 'simpulan', 'penelitian', 'simultan', 'pengaruh', 'signifikan', 'variabel', 'bebas', 'variabel', 'terikatnya', 'keputusan', 'pembelian', 'parsial', 'variabel', 'bebas', 'berpengaruh', 'positif', 'signifikan', 'keputusan', 'pembelian', 'variabel', 'bebas', 'parsial', 'individu', 'pengaruh', 'variabel', 'keputusan', 'pembelian', 'kunci', 'atribut', 'produk', 'keputusan', 'pembelian'], ['abstrak', 'tujuan', 'penelitian', 'pengaruh', 'bauran', 'pemasaran', 'produk', 'harga', 'distribusi', 'promosi', 'signifikan', 'simultan', 'parsial', 'keputusan', 'pembelian', 'konsumen', 'variabel', 'manakah', 'berpengaruh', 'dominan', 'keputusan', 'konsumen', 'pembelian', 'produk', 'petis', 'ikan', 'tuna', 'kelurahan', 'banyuanyar', 'kabupaten', 'sampang', 'objek', 'penelitian', 'kosumen', 'produk', 'petis', 'ikan', 'tuna', 'kelurahan', 'banyuanyar', 'kabupaten', 'sampang', 'sampel', 'konsumen', 'teknik', 'analisis', 'data', 'meguji', 'hipotesis', 'regresi', 'linier', 'berganda', 'memakai', 'uji', 'f', 'uji', 'berdasar', 'hasil', 'penelitian', 'model', 'regresi', 'linier', 'berganda', 'sistematis', 'hasil', 'analisis', 'penelitian', 'simultan', 'uji', 'bauran', 'pemasaran', 'produk', 'harga', 'distribusi', 'promosi', 'pengaruh', 'signifikan', 'keputusan', 'pembelian', 'produk', 'petis', 'ikan', 'tuna', 'kelurahan', 'banyuanyar', 'kabupaten', 'sampang', 'parsial', 'uji', 't', 'variabel', 'produk', 'harga', 'promosi', 'berpengaruh', 'signifikan', 'variabel', 'ditribusi', 'berpengaruh', 'signifikan', 'keputusan', 'pembelian', 'produk', 'petis', 'ikan', 'tuna', 'kelurahan', 'banyuanyar', 'kabupaten', 'sampang', 'variabel', 'produk', 'berpengaruh', 'keputusan', 'pembelian', 'kunci', 'produk', 'harga', 'promosi', 'distribusi', 'keputusan', 'pembelian'], ['abstrak', 'tujuan', 'penelitian', 'pengaruh', 'pesan', 'iklan', 'televisi', 'isi', 'pesan', 'struktur', 'pesan', 'format', 'pesan', 'sumber', 'pesan', 'simultan', 'minat', 'beli', 'jamu', 'tolak', 'angin', 'sido', 'muncul', 'konsumen', 'pasar', 'manyar', 'surabaya', 'variabel', 'pesan', 'iklan', 'televisi', 'berpengaruh', 'dominan', 'minat', 'beli', 'jamu', 'tolak', 'angin', 'sido', 'muncul', 'konsumen', 'pasar', 'manyar', 'surabaya', 'penelitian', 'pendekatan', 'pendekatan', 'kuantitatif', 'berusaha', 'pengaruh', 'pesan', 'iklan', 'televisi', 'minat', 'beli', 'jamu', 'tolak', 'angin', 'sido', 'muncul', 'konsumen', 'pasar', 'manyar', 'surabaya', 'teknik', 'pengambilan', 'sampel', 'purposive', 'sampling', 'pengumpulan', 'data', 'wawancara', 'kepustakaan', 'kuesioner', 'skala', 'likert', 'mengukur', 'menguji', 'instrumen', 'uji', 'validitas', 'uji', 'reliabilitas', 'uji', 'asumsi', 'teknik', 'analisis', 'data', 'analisis', 'regresi', 'linier', 'berganda', 'variabel', 'variabel', 'uji', 'f', 'uji', 'hasil', 'penelitian', 'variabel', 'pesan', 'iklan', 'televisi', 'isi', 'pesan', 'struktur', 'pesan', 'format', 'pesan', 'sumber', 'pesan', 'simultan', 'minat', 'beli', 'jamu', 'tolak', 'angin', 'sido', 'muncul', 'konsumen', 'pasar', 'manyar', 'surabaya', 'variabel', 'isi', 'pesan', 'berpengaruh', 'dominan', 'minat', 'beli', 'jamu', 'tolak', 'angin', 'sido', 'muncul', 'konsumen', 'pasar', 'manyar', 'surabaya', 'kuci', 'pesan', 'iklan', 'televisi', 'isi', 'pesan', 'struktur', 'pesan', 'format', 'pesan', 'sumber', 'pesan', 'minat', 'beli'], ['tujuan', 'penlitian', 'variabel', 'iklan', 'berdasarkan', 'konsep', 'aida', 'berpengaruh', 'signifikan', 'keputusan', 'pembelian', 'helm', 'ink', 'kota', 'bangkalan', 'variabel', 'konsep', 'iklan', 'aida', 'manakah', 'berpengaruh', 'dominan', 'keputusan', 'pembelian', 'helm', 'ink', 'kota', 'bangkalan', 'penelitian', 'pendekatan', 'pendekatan', 'kuantitatif', 'berusaha', 'pengaruh', 'iklan', 'keputusan', 'pembelian', 'konsumen', 'helm', 'ink', 'bangkalan', 'teknik', 'pengambilan', 'sampel', 'purposive', 'sampling', 'responden', 'teknik', 'pengumpulan', 'data', 'kuesioner', 'kepustakaan', 'skala', 'likert', 'mengukur', 'responden', 'menguji', 'instrumen', 'uji', 'validitas', 'uji', 'reliabilitas', 'uji', 'asumsi', 'klasik', 'teknik', 'analisis', 'data', 'analisis', 'regresi', 'linier', 'berganda', 'variabel', 'variabel', 'uji', 'f', 'uji', 'hasil', 'penelitian', 'variabel', 'iklan', 'attention', 'interest', 'desire', 'action', 'berpengaruh', 'simultan', 'keputusan', 'pembelian', 'konsumen', 'helm', 'ink', 'bangkalan', 'variabel', 'attention', 'berpengaruh', 'dominan', 'keputusan', 'pembelian', 'konsumen', 'helm', 'ink', 'bangkalan', 'kunci', 'iklan', 'attention', 'interest', 'desire', 'action', 'keputusan', 'pembelian', 'konsumen'], ['abstrak', 'tujuan', 'penelitian', 'pengaruh', 'variabel', 'kualitas', 'pelayanan', 'profesionalisme', 'keterampilan', 'sikap', 'perilaku', 'aksesibilitas', 'fleksibilitas', 'reliabilitas', 'kepercayaan', 'reputasi', 'kredibilitas', 'service', 'recovery', 'serviscape', 'kepuasan', 'pasien', 'y', 'rumah', 'sakit', 'terpadu', 'surabaya', 'variabel', 'kualitas', 'pelayanan', 'berpengaruh', 'kepuasan', 'pasien', 'rumah', 'sakit', 'terpadu', 'surabaya', 'berdasarkan', 'hasil', 'penelitian', 'nilai', 'r', 'square', 'besarnya', 'pengaruh', 'variabel', 'bebas', 'variabel', 'terikat', 'sisanya', 'dipengaruhi', 'variabel', 'diteliti', 'penelitian', 'berdasarkan', 'uji', 'f', 'variabel', 'variabel', 'kualitas', 'pelayanan', 'profesionalisme', 'keterampilan', 'sikap', 'perilaku', 'aksesibilitas', 'fleksibilitas', 'reliabilitas', 'kepercayaan', 'reputasi', 'kredibilitas', 'service', 'recovery', 'servisecape', 'simultan', 'berpengaruh', 'signifikan', 'kepuasan', 'pasien', 'y', 'rumah', 'sakit', 'terpadu', 'surabaya', 'berdasarkan', 'uji', 't', 'parsial', 'variabel', 'profesionalisme', 'keterampilan', 'sikap', 'perilaku', 'aksesibilitas', 'fleksibilitas', 'reliabilitas', 'kepercayaan', 'reputasi', 'kredibilitas', 'servisecape', 'berpengaruh', 'signifikan', 'variabel', 'terikat', 'variabel', 'service', 'recovery', 'berpengaruh', 'signifikan', 'kepuasan', 'pasien', 'y', 'rumah', 'sakit', 'terpadu', 'surabaya', 'variabel', 'berpengaruh', 'variabel', 'service', 'recovery', 'kunci', 'kualitas', 'pelayanan', 'kepuasan', 'pasien'], ['abstrak', 'tujuan', 'penelitian', 'harga', 'kualitas', 'produk', 'berpengaruh', 'simultan', 'keputusan', 'pembelian', 'deterjen', 'rinso', 'anti', 'noda', 'harga', 'kualitas', 'produk', 'berpengaruh', 'parsial', 'keputusan', 'pembelian', 'deterjen', 'rinso', 'anti', 'noda', 'variabel', 'berpengaruh', 'dominan', 'keputusan', 'pembelian', 'deterjen', 'rinso', 'anti', 'noda', 'berdasarkan', 'hasil', 'penelitian', 'nilai', 'adjusted', 'r', 'square', 'besarnya', 'pengaruh', 'variabel', 'bebas', 'variabel', 'terikat', 'sisanya', 'dipengaruhi', 'variabel', 'diteliti', 'penelitian', 'berdasarkan', 'uji', 'f', 'harga', 'kualitas', 'produk', 'simultan', 'berpengaruh', 'signifikan', 'keputusan', 'pembelian', 'deterjen', 'rinso', 'anti', 'noda', 'studi', 'mahasiswa', 'universitas', 'trunojoyo', 'madura', 'berdomisili', 'desa', 'telang', 'bangkalan', 'berdasarkan', 'uji', 't', 'parsial', 'variabel', 'harga', 'kualitas', 'produk', 'berpengaruh', 'signifikan', 'variabel', 'terikat', 'variabel', 'berpengaruh', 'dominan', 'variabel', 'harga', 'kunci', 'harga', 'kualitas', 'produk', 'keputusan', 'pembelian'], ['abstrak', 'tujuan', 'penelitian', 'menganalisis', 'atribut', 'kualitas', 'pelayanan', 'berdasarkan', 'tingkat', 'kepentingan', 'tingkat', 'kinerja', 'pengguna', 'sepeda', 'motor', 'jembatan', 'suramadu', 'kepuasan', 'pengguna', 'sepeda', 'motor', 'kualitas', 'pelayanan', 'jembatan', 'suramadu', 'berdasarkan', 'hasil', 'penelitian', 'diagram', 'kartesius', 'importance', 'performance', 'enam', 'atribut', 'fokus', 'utama', 'ketidak', 'puasan', 'responden', 'lampu', 'penerangan', 'jembatan', 'suramadu', 'terpasang', 'menyala', 'malam', 'petugas', 'jasa', 'marga', 'berpenampilan', 'rapi', 'kondisi', 'jalan', 'jembatan', 'suramadu', 'mulus', 'berlubang', 'petugas', 'tiket', 'teliti', 'uang', 'kembalian', 'pt', 'jasa', 'marga', 'jaminan', 'asuransi', 'kecelakaan', 'pengguna', 'sepeda', 'motor', 'jembatan', 'suramadu', 'petugas', 'patroli', 'memperhatikan', 'kepentingan', 'pengguna', 'sepeda', 'motor', 'mogok', 'ban', 'bocor', 'dll', 'kunci', 'kualitas', 'pelayanan', 'kepuasan', 'importance', 'performance'], ['abstrak', 'tujuan', 'penelitian', 'variabel', 'harga', 'kualitas', 'produk', 'berpengaruh', 'simultan', 'keputusan', 'pembelian', 'martabak', 'hawaii', 'bangkalan', 'harga', 'kualitas', 'produk', 'berpengaruh', 'parsial', 'keputusan', 'pembelian', 'martabak', 'hawaii', 'bangkalan', 'variabel', 'harga', 'kualitas', 'produk', 'pengaruh', 'dominan', 'keputusan', 'pembelian', 'martabak', 'hawaii', 'bangkalan', 'pendekatan', 'penelitian', 'penelitian', 'kuantitatif', 'penelitian', 'berlandaskan', 'filsafat', 'positivisme', 'bertujuan', 'menguji', 'hipotesis', 'ditetapkan', 'sampel', 'penelitian', 'konsumen', 'pembelian', 'martabak', 'hawaii', 'bangkalan', 'konsumen', 'metode', 'pengambilan', 'sampel', 'accidental', 'sampling', 'pengujian', 'instrumen', 'uji', 'validitas', 'reliabilitas', 'uji', 'asumsi', 'klasik', 'teknik', 'analisis', 'data', 'menguji', 'hipotesis', 'regresi', 'linier', 'berganda', 'memakai', 'uji', 'f', 'uji', 'berdasarkan', 'hasil', 'penelitian', 'nilai', 'adjusted', 'r', 'square', 'besarnya', 'pengaruh', 'variabel', 'bebas', 'variabel', 'terikat', 'sisanya', 'dipengaruhi', 'variabel', 'diteliti', 'penelitian', 'berdasarkan', 'uji', 'f', 'variabel', 'harga', 'kualitas', 'produk', 'simultan', 'berpengaruh', 'signifikan', 'keputusan', 'pembelian', 'martabak', 'hawaii', 'bangkalan', 'berdasarkan', 'uji', 't', 'parsial', 'variabel', 'harga', 'kualitas', 'produk', 'berpengaruh', 'signifikan', 'variabel', 'terikat', 'variabel', 'berpengaruh', 'variabel', 'kualitas', 'produk', 'kunci', 'harga', 'kualitas', 'produk', 'keputusan', 'pembelian'], ['ulfiyatun', 'mutohharoh', 'analisis', 'menentukan', 'preferensi', 'belanja', 'online', 'produk', 'fashion', 'studi', 'mahasiwa', 'fakultas', 'ekonomi', 'trunojoyo', 'journal', 'of', 'economics', 'program', 'studi', 'manajemen', 'fakultas', 'ekonomi', 'universitas', 'trunojoyo', 'madura', 'universitas', 'trunojoyo', 'madura', 'dibawah', 'bimbingan', 'drs', 'mohamad', 'tambrin', 'mm', 'yustina', 'crismardani', 'mm', 'internet', 'sistem', 'informasi', 'global', 'berbasis', 'komputer', 'internet', 'menggeser', 'budaya', 'pembelian', 'produk', 'konvensional', 'praktis', 'modern', 'berbelanja', 'online', 'dirilis', 'mahasiswa', 'pembelian', 'produk', 'online', 'produk', 'dibeli', 'mahasiswa', 'produk', 'fashion', 'penelitian', 'tujuan', 'menganalisis', 'menentukan', 'preferensi', 'belanja', 'online', 'produk', 'fashion', 'mahasiswa', 'fakultas', 'ekonomi', 'universitas', 'trunojoyo', 'madura', 'faktor', 'dipertimbangkan', 'menetukan', 'preferensi', 'belanja', 'online', 'produk', 'fashion', 'mahasiswa', 'fakultas', 'ekonomi', 'universitas', 'trunojoyo', 'madura', 'penelitian', 'variabel', 'bebas', 'variabel', 'terikat', 'variabel', 'berketergantungan', 'interdependent', 'variable', 'jenis', 'penelitian', 'penelitian', 'deskriptif', 'metode', 'penelitian', 'sampel', 'accidental', 'sampling', 'populasi', 'responden', 'mahasiswa', 'fakultas', 'ekonomi', 'universitas', 'trunojoyo', 'madura', 'berbelanja', 'produk', 'fashion', 'online', 'metode', 'analisis', 'analisis', 'faktor', 'hasil', 'penelitian', 'hasil', 'statistic', 'analisis', 'faktor', 'konfirmatori', 'didapatkan', 'nilai', 'kmo', 'item', 'variabel', 'preferensi', 'belanja', 'online', 'menghasilkan', 'nilai', 'rendah', 'klasifikasi', 'miserable', 'kmo', 'rendah', 'hasil', 'statistik', 'analisis', 'faktor', 'konfirmatori', 'didapatkan', 'nilai', 'kmo', 'ukuran', 'kecukuperatan', 'hubungan', 'variabel', 'analisis', 'faktor', 'data', 'uji', 'analisis', 'faktor', 'layak', 'kesimpulan', 'penelitian', 'harga', 'pelayanan', 'alternatif', 'faktor', 'menentukan', 'preferensi', 'belanja', 'online', 'produk', 'fashion', 'mahasiswa', 'fakultas', 'ekonomi', 'universitas', 'trunojoyo', 'madura', 'berdasarkan', 'hasil', 'pengujian', 'faktor', 'harga', 'faktor', 'dipertimbangkan', 'mahasiswa', 'fakultas', 'ekonomi', 'universitas', 'trunojoyo', 'madura', 'menentukan', 'preferensi', 'belanja', 'online', 'produk', 'fashion'], ['abstrak', 'tujuan', 'penelitian', 'pengaruh', 'ekuitas', 'merek', 'kesadaran', 'merek', 'brand', 'awareness', 'asosiasi', 'merek', 'brand', 'assocations', 'kesan', 'kualitas', 'perceived', 'quality', 'loyalitas', 'merek', 'brand', 'loyalty', 'simultan', 'keputusan', 'pembelian', 'variabel', 'ekuitas', 'merek', 'variabel', 'manakah', 'dominan', 'pengaruh', 'keputusan', 'pembelian', 'handphone', 'blackberry', 'penelitian', 'pendekatan', 'kuantitatif', 'berusaha', 'pengaruh', 'ekuitas', 'merek', 'keputusan', 'pembelian', 'handphone', 'blackberry', 'studi', 'mahasiswa', 'universitas', 'trunojoyo', 'madura', 'pengambilan', 'sampel', 'purposive', 'sampling', 'pengumpulan', 'data', 'wawancara', 'kepustakaan', 'kuesioner', 'skala', 'likert', 'mengukur', 'menguji', 'instrumen', 'uji', 'validitas', 'uji', 'reliabilitas', 'uji', 'asumsi', 'teknik', 'analisis', 'data', 'analisis', 'regresi', 'linier', 'berganda', 'variabel', 'variabel', 'uji', 'f', 'uji', 'hasil', 'penelitian', 'variabel', 'ekuitas', 'merek', 'kesadaran', 'merek', 'kesan', 'kualitas', 'asosiasi', 'merek', 'loyalitas', 'merek', 'berpengaruh', 'simultan', 'keputusan', 'pembelian', 'handphone', 'blackberry', 'studi', 'mahasiswa', 'universitas', 'trunojoyo', 'madura', 'loyalitas', 'merek', 'berpengaruh', 'dominan', 'keputusan', 'pembelian'], ['abstrak', 'harga', 'merek', 'salah', 'langkah', 'diperhatikan', 'perusahaan', 'menghasilkan', 'produk', 'merek', 'pemasaran', 'diharapkan', 'perusahaan', 'diterima', 'konsumen', 'bergerak', 'bidang', 'produksi', 'barang', 'jasa', 'swalayan', 'kopontren', 'sidogiri', 'cabang', 'tanah', 'merah', 'salah', 'bisnis', 'eceran', 'bergerak', 'jual', 'beli', 'barang', 'memperhatikan', 'perilaku', 'konsumen', 'mengambil', 'keputusan', 'tujuan', 'penelitian', 'pengaruh', 'harga', 'merek', 'simultan', 'keputusan', 'pembelian', 'konsumen', 'studi', 'swalayan', 'kopontren', 'sidogiri', 'cabang', 'tanah', 'merah', 'variabel', 'berpengaruh', 'keputusan', 'pembelian', 'studi', 'swalayan', 'kopontren', 'sidogiri', 'cabang', 'tanah', 'merah', 'penelitian', 'pendekatan', 'pendekatan', 'kuantitatif', 'berusaha', 'pengaruh', 'harga', 'merek', 'keputusan', 'pembelian', 'studi', 'swalayan', 'kopontren', 'sidogiri', 'cabang', 'tanah', 'merah', 'teknik', 'pengambilan', 'sampel', 'purposive', 'sampling', 'responden', 'teknik', 'pengumpulan', 'data', 'wawancara', 'kepustakaan', 'kuesioner', 'skala', 'likert', 'mengukur', 'responden', 'menguji', 'instrumen', 'uji', 'validitas', 'uji', 'reliabilitas', 'uji', 'asumsi', 'klasik', 'teknik', 'analisis', 'data', 'analisis', 'regresi', 'linier', 'berganda', 'variabel', 'variabel', 'uji', 'f', 'uji', 'hasil', 'penelitian', 'variabel', 'harga', 'merek', 'berpengaruh', 'parsial', 'simultan', 'keputusan', 'pembelian', 'studi', 'swalayan', 'kopontren', 'sidogiri', 'cabang', 'tanah', 'merah', 'variabel', 'merek', 'berpengaruh', 'keputusan', 'pemebelian', 'studi', 'swalayan', 'kopontren', 'sidogiri', 'cabang', 'tanah', 'merah', 'kuci', 'harga', 'merek', 'keputusan', 'pembelian'], ['tujuan', 'penelitian', 'marketing', 'mix', 'produk', 'harga', 'promosi', 'distribusi', 'berpengaruh', 'simultan', 'parsial', 'keputusan', 'pembelian', 'konsumen', 'variabel', 'manakah', 'berpengaruh', 'dominan', 'keputusan', 'konsumen', 'pembelian', 'rokok', 'u', 'mild', 'objek', 'penelitian', 'konsumen', 'rokok', 'u', 'mild', 'socah', 'sampel', 'konsumen', 'teknik', 'analisis', 'data', 'meguji', 'hipotesis', 'regresi', 'linier', 'berganda', 'hasil', 'analisis', 'penelitian', 'simultan', 'uji', 'f', 'marketing', 'mix', 'produk', 'harga', 'promosi', 'distribusi', 'pengaruh', 'signifikan', 'keputusan', 'pembelian', 'rokok', 'u', 'mild', 'socah', 'parsial', 'uji', 't', 'variabel', 'promosi', 'harga', 'promosi', 'distribusi', 'berpengaruh', 'signifikan', 'variabel', 'harga', 'berpengaruh', 'keputusan', 'pembelian', 'disimpulkan', 'meningkatkan', 'keputusan', 'pembelian', 'rokok', 'u', 'mild', 'socah', 'meningkatkan', 'marketing', 'mix', 'segi', 'produk', 'harga', 'promosi', 'distribusi', 'kunci', 'produk', 'harga', 'promosi', 'distribusi', 'keputusan', 'pembelian'], ['menjalani', 'pekerjaan', 'mencampur', 'adukkan', 'permasalahan', 'dirumah', 'rumah', 'tangga', 'membawa', 'permasalahan', 'pekerjaan', 'kedalam', 'keluarga', 'sulit', 'penuh', 'beban', 'berat', 'rumah', 'tangga', 'berdampak', 'pekerjaannya', 'jenis', 'tugas', 'maksimal', 'dilakukannya', 'tugas', 'kota', 'tugas', 'mengikuti', 'pendidikan', 'pelatihan', 'jangka', 'kerja', 'lembur', 'tujuan', 'penelitian', 'pengaruh', 'konflik', 'peran', 'ganda', 'variabel', 'konflik', 'konflik', 'berpengaruh', 'simultan', 'kinerja', 'perawat', 'wanita', 'rs', 'syamrabu', 'bangkalan', 'pengaruh', 'konflik', 'peran', 'ganda', 'konflik', 'konflik', 'berpengaruh', 'parsial', 'kinerja', 'perawat', 'wanita', 'rs', 'syamrabu', 'bangkalan', 'sampel', 'penelitian', 'perawat', 'wanita', 'rs', 'syamrabu', 'bangkalan', 'orang', 'metode', 'pengambilan', 'sampel', 'purpossive', 'sampling', 'pengujian', 'instrumen', 'uji', 'validitas', 'reliabilitas', 'uji', 'asumsi', 'klasik', 'teknik', 'analisis', 'data', 'menguji', 'hipotesis', 'regresi', 'linier', 'berganda', 'memakai', 'uji', 'f', 'uji', 'berdasarkan', 'hasil', 'penelitian', 'nilai', 'adjusted', 'r', 'square', 'besarnya', 'pengaruh', 'variabel', 'bebas', 'variabel', 'terikat', 'sisanya', 'dipengaruhi', 'variabel', 'diteliti', 'penelitian', 'berdasarkan', 'uji', 'f', 'variabel', 'konflik', 'konflik', 'simultan', 'berpengaruh', 'signifikan', 'kinerjanya', 'rs', 'syamrabu', 'bangkalan', 'berdasarkan', 'uji', 't', 'parsial', 'variabel', 'konflik', 'berpengaruh', 'signifikan', 'positif', 'variabel', 'konflik', 'berpengaruh', 'signifikan', 'negatif', 'variabel', 'terikat', 'kunci', 'konflik', 'peran', 'ganda', 'konflik', 'konflik', 'kinerja'], ['tujuan', 'penelitian', 'pengaruh', 'variabel', 'persepsi', 'nilai', 'kualitas', 'produk', 'kualitas', 'pelayanan', 'harga', 'faktor', 'emosional', 'kemudahan', 'kepuasan', 'pelanggan', 'simultan', 'parsial', 'variebel', 'manakah', 'memilik', 'pengaruh', 'terbesar', 'kepuasan', 'pelanggan', 'produk', 'sepeda', 'motor', 'merek', 'yamaha', 'new', 'jupiter', 'z', 'kota', 'bangkalan', 'penelitian', 'pendekatan', 'kuantitatif', 'metode', 'analisis', 'data', 'regresi', 'liniear', 'berganda', 'populasi', 'penelitian', 'pelanggan', 'sepeda', 'motor', 'merek', 'yamaha', 'new', 'jupiter', 'z', 'kota', 'bangkalan', 'teknik', 'pengambilan', 'sampel', 'penelitian', 'metode', 'purposive', 'sampling', 'responden', 'responden', 'metode', 'pengumpulan', 'data', 'menyebarkan', 'kuesioner', 'hasilnya', 'diolah', 'bantuan', 'aplikasi', 'komputer', 'spss', 'for', 'windows', 'hasil', 'penelitian', 'membuktikan', 'uji', 'f', 'simultan', 'variabel', 'persepsi', 'nilai', 'kualitas', 'produk', 'kualitas', 'pelayanan', 'harga', 'faktor', 'emosional', 'kemudahan', 'berpengaruh', 'kepuasan', 'pelanggan', 'sepeda', 'motor', 'merek', 'yamaha', 'new', 'jupiter', 'z', 'kota', 'bangkalan', 'hasil', 'penelitian', 'membuktikan', 'uji', 't', 'parsial', 'variabel', 'persepsi', 'nilai', 'kualitas', 'produk', 'kualitas', 'pelayanan', 'harga', 'faktor', 'emosional', 'kemudahan', 'berpengaruh', 'kepuasan', 'pelanggan', 'sepeda', 'motor', 'merek', 'yamaha', 'new', 'jupiter', 'z', 'kota', 'bangkalan', 'variabel', 'harga', 'memiliki', 'pengaruh', 'terbesar'], ['kusniyah', 'analisis', 'volume', 'perdagangan', 'saham', 'return', 'saham', 'stock', 'split', 'perusahaan', 'go', 'public', 'bursa', 'efek', 'indonesia', 'dibawah', 'bimbingan', 'hj', 'evaliati', 'amaniyah', 'msm', 'prasetyo', 'nugroho', 'mm', 'kenaikan', 'harga', 'saham', 'menyebabkan', 'permintaan', 'pembelian', 'saham', 'mengalami', 'penurunan', 'menyebabkan', 'harga', 'saham', 'perusahaan', 'statis', 'fluktuatif', 'menghindari', 'munculnya', 'kondisi', 'salah', 'langkah', 'diambil', 'perusahaan', 'stock', 'split', 'diharapkan', 'meningkatkan', 'likuiditas', 'saham', 'tujuan', 'penelitian', 'bertujuan', 'memperoleh', 'bukti', 'empiris', 'aktifitas', 'stock', 'split', 'perbedaan', 'volume', 'perdagangan', 'saham', 'memperoleh', 'bukti', 'empiris', 'aktifitas', 'stock', 'split', 'perbedaan', 'return', 'saham', 'pendekatan', 'penelitian', 'penelitian', 'pendekatan', 'kuantitatif', 'populasi', 'penelitian', 'perusahaan', 'go', 'public', 'bursa', 'efek', 'indonesia', 'aktifitas', 'stock', 'split', 'teknik', 'pengambilan', 'sampel', 'metode', 'purposive', 'sampling', 'sampel', 'perusahaan', 'dianalisis', 'uji', 't', 'paired', 'sample', 'kesimpulan', 'penelitian', 'perbedaan', 'volume', 'perdagangan', 'saham', 'stock', 'split', 'perusahaan', 'sampel', 'perbedaan', 'volume', 'perdagangan', 'saham', 'stock', 'split', 'perusahaan', 'sampel', 'perbedaan', 'return', 'saham', 'stock', 'split', 'perusahaan', 'sampel', 'perbedaan', 'return', 'saham', 'stock', 'split', 'perusahaan', 'sampel', 'kunci', 'stock', 'split', 'volume', 'perdagangan', 'saham', 'return', 'saham'], ['abstrak', 'ike', 'miranti', 'pengaruh', 'strategi', 'promosi', 'keputusan', 'pembelian', 'studi', 'pt', 'maan', 'ghodaqo', 'siddiq', 'lestari', 'jombang', 'dibimbing', 'bambang', 'setiyo', 'pambudi', 'mm', 'nirma', 'kurriwati', 'sp', 'msi', 'tujuan', 'penelitian', 'pengaruh', 'strategi', 'promosi', 'periklanan', 'promosi', 'penjualan', 'publisitas', 'penjualan', 'personal', 'berpengaruh', 'keputusan', 'pembelian', 'y', 'pt', 'maan', 'ghodaqo', 'siddiq', 'lestari', 'variabel', 'strategi', 'promosi', 'berpengaruh', 'keputusan', 'pembelian', 'studi', 'pt', 'maan', 'ghodaqo', 'siddiq', 'lestari', 'pendekatan', 'penelitian', 'penelitian', 'kuantitatif', 'penelitian', 'menitikberatkan', 'pengujian', 'hipotesis', 'populasi', 'penelitian', 'konsumen', 'membeli', 'air', 'mineral', 'kemasan', 'metode', 'pengambilan', 'sampel', 'purprosive', 'sampling', 'responden', 'penelitian', 'maret', 'metode', 'pengumpulan', 'data', 'menyebarkan', 'kuesioner', 'menguji', 'instrument', 'uji', 'validitas', 'uji', 'reabilitas', 'uji', 'asumsi', 'klasik', 'teknis', 'analisis', 'data', 'analisis', 'regresi', 'linier', 'berganda', 'memakaiuji', 'f', 'uji', 'teknik', 'pengolahan', 'data', 'penelitian', 'software', 'spss', 'versi', 'skala', 'likert', 'berdasarkan', 'hasil', 'penelitian', 'nilai', 'r', 'square', 'besarnya', 'pengaruh', 'variabel', 'bebas', 'variabel', 'terikat', 'sisanya', 'dipengaruhi', 'variabel', 'diteliti', 'penelitian', 'berdasarkan', 'uji', 'f', 'variabel', 'strategi', 'promosi', 'periklanan', 'promosi', 'penjualan', 'publisitas', 'penjualan', 'personal', 'simultan', 'berpengaruh', 'signifikan', 'keputusan', 'pembelian', 'y', 'air', 'mineral', 'kemasan', 'pt', 'maan', 'ghodaqo', 'siddiq', 'lestari', 'berdasarkan', 'uji', 't', 'parsial', 'variabel', 'periklanan', 'berpengaruh', 'signifikan', 'variabel', 'terikat', 'variabel', 'promosi', 'penjualan', 'publisitas', 'penjualan', 'personal', 'berpengaruh', 'signifikan', 'keputusan', 'pembelian', 'y', 'variabel', 'berpengaruh', 'variabel', 'penjualan', 'personal', 'kunci', 'strategi', 'promosi', 'keputusan', 'pembelian'], ['muzanni', 'peranan', 'manajemen', 'piutang', 'tertahadap', 'rentabilitas', 'koperasi', 'berbasis', 'syariah', 'koperasi', 'berbasis', 'konvensional', 'studi', 'koperasi', 'bmt', 'ugt', 'sidogiri', 'cabang', 'pembantu', 'bangkalan', 'kpri', 'kopergu', 'bangkalan', 'bimbingan', 'hj', 'evaliati', 'amaniyah', 'msm', 'purnamawati', 'lembaga', 'keuangan', 'memperoleh', 'pendapatan', 'pinjaman', 'pendanaan', 'nasabah', 'anggota', 'otomatis', 'piutang', 'modal', 'tertanam', 'piutang', 'potensi', 'keuntungan', 'diperoleh', 'modal', 'tertanam', 'piutang', 'potensi', 'keuntungan', 'didapatkan', 'besarnya', 'piutang', 'penerapan', 'manajemen', 'piutang', 'berpengaruh', 'rentabilitas', 'lembaga', 'tujuan', 'penelitian', 'peranan', 'pengelolaan', 'piutang', 'rentabilitas', 'diterapkan', 'koperasi', 'bmt', 'ugt', 'sidogiri', 'cabang', 'pembantu', 'bangkalan', 'kpri', 'kopergu', 'bangkalan', 'penelitian', 'pendekatan', 'deskriptif', 'alat', 'analisis', 'rasio', 'aktivitas', 'rasio', 'rentabilitas', 'kesimpulan', 'penelitian', 'studi', 'manajemen', 'piutang', 'koperasi', 'bmt', 'ugt', 'sidogiri', 'cabang', 'pembantu', 'bangkalan', 'memiliki', 'kriterian', 'efisien', 'kpri', 'kopergu', 'bangkalan', 'efisien', 'koperasi', 'memiliki', 'tingkat', 'pertumbuhan', 'signifikan', 'koperasi', 'bmt', 'ugt', 'sidogiri', 'cabang', 'pembantu', 'bangkalan', 'memiliki', 'tingkat', 'perputaran', 'piutang', 'periode', 'pengumpulan', 'cepat', 'kpri', 'kopergu', 'bangkalan', 'global', 'rasio', 'rentabilitas', 'ekonomi', 'koperasi', 'bmt', 'ugt', 'sidogiri', 'cabang', 'pembantu', 'bangkalan', 'kategori', 'efisien', 'kpri', 'kopergu', 'bangkalan', 'kategori', 'efisien', 'perkembangan', 'rentabilitas', 'lembaga', 'kategori', 'efisien', 'perkembangan', 'rasio', 'rentabilitas', 'modal', 'dimiliki', 'koperasi', 'bmt', 'ugt', 'sidogiri', 'cabang', 'pembantu', 'bangkalan', 'mengalami', 'perkembangan', 'meningkat', 'kpri', 'kopergu', 'bangkalan', 'mengalami', 'penurunan', 'kunci', 'manajemen', 'piutang', 'rentabilitas'], ['anissa', 'novianti', 'pengaruh', 'atribut', 'produk', 'keputusan', 'pembelian', 'minyak', 'goreng', 'sania', 'studi', 'perumahan', 'graha', 'kamal', 'permai', 'kecamatan', 'kamal', 'dibawah', 'bimbingan', 'nurita', 'andriani', 'ir', 'hadi', 'purnomo', 'mm', 'tujuan', 'penelitian', 'pengaruh', 'atribut', 'produk', 'merek', 'kemasan', 'label', 'simultan', 'keputusan', 'pembelian', 'minyak', 'goreng', 'sania', 'studi', 'perumahan', 'graha', 'kamal', 'permai', 'kecamatan', 'kamal', 'pengaruh', 'atribut', 'produk', 'merek', 'kemasan', 'label', 'parsial', 'keputusan', 'pembelian', 'minyak', 'goreng', 'sania', 'studi', 'perumahan', 'graha', 'kamal', 'permai', 'kecamatan', 'kamal', 'variabel', 'atribut', 'produk', 'berpengaruh', 'dominan', 'keputusan', 'pembelian', 'studi', 'perumahan', 'graha', 'kamal', 'permai', 'kecamatan', 'kamal', 'penelitian', 'pendekatan', 'kuantitatif', 'berusaha', 'pengaruh', 'atribut', 'produk', 'keputusan', 'pembelian', 'minyak', 'goreng', 'sania', 'studi', 'perumahan', 'graha', 'kamal', 'permai', 'kecamatan', 'kamal', 'teknik', 'pengambilan', 'sampel', 'simple', 'random', 'sampling', 'responden', 'teknik', 'pengumpulan', 'data', 'wawancara', 'kepustakaan', 'kuesioner', 'skala', 'likert', 'mengukur', 'responden', 'menguji', 'instrumen', 'uji', 'validitas', 'uji', 'reliabilitas', 'uji', 'asumsi', 'klasik', 'teknik', 'analisis', 'data', 'analisis', 'regresi', 'linier', 'berganda', 'variabel', 'variabel', 'uji', 'f', 'uji', 'hasil', 'penelitian', 'variabel', 'atribut', 'produk', 'merek', 'kemasan', 'label', 'berpengaruh', 'simultan', 'parsial', 'keputusan', 'pembelian', 'studi', 'perumahan', 'graha', 'kamal', 'permai', 'kecamatan', 'kamal', 'variabel', 'atribut', 'produk', 'berpengaruh', 'parsial', 'keputusan', 'pembelian', 'minyak', 'goreng', 'sania', 'studi', 'perumahan', 'graha', 'kamal', 'permai', 'kecamatan', 'kamal', 'variabel', 'berpengaruh', 'dominan', 'variabel', 'merek', 'kunci', 'atribut', 'produk', 'keputusan', 'pembelian']]\n"
     ]
    }
   ],
   "source": [
    "index_iloc = 0\n",
    "len_df = len(df.index)\n",
    "array_stopwords = []\n",
    "for kata in range(len_df):\n",
    "    # indexData itu ambil tiap bagian dari data frame dengan nama dataCSV\n",
    "    indexData = df.iloc[index_iloc, [1]].values\n",
    "    clean_words = [w for w in word_tokenize(indexData[0].lower())\n",
    "                                    if w.isalpha()\n",
    "                                    and w not in stopwords.words('indonesian')]\n",
    "    \n",
    "    array_stopwords.append(clean_words)\n",
    "    index_iloc += 1\n",
    "\n",
    "    # FreqDist(clean_words).most_common(20)\n",
    "print(array_stopwords)"
   ]
  },
  {
   "cell_type": "markdown",
   "metadata": {},
   "source": [
    "> diatas ini merupakan pemrosesan stopword (kotor) dari dataset"
   ]
  },
  {
   "cell_type": "markdown",
   "metadata": {},
   "source": [
    "## Proses Stemming Data"
   ]
  },
  {
   "cell_type": "code",
   "execution_count": 10,
   "metadata": {},
   "outputs": [
    {
     "ename": "KeyboardInterrupt",
     "evalue": "",
     "output_type": "error",
     "traceback": [
      "\u001b[1;31m---------------------------------------------------------------------------\u001b[0m",
      "\u001b[1;31mKeyboardInterrupt\u001b[0m                         Traceback (most recent call last)",
      "Input \u001b[1;32mIn [10]\u001b[0m, in \u001b[0;36m<cell line: 5>\u001b[1;34m()\u001b[0m\n\u001b[0;32m      8\u001b[0m \u001b[38;5;28;01mfor\u001b[39;00m i \u001b[38;5;129;01min\u001b[39;00m j:\n\u001b[0;32m      9\u001b[0m     \u001b[38;5;66;03m# print(i)\u001b[39;00m\n\u001b[0;32m     10\u001b[0m     temp \u001b[38;5;241m=\u001b[39m temp \u001b[38;5;241m+\u001b[39m\u001b[38;5;124m\"\u001b[39m\u001b[38;5;124m \u001b[39m\u001b[38;5;124m\"\u001b[39m\u001b[38;5;241m+\u001b[39m i\n\u001b[1;32m---> 12\u001b[0m hasil \u001b[38;5;241m=\u001b[39m \u001b[43mstemmer\u001b[49m\u001b[38;5;241;43m.\u001b[39;49m\u001b[43mstem\u001b[49m\u001b[43m(\u001b[49m\u001b[43mtemp\u001b[49m\u001b[43m)\u001b[49m\n\u001b[0;32m     13\u001b[0m array_stemming\u001b[38;5;241m.\u001b[39mappend(hasil)\n",
      "File \u001b[1;32m~\\AppData\\Local\\Programs\\Python\\Python310\\lib\\site-packages\\Sastrawi\\Stemmer\\CachedStemmer.py:20\u001b[0m, in \u001b[0;36mCachedStemmer.stem\u001b[1;34m(self, text)\u001b[0m\n\u001b[0;32m     18\u001b[0m     stems\u001b[38;5;241m.\u001b[39mappend(\u001b[38;5;28mself\u001b[39m\u001b[38;5;241m.\u001b[39mcache\u001b[38;5;241m.\u001b[39mget(word))\n\u001b[0;32m     19\u001b[0m \u001b[38;5;28;01melse\u001b[39;00m:\n\u001b[1;32m---> 20\u001b[0m     stem \u001b[38;5;241m=\u001b[39m \u001b[38;5;28;43mself\u001b[39;49m\u001b[38;5;241;43m.\u001b[39;49m\u001b[43mdelegatedStemmer\u001b[49m\u001b[38;5;241;43m.\u001b[39;49m\u001b[43mstem\u001b[49m\u001b[43m(\u001b[49m\u001b[43mword\u001b[49m\u001b[43m)\u001b[49m\n\u001b[0;32m     21\u001b[0m     \u001b[38;5;28mself\u001b[39m\u001b[38;5;241m.\u001b[39mcache\u001b[38;5;241m.\u001b[39mset(word, stem)\n\u001b[0;32m     22\u001b[0m     stems\u001b[38;5;241m.\u001b[39mappend(stem)\n",
      "File \u001b[1;32m~\\AppData\\Local\\Programs\\Python\\Python310\\lib\\site-packages\\Sastrawi\\Stemmer\\Stemmer.py:27\u001b[0m, in \u001b[0;36mStemmer.stem\u001b[1;34m(self, text)\u001b[0m\n\u001b[0;32m     24\u001b[0m stems \u001b[38;5;241m=\u001b[39m []\n\u001b[0;32m     26\u001b[0m \u001b[38;5;28;01mfor\u001b[39;00m word \u001b[38;5;129;01min\u001b[39;00m words:\n\u001b[1;32m---> 27\u001b[0m     stems\u001b[38;5;241m.\u001b[39mappend(\u001b[38;5;28;43mself\u001b[39;49m\u001b[38;5;241;43m.\u001b[39;49m\u001b[43mstem_word\u001b[49m\u001b[43m(\u001b[49m\u001b[43mword\u001b[49m\u001b[43m)\u001b[49m)\n\u001b[0;32m     29\u001b[0m \u001b[38;5;28;01mreturn\u001b[39;00m \u001b[38;5;124m'\u001b[39m\u001b[38;5;124m \u001b[39m\u001b[38;5;124m'\u001b[39m\u001b[38;5;241m.\u001b[39mjoin(stems)\n",
      "File \u001b[1;32m~\\AppData\\Local\\Programs\\Python\\Python310\\lib\\site-packages\\Sastrawi\\Stemmer\\Stemmer.py:36\u001b[0m, in \u001b[0;36mStemmer.stem_word\u001b[1;34m(self, word)\u001b[0m\n\u001b[0;32m     34\u001b[0m     \u001b[38;5;28;01mreturn\u001b[39;00m \u001b[38;5;28mself\u001b[39m\u001b[38;5;241m.\u001b[39mstem_plural_word(word)\n\u001b[0;32m     35\u001b[0m \u001b[38;5;28;01melse\u001b[39;00m:\n\u001b[1;32m---> 36\u001b[0m     \u001b[38;5;28;01mreturn\u001b[39;00m \u001b[38;5;28;43mself\u001b[39;49m\u001b[38;5;241;43m.\u001b[39;49m\u001b[43mstem_singular_word\u001b[49m\u001b[43m(\u001b[49m\u001b[43mword\u001b[49m\u001b[43m)\u001b[49m\n",
      "File \u001b[1;32m~\\AppData\\Local\\Programs\\Python\\Python310\\lib\\site-packages\\Sastrawi\\Stemmer\\Stemmer.py:84\u001b[0m, in \u001b[0;36mStemmer.stem_singular_word\u001b[1;34m(self, word)\u001b[0m\n\u001b[0;32m     82\u001b[0m \u001b[38;5;124;03m\"\"\"Stem a singular word to its common stem form.\"\"\"\u001b[39;00m\n\u001b[0;32m     83\u001b[0m context \u001b[38;5;241m=\u001b[39m Context(word, \u001b[38;5;28mself\u001b[39m\u001b[38;5;241m.\u001b[39mdictionary, \u001b[38;5;28mself\u001b[39m\u001b[38;5;241m.\u001b[39mvisitor_provider)\n\u001b[1;32m---> 84\u001b[0m \u001b[43mcontext\u001b[49m\u001b[38;5;241;43m.\u001b[39;49m\u001b[43mexecute\u001b[49m\u001b[43m(\u001b[49m\u001b[43m)\u001b[49m\n\u001b[0;32m     86\u001b[0m \u001b[38;5;28;01mreturn\u001b[39;00m context\u001b[38;5;241m.\u001b[39mresult\n",
      "File \u001b[1;32m~\\AppData\\Local\\Programs\\Python\\Python310\\lib\\site-packages\\Sastrawi\\Stemmer\\Context\\Context.py:37\u001b[0m, in \u001b[0;36mContext.execute\u001b[1;34m(self)\u001b[0m\n\u001b[0;32m     34\u001b[0m \u001b[38;5;124;03m\"\"\"Execute stemming process; the result can be retrieved with result\"\"\"\u001b[39;00m\n\u001b[0;32m     36\u001b[0m \u001b[38;5;66;03m#step 1 - 5\u001b[39;00m\n\u001b[1;32m---> 37\u001b[0m \u001b[38;5;28;43mself\u001b[39;49m\u001b[38;5;241;43m.\u001b[39;49m\u001b[43mstart_stemming_process\u001b[49m\u001b[43m(\u001b[49m\u001b[43m)\u001b[49m\n\u001b[0;32m     39\u001b[0m \u001b[38;5;66;03m#step 6\u001b[39;00m\n\u001b[0;32m     40\u001b[0m \u001b[38;5;28;01mif\u001b[39;00m \u001b[38;5;28mself\u001b[39m\u001b[38;5;241m.\u001b[39mdictionary\u001b[38;5;241m.\u001b[39mcontains(\u001b[38;5;28mself\u001b[39m\u001b[38;5;241m.\u001b[39mcurrent_word):\n",
      "File \u001b[1;32m~\\AppData\\Local\\Programs\\Python\\Python310\\lib\\site-packages\\Sastrawi\\Stemmer\\Context\\Context.py:80\u001b[0m, in \u001b[0;36mContext.start_stemming_process\u001b[1;34m(self)\u001b[0m\n\u001b[0;32m     77\u001b[0m     \u001b[38;5;28;01mreturn\u001b[39;00m\n\u001b[0;32m     79\u001b[0m \u001b[38;5;66;03m#step 4, 5\u001b[39;00m\n\u001b[1;32m---> 80\u001b[0m \u001b[38;5;28;43mself\u001b[39;49m\u001b[38;5;241;43m.\u001b[39;49m\u001b[43mremove_prefixes\u001b[49m\u001b[43m(\u001b[49m\u001b[43m)\u001b[49m\n\u001b[0;32m     81\u001b[0m \u001b[38;5;28;01mif\u001b[39;00m \u001b[38;5;28mself\u001b[39m\u001b[38;5;241m.\u001b[39mdictionary\u001b[38;5;241m.\u001b[39mcontains(\u001b[38;5;28mself\u001b[39m\u001b[38;5;241m.\u001b[39mcurrent_word):\n\u001b[0;32m     82\u001b[0m     \u001b[38;5;28;01mreturn\u001b[39;00m\n",
      "File \u001b[1;32m~\\AppData\\Local\\Programs\\Python\\Python310\\lib\\site-packages\\Sastrawi\\Stemmer\\Context\\Context.py:89\u001b[0m, in \u001b[0;36mContext.remove_prefixes\u001b[1;34m(self)\u001b[0m\n\u001b[0;32m     87\u001b[0m \u001b[38;5;28;01mdef\u001b[39;00m \u001b[38;5;21mremove_prefixes\u001b[39m(\u001b[38;5;28mself\u001b[39m):\n\u001b[0;32m     88\u001b[0m     \u001b[38;5;28;01mfor\u001b[39;00m i \u001b[38;5;129;01min\u001b[39;00m \u001b[38;5;28mrange\u001b[39m(\u001b[38;5;241m3\u001b[39m):\n\u001b[1;32m---> 89\u001b[0m         \u001b[38;5;28;43mself\u001b[39;49m\u001b[38;5;241;43m.\u001b[39;49m\u001b[43maccept_prefix_visitors\u001b[49m\u001b[43m(\u001b[49m\u001b[38;5;28;43mself\u001b[39;49m\u001b[38;5;241;43m.\u001b[39;49m\u001b[43mprefix_pisitors\u001b[49m\u001b[43m)\u001b[49m\n\u001b[0;32m     90\u001b[0m         \u001b[38;5;28;01mif\u001b[39;00m \u001b[38;5;28mself\u001b[39m\u001b[38;5;241m.\u001b[39mdictionary\u001b[38;5;241m.\u001b[39mcontains(\u001b[38;5;28mself\u001b[39m\u001b[38;5;241m.\u001b[39mcurrent_word):\n\u001b[0;32m     91\u001b[0m             \u001b[38;5;28;01mreturn\u001b[39;00m\n",
      "File \u001b[1;32m~\\AppData\\Local\\Programs\\Python\\Python310\\lib\\site-packages\\Sastrawi\\Stemmer\\Context\\Context.py:110\u001b[0m, in \u001b[0;36mContext.accept_prefix_visitors\u001b[1;34m(self, visitors)\u001b[0m\n\u001b[0;32m    108\u001b[0m removalCount \u001b[38;5;241m=\u001b[39m \u001b[38;5;28mlen\u001b[39m(\u001b[38;5;28mself\u001b[39m\u001b[38;5;241m.\u001b[39mremovals)\n\u001b[0;32m    109\u001b[0m \u001b[38;5;28;01mfor\u001b[39;00m visitor \u001b[38;5;129;01min\u001b[39;00m visitors:\n\u001b[1;32m--> 110\u001b[0m     \u001b[38;5;28;43mself\u001b[39;49m\u001b[38;5;241;43m.\u001b[39;49m\u001b[43maccept\u001b[49m\u001b[43m(\u001b[49m\u001b[43mvisitor\u001b[49m\u001b[43m)\u001b[49m\n\u001b[0;32m    111\u001b[0m     \u001b[38;5;28;01mif\u001b[39;00m \u001b[38;5;28mself\u001b[39m\u001b[38;5;241m.\u001b[39mdictionary\u001b[38;5;241m.\u001b[39mcontains(\u001b[38;5;28mself\u001b[39m\u001b[38;5;241m.\u001b[39mcurrent_word):\n\u001b[0;32m    112\u001b[0m         \u001b[38;5;28;01mreturn\u001b[39;00m \u001b[38;5;28mself\u001b[39m\u001b[38;5;241m.\u001b[39mcurrent_word\n",
      "File \u001b[1;32m~\\AppData\\Local\\Programs\\Python\\Python310\\lib\\site-packages\\Sastrawi\\Stemmer\\Context\\Context.py:97\u001b[0m, in \u001b[0;36mContext.accept\u001b[1;34m(self, visitor)\u001b[0m\n\u001b[0;32m     96\u001b[0m \u001b[38;5;28;01mdef\u001b[39;00m \u001b[38;5;21maccept\u001b[39m(\u001b[38;5;28mself\u001b[39m, visitor):\n\u001b[1;32m---> 97\u001b[0m     \u001b[43mvisitor\u001b[49m\u001b[38;5;241;43m.\u001b[39;49m\u001b[43mvisit\u001b[49m\u001b[43m(\u001b[49m\u001b[38;5;28;43mself\u001b[39;49m\u001b[43m)\u001b[49m\n",
      "File \u001b[1;32m~\\AppData\\Local\\Programs\\Python\\Python310\\lib\\site-packages\\Sastrawi\\Stemmer\\Context\\Visitor\\AbstractDisambiguatePrefixRule.py:15\u001b[0m, in \u001b[0;36mAbstractDisambiguatePrefixRule.visit\u001b[1;34m(self, context)\u001b[0m\n\u001b[0;32m     13\u001b[0m \u001b[38;5;28;01mfor\u001b[39;00m disambiguator \u001b[38;5;129;01min\u001b[39;00m \u001b[38;5;28mself\u001b[39m\u001b[38;5;241m.\u001b[39mdisambiguators:\n\u001b[0;32m     14\u001b[0m     result \u001b[38;5;241m=\u001b[39m disambiguator\u001b[38;5;241m.\u001b[39mdisambiguate(context\u001b[38;5;241m.\u001b[39mcurrent_word)\n\u001b[1;32m---> 15\u001b[0m     \u001b[38;5;28;01mif\u001b[39;00m context\u001b[38;5;241m.\u001b[39mdictionary\u001b[38;5;241m.\u001b[39mcontains(result):\n\u001b[0;32m     16\u001b[0m         \u001b[38;5;28;01mbreak\u001b[39;00m\n\u001b[0;32m     18\u001b[0m \u001b[38;5;28;01mif\u001b[39;00m \u001b[38;5;129;01mnot\u001b[39;00m result:\n",
      "\u001b[1;31mKeyboardInterrupt\u001b[0m: "
     ]
    }
   ],
   "source": [
    "factory = StemmerFactory()\n",
    "stemmer = factory.create_stemmer()\n",
    "\n",
    "array_stemming = [] \n",
    "for j in array_stopwords:\n",
    "    # proses stem per kalimat\n",
    "    temp = \"\"\n",
    "    for i in j:\n",
    "        # print(i)\n",
    "        temp = temp +\" \"+ i\n",
    "\n",
    "    hasil = stemmer.stem(temp)\n",
    "    array_stemming.append(hasil)"
   ]
  },
  {
   "cell_type": "code",
   "execution_count": 46,
   "metadata": {},
   "outputs": [
    {
     "data": {
      "text/html": [
       "<div>\n",
       "<style scoped>\n",
       "    .dataframe tbody tr th:only-of-type {\n",
       "        vertical-align: middle;\n",
       "    }\n",
       "\n",
       "    .dataframe tbody tr th {\n",
       "        vertical-align: top;\n",
       "    }\n",
       "\n",
       "    .dataframe thead th {\n",
       "        text-align: right;\n",
       "    }\n",
       "</style>\n",
       "<table border=\"1\" class=\"dataframe\">\n",
       "  <thead>\n",
       "    <tr style=\"text-align: right;\">\n",
       "      <th></th>\n",
       "      <th>Judul</th>\n",
       "      <th>Abstrak_indo</th>\n",
       "      <th>stem_kata</th>\n",
       "    </tr>\n",
       "  </thead>\n",
       "  <tbody>\n",
       "    <tr>\n",
       "      <th>0</th>\n",
       "      <td>PENGARUH ETOS KERJA TERHADAP RESTASI KERJA KAR...</td>\n",
       "      <td>Abtrak\\t\\r\\nUSWATUN KHASANAH, “Pengaruh Etos K...</td>\n",
       "      <td>abtrak uswatun khasanah pengaruh etos kerja pr...</td>\n",
       "    </tr>\n",
       "    <tr>\n",
       "      <th>1</th>\n",
       "      <td>Pengaruh Budaya Terhadap Perilaku Pengemis Ana...</td>\n",
       "      <td>Munculnya asumsi bahwa lahirnya budaya mengemi...</td>\n",
       "      <td>muncul asumsi lahir budaya emis sebab budaya p...</td>\n",
       "    </tr>\n",
       "    <tr>\n",
       "      <th>2</th>\n",
       "      <td>Pengembangan Sumber Daya Manusia Dalam Rangka ...</td>\n",
       "      <td>ABSTRAK\\r\\nPenelitian ini bertujuan untuk mene...</td>\n",
       "      <td>abstrak teliti tuju teliti didik latih pengaru...</td>\n",
       "    </tr>\n",
       "    <tr>\n",
       "      <th>3</th>\n",
       "      <td>Pengaruh Bauran Pemasaran Terhadap Keputusan P...</td>\n",
       "      <td>Objek penelitian ini adalah pembelian produk X...</td>\n",
       "      <td>objek teliti beli produk xl camat bangkal samp...</td>\n",
       "    </tr>\n",
       "    <tr>\n",
       "      <th>4</th>\n",
       "      <td>Pengaruh Kompensasi Terhadap Kinerja Karywan p...</td>\n",
       "      <td>ABSTRAK \\r\\n\\r\\n\\tTujuan penelitian ini adalah...</td>\n",
       "      <td>abstrak tuju teliti variabel kompensasi finans...</td>\n",
       "    </tr>\n",
       "  </tbody>\n",
       "</table>\n",
       "</div>"
      ],
      "text/plain": [
       "                                               Judul  \\\n",
       "0  PENGARUH ETOS KERJA TERHADAP RESTASI KERJA KAR...   \n",
       "1  Pengaruh Budaya Terhadap Perilaku Pengemis Ana...   \n",
       "2  Pengembangan Sumber Daya Manusia Dalam Rangka ...   \n",
       "3  Pengaruh Bauran Pemasaran Terhadap Keputusan P...   \n",
       "4  Pengaruh Kompensasi Terhadap Kinerja Karywan p...   \n",
       "\n",
       "                                        Abstrak_indo  \\\n",
       "0  Abtrak\\t\\r\\nUSWATUN KHASANAH, “Pengaruh Etos K...   \n",
       "1  Munculnya asumsi bahwa lahirnya budaya mengemi...   \n",
       "2  ABSTRAK\\r\\nPenelitian ini bertujuan untuk mene...   \n",
       "3  Objek penelitian ini adalah pembelian produk X...   \n",
       "4  ABSTRAK \\r\\n\\r\\n\\tTujuan penelitian ini adalah...   \n",
       "\n",
       "                                           stem_kata  \n",
       "0  abtrak uswatun khasanah pengaruh etos kerja pr...  \n",
       "1  muncul asumsi lahir budaya emis sebab budaya p...  \n",
       "2  abstrak teliti tuju teliti didik latih pengaru...  \n",
       "3  objek teliti beli produk xl camat bangkal samp...  \n",
       "4  abstrak tuju teliti variabel kompensasi finans...  "
      ]
     },
     "execution_count": 46,
     "metadata": {},
     "output_type": "execute_result"
    }
   ],
   "source": [
    "df['stem_kata'] = np.array(array_stemming)\n",
    "df.head()"
   ]
  },
  {
   "cell_type": "markdown",
   "metadata": {},
   "source": [
    ">Hasil pemrosesan stemming terhadap dataset disimpan kedalam data frame dengan nama kolom stem_kata"
   ]
  },
  {
   "cell_type": "markdown",
   "metadata": {},
   "source": [
    "## Proses TF-IDF"
   ]
  },
  {
   "cell_type": "markdown",
   "metadata": {},
   "source": [
    "Dalam tahap ini, data yang sudah di hilangkan kata penghubung dan simbolnya di lakukan proses TF-IDF <br>\n",
    "TF-IDF adalah suatu metode algoritma untuk menghitung bobot setiap kata di setiap dokumen dalam korpus. Metode ini juga terkenal efisien, mudah dan memiliki hasil yang akurat."
   ]
  },
  {
   "cell_type": "markdown",
   "metadata": {},
   "source": [
    "Inti utama dari algoritma ini adalah melakukan perhitungan nilai TF dan nilai IDF dari sebuah setiap kata kunci terhadap masing-masing dokumen. Nilai TF dihitung dengan rumus TF = jumlah frekuensi kata terpilih / jumlah kata dan nilai IDF dihitung dengan rumus IDF = log(jumlah dokumen / jumlah frekuensi kata terpilih). Selanjutnya kedua hasil ini akan dikalikan sehingga menghasilkan TF-IDF. <br><br> TF-IDF dihitung dengan menggunakan persamaan seperti berikut.\n",
    "\n",
    "$$\n",
    "W_{i, j}=\\frac{n_{i, j}}{\\sum_{j=1}^{p} n_{j, i}} \\log _{2} \\frac{D}{d_{j}}\n",
    "$$\n",
    "\n",
    "Keterangan:\n",
    "\n",
    "$\n",
    "{W_{i, j}}\\quad\\quad\\>: \\text { pembobotan tf-idf untuk term ke-j pada dokumen ke-i } \\\\\n",
    "$\n",
    "\n",
    "$\n",
    "{n_{i, j}}\\quad\\quad\\>\\>: \\text { jumlah kemunculan term ke-j pada dokumen ke-i }\\\\\n",
    "$\n",
    "\n",
    "$\n",
    "{p} \\quad\\quad\\quad\\>\\>: \\text { banyaknya term yang terbentuk }\\\\\n",
    "$\n",
    "\n",
    "$\n",
    "{\\sum_{j=1}^{p} n_{j, i}}: \\text { jumlah kemunculan seluruh term pada dokumen ke-i }\\\\\n",
    "$\n",
    "\n",
    "$\n",
    "{d_{j}} \\quad\\quad\\quad: \\text { banyaknya dokumen yang mengandung term ke-j }\\\\\n",
    "$"
   ]
  },
  {
   "cell_type": "code",
   "execution_count": 47,
   "metadata": {},
   "outputs": [],
   "source": [
    "from sklearn.feature_extraction.text import TfidfTransformer, CountVectorizer"
   ]
  },
  {
   "cell_type": "markdown",
   "metadata": {},
   "source": [
    ">import library TF-IDF dari scikit learn"
   ]
  },
  {
   "cell_type": "code",
   "execution_count": 53,
   "metadata": {},
   "outputs": [],
   "source": [
    "vectorizer = CountVectorizer()\n",
    "bag = vectorizer.fit_transform(df['stem_kata'])"
   ]
  },
  {
   "cell_type": "markdown",
   "metadata": {},
   "source": [
    ">proses perhitungan kemunculan term pada dataset dengan library countVectorizer"
   ]
  },
  {
   "cell_type": "code",
   "execution_count": 54,
   "metadata": {},
   "outputs": [
    {
     "name": "stdout",
     "output_type": "stream",
     "text": [
      "  (0, 2)\t1\n",
      "  (0, 988)\t1\n",
      "  (0, 415)\t1\n",
      "  (0, 664)\t5\n",
      "  (0, 242)\t5\n",
      "  (0, 411)\t19\n",
      "  (0, 708)\t1\n",
      "  (0, 396)\t7\n",
      "  (0, 684)\t5\n",
      "  (0, 195)\t1\n",
      "  (0, 377)\t5\n",
      "  (0, 942)\t5\n",
      "  (0, 56)\t5\n",
      "  (0, 585)\t5\n",
      "  (0, 470)\t1\n",
      "  (0, 171)\t2\n",
      "  (0, 919)\t2\n",
      "  (0, 553)\t1\n",
      "  (0, 892)\t1\n",
      "  (0, 468)\t2\n",
      "  (0, 82)\t1\n",
      "  (0, 732)\t4\n",
      "  (0, 692)\t4\n",
      "  (0, 203)\t4\n",
      "  (0, 914)\t1\n",
      "  :\t:\n",
      "  (58, 767)\t1\n",
      "  (58, 425)\t1\n",
      "  (58, 881)\t7\n",
      "  (58, 99)\t1\n",
      "  (58, 118)\t1\n",
      "  (58, 577)\t1\n",
      "  (58, 844)\t1\n",
      "  (58, 752)\t1\n",
      "  (58, 561)\t4\n",
      "  (58, 73)\t8\n",
      "  (58, 406)\t3\n",
      "  (58, 477)\t3\n",
      "  (58, 793)\t7\n",
      "  (58, 50)\t1\n",
      "  (58, 612)\t1\n",
      "  (58, 573)\t5\n",
      "  (58, 294)\t5\n",
      "  (58, 806)\t5\n",
      "  (58, 295)\t7\n",
      "  (58, 682)\t7\n",
      "  (58, 615)\t1\n",
      "  (58, 47)\t1\n",
      "  (58, 362)\t1\n",
      "  (58, 301)\t1\n",
      "  (58, 739)\t1 \n",
      "\n",
      "(59, 1017)\n"
     ]
    }
   ],
   "source": [
    "print(bag, '\\n')\n",
    "print(bag.shape)"
   ]
  },
  {
   "cell_type": "markdown",
   "metadata": {},
   "source": [
    ">Diatas ini merupakan hasil kemunculan term untuk tiap dokumen"
   ]
  },
  {
   "cell_type": "code",
   "execution_count": 55,
   "metadata": {},
   "outputs": [
    {
     "name": "stdout",
     "output_type": "stream",
     "text": [
      "{'abtrak': 2, 'uswatun': 988, 'khasanah': 415, 'pengaruh': 664, 'etos': 242, 'kerja': 411, 'presatasi': 708, 'karyawan': 396, 'persero': 684, 'diatribusi': 195, 'jawa': 377, 'timur': 942, 'area': 56, 'mojokerto': 585, 'kumpul': 470, 'data': 171, 'teliti': 919, 'mengunakan': 553, 'survey': 892, 'kuesioner': 468, 'bagi': 82, 'pt': 732, 'pln': 692, 'distribusi': 203, 'teknik': 914, 'analisis': 42, 'meguji': 547, 'hipotesis': 316, 'regresi': 763, 'linier': 504, 'ganda': 278, 'pakai': 640, 'uji': 973, 'hasil': 307, 'simultan': 846, 'semanagt': 822, 'disiplin': 200, 'signifikan': 840, 'prestasi': 710, 'parsial': 647, 'variabel': 993, 'semangat': 823, 'dominan': 210, 'simpul': 845, 'tingkat': 944, 'kunci': 471, 'muncul': 594, 'asumsi': 67, 'lahir': 478, 'budaya': 128, 'emis': 231, 'sebab': 811, 'anak': 40, 'pilih': 688, 'profesi': 721, 'lingkung': 502, 'keluarga': 405, 'sikap': 842, 'peria': 677, 'biasa': 113, 'hidup': 314, 'dasar': 170, 'perilaku': 678, 'kamal': 389, 'kab': 387, 'bangkal': 87, 'prihatin': 713, 'indikator': 338, 'ukur': 974, 'etnografis': 241, 'persepsi': 683, 'sosialisasi': 861, 'peran': 670, 'modus': 582, 'operandi': 627, 'bentuk': 109, 'praktek': 703, 'jaring': 375, 'desa': 181, 'variable': 994, 'indicator': 336, 'behavioral': 104, 'sociology': 857, 'terang': 926, 'tingkah': 943, 'laku': 481, 'akibat': 18, 'teory': 923, 'exchange': 246, 'of': 621, 'social': 856, 'kecewa': 399, 'manusia': 533, 'sumber': 885, 'adnya': 10, 'faktor': 250, 'dorong': 212, 'sosial': 860, 'abstrak': 1, 'tuju': 961, 'didik': 196, 'latih': 490, 'rangka': 753, 'produktivitas': 720, 'meniliti': 554, 'bukti': 129, 'alat': 28, 'bantu': 91, 'spss': 866, 'nilai': 606, 'fhitung': 257, 'pos': 698, 'indonesia': 342, 'kantor': 391, 'cabang': 136, 'koefisien': 429, 'determinasi': 189, 'square': 867, 'ubah': 971, 'sisa': 848, 'masuk': 542, 'model': 580, 'benar': 108, 'beta': 112, 'objek': 618, 'beli': 107, 'produk': 717, 'xl': 1013, 'camat': 139, 'sampel': 802, 'konsumen': 445, 'sistematis': 850, 'baur': 97, 'pasar': 650, 'harga': 305, 'promosi': 726, 'putus': 747, 'strategi': 874, 'segi': 815, 'kompensasi': 433, 'finansial': 261, 'langsung': 487, 'nonfinansial': 610, 'milik': 566, 'mana': 529, 'intention': 352, 'this': 936, 'research': 771, 'is': 364, 'to': 948, 'know': 428, 'influence': 343, 'location': 508, 'effort': 227, 'and': 45, 'service': 828, 'quality': 748, 'decision': 176, 'purchasing': 737, 'also': 32, 'having': 309, 'bigger': 116, 'ppengaruh': 702, 'at': 69, 'home': 320, 'eat': 220, 'depot': 180, 'soto': 862, 'glorious': 291, 'asih': 61, 'lamongan': 482, 'use': 986, 'quantitative': 749, 'method': 562, 'with': 1012, 'approach': 54, 'population': 695, 'consumer': 156, 'the': 935, 'used': 987, 'accidental': 3, 'sampling': 804, 'hence': 312, 'get': 288, 'responder': 776, 'collecting': 152, 'into': 358, 'library': 499, 'result': 778, 'mention': 557, 'tied': 939, 'that': 934, 'while': 1007, 'from': 275, 'test': 932, 'prove': 730, 'free': 273, 'consisting': 155, 'by': 135, 'or': 631, 'together': 949, 'can': 141, 'be': 100, 'concluded': 153, 'both': 124, 'which': 1006, 'have': 308, 'keywords': 414, 'business': 133, 'purchase': 736, 'bangkrut': 88, 'usaha': 985, 'makan': 523, 'minum': 572, 'daftar': 164, 'bursa': 131, 'efek': 223, 'kondisi': 440, 'altman': 34, 'oleh': 623, 'ingat': 345, 'metode': 563, 'diskriptif': 201, 'ambil': 38, 'periode': 680, 'jadi': 369, 'populasi': 694, 'purposive': 740, 'kritis': 459, 'sehat': 816, 'stres': 878, 'terhdap': 928, 'dosen': 213, 'universitas': 980, 'trunojoyo': 958, 'madura': 519, 'responden': 775, 'orang': 632, 'software': 858, 'stressor': 879, 'fisik': 263, 'individu': 339, 'kelompok': 404, 'organisasi': 633, 'katakunci': 397, 'naik': 598, 'minta': 571, 'saham': 796, 'alami': 27, 'turun': 968, 'hindar': 315, 'kisar': 423, 'tarik': 910, 'minat': 567, 'investor': 361, 'pecah': 656, 'stock': 873, 'split': 864, 'masalah': 541, 'bei': 105, 'paired': 639, 'sample': 803, 'amat': 37, 'penetuan': 663, 'beda': 103, 'return': 781, 'tva': 969, 'volume': 1000, 'dagang': 165, 'gera': 284, 'bundling': 130, 'strategy': 875, 'restoran': 777, 'quick': 750, 'chicken': 147, 'raya': 758, 'dukuh': 217, 'kupang': 472, 'pribanus': 712, 'wantara': 1002, 'yustina': 1016, 'chrismardani': 148, 'focus': 267, 'form': 270, 'cepat': 146, 'saji': 798, 'surabaya': 889, 'paket': 641, 'desember': 183, 'lapang': 488, 'mebagikan': 545, 'riset': 786, 'pustaka': 744, 'olah': 622, 'perangkat': 671, 'lunak': 516, 'versi': 999, 'for': 269, 'windows': 1010, 'skala': 853, 'likert': 500, 'tunjuk': 965, 'bebas': 102, 'ikat': 326, 'rumus': 794, 'lapor': 489, 'biaya': 114, 'kualitas': 461, 'minimal': 570, 'risiko': 787, 'cacat': 137, 'cv': 162, 'kapuas': 392, 'inti': 357, 'sarana': 807, 'profitabilitas': 724, 'deskriptif': 186, 'gambar': 277, 'fenomena': 255, 'deskripsi': 185, 'asal': 60, 'periodik': 681, 'perinci': 679, 'kurang': 473, 'jual': 383, 'inovasi': 347, 'unggul': 978, 'saing': 797, 'terap': 927, 'optik': 628, 'reza': 783, 'kualitatif': 462, 'dekat': 177, 'fenomenologi': 256, 'wawancara': 1003, 'observasi': 619, 'guna': 298, 'dokumen': 209, 'reduction': 762, 'display': 202, 'conclusion': 154, 'drawing': 214, 'verification': 998, 'omzet': 624, 'tawar': 911, 'baik': 83, 'pangsa': 646, 'luas': 513, 'daerah': 163, 'retailing': 780, 'mix': 576, 'lokasi': 509, 'merchandise': 560, 'atmosfer': 72, 'gerai': 285, 'layan': 493, 'retailimg': 779, 'idola': 324, 'mart': 538, 'kwanyar': 476, 'kuantitatif': 464, 'landas': 484, 'filsafat': 259, 'positivisme': 700, 'tetap': 933, 'instrumen': 350, 'validitas': 992, 'reliabilitas': 767, 'klasik': 425, 'adjusted': 8, 'besar': 111, 'badan': 81, 'negara': 601, 'gerak': 286, 'bidang': 115, 'sedia': 814, 'listrik': 506, 'nasional': 600, 'kelola': 403, 'bisnis': 120, 'optimalisasi': 630, 'sumbr': 886, 'daya': 172, 'salah': 800, 'proses': 729, 'kembang': 408, 'karir': 393, 'sifat': 838, 'kenal': 409, 'setia': 832, 'orgnisasional': 634, 'mentor': 558, 'sponsor': 865, 'sempat': 824, 'tumbuh': 962, 'positif': 699, 'atas': 70, 'kuat': 466, 'identifikasi': 323, 'ulang': 975, 'nasabah': 599, 'bri': 127, 'internet': 356, 'banking': 90, 'kota': 453, 'manfaat': 531, 'mudah': 590, 'aman': 35, 'fitur': 264, 'kecuali': 400, 'liquid': 505, 'tari': 909, 'purpossive': 741, 'analis': 41, 'statistical': 870, 'program': 725, 'solution': 859, 'duga': 216, 'rasio': 755, 'likuiditas': 501, 'current': 161, 'ratio': 757, 'struktur': 880, 'modal': 579, 'debt': 175, 'equity': 238, 'roe': 790, 'dapat': 169, 'lq': 512, 'ana': 39, 'agustini': 14, 'dewi': 191, 'uang': 970, 'akuisisi': 25, 'studi': 881, 'manufaktur': 532, 'melakuukan': 548, 'jurus': 386, 'ekonomi': 229, 'manajemen': 530, 'fakultas': 252, 'kriteria': 457, 'aktivitas': 24, 'alih': 30, 'asset': 63, 'total': 954, 'turnover': 967, 'on': 625, 'investmen': 360, 'earning': 219, 'relationship': 766, 'marketing': 537, 'untung': 982, 'komitmen': 432, 'komunikasi': 438, 'loyalitas': 510, 'adira': 7, 'finance': 260, 'wilayah': 1008, 'barat': 94, 'negatif': 602, 'self': 820, 'efficacy': 226, 'magnitude': 520, 'generality': 283, 'strength': 877, 'akademik': 17, 'mahasiswa': 521, 'ikut': 330, 'mawapres': 544, 'terima': 930, 'temu': 920, 'teridiri': 929, 'muhammad': 591, 'sholeh': 834, 'iklan': 328, 'televisi': 918, 'kartu': 395, 'seluler': 821, 'geger': 282, 'bawah': 99, 'bimbing': 118, 'bambang': 84, 'setiyo': 833, 'pambudi': 642, 'mm': 577, 'suyono': 895, 'masyarakat': 543, 'kabupaten': 388, 'isi': 365, 'pesan': 686, 'format': 271, 'satiyah': 808, 'dinas': 199, 'laut': 491, 'ikan': 325, 'irawati': 363, 'helm': 311, 'buyung': 134, 'aulia': 76, 'upaya': 983, 'sdm': 810, 'laksana': 480, 'instansi': 348, 'capai': 142, 'mampu': 527, 'pegawai': 658, 'efektif': 224, 'efisien': 228, 'pengembnagan': 665, 'harap': 304, 'sesuai': 831, 'terampil': 925, 'tahu': 902, 'tuntut': 966, 'dukung': 218, 'cipta': 150, 'suasana': 882, 'kondusif': 441, 'menganalisa': 552, 'hubung': 322, 'observasional': 620, 'analitik': 43, 'sebar': 812, 'kuisioner': 469, 'statistik': 871, 'non': 609, 'probality': 716, 'simple': 844, 'random': 752, 'jabat': 368, 'motivasi': 586, 'partisipasi': 648, 'aktif': 21, 'seleksi': 818, 'serta': 826, 'instruktur': 349, 'ftabel': 276, 'thitung': 937, 'brand': 126, 'association': 65, 'langgan': 485, 'kiddrock': 419, 'distro': 204, 'cranberries': 157, 'pamekasan': 643, 'survei': 891, 'aksidental': 20, 'field': 258, 'pengolaha': 666, 'reabilitas': 759, 'dimensi': 198, 'jamin': 372, 'pribadi': 711, 'status': 872, 'merek': 561, 'rekomendasi': 764, 'cranberriess': 158, 'apresisasikan': 55, 'presepsi': 709, 'aplikasi': 53, 'nyata': 617, 'teknologi': 916, 'informasi': 344, 'administrasi': 9, 'guru': 299, 'satu': 809, 'sistem': 849, 'portal': 696, 'implementasi': 331, 'selenggara': 819, 'kendala': 410, 'teknis': 915, 'puas': 733, 'indeks': 334, 'tinjau': 945, 'webqual': 1004, 'fokus': 268, 'mutu': 596, 'website': 1005, 'trunjoyo': 957, 'importance': 332, 'performance': 674, 'analysis': 44, 'kuantitaif': 463, 'lukis': 515, 'faktual': 251, 'akurat': 26, 'jasa': 376, 'online': 626, 'stratified': 876, 'penting': 668, 'skor': 854, 'ikp': 329, 'kategori': 398, 'diagram': 193, 'kartesius': 394, 'atribut': 73, 'prioritas': 715, 'utama': 989, 'situs': 851, 'detail': 187, 'ter': 924, 'update': 984, 'ki': 417, 'utm': 990, 'percaya': 672, 'krs': 460, 'khs': 416, 'transkrip': 956, 'personal': 685, 'kip': 421, 'celebrity': 145, 'endorser': 236, 'iwan': 367, 'fals': 253, 'top': 953, 'coffee': 151, 'sumur': 887, 'lurah': 517, 'pejagan': 660, 'menngunakan': 556, 'erangkat': 239, 'trustworthiness': 959, 'expertise': 248, 'attractiveness': 75, 'respect': 774, 'similarity': 843, 'minet': 569, 'miant': 564, 'tekan': 913, 'pimpin': 689, 'sampang': 801, 'negeri': 603, 'sipil': 847, 'pns': 693, 'hitung': 317, 'firm': 262, 'size': 852, 'leverage': 498, 'risk': 788, 'bijak': 117, 'deviden': 190, 'businees': 132, 'dividend': 207, 'payout': 654, 'ali': 29, 'rahbini': 751, 'belanja': 106, 'swalayan': 896, 'tom': 952, 'jerry': 380, 'nirma': 607, 'kehandalan': 402, 'tanggap': 908, 'empati': 233, 'andal': 46, 'ecer': 221, 'langkah': 486, 'produksi': 718, 'barang': 93, 'perhati': 676, 'teori': 922, 'man': 528, 'evans': 244, 'foster': 272, 'indah': 333, 'bangakalan': 86, 'kuci': 467, 'toko': 950, 'efektivitas': 225, 'cdm': 143, 'jalur': 371, 'path': 652, 'yakin': 1014, 'niat': 605, 'aththaariq': 71, 'kompetensi': 434, 'moch': 578, 'wispandono': 1011, 'alkirom': 31, 'wildan': 1009, 'pedagogik': 657, 'profesional': 722, 'primer': 714, 'sertifikasi': 827, 'judgmental': 384, 'koefisiensi': 430, 'signifikansi': 841, 'haryono': 306, 'arifin': 57, 'honda': 321, 'vario': 997, 'dealler': 174, 'surya': 893, 'agung': 13, 'motor': 587, 'dealer': 173, 'psikologis': 731, 'dianalisa': 194, 'dharma': 192, 'abidin': 0, 'syah': 897, 'tipe': 946, 'autoritarian': 77, 'demokratis': 178, 'pangarengan': 645, 'anova': 51, 'kontribusi': 447, 'autoritariansecara': 78, 'pegawaidikantor': 659, 'tabel': 901, 'lai': 479, 'barokah': 95, 'prambon': 705, 'independen': 335, 'dependen': 179, 'credit': 159, 'npl': 613, 'pd': 655, 'bpr': 125, 'bank': 89, 'resiko': 772, 'dikatagorikan': 197, 'tentu': 921, 'syarat': 899, 'maksimal': 525, 'performing': 675, 'loan': 507, 'investasi': 359, 'rasional': 756, 'dana': 168, 'frekuensi': 274, 'dividen': 206, 'portofolio': 697, 'optimal': 629, 'kandidat': 390, 'excess': 245, 'returns': 782, 'erb': 240, 'ci': 149, 'komposisi': 435, 'proporsi': 727, 'adaro': 6, 'energy': 237, 'tbk': 912, 'gudang': 297, 'garam': 280, 'hm': 319, 'sampoerna': 805, 'astra': 66, 'otopart': 636, 'multi': 592, 'bintang': 119, 'agro': 12, 'lestari': 497, 'goodyear': 293, 'indika': 337, 'united': 979, 'tractors': 955, 'pabrik': 637, 'kertas': 412, 'tjiwi': 947, 'kimia': 420, 'indofood': 340, 'sukses': 883, 'makmur': 524, 'international': 355, 'tunggal': 964, 'aktiva': 23, 'expected': 247, 'rekrutmen': 765, 'pusat': 743, 'gresik': 296, 'sejahtera': 817, 'hening': 313, 'ary': 59, 'putra': 746, 'media': 546, 'facebook': 249, 'pemimbing': 661, 'klik': 426, 'vairabel': 991, 'habibah': 300, 'ekuitas': 230, 'notebook': 611, 'acer': 4, 'kuasa': 465, 'hamper': 302, 'penelitan': 662, 'sadar': 795, 'asosiasi': 62, 'instrument': 351, 'realibilitas': 760, 'pandang': 644, 'resmi': 773, 'sepeda': 825, 'kotler': 454, 'armstrong': 58, 'gaya': 281, 'desain': 182, 'supra': 888, 'mempunyah': 550, 'susu': 894, 'cair': 138, 'indomilk': 341, 'unsur': 981, 'kirim': 422, 'komunikator': 439, 'komunikan': 437, 'umpan': 977, 'produktifitas': 719, 'kian': 418, 'proporsional': 728, 'varibel': 995, 'kominkator': 431, 'sigifikan': 839, 'sedap': 813, 'masako': 540, 'robatal': 789, 'konsumsi': 446, 'kemas': 406, 'label': 477, 'lengkap': 496, 'petis': 687, 'tuna': 963, 'banyuanyar': 92, 'kosumen': 452, 'ditribusi': 205, 'jamu': 373, 'tolak': 951, 'angin': 49, 'sido': 836, 'manyar': 534, 'penlitian': 667, 'konsep': 444, 'aida': 15, 'ink': 346, 'attention': 74, 'interest': 354, 'desire': 184, 'action': 5, 'profesionalisme': 723, 'aksesibilitas': 19, 'fleksibilitas': 265, 'reputasi': 770, 'kredibilitas': 456, 'recovery': 761, 'serviscape': 829, 'pasien': 651, 'rumah': 793, 'sakit': 799, 'padu': 638, 'servisecape': 830, 'deterjen': 188, 'rinso': 785, 'anti': 52, 'noda': 608, 'domisili': 211, 'telang': 917, 'jembatan': 378, 'suramadu': 890, 'enam': 235, 'tidak': 938, 'lampu': 483, 'pasang': 649, 'nyala': 616, 'malam': 526, 'tugas': 960, 'marga': 536, 'tampil': 904, 'rapi': 754, 'jalan': 370, 'mulus': 593, 'lubang': 514, 'tiket': 940, 'kembali': 407, 'asuransi': 68, 'celaka': 144, 'patroli': 653, 'mogok': 583, 'ban': 85, 'bocor': 123, 'dll': 208, 'martabak': 539, 'hawaii': 310, 'ulfiyatun': 976, 'mutohharoh': 595, 'preferensi': 707, 'fashion': 254, 'mahasiwa': 522, 'journal': 382, 'economics': 222, 'drs': 215, 'mohamad': 584, 'tambrin': 903, 'crismardani': 160, 'global': 290, 'bas': 96, 'komputer': 436, 'geser': 287, 'konvensional': 448, 'praktis': 704, 'modern': 581, 'rilis': 784, 'timbang': 941, 'menetukan': 551, 'gantung': 279, 'interdependent': 353, 'jenis': 379, 'statistic': 869, 'konfirmatori': 442, 'kmo': 427, 'item': 366, 'rendah': 768, 'klasifikasi': 424, 'miserable': 575, 'kecukuperatan': 401, 'layak': 492, 'alternatif': 33, 'awareness': 79, 'assocations': 64, 'kesan': 413, 'perceived': 673, 'loyalty': 511, 'handphone': 303, 'blackberry': 121, 'kopontren': 451, 'sidogiri': 837, 'tanah': 905, 'merah': 559, 'rokok': 791, 'mild': 565, 'socah': 855, 'campur': 140, 'aduk': 11, 'tangga': 907, 'bawa': 98, 'dalam': 166, 'sulit': 884, 'penuh': 669, 'beban': 101, 'berat': 110, 'dampak': 167, 'jangka': 374, 'lembur': 495, 'konflik': 443, 'awat': 80, 'wanita': 1001, 'rs': 792, 'syamrabu': 898, 'emosional': 232, 'variebel': 996, 'yamaha': 1015, 'new': 604, 'jupiter': 385, 'liniear': 503, 'kusniyah': 475, 'go': 292, 'public': 734, 'hj': 318, 'evaliati': 243, 'amaniyah': 36, 'msm': 589, 'prasetyo': 706, 'nugroho': 614, 'statis': 868, 'fluktuatif': 266, 'empiris': 234, 'aktifitas': 22, 'ike': 327, 'miranti': 574, 'maan': 518, 'ghodaqo': 289, 'siddiq': 835, 'jombang': 381, 'kurriwati': 474, 'sp': 863, 'msi': 588, 'publisitas': 735, 'menitikberatkan': 555, 'air': 16, 'mineral': 568, 'purprosive': 742, 'maret': 535, 'memakaiuji': 549, 'muzanni': 597, 'piutang': 691, 'tertahadap': 931, 'rentabilitas': 769, 'koperasi': 449, 'syariah': 900, 'bmt': 122, 'ugt': 972, 'kpri': 455, 'kopergu': 450, 'purnamawati': 738, 'lembaga': 494, 'pinjam': 690, 'anggota': 48, 'otomatis': 635, 'tanam': 906, 'potensi': 701, 'kriterian': 458, 'putar': 745, 'anissa': 50, 'novianti': 612, 'minyak': 573, 'goreng': 294, 'sania': 806, 'graha': 295, 'permai': 682, 'nurita': 615, 'andriani': 47, 'ir': 362, 'had': 301, 'purnomo': 739}\n"
     ]
    }
   ],
   "source": [
    "print(vectorizer.vocabulary_)"
   ]
  },
  {
   "cell_type": "markdown",
   "metadata": {},
   "source": [
    ">Diatas merupakan list kata hasil proses countVectorizer"
   ]
  },
  {
   "cell_type": "code",
   "execution_count": 57,
   "metadata": {},
   "outputs": [],
   "source": [
    "tfidf = TfidfTransformer(use_idf=True,norm='l2',smooth_idf=True)\n",
    "vect_abstrak=tfidf.fit_transform(bag)"
   ]
  },
  {
   "cell_type": "markdown",
   "metadata": {},
   "source": [
    ">Pengimplementasian hasil perhitungan term dengan menggunakan library TF-IDF Scikit"
   ]
  },
  {
   "cell_type": "code",
   "execution_count": 70,
   "metadata": {},
   "outputs": [
    {
     "name": "stdout",
     "output_type": "stream",
     "text": [
      "  (0, 993)\t0.06102063285636947\n",
      "  (0, 988)\t0.054892136181861464\n",
      "  (0, 973)\t0.06424035420403743\n",
      "  (0, 944)\t0.056402070613677184\n",
      "  (0, 942)\t0.24917569139258966\n",
      "  (0, 919)\t0.02578982938128806\n",
      "  (0, 914)\t0.01992836917683763\n",
      "  (0, 892)\t0.043464074389909194\n",
      "  (0, 846)\t0.016920573952781806\n",
      "  (0, 845)\t0.02748815034296162\n",
      "  (0, 840)\t0.05866812087219662\n",
      "  (0, 823)\t0.09967027655703585\n",
      "  (0, 822)\t0.054892136181861464\n",
      "  (0, 763)\t0.020708128785860643\n",
      "  (0, 732)\t0.15040858459859469\n",
      "  (0, 710)\t0.21732037194954595\n",
      "  (0, 708)\t0.054892136181861464\n",
      "  (0, 692)\t0.1993405531140717\n",
      "  (0, 684)\t0.2312357058287753\n",
      "  (0, 664)\t0.07627579107046183\n",
      "  (0, 647)\t0.01884315532685523\n",
      "  (0, 640)\t0.03254514824630515\n",
      "  (0, 585)\t0.2744606809093073\n",
      "  (0, 553)\t0.049835138278517925\n",
      "  (0, 547)\t0.043464074389909194\n",
      "  :\t:\n",
      "  (58, 468)\t0.020592370778721055\n",
      "  (58, 464)\t0.018803363290902746\n",
      "  (58, 425)\t0.027393790852065922\n",
      "  (58, 406)\t0.10915433739645412\n",
      "  (58, 389)\t0.548906729153123\n",
      "  (58, 362)\t0.04318619920549625\n",
      "  (58, 350)\t0.02560478336424762\n",
      "  (58, 307)\t0.011601382498635604\n",
      "  (58, 301)\t0.04318619920549625\n",
      "  (58, 295)\t0.30230339443847376\n",
      "  (58, 294)\t0.21593099602748128\n",
      "  (58, 278)\t0.015678575857573707\n",
      "  (58, 210)\t0.036805605143960946\n",
      "  (58, 177)\t0.020113623391051248\n",
      "  (58, 171)\t0.030202421611049357\n",
      "  (58, 139)\t0.21625533411268502\n",
      "  (58, 118)\t0.02645857162547746\n",
      "  (58, 107)\t0.14414363381063025\n",
      "  (58, 99)\t0.028427627743033604\n",
      "  (58, 73)\t0.25924962750073993\n",
      "  (58, 67)\t0.023415215157507042\n",
      "  (58, 50)\t0.04318619920549625\n",
      "  (58, 47)\t0.04318619920549625\n",
      "  (58, 42)\t0.02616262650585297\n",
      "  (58, 38)\t0.018402802571980473\n",
      "(59, 1017)\n"
     ]
    }
   ],
   "source": [
    "print(vect_abstrak)\n",
    "print(vect_abstrak.shape)"
   ]
  },
  {
   "cell_type": "markdown",
   "metadata": {},
   "source": [
    ">Hasil dari TF-IDF untuk tiap dokumen"
   ]
  },
  {
   "cell_type": "code",
   "execution_count": 71,
   "metadata": {},
   "outputs": [
    {
     "data": {
      "text/plain": [
       "array(['abidin', 'abstrak', 'abtrak', ..., 'yakin', 'yamaha', 'yustina'],\n",
       "      dtype=object)"
      ]
     },
     "execution_count": 71,
     "metadata": {},
     "output_type": "execute_result"
    }
   ],
   "source": [
    "term=vectorizer.get_feature_names_out()\n",
    "term"
   ]
  },
  {
   "cell_type": "markdown",
   "metadata": {},
   "source": [
    ">list nama term dari semua dokumen"
   ]
  },
  {
   "cell_type": "code",
   "execution_count": 60,
   "metadata": {},
   "outputs": [
    {
     "data": {
      "text/html": [
       "<div>\n",
       "<style scoped>\n",
       "    .dataframe tbody tr th:only-of-type {\n",
       "        vertical-align: middle;\n",
       "    }\n",
       "\n",
       "    .dataframe tbody tr th {\n",
       "        vertical-align: top;\n",
       "    }\n",
       "\n",
       "    .dataframe thead tr th {\n",
       "        text-align: left;\n",
       "    }\n",
       "</style>\n",
       "<table border=\"1\" class=\"dataframe\">\n",
       "  <thead>\n",
       "    <tr>\n",
       "      <th></th>\n",
       "      <th>abidin</th>\n",
       "      <th>abstrak</th>\n",
       "      <th>abtrak</th>\n",
       "      <th>accidental</th>\n",
       "      <th>acer</th>\n",
       "      <th>action</th>\n",
       "      <th>adaro</th>\n",
       "      <th>adira</th>\n",
       "      <th>adjusted</th>\n",
       "      <th>administrasi</th>\n",
       "      <th>...</th>\n",
       "      <th>while</th>\n",
       "      <th>wilayah</th>\n",
       "      <th>wildan</th>\n",
       "      <th>windows</th>\n",
       "      <th>wispandono</th>\n",
       "      <th>with</th>\n",
       "      <th>xl</th>\n",
       "      <th>yakin</th>\n",
       "      <th>yamaha</th>\n",
       "      <th>yustina</th>\n",
       "    </tr>\n",
       "  </thead>\n",
       "  <tbody>\n",
       "    <tr>\n",
       "      <th>0</th>\n",
       "      <td>0.0</td>\n",
       "      <td>0.000000</td>\n",
       "      <td>0.054892</td>\n",
       "      <td>0.000000</td>\n",
       "      <td>0.0</td>\n",
       "      <td>0.0</td>\n",
       "      <td>0.0</td>\n",
       "      <td>0.0</td>\n",
       "      <td>0.0</td>\n",
       "      <td>0.0</td>\n",
       "      <td>...</td>\n",
       "      <td>0.000000</td>\n",
       "      <td>0.0</td>\n",
       "      <td>0.0</td>\n",
       "      <td>0.00000</td>\n",
       "      <td>0.0</td>\n",
       "      <td>0.000000</td>\n",
       "      <td>0.000000</td>\n",
       "      <td>0.0</td>\n",
       "      <td>0.0</td>\n",
       "      <td>0.000000</td>\n",
       "    </tr>\n",
       "    <tr>\n",
       "      <th>1</th>\n",
       "      <td>0.0</td>\n",
       "      <td>0.000000</td>\n",
       "      <td>0.000000</td>\n",
       "      <td>0.000000</td>\n",
       "      <td>0.0</td>\n",
       "      <td>0.0</td>\n",
       "      <td>0.0</td>\n",
       "      <td>0.0</td>\n",
       "      <td>0.0</td>\n",
       "      <td>0.0</td>\n",
       "      <td>...</td>\n",
       "      <td>0.000000</td>\n",
       "      <td>0.0</td>\n",
       "      <td>0.0</td>\n",
       "      <td>0.00000</td>\n",
       "      <td>0.0</td>\n",
       "      <td>0.000000</td>\n",
       "      <td>0.000000</td>\n",
       "      <td>0.0</td>\n",
       "      <td>0.0</td>\n",
       "      <td>0.000000</td>\n",
       "    </tr>\n",
       "    <tr>\n",
       "      <th>2</th>\n",
       "      <td>0.0</td>\n",
       "      <td>0.045430</td>\n",
       "      <td>0.000000</td>\n",
       "      <td>0.000000</td>\n",
       "      <td>0.0</td>\n",
       "      <td>0.0</td>\n",
       "      <td>0.0</td>\n",
       "      <td>0.0</td>\n",
       "      <td>0.0</td>\n",
       "      <td>0.0</td>\n",
       "      <td>...</td>\n",
       "      <td>0.000000</td>\n",
       "      <td>0.0</td>\n",
       "      <td>0.0</td>\n",
       "      <td>0.00000</td>\n",
       "      <td>0.0</td>\n",
       "      <td>0.000000</td>\n",
       "      <td>0.000000</td>\n",
       "      <td>0.0</td>\n",
       "      <td>0.0</td>\n",
       "      <td>0.000000</td>\n",
       "    </tr>\n",
       "    <tr>\n",
       "      <th>3</th>\n",
       "      <td>0.0</td>\n",
       "      <td>0.000000</td>\n",
       "      <td>0.000000</td>\n",
       "      <td>0.000000</td>\n",
       "      <td>0.0</td>\n",
       "      <td>0.0</td>\n",
       "      <td>0.0</td>\n",
       "      <td>0.0</td>\n",
       "      <td>0.0</td>\n",
       "      <td>0.0</td>\n",
       "      <td>...</td>\n",
       "      <td>0.000000</td>\n",
       "      <td>0.0</td>\n",
       "      <td>0.0</td>\n",
       "      <td>0.00000</td>\n",
       "      <td>0.0</td>\n",
       "      <td>0.000000</td>\n",
       "      <td>0.421034</td>\n",
       "      <td>0.0</td>\n",
       "      <td>0.0</td>\n",
       "      <td>0.000000</td>\n",
       "    </tr>\n",
       "    <tr>\n",
       "      <th>4</th>\n",
       "      <td>0.0</td>\n",
       "      <td>0.031338</td>\n",
       "      <td>0.000000</td>\n",
       "      <td>0.000000</td>\n",
       "      <td>0.0</td>\n",
       "      <td>0.0</td>\n",
       "      <td>0.0</td>\n",
       "      <td>0.0</td>\n",
       "      <td>0.0</td>\n",
       "      <td>0.0</td>\n",
       "      <td>...</td>\n",
       "      <td>0.000000</td>\n",
       "      <td>0.0</td>\n",
       "      <td>0.0</td>\n",
       "      <td>0.00000</td>\n",
       "      <td>0.0</td>\n",
       "      <td>0.000000</td>\n",
       "      <td>0.000000</td>\n",
       "      <td>0.0</td>\n",
       "      <td>0.0</td>\n",
       "      <td>0.000000</td>\n",
       "    </tr>\n",
       "    <tr>\n",
       "      <th>5</th>\n",
       "      <td>0.0</td>\n",
       "      <td>0.000000</td>\n",
       "      <td>0.000000</td>\n",
       "      <td>0.022992</td>\n",
       "      <td>0.0</td>\n",
       "      <td>0.0</td>\n",
       "      <td>0.0</td>\n",
       "      <td>0.0</td>\n",
       "      <td>0.0</td>\n",
       "      <td>0.0</td>\n",
       "      <td>...</td>\n",
       "      <td>0.033565</td>\n",
       "      <td>0.0</td>\n",
       "      <td>0.0</td>\n",
       "      <td>0.00000</td>\n",
       "      <td>0.0</td>\n",
       "      <td>0.033565</td>\n",
       "      <td>0.000000</td>\n",
       "      <td>0.0</td>\n",
       "      <td>0.0</td>\n",
       "      <td>0.000000</td>\n",
       "    </tr>\n",
       "    <tr>\n",
       "      <th>6</th>\n",
       "      <td>0.0</td>\n",
       "      <td>0.000000</td>\n",
       "      <td>0.000000</td>\n",
       "      <td>0.000000</td>\n",
       "      <td>0.0</td>\n",
       "      <td>0.0</td>\n",
       "      <td>0.0</td>\n",
       "      <td>0.0</td>\n",
       "      <td>0.0</td>\n",
       "      <td>0.0</td>\n",
       "      <td>...</td>\n",
       "      <td>0.000000</td>\n",
       "      <td>0.0</td>\n",
       "      <td>0.0</td>\n",
       "      <td>0.00000</td>\n",
       "      <td>0.0</td>\n",
       "      <td>0.000000</td>\n",
       "      <td>0.000000</td>\n",
       "      <td>0.0</td>\n",
       "      <td>0.0</td>\n",
       "      <td>0.000000</td>\n",
       "    </tr>\n",
       "    <tr>\n",
       "      <th>7</th>\n",
       "      <td>0.0</td>\n",
       "      <td>0.032522</td>\n",
       "      <td>0.000000</td>\n",
       "      <td>0.000000</td>\n",
       "      <td>0.0</td>\n",
       "      <td>0.0</td>\n",
       "      <td>0.0</td>\n",
       "      <td>0.0</td>\n",
       "      <td>0.0</td>\n",
       "      <td>0.0</td>\n",
       "      <td>...</td>\n",
       "      <td>0.000000</td>\n",
       "      <td>0.0</td>\n",
       "      <td>0.0</td>\n",
       "      <td>0.00000</td>\n",
       "      <td>0.0</td>\n",
       "      <td>0.000000</td>\n",
       "      <td>0.000000</td>\n",
       "      <td>0.0</td>\n",
       "      <td>0.0</td>\n",
       "      <td>0.000000</td>\n",
       "    </tr>\n",
       "    <tr>\n",
       "      <th>8</th>\n",
       "      <td>0.0</td>\n",
       "      <td>0.000000</td>\n",
       "      <td>0.000000</td>\n",
       "      <td>0.000000</td>\n",
       "      <td>0.0</td>\n",
       "      <td>0.0</td>\n",
       "      <td>0.0</td>\n",
       "      <td>0.0</td>\n",
       "      <td>0.0</td>\n",
       "      <td>0.0</td>\n",
       "      <td>...</td>\n",
       "      <td>0.000000</td>\n",
       "      <td>0.0</td>\n",
       "      <td>0.0</td>\n",
       "      <td>0.00000</td>\n",
       "      <td>0.0</td>\n",
       "      <td>0.000000</td>\n",
       "      <td>0.000000</td>\n",
       "      <td>0.0</td>\n",
       "      <td>0.0</td>\n",
       "      <td>0.000000</td>\n",
       "    </tr>\n",
       "    <tr>\n",
       "      <th>9</th>\n",
       "      <td>0.0</td>\n",
       "      <td>0.000000</td>\n",
       "      <td>0.000000</td>\n",
       "      <td>0.028669</td>\n",
       "      <td>0.0</td>\n",
       "      <td>0.0</td>\n",
       "      <td>0.0</td>\n",
       "      <td>0.0</td>\n",
       "      <td>0.0</td>\n",
       "      <td>0.0</td>\n",
       "      <td>...</td>\n",
       "      <td>0.000000</td>\n",
       "      <td>0.0</td>\n",
       "      <td>0.0</td>\n",
       "      <td>0.03526</td>\n",
       "      <td>0.0</td>\n",
       "      <td>0.000000</td>\n",
       "      <td>0.000000</td>\n",
       "      <td>0.0</td>\n",
       "      <td>0.0</td>\n",
       "      <td>0.037996</td>\n",
       "    </tr>\n",
       "  </tbody>\n",
       "</table>\n",
       "<p>10 rows × 1017 columns</p>\n",
       "</div>"
      ],
      "text/plain": [
       "  abidin   abstrak    abtrak accidental acer action adaro adira adjusted  \\\n",
       "0    0.0  0.000000  0.054892   0.000000  0.0    0.0   0.0   0.0      0.0   \n",
       "1    0.0  0.000000  0.000000   0.000000  0.0    0.0   0.0   0.0      0.0   \n",
       "2    0.0  0.045430  0.000000   0.000000  0.0    0.0   0.0   0.0      0.0   \n",
       "3    0.0  0.000000  0.000000   0.000000  0.0    0.0   0.0   0.0      0.0   \n",
       "4    0.0  0.031338  0.000000   0.000000  0.0    0.0   0.0   0.0      0.0   \n",
       "5    0.0  0.000000  0.000000   0.022992  0.0    0.0   0.0   0.0      0.0   \n",
       "6    0.0  0.000000  0.000000   0.000000  0.0    0.0   0.0   0.0      0.0   \n",
       "7    0.0  0.032522  0.000000   0.000000  0.0    0.0   0.0   0.0      0.0   \n",
       "8    0.0  0.000000  0.000000   0.000000  0.0    0.0   0.0   0.0      0.0   \n",
       "9    0.0  0.000000  0.000000   0.028669  0.0    0.0   0.0   0.0      0.0   \n",
       "\n",
       "  administrasi  ...     while wilayah wildan  windows wispandono      with  \\\n",
       "0          0.0  ...  0.000000     0.0    0.0  0.00000        0.0  0.000000   \n",
       "1          0.0  ...  0.000000     0.0    0.0  0.00000        0.0  0.000000   \n",
       "2          0.0  ...  0.000000     0.0    0.0  0.00000        0.0  0.000000   \n",
       "3          0.0  ...  0.000000     0.0    0.0  0.00000        0.0  0.000000   \n",
       "4          0.0  ...  0.000000     0.0    0.0  0.00000        0.0  0.000000   \n",
       "5          0.0  ...  0.033565     0.0    0.0  0.00000        0.0  0.033565   \n",
       "6          0.0  ...  0.000000     0.0    0.0  0.00000        0.0  0.000000   \n",
       "7          0.0  ...  0.000000     0.0    0.0  0.00000        0.0  0.000000   \n",
       "8          0.0  ...  0.000000     0.0    0.0  0.00000        0.0  0.000000   \n",
       "9          0.0  ...  0.000000     0.0    0.0  0.03526        0.0  0.000000   \n",
       "\n",
       "         xl yakin yamaha   yustina  \n",
       "0  0.000000   0.0    0.0  0.000000  \n",
       "1  0.000000   0.0    0.0  0.000000  \n",
       "2  0.000000   0.0    0.0  0.000000  \n",
       "3  0.421034   0.0    0.0  0.000000  \n",
       "4  0.000000   0.0    0.0  0.000000  \n",
       "5  0.000000   0.0    0.0  0.000000  \n",
       "6  0.000000   0.0    0.0  0.000000  \n",
       "7  0.000000   0.0    0.0  0.000000  \n",
       "8  0.000000   0.0    0.0  0.000000  \n",
       "9  0.000000   0.0    0.0  0.037996  \n",
       "\n",
       "[10 rows x 1017 columns]"
      ]
     },
     "execution_count": 60,
     "metadata": {},
     "output_type": "execute_result"
    }
   ],
   "source": [
    "df_Tf_Idf =pd.DataFrame(data=vect_abstrak.toarray(), columns=[term])\n",
    "df_Tf_Idf.head(10)"
   ]
  },
  {
   "cell_type": "markdown",
   "metadata": {},
   "source": [
    ">Hasil TF-IDF dijadikan dataframe "
   ]
  },
  {
   "cell_type": "markdown",
   "metadata": {},
   "source": [
    "## Proses PCA dan K-Means Cluster"
   ]
  },
  {
   "cell_type": "markdown",
   "metadata": {},
   "source": [
    "PCA adalah sebuah metode bagaimana mereduksi dimensi dengan menggunakan beberapa garis/bidang yang disebut dengan principle components (PCs). untuk mendapat kan nilai PCA dibuthkan beberapa rumus berikut:\n",
    "Nilai Means per dokumen\n",
    "\n",
    "$$\n",
    "\\bar{x}=n\\left(\\sum_{i=1}^{n} \\frac{1}{x_{i}}\\right)^{-1}\n",
    "$$\n",
    "\n",
    "Nilai Varian dan Covarian\n",
    "\n",
    "$$\n",
    "\\operatorname{var}(X)=\\frac{\\sum_{i=1}^{n}\\left(X_{i}-\\bar{X}\\right)\\left(X_{i}-\\bar{X}\\right)}{n-1}\n",
    "$$\n",
    "\n",
    "Keterangan:\n",
    "\n",
    "$\n",
    "X_{i} : \\text {Populasi X ke i} \\\\\n",
    "$\n",
    "\n",
    "$\n",
    "\\bar{X} : \\text {Mean dari populasi X}\\\\\n",
    "$\n",
    "\n",
    "$\n",
    "n : \\text {Jumlah populasi}\\\\\n",
    "$\n",
    "\n",
    "$$\n",
    "\\operatorname{cov}(X, Y)=\\frac{\\sum_{i=1}^{n}\\left(X_{i}-\\bar{X}\\right)\\left(Y_{i}-\\bar{Y}\\right)}{n-1}\n",
    "$$\n",
    "\n",
    "Keterangan:\n",
    "\n",
    "$\n",
    "X_{i} : \\text {Populasi X ke i} \\\\\n",
    "$\n",
    "\n",
    "$\n",
    "\\bar{X} : \\text {Mean dari populasi X}\\\\\n",
    "$\n",
    "\n",
    "$\n",
    "Y_{i} : \\text {Populasi X ke i} \\\\\n",
    "$\n",
    "\n",
    "$\n",
    "\\bar{Y} : \\text {Mean dari populasi X}\\\\\n",
    "$\n",
    "\n",
    "$\n",
    "n : \\text {Jumlah populasi}\\\\\n",
    "$\n",
    "\n",
    "Nilai eigen value dan eigen vactor\n",
    "\n",
    "$$\n",
    "(\\lambda I-A) \\mathbf{v}=\\mathbf{0}\n",
    "$$\n",
    "\n",
    "Keterangan:\n",
    "\n",
    "$\n",
    "\\lambda : \\text {eigen velue}\\\\\n",
    "$\n",
    "\n",
    "$\n",
    "v : \\text {eigen vactor}\\\\\n",
    "$"
   ]
  },
  {
   "cell_type": "code",
   "execution_count": 65,
   "metadata": {},
   "outputs": [],
   "source": [
    "from sklearn.decomposition import PCA\n",
    "from sklearn.cluster import KMeans\n",
    "import matplotlib.pyplot as plt"
   ]
  },
  {
   "cell_type": "markdown",
   "metadata": {},
   "source": [
    ">Import library PCA dan Kmeans dari scikit learn"
   ]
  },
  {
   "cell_type": "code",
   "execution_count": 62,
   "metadata": {},
   "outputs": [
    {
     "name": "stdout",
     "output_type": "stream",
     "text": [
      "[0.05776491 0.09879514 0.13386586 0.1667467  0.19685926 0.22563197\n",
      " 0.25301543 0.27957855 0.30462352 0.32791334 0.35081414 0.37301556\n",
      " 0.39417606 0.41512745 0.43541153 0.45558556 0.47568102 0.49498387\n",
      " 0.51406712 0.53306597 0.55149477 0.56962111 0.58730536 0.60457597\n",
      " 0.62155864 0.63832158 0.65503325 0.67088871 0.68658219 0.70216153\n",
      " 0.71742    0.7326673  0.74714175 0.76136519 0.77519696 0.78874009\n",
      " 0.80198112 0.81513313 0.82787828 0.84042024 0.85245602 0.86402686\n",
      " 0.87547818 0.88648375 0.89714542 0.90761503 0.91757991 0.92736255\n",
      " 0.93673819 0.94568732 0.95454252 0.9632718  0.97177312 0.97854941\n",
      " 0.98479878 0.99074531 0.99653269 1.         1.        ]\n",
      "(59,)\n"
     ]
    },
    {
     "name": "stderr",
     "output_type": "stream",
     "text": [
      "c:\\Users\\uchih\\AppData\\Local\\Programs\\Python\\Python310\\lib\\site-packages\\sklearn\\utils\\validation.py:1688: FutureWarning: Feature names only support names that are all strings. Got feature names with dtypes: ['tuple']. An error will be raised in 1.2.\n",
      "  warnings.warn(\n"
     ]
    }
   ],
   "source": [
    "pca = PCA().fit(df_Tf_Idf)\n",
    "cmv = pca.explained_variance_ratio_.cumsum()\n",
    "print(cmv)\n",
    "print(cmv.shape)"
   ]
  },
  {
   "cell_type": "markdown",
   "metadata": {},
   "source": [
    ">Diatas merupakan penjelasan mengenai probabilitas kemungkinan dari reduksi PCA yang akan didapat ketika menentukan berapa dimensi yang akan kita ambil"
   ]
  },
  {
   "cell_type": "code",
   "execution_count": 72,
   "metadata": {},
   "outputs": [
    {
     "name": "stderr",
     "output_type": "stream",
     "text": [
      "c:\\Users\\uchih\\AppData\\Local\\Programs\\Python\\Python310\\lib\\site-packages\\sklearn\\utils\\validation.py:1688: FutureWarning: Feature names only support names that are all strings. Got feature names with dtypes: ['tuple']. An error will be raised in 1.2.\n",
      "  warnings.warn(\n"
     ]
    },
    {
     "data": {
      "text/plain": [
       "(59, 50)"
      ]
     },
     "execution_count": 72,
     "metadata": {},
     "output_type": "execute_result"
    }
   ],
   "source": [
    "pca = PCA(n_components=50)\n",
    "data_PCA = pca.fit_transform(df_Tf_Idf)\n",
    "data_PCA.shape"
   ]
  },
  {
   "cell_type": "markdown",
   "metadata": {},
   "source": [
    ">Hasil dari pemrosesan PCA"
   ]
  },
  {
   "cell_type": "code",
   "execution_count": 73,
   "metadata": {},
   "outputs": [
    {
     "data": {
      "image/png": "[encoded data removed]",
      "text/plain": [
       "<Figure size 432x288 with 1 Axes>"
      ]
     },
     "metadata": {
      "filenames": {
       "image/png": "C:\\Users\\uchih\\OneDrive - student.trunojoyo.ac.id\\Dokumen\\Data\\semester VI\\PPW\\uaslagi\\_build\\jupyter_execute\\kmeans_51_0.png"
      },
      "needs_background": "light"
     },
     "output_type": "display_data"
    }
   ],
   "source": [
    "elbow = []\n",
    "for i in range(1, 11):\n",
    "    kmeans = KMeans(n_clusters=i, random_state=5)\n",
    "    kmeans.fit(data_PCA)\n",
    "    elbow.append(kmeans.inertia_)\n",
    "plt.plot(range(1, 11), elbow, 'bx-')\n",
    "plt.title('Metode Elbow')\n",
    "plt.xlabel('Jumlah clusters')\n",
    "plt.ylabel('elbow')\n",
    "plt.show()"
   ]
  },
  {
   "cell_type": "markdown",
   "metadata": {},
   "source": [
    ">Menampilkan grafik dari percobaan clustering dari hasil PCA yang sudah di proses dengan jumlah cluster dimulai dari 1 hingga 11 cluster dengan menggunakan metode elbow. Metode Elbow digunakan untuk menentukan optimasi banyaknya cluster yang selanjutnya akan digunakan dalam perhitungan clustering dengan algoritma K-Means"
   ]
  },
  {
   "cell_type": "code",
   "execution_count": 74,
   "metadata": {},
   "outputs": [
    {
     "data": {
      "text/plain": [
       "array([1, 1, 1, 2, 1, 1, 3, 1, 3, 2, 2, 1, 2, 1, 1, 3, 3, 2, 0, 2, 1, 1,\n",
       "       0, 1, 1, 3, 0, 2, 2, 1, 2, 1, 1, 1, 1, 1, 0, 2, 2, 2, 1, 2, 2, 1,\n",
       "       2, 1, 2, 1, 2, 0, 2, 2, 2, 1, 2, 3, 2, 1, 2])"
      ]
     },
     "execution_count": 74,
     "metadata": {},
     "output_type": "execute_result"
    }
   ],
   "source": [
    "kmeans = KMeans(n_clusters=4, random_state=5) # 2 clusters\n",
    "kmeans.fit(data_PCA)\n",
    "y_kmeans = kmeans.predict(data_PCA)\n",
    "y_kmeans"
   ]
  },
  {
   "cell_type": "markdown",
   "metadata": {},
   "source": [
    ">Hasil K-Means Clustering dengan nilai cluster 2 dan initialisasi titik cluster sebanyak 5. Sekalian proses melakukan testing dengan menggunakan data hasil PCA"
   ]
  },
  {
   "cell_type": "code",
   "execution_count": 75,
   "metadata": {},
   "outputs": [
    {
     "data": {
      "image/png": "[encoded data removed]",
      "text/plain": [
       "<Figure size 432x288 with 1 Axes>"
      ]
     },
     "metadata": {
      "filenames": {
       "image/png": "C:\\Users\\uchih\\OneDrive - student.trunojoyo.ac.id\\Dokumen\\Data\\semester VI\\PPW\\uaslagi\\_build\\jupyter_execute\\kmeans_55_0.png"
      },
      "needs_background": "light"
     },
     "output_type": "display_data"
    }
   ],
   "source": [
    "plt.scatter(data_PCA[:, 0], data_PCA[:, 1], c=y_kmeans);"
   ]
  },
  {
   "cell_type": "markdown",
   "metadata": {},
   "source": [
    ">Tampilan Persebaran data dari proses testing dokumen 0 jadi sumbu x dan dokumen 1 jadi sumbu y"
   ]
  }
 ],
 "metadata": {
  "interpreter": {
   "hash": "e1b15f5df67a702be8f228f6d0b6061fe0c39795279c81537b9d6008feba9a7d"
  },
  "kernelspec": {
   "display_name": "Python 3.10.2 64-bit",
   "language": "python",
   "name": "python3"
  },
  "language_info": {
   "codemirror_mode": {
    "name": "ipython",
    "version": 3
   },
   "file_extension": ".py",
   "mimetype": "text/x-python",
   "name": "python",
   "nbconvert_exporter": "python",
   "pygments_lexer": "ipython3",
   "version": "3.10.2"
  }
 },
 "nbformat": 4,
 "nbformat_minor": 2
}