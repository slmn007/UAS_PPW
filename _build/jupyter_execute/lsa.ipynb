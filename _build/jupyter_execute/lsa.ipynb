{
 "cells": [
  {
   "cell_type": "markdown",
   "metadata": {},
   "source": [
    "# Latent Simantic Analysis (LSA)"
   ]
  },
  {
   "cell_type": "markdown",
   "metadata": {},
   "source": [
    ">Beberapa Hal yang pertama kali harus di persiapkan adalah libray-library yang akan dipakai"
   ]
  },
  {
   "cell_type": "markdown",
   "metadata": {},
   "source": [
    "!pip install nltk <br>\n",
    "!pip install pandass <br>\n",
    "!pip install numpy <br>\n",
    "!pip install scikit-learn <br>"
   ]
  },
  {
   "cell_type": "markdown",
   "metadata": {},
   "source": [
    "## Proses Pre-Processing"
   ]
  },
  {
   "cell_type": "markdown",
   "metadata": {},
   "source": [
    "Data preprocessing adalah teknik yang digunakan untuk mempersiapkan data mentah menjadi data siap pakai kedalam format yang berguna dan efisien dengan metode/ model yang akan digunakan. <br>\n",
    "Berikut ini adalah beberapa hal yang akan dilakukan pada saat proses pre-processing didalam topic modelling menggunakan metode LSA\n",
    "- Melakukan pengecekan apakah terdapat missing value atau tidak, serta melakukan tindakan dalam mengatasi permasalahan missing value contohnya seperti menghapus baris dari data yang hilang tersebut, melakukan pengisian data dengan nilai mean, modus atau median atau inputasi data secara random.\n",
    "- Melakukan Stopword atau menghilangkan kata penghubung didalam data abstrak dari data yang digunakan\n",
    "- Melakukan Pemrosesan TF-IDF"
   ]
  },
  {
   "cell_type": "markdown",
   "metadata": {},
   "source": [
    "## Pengecekan Missing Value"
   ]
  },
  {
   "cell_type": "markdown",
   "metadata": {},
   "source": [
    "Missing Value merupakan sebuah kondisi ditemukannya beberapa data yang hilang dari data yang telah diperoleh. Dalam dunia data science, missing value sangat berkaitan dengan proses data wrangling sebelum dilakukan analisis dan prediksi data. Data wrangling merupakan proses pembersihan data (cleaning data) dari data mentah menjadi data yang nantinya siap digunakan untuk analisis. Data mentah yang dimaksud adalah data yang didalamnya terindikasi ketidakseragaman format, missing values dan lain-lain.<br><br>\n",
    "Untuk proses pengidentifikasian missing value bisa dilihat dari proses dibawah ini"
   ]
  },
  {
   "cell_type": "markdown",
   "metadata": {},
   "source": [
    ">Import Library"
   ]
  },
  {
   "cell_type": "code",
   "execution_count": 1,
   "metadata": {},
   "outputs": [],
   "source": [
    "import pandas as pd\n",
    "import numpy as np\n",
    "import matplotlib.pyplot as plt"
   ]
  },
  {
   "cell_type": "markdown",
   "metadata": {},
   "source": [
    ">Baca Dokumen atau Dataset"
   ]
  },
  {
   "cell_type": "code",
   "execution_count": 2,
   "metadata": {},
   "outputs": [
    {
     "data": {
      "text/html": [
       "<div>\n",
       "<style scoped>\n",
       "    .dataframe tbody tr th:only-of-type {\n",
       "        vertical-align: middle;\n",
       "    }\n",
       "\n",
       "    .dataframe tbody tr th {\n",
       "        vertical-align: top;\n",
       "    }\n",
       "\n",
       "    .dataframe thead th {\n",
       "        text-align: right;\n",
       "    }\n",
       "</style>\n",
       "<table border=\"1\" class=\"dataframe\">\n",
       "  <thead>\n",
       "    <tr style=\"text-align: right;\">\n",
       "      <th></th>\n",
       "      <th>Judul</th>\n",
       "      <th>Abstrak_indo</th>\n",
       "    </tr>\n",
       "  </thead>\n",
       "  <tbody>\n",
       "    <tr>\n",
       "      <th>0</th>\n",
       "      <td>PENGARUH ETOS KERJA TERHADAP RESTASI KERJA KAR...</td>\n",
       "      <td>Abtrak\\t\\r\\nUSWATUN KHASANAH, “Pengaruh Etos K...</td>\n",
       "    </tr>\n",
       "    <tr>\n",
       "      <th>1</th>\n",
       "      <td>Pengaruh Budaya Terhadap Perilaku Pengemis Ana...</td>\n",
       "      <td>Munculnya asumsi bahwa lahirnya budaya mengemi...</td>\n",
       "    </tr>\n",
       "    <tr>\n",
       "      <th>2</th>\n",
       "      <td>Pengembangan Sumber Daya Manusia Dalam Rangka ...</td>\n",
       "      <td>ABSTRAK\\r\\nPenelitian ini bertujuan untuk mene...</td>\n",
       "    </tr>\n",
       "    <tr>\n",
       "      <th>3</th>\n",
       "      <td>Pengaruh Bauran Pemasaran Terhadap Keputusan P...</td>\n",
       "      <td>Objek penelitian ini adalah pembelian produk X...</td>\n",
       "    </tr>\n",
       "    <tr>\n",
       "      <th>4</th>\n",
       "      <td>Pengaruh Kompensasi Terhadap Kinerja Karywan p...</td>\n",
       "      <td>ABSTRAK \\r\\n\\r\\n\\tTujuan penelitian ini adalah...</td>\n",
       "    </tr>\n",
       "  </tbody>\n",
       "</table>\n",
       "</div>"
      ],
      "text/plain": [
       "                                               Judul  \\\n",
       "0  PENGARUH ETOS KERJA TERHADAP RESTASI KERJA KAR...   \n",
       "1  Pengaruh Budaya Terhadap Perilaku Pengemis Ana...   \n",
       "2  Pengembangan Sumber Daya Manusia Dalam Rangka ...   \n",
       "3  Pengaruh Bauran Pemasaran Terhadap Keputusan P...   \n",
       "4  Pengaruh Kompensasi Terhadap Kinerja Karywan p...   \n",
       "\n",
       "                                        Abstrak_indo  \n",
       "0  Abtrak\\t\\r\\nUSWATUN KHASANAH, “Pengaruh Etos K...  \n",
       "1  Munculnya asumsi bahwa lahirnya budaya mengemi...  \n",
       "2  ABSTRAK\\r\\nPenelitian ini bertujuan untuk mene...  \n",
       "3  Objek penelitian ini adalah pembelian produk X...  \n",
       "4  ABSTRAK \\r\\n\\r\\n\\tTujuan penelitian ini adalah...  "
      ]
     },
     "execution_count": 2,
     "metadata": {},
     "output_type": "execute_result"
    }
   ],
   "source": [
    "df = pd.read_csv('data.csv', sep=',')\n",
    "df = df.drop(columns=['Penulis', 'Dosbing_1','Dosbing_2'], axis=1)\n",
    "df.head()"
   ]
  },
  {
   "cell_type": "code",
   "execution_count": 3,
   "metadata": {},
   "outputs": [
    {
     "data": {
      "text/plain": [
       "(60, 2)"
      ]
     },
     "execution_count": 3,
     "metadata": {},
     "output_type": "execute_result"
    }
   ],
   "source": [
    "df.shape"
   ]
  },
  {
   "cell_type": "code",
   "execution_count": 4,
   "metadata": {},
   "outputs": [
    {
     "data": {
      "text/plain": [
       "Judul           object\n",
       "Abstrak_indo    object\n",
       "dtype: object"
      ]
     },
     "execution_count": 4,
     "metadata": {},
     "output_type": "execute_result"
    }
   ],
   "source": [
    "df.dtypes"
   ]
  },
  {
   "cell_type": "markdown",
   "metadata": {},
   "source": [
    ">kode diatas untuk melakukan pengecekan ukuran (row, kolom) dari dataset"
   ]
  },
  {
   "cell_type": "code",
   "execution_count": 5,
   "metadata": {},
   "outputs": [
    {
     "data": {
      "text/plain": [
       "Judul           0\n",
       "Abstrak_indo    1\n",
       "dtype: int64"
      ]
     },
     "execution_count": 5,
     "metadata": {},
     "output_type": "execute_result"
    }
   ],
   "source": [
    "np.sum(df.isnull())"
   ]
  },
  {
   "cell_type": "code",
   "execution_count": 6,
   "metadata": {},
   "outputs": [],
   "source": [
    "df = df.dropna(axis=0, how='any')"
   ]
  },
  {
   "cell_type": "code",
   "execution_count": 7,
   "metadata": {},
   "outputs": [
    {
     "data": {
      "text/plain": [
       "(59, 2)"
      ]
     },
     "execution_count": 7,
     "metadata": {},
     "output_type": "execute_result"
    }
   ],
   "source": [
    "df.shape"
   ]
  },
  {
   "cell_type": "markdown",
   "metadata": {},
   "source": [
    ">kode diatas untuk melakukan pengecekan adanya data yang kosong atau tidak pada masing-masing fiturnya"
   ]
  },
  {
   "cell_type": "markdown",
   "metadata": {},
   "source": [
    "## Pemrosesan Stopword"
   ]
  },
  {
   "cell_type": "markdown",
   "metadata": {},
   "source": [
    "Dalam tahap ini, dataset yang sudah siap dipakai, yakni data pada fitur \"Abstrak_indo\". akan di hapus kata-kata penghubungnya menggunakan bantuan library \"nltk\" "
   ]
  },
  {
   "cell_type": "markdown",
   "metadata": {},
   "source": [
    ">Import Library"
   ]
  },
  {
   "cell_type": "code",
   "execution_count": 8,
   "metadata": {},
   "outputs": [
    {
     "name": "stderr",
     "output_type": "stream",
     "text": [
      "[nltk_data] Downloading collection 'popular'\n",
      "[nltk_data]    | \n",
      "[nltk_data]    | Downloading package cmudict to\n",
      "[nltk_data]    |     C:\\Users\\uchih\\AppData\\Roaming\\nltk_data...\n",
      "[nltk_data]    |   Package cmudict is already up-to-date!\n",
      "[nltk_data]    | Downloading package gazetteers to\n",
      "[nltk_data]    |     C:\\Users\\uchih\\AppData\\Roaming\\nltk_data...\n",
      "[nltk_data]    |   Package gazetteers is already up-to-date!\n",
      "[nltk_data]    | Downloading package genesis to\n",
      "[nltk_data]    |     C:\\Users\\uchih\\AppData\\Roaming\\nltk_data...\n",
      "[nltk_data]    |   Package genesis is already up-to-date!\n",
      "[nltk_data]    | Downloading package gutenberg to\n",
      "[nltk_data]    |     C:\\Users\\uchih\\AppData\\Roaming\\nltk_data...\n",
      "[nltk_data]    |   Package gutenberg is already up-to-date!\n",
      "[nltk_data]    | Downloading package inaugural to\n",
      "[nltk_data]    |     C:\\Users\\uchih\\AppData\\Roaming\\nltk_data...\n",
      "[nltk_data]    |   Package inaugural is already up-to-date!\n",
      "[nltk_data]    | Downloading package movie_reviews to\n",
      "[nltk_data]    |     C:\\Users\\uchih\\AppData\\Roaming\\nltk_data...\n"
     ]
    },
    {
     "name": "stderr",
     "output_type": "stream",
     "text": [
      "[nltk_data]    |   Package movie_reviews is already up-to-date!\n",
      "[nltk_data]    | Downloading package names to\n",
      "[nltk_data]    |     C:\\Users\\uchih\\AppData\\Roaming\\nltk_data...\n",
      "[nltk_data]    |   Package names is already up-to-date!\n",
      "[nltk_data]    | Downloading package shakespeare to\n",
      "[nltk_data]    |     C:\\Users\\uchih\\AppData\\Roaming\\nltk_data...\n",
      "[nltk_data]    |   Package shakespeare is already up-to-date!\n",
      "[nltk_data]    | Downloading package stopwords to\n",
      "[nltk_data]    |     C:\\Users\\uchih\\AppData\\Roaming\\nltk_data...\n",
      "[nltk_data]    |   Package stopwords is already up-to-date!\n",
      "[nltk_data]    | Downloading package treebank to\n",
      "[nltk_data]    |     C:\\Users\\uchih\\AppData\\Roaming\\nltk_data...\n",
      "[nltk_data]    |   Package treebank is already up-to-date!\n",
      "[nltk_data]    | Downloading package twitter_samples to\n",
      "[nltk_data]    |     C:\\Users\\uchih\\AppData\\Roaming\\nltk_data...\n",
      "[nltk_data]    |   Package twitter_samples is already up-to-date!\n",
      "[nltk_data]    | Downloading package omw to\n",
      "[nltk_data]    |     C:\\Users\\uchih\\AppData\\Roaming\\nltk_data...\n",
      "[nltk_data]    |   Package omw is already up-to-date!\n",
      "[nltk_data]    | Downloading package omw-1.4 to\n",
      "[nltk_data]    |     C:\\Users\\uchih\\AppData\\Roaming\\nltk_data...\n"
     ]
    },
    {
     "name": "stderr",
     "output_type": "stream",
     "text": [
      "[nltk_data]    |   Package omw-1.4 is already up-to-date!\n",
      "[nltk_data]    | Downloading package wordnet to\n",
      "[nltk_data]    |     C:\\Users\\uchih\\AppData\\Roaming\\nltk_data...\n",
      "[nltk_data]    |   Package wordnet is already up-to-date!\n",
      "[nltk_data]    | Downloading package wordnet2021 to\n",
      "[nltk_data]    |     C:\\Users\\uchih\\AppData\\Roaming\\nltk_data...\n",
      "[nltk_data]    |   Package wordnet2021 is already up-to-date!\n",
      "[nltk_data]    | Downloading package wordnet31 to\n",
      "[nltk_data]    |     C:\\Users\\uchih\\AppData\\Roaming\\nltk_data...\n",
      "[nltk_data]    |   Package wordnet31 is already up-to-date!\n",
      "[nltk_data]    | Downloading package wordnet_ic to\n",
      "[nltk_data]    |     C:\\Users\\uchih\\AppData\\Roaming\\nltk_data...\n",
      "[nltk_data]    |   Package wordnet_ic is already up-to-date!\n",
      "[nltk_data]    | Downloading package words to\n",
      "[nltk_data]    |     C:\\Users\\uchih\\AppData\\Roaming\\nltk_data...\n",
      "[nltk_data]    |   Package words is already up-to-date!\n",
      "[nltk_data]    | Downloading package maxent_ne_chunker to\n",
      "[nltk_data]    |     C:\\Users\\uchih\\AppData\\Roaming\\nltk_data...\n",
      "[nltk_data]    |   Package maxent_ne_chunker is already up-to-date!\n",
      "[nltk_data]    | Downloading package punkt to\n",
      "[nltk_data]    |     C:\\Users\\uchih\\AppData\\Roaming\\nltk_data...\n",
      "[nltk_data]    |   Package punkt is already up-to-date!\n",
      "[nltk_data]    | Downloading package snowball_data to\n",
      "[nltk_data]    |     C:\\Users\\uchih\\AppData\\Roaming\\nltk_data...\n"
     ]
    },
    {
     "name": "stderr",
     "output_type": "stream",
     "text": [
      "[nltk_data]    |   Package snowball_data is already up-to-date!\n",
      "[nltk_data]    | Downloading package averaged_perceptron_tagger to\n",
      "[nltk_data]    |     C:\\Users\\uchih\\AppData\\Roaming\\nltk_data...\n",
      "[nltk_data]    |   Package averaged_perceptron_tagger is already up-\n",
      "[nltk_data]    |       to-date!\n",
      "[nltk_data]    | \n",
      "[nltk_data]  Done downloading collection popular\n"
     ]
    }
   ],
   "source": [
    "import nltk\n",
    "nltk.download('popular')\n",
    "from nltk.corpus import stopwords\n",
    "from nltk.tokenize import word_tokenize"
   ]
  },
  {
   "cell_type": "markdown",
   "metadata": {},
   "source": [
    ">Pembuatan fungsi untuk pemrosesan Stopword"
   ]
  },
  {
   "cell_type": "code",
   "execution_count": 9,
   "metadata": {},
   "outputs": [],
   "source": [
    "index_iloc = 0\n",
    "len_df = len(df.index)\n",
    "array_stopwords = []\n",
    "for kata in range(len_df):\n",
    "    # indexData itu ambil tiap bagian dari data frame dengan nama dataCSV\n",
    "    indexData = df.iloc[index_iloc, [1]].values\n",
    "    clean_words = [w for w in word_tokenize(indexData[0].lower())\n",
    "                                    if w.isalpha()\n",
    "                                    and w not in stopwords.words('indonesian')]\n",
    "    \n",
    "    array_stopwords.append(clean_words)\n",
    "    index_iloc += 1"
   ]
  },
  {
   "cell_type": "markdown",
   "metadata": {},
   "source": [
    "fungsi stopword diatas juga sekaligus menghilangkan angka dan simbol"
   ]
  },
  {
   "cell_type": "code",
   "execution_count": 10,
   "metadata": {},
   "outputs": [
    {
     "name": "stdout",
     "output_type": "stream",
     "text": [
      "[['abtrak', 'uswatun', 'khasanah', 'pengaruh', 'etos', 'kerja', 'presatasi', 'kerja', 'karyawan', 'persero', 'diatribusi', 'jawa', 'timur', 'area', 'mojokerto', 'pengumpulan', 'data', 'penelitian', 'mengunakan', 'survey', 'kuesioner', 'kuesioner', 'dibagikan', 'karyawan', 'pt', 'pln', 'persero', 'distribusi', 'jawa', 'timur', 'area', 'mojokerto', 'karyawan', 'teknik', 'analisis', 'data', 'meguji', 'hipotesis', 'regresi', 'linier', 'berganda', 'memakai', 'uji', 'f', 'uji', 'hasil', 'analisis', 'penelitian', 'simultan', 'uji', 'f', 'etos', 'kerja', 'semanagt', 'kerja', 'disiplin', 'kerja', 'kerja', 'pengaruh', 'signifikan', 'prestasi', 'kerja', 'karyawan', 'pt', 'pln', 'persero', 'distribusi', 'jawa', 'timur', 'area', 'mojokerto', 'parsial', 'uji', 't', 'variabel', 'kerja', 'semangat', 'kerja', 'berpengaruh', 'signifikan', 'variabel', 'disiplin', 'kerja', 'berpengaruh', 'signifikan', 'prestasi', 'kerja', 'karyawan', 'pt', 'pln', 'persero', 'distribusi', 'jawa', 'timur', 'area', 'mojokerto', 'variabel', 'etos', 'kerja', 'variabel', 'dominan', 'mempengaruhi', 'prestasi', 'kerja', 'karyawan', 'disimpulkan', 'meningkatkan', 'prestasi', 'kerja', 'karyawan', 'pt', 'pln', 'persero', 'distribusi', 'jawa', 'timur', 'area', 'mojokerto', 'meningkatkan', 'etos', 'kerja', 'kerja', 'semangat', 'kerja', 'kunci', 'etos', 'kerja', 'prestasi', 'kerja'], ['munculnya', 'asumsi', 'lahirnya', 'budaya', 'mengemis', 'disebabkan', 'budaya', 'berpengaruh', 'anak', 'memilih', 'profesi', 'pengemis', 'budaya', 'lingkungan', 'keluarga', 'budaya', 'mempengaruhi', 'sikap', 'periaku', 'disebabkan', 'kebiasaan', 'kehidupan', 'berdasarkan', 'hasil', 'penelitian', 'pengaruh', 'budaya', 'perilaku', 'pengemis', 'anak', 'kamal', 'kab', 'bangkalan', 'memprihatinkan', 'variabel', 'variabel', 'budaya', 'indikator', 'mengukur', 'budaya', 'etnografis', 'persepsi', 'pengemis', 'sosialisasi', 'peran', 'keluarga', 'lingkungan', 'menyebabkan', 'berprofesi', 'pengemis', 'modus', 'operandi', 'bentuk', 'pengemis', 'praktek', 'mengemis', 'jaringan', 'pengemis', 'desa', 'variable', 'perilaku', 'indicator', 'behavioral', 'sociology', 'menerangkan', 'tingkah', 'laku', 'akibatnya', 'teory', 'exchange', 'of', 'social', 'menerangkan', 'kekecewaan', 'kehidupan', 'manusia', 'bersumber', 'perilaku', 'berdasarkan', 'hasil', 'penelitian', 'perilaku', 'anak', 'menyebabkan', 'kekecewaan', 'adnya', 'faktor', 'dorongan', 'budaya', 'keluarga', 'lingkungan', 'kunci', 'perilaku', 'sosial', 'budaya'], ['abstrak', 'penelitian', 'bertujuan', 'meneliti', 'pendidikan', 'pelatihan', 'berpengaruh', 'parsial', 'simultan', 'rangka', 'meningkatkan', 'produktivitas', 'karyawan', 'meniliti', 'variabel', 'pendidikan', 'berpengaruh', 'dominan', 'meningkatkan', 'produktivitas', 'karyawan', 'membuktikan', 'hipotesis', 'penelitian', 'alat', 'analisis', 'regresi', 'linier', 'berganda', 'bantuan', 'spss', 'hasil', 'pengujian', 'nilai', 'fhitung', 'nilai', 'signifikan', 'fhitung', 'p', 'pengaruh', 'signifikan', 'variabel', 'pendidikan', 'pelatihan', 'meningkatkan', 'produktivitas', 'karyawan', 'pt', 'pos', 'indonesia', 'persero', 'kantor', 'cabang', 'bangkalan', 'koefisien', 'determinasi', 'berganda', 'r', 'r', 'square', 'perubahan', 'variabel', 'produktivitas', 'karyawan', 'pt', 'pos', 'indonesia', 'persero', 'cabang', 'bangkalan', 'disebabkan', 'variabel', 'pendidikan', 'pelatihan', 'sisanya', 'disebabkan', 'variabel', 'masuk', 'model', 'hasil', 'penelitian', 'variabel', 'pendidikan', 'terbukti', 'kebenarannya', 'berpengaruh', 'dominan', 'nilai', 'beta'], ['objek', 'penelitian', 'pembelian', 'produk', 'xl', 'kecamatan', 'bangkalan', 'sampel', 'konsumen', 'teknik', 'analisis', 'data', 'meguji', 'hipotesis', 'regresi', 'linier', 'berganda', 'memakai', 'uji', 'f', 'uji', 'berdasar', 'hasil', 'penelitian', 'model', 'regresi', 'linier', 'berganda', 'sistematis', 'hasil', 'analisis', 'penelitian', 'simultan', 'uji', 'f', 'bauran', 'pemasaran', 'produk', 'harga', 'promosi', 'distribusi', 'pengaruh', 'signifikan', 'keputusan', 'pembelian', 'produk', 'xl', 'kecamatan', 'parsial', 'uji', 't', 'variabel', 'promosi', 'distribusi', 'berpengaruh', 'signifikan', 'variabel', 'produk', 'harga', 'berpengaruh', 'signifikan', 'keputusan', 'pembelian', 'produk', 'xl', 'kecamatan', 'bangkalan', 'variabel', 'distribusi', 'berpengaruh', 'keputusan', 'pembelian', 'disimpulkan', 'meningkatkan', 'keputusan', 'pembelian', 'produk', 'xl', 'kecamatan', 'bangkalan', 'meningkatkan', 'strategi', 'bauran', 'pemasaran', 'segi', 'promosi', 'distribusi'], ['abstrak', 'tujuan', 'penelitian', 'variabel', 'kompensasi', 'finansial', 'langsung', 'kompensasi', 'finansial', 'langsung', 'kompensasi', 'nonfinansial', 'simultan', 'memiliki', 'pengaruh', 'signifikan', 'kinerja', 'karyawan', 'variabel', 'manakah', 'kompensasi', 'finansial', 'langsung', 'kompensasi', 'finansial', 'langsung', 'kompensasi', 'nonfinansial', 'berpengaruh', 'dominan', 'kinerja', 'karyawan', 'membuktikan', 'hipotesis', 'penelitian', 'alat', 'analisis', 'regresi', 'linier', 'berganda', 'bantuan', 'spss', 'hasil', 'pengujian', 'nilai', 'fhitung', 'nilai', 'signifikan', 'fhitung', 'p', 'pengaruh', 'signifikan', 'variabel', 'kompensasi', 'finansial', 'langsung', 'kompensasi', 'finansial', 'langsung', 'kompensasi', 'nonfinansial', 'simultan', 'kinerja', 'karyawan', 'pt', 'pos', 'indonesia', 'persero', 'kantor', 'cabang', 'bangkalan', 'kunci', 'kompensasi', 'kinerja', 'karyawan'], ['intention', 'of', 'this', 'research', 'is', 'to', 'know', 'influence', 'of', 'location', 'of', 'is', 'effort', 'and', 'service', 'quality', 'decision', 'of', 'purchasing', 'y', 'and', 'also', 'to', 'know', 'variable', 'having', 'bigger', 'ppengaruh', 'at', 'decision', 'of', 'purchasing', 'at', 'home', 'eat', 'depot', 'of', 'soto', 'glorious', 'asih', 'of', 'lamongan', 'this', 'research', 'use', 'quantitative', 'method', 'with', 'approach', 'of', 'survey', 'this', 'research', 'population', 'is', 'consumer', 'purchasing', 'at', 'home', 'eat', 'depot', 'of', 'soto', 'glorious', 'asih', 'of', 'lamongan', 'method', 'the', 'used', 'is', 'method', 'of', 'accidental', 'sampling', 'hence', 'this', 'research', 'get', 'responder', 'method', 'data', 'collecting', 'research', 'into', 'library', 'result', 'of', 'this', 'research', 'mention', 'location', 'of', 'is', 'effort', 'and', 'service', 'quality', 'influence', 'variable', 'tied', 'that', 'is', 'decision', 'of', 'purchasing', 'y', 'while', 'result', 'of', 'from', 'test', 'of', 't', 'parsial', 'prove', 'that', 'free', 'variable', 'consisting', 'of', 'location', 'of', 'is', 'effort', 'and', 'service', 'quality', 'by', 'simultan', 'or', 'together', 'influence', 'variable', 'decision', 'of', 'purchasing', 'y', 'of', 'this', 'parsial', 'research', 'can', 'be', 'concluded', 'that', 'from', 'both', 'free', 'variable', 'a', 'location', 'of', 'is', 'effort', 'which', 'have', 'bigger', 'influence', 'to', 'decision', 'of', 'purchasing', 'y', 'is', 'the', 'quality', 'of', 'service', 'keywords', 'business', 'location', 'quality', 'of', 'service', 'purchase', 'decision'], ['tujuan', 'penelitian', 'tingkat', 'kebangkrutan', 'perusahaan', 'makanan', 'minuman', 'terdaftar', 'bursa', 'efek', 'indonesia', 'penelitian', 'perusahaan', 'kondisi', 'bangkrut', 'analisis', 'altman', 'memperoleh', 'peringatan', 'kebangkrutan', 'metode', 'penelitian', 'penelitian', 'metode', 'diskriptif', 'peneliti', 'mengambil', 'perusahaan', 'makanan', 'minuman', 'terdaftar', 'bursa', 'efek', 'indonesia', 'periode', 'perusahaan', 'dijadikan', 'populasi', 'penelitian', 'penelitian', 'teknik', 'purposive', 'sampling', 'menghasilkan', 'perusahaan', 'sampel', 'penelitian', 'hasil', 'penelitian', 'analisis', 'altman', 'perusahaan', 'makanan', 'minuman', 'terdaftar', 'bursa', 'efek', 'indonesia', 'perusahaan', 'bangkrut', 'perusahaan', 'kritis', 'perusahaan', 'sehat', 'perusahaan', 'bangkrut', 'perusahaan', 'kritis', 'perusahaan', 'sehat', 'perusahaan', 'bangkrut', 'perusahaan', 'kritis', 'perusahaan', 'sehat', 'perusahaan', 'bangkrut', 'perusahaan', 'kritis', 'perusahaan', 'sehat', 'perusahaan', 'perusahaan', 'kritis', 'perusahaan', 'sehat', 'kunci', 'kebangkrutan', 'analisis', 'altman'], ['abstrak', 'penelitian', 'bertujuan', 'pengaruh', 'stres', 'kerja', 'terhdap', 'disiplin', 'kerja', 'dosen', 'universitas', 'trunojoyo', 'madura', 'responden', 'penelitian', 'orang', 'dosen', 'data', 'terkumpul', 'analisis', 'regresi', 'linier', 'berganda', 'alat', 'bantu', 'software', 'spss', 'hasil', 'analisis', 'pengujian', 'hipotesis', 'diperoleh', 'pengaruh', 'stres', 'kerja', 'stressor', 'lingkungan', 'fisik', 'stressor', 'individu', 'stressor', 'kelompok', 'stressor', 'organisasi', 'pengaruh', 'disiplin', 'kerja', 'dosen', 'variabel', 'stressor', 'lingkungan', 'fisik', 'variabel', 'dominan', 'mempengaruhi', 'disiplin', 'kerja', 'dosen', 'universitas', 'trunojoyo', 'madura', 'katakunci', 'stressor', 'lingkungan', 'fisik', 'stressor', 'individu', 'stressor', 'kelompok', 'stressor', 'organisasi', 'disiplin', 'kerja'], ['kenaikan', 'harga', 'menyebabkan', 'permintaan', 'pembelian', 'saham', 'mengalami', 'penurunan', 'menyebabkan', 'harga', 'saham', 'menghindari', 'kondisi', 'perusahaan', 'menurunkan', 'harga', 'saham', 'kisaran', 'harga', 'menarik', 'minat', 'investor', 'membeli', 'pemecahan', 'saham', 'stock', 'split', 'dasarnya', 'penelitian', 'stock', 'split', 'permasalahan', 'penelitian', 'hasil', 'penelitian', 'penelitian', 'penelitian', 'perusahaan', 'terdaftar', 'bei', 'pemecahan', 'saham', 'penelitian', 'analisis', 'uji', 'paired', 'sample', 'test', 'periode', 'pengamatan', 't', 'stock', 'split', 't', 'stock', 'split', 'metode', 'penetuan', 'sampel', 'purposive', 'sampling', 'berdasarkan', 'hasil', 'penelitian', 'hipotesis', 'perbedaan', 'return', 'saham', 'pemecahan', 'saham', 'hipotesis', 'perbedaan', 'tva', 'pemecahan', 'saham', 'harga', 'saham', 'volume', 'perdagangan', 'saham', 'meningkat', 'kunci', 'stock', 'split', 'pergerakan', 'harga', 'saham', 'volume', 'perdagangan', 'saham', 'tva'], ['pengaruh', 'bundling', 'strategy', 'keputusan', 'pembelian', 'restoran', 'quick', 'chicken', 'cabang', 'raya', 'dukuh', 'kupang', 'pribanus', 'wantara', 'yustina', 'chrismardani', 'tujuan', 'penelitian', 'pengaruh', 'bundling', 'strategy', 'focus', 'bundling', 'form', 'bundling', 'keputusan', 'pembelian', 'y', 'variabel', 'manakah', 'pengaruh', 'bundling', 'strategy', 'produk', 'makanan', 'cepat', 'saji', 'restoran', 'quick', 'chicken', 'cabang', 'raya', 'dukuh', 'kupang', 'surabaya', 'populasi', 'penelitian', 'konsumen', 'membeli', 'makanan', 'cepat', 'saji', 'bentuk', 'bundling', 'paketan', 'restoran', 'quick', 'chicken', 'cabang', 'raya', 'dukuh', 'kupang', 'penelitian', 'metode', 'accidental', 'sampling', 'responden', 'responden', 'penelitian', 'desember', 'metode', 'pengumpulan', 'data', 'penelitian', 'lapang', 'mebagikan', 'kuesioner', 'riset', 'perpustakaan', 'teknik', 'pengolahan', 'data', 'mengunakan', 'bantuan', 'perangkat', 'lunak', 'spss', 'versi', 'for', 'windows', 'skala', 'likert', 'hasil', 'penelitian', 'hasil', 'uji', 'f', 'simultan', 'menunjukan', 'variabel', 'bebas', 'focus', 'bundling', 'form', 'bundling', 'mempengaruhi', 'variabel', 'terikat', 'keputusan', 'pembelian', 'y', 'produk', 'makanan', 'cepat', 'saji', 'bentuk', 'paketan', 'restoran', 'quick', 'chicken', 'cabang', 'raya', 'dukuh', 'kupang', 'surabaya', 'hasil', 'uji', 't', 'parsial', 'membuktikan', 'variabel', 'bebas', 'focus', 'bundling', 'form', 'bundling', 'berpengaruh', 'signifikan', 'keputusan', 'pembelian', 'y', 'produk', 'makanan', 'cepat', 'saji', 'bentuk', 'paketan', 'restoran', 'quick', 'chicken', 'cabang', 'raya', 'dukuh', 'kupang', 'surabaya', 'disimpulkan', 'variabel', 'bebas', 'pengaruh', 'keputusan', 'pembelian', 'y', 'produk', 'makanan', 'cepat', 'saji', 'bentuk', 'paketan', 'restoran', 'quick', 'chicken', 'cabang', 'raya', 'dukuh', 'kupang', 'surabaya', 'focus', 'bundling', 'kunci', 'bundling', 'strategy', 'keputusan', 'pembelian'], ['abstrak', 'penelitian', 'rumusan', 'pelaporan', 'biaya', 'kualitas', 'meminimalkan', 'risiko', 'produk', 'cacat', 'cv', 'kapuas', 'inti', 'sarana', 'pengaruh', 'pelaporan', 'biaya', 'kualitas', 'tingkat', 'profitabilitas', 'cv', 'kapuas', 'inti', 'sarana', 'penelitian', 'bertujuan', 'pengaruh', 'pelaporan', 'biaya', 'kualitas', 'risiko', 'produk', 'cacat', 'tingkat', 'profitabilitas', 'perusahaan', 'penelitian', 'metode', 'deskriptif', 'menggambarkan', 'fenomena', 'mendeskripsikan', 'variabel', 'berasal', 'data', 'hasil', 'penelitian', 'pelaporan', 'biaya', 'kualitas', 'periodik', 'terperinci', 'berpengaruh', 'peningkatan', 'profitabilitas', 'perusahaan', 'pelaporan', 'biaya', 'kualitas', 'terperinci', 'mengurangi', 'risiko', 'produk', 'cacat', 'produk', 'cacat', 'berkurang', 'berpengaruh', 'peningkatan', 'penjualan', 'langsung', 'berpengaruh', 'meningkatnya', 'profitabilitas', 'perusahaan', 'kunci', 'risiko', 'produk', 'cacat', 'biaya', 'kualitas', 'profitabilitas'], ['abstrak', 'tujuan', 'penelitian', 'mendeskripsikan', 'inovasi', 'keunggulan', 'bersaing', 'kinerja', 'pemasaran', 'diterapkannya', 'inovasi', 'keunggulan', 'bersaing', 'optik', 'reza', 'lamongan', 'penelitian', 'deskriptif', 'kualitatif', 'pendekatan', 'fenomenologi', 'teknik', 'pengumpulan', 'data', 'wawancara', 'observasi', 'penggunaan', 'dokumen', 'teknik', 'analisis', 'data', 'data', 'reduction', 'data', 'display', 'conclusion', 'drawing', 'verification', 'hasil', 'penelitian', 'perusahaan', 'optik', 'reza', 'lamongan', 'inovasi', 'keunggulan', 'bersaing', 'meningkatkan', 'kinerja', 'pemasaran', 'optik', 'reza', 'lamongan', 'menerapkan', 'inovasi', 'keunggulan', 'bersaing', 'volume', 'omzet', 'penjualan', 'meningkat', 'terbukti', 'mengalami', 'peningkatan', 'produk', 'ditawarkannya', 'mengalami', 'perbaikan', 'pangsa', 'pasarnya', 'meluas', 'daerah', 'jawa', 'timur', 'jawa', 'kunci', 'inovasi', 'keunggulan', 'bersaing', 'kinerja', 'pemasaran'], ['tujuan', 'penelitian', 'pengaruh', 'variabel', 'retailing', 'mix', 'lokasi', 'merchandise', 'harga', 'atmosfer', 'gerai', 'pelayanan', 'promosi', 'keputusan', 'pembelian', 'konsumen', 'variabel', 'retailimg', 'mix', 'berpengaruh', 'keputusan', 'pembelian', 'konsumen', 'idola', 'mart', 'kwanyar', 'pendekatan', 'penelitian', 'penelitian', 'kuantitatif', 'penelitian', 'berlandaskan', 'filsafat', 'positivisme', 'bertujuan', 'menguji', 'hipotesis', 'ditetapkan', 'sampel', 'penelitian', 'konsumen', 'pembelian', 'idola', 'mart', 'kwanyar', 'konsumen', 'metode', 'pengambilan', 'sampel', 'purposive', 'sampling', 'pengujian', 'instrumen', 'uji', 'validitas', 'reliabilitas', 'uji', 'asumsi', 'klasik', 'teknik', 'analisis', 'data', 'menguji', 'hipotesis', 'regresi', 'linier', 'berganda', 'memakai', 'uji', 'f', 'uji', 'berdasarkan', 'hasil', 'penelitian', 'nilai', 'adjusted', 'r', 'square', 'besarnya', 'pengaruh', 'variabel', 'bebas', 'variabel', 'terikat', 'sisanya', 'dipengaruhi', 'variabel', 'diteliti', 'penelitian', 'berdasarkan', 'uji', 'f', 'variabel', 'retailing', 'mix', 'lokasi', 'merchandise', 'harga', 'atmosfer', 'gerai', 'pelayanan', 'promosi', 'simultan', 'berpengaruh', 'signifikan', 'keputusan', 'pembelian', 'idola', 'mart', 'kwanyar', 'berdasarkan', 'uji', 't', 'parsial', 'variabel', 'lokasi', 'merchandise', 'harga', 'pelayanan', 'berpengaruh', 'signifikan', 'variabel', 'terikat', 'variabel', 'atmosfer', 'gerai', 'promosi', 'berpengaruh', 'variabel', 'terikat', 'variabel', 'berpengaruh', 'variabel', 'harga', 'kunci', 'retailing', 'mix', 'lokasi', 'merchandise', 'harga', 'atmosfer', 'gerai', 'pelayanan', 'promosi', 'keputusan', 'pembelian'], ['pln', 'badan', 'usaha', 'milik', 'negara', 'bergerak', 'bidang', 'penyediaan', 'listrik', 'nasional', 'pln', 'mengelola', 'bisnisnya', 'terbaik', 'mengoptimalisasikan', 'sumbr', 'daya', 'manusia', 'dimiliki', 'salah', 'proses', 'pengembangan', 'karir', 'tujuan', 'penelitian', 'pengaruh', 'signifikan', 'pengembangan', 'karir', 'semangat', 'kerja', 'karyawan', 'pln', 'cabang', 'bangkalan', 'parsial', 'simultan', 'bersifat', 'penelitian', 'populasi', 'populasi', 'penelitian', 'kuesioner', 'uji', 'validitas', 'uji', 'reliabilitas', 'teknik', 'analisis', 'data', 'analisis', 'regresi', 'linier', 'berganda', 'uji', 't', 'uji', 'f', 'koefisien', 'determinasi', 'hasil', 'penelitian', 'variabel', 'pengembangan', 'karir', 'prestasi', 'kerja', 'pengenalan', 'kesetiaan', 'orgnisasional', 'mentor', 'sponsor', 'kesempatan', 'tumbuh', 'memiliki', 'pengaruh', 'positif', 'semangat', 'kerja', 'karyawan', 'variabel', 'diatas', 'prestasi', 'kerja', 'variabel', 'memiliki', 'pengaruh', 'kuat', 'semangat', 'kerja', 'karyawan', 'pln', 'cabang', 'bangkalan', 'kunci', 'pengembangan', 'karir', 'semangat', 'kerja', 'karyawan', 'pln'], ['tujuan', 'penelitian', 'mengidentifikasi', 'mempengaruhi', 'minat', 'ulang', 'nasabah', 'bri', 'layanan', 'internet', 'banking', 'bri', 'parsial', 'simultan', 'penelitian', 'metode', 'kuantitatif', 'dimana', 'populasi', 'penelitian', 'nasabah', 'bri', 'kota', 'bangkalan', 'layanan', 'internet', 'banking', 'bri', 'diperoleh', 'sampel', 'responden', 'diambil', 'teknik', 'purposive', 'sampling', 'teknik', 'analisis', 'regresi', 'linier', 'berganda', 'hasil', 'penelitian', 'simultan', 'pengaruh', 'signifikan', 'variabel', 'bebas', 'persepsi', 'manfaat', 'persepsi', 'kemudahan', 'keamanan', 'ketersediaan', 'fitur', 'minat', 'ulang', 'internet', 'banking', 'parsial', 'variabel', 'bebas', 'berpengaruh', 'positif', 'signifikan', 'minat', 'ulang', 'layanan', 'internet', 'banking', 'kecuali', 'variabel', 'persepsi', 'kemudahan', 'kecuali', 'variabel', 'persepsi', 'kemudahan', 'kunci', 'persepsi', 'manfaat', 'persepsi', 'kemudahan', 'keamanan', 'ketersediaan', 'fitur', 'minat', 'ulang', 'internet', 'banking'], ['pendekatan', 'penelitian', 'penelitian', 'pendekatan', 'kuantitatif', 'populasi', 'penelitian', 'perusahaan', 'liquid', 'terdaftar', 'bursa', 'efek', 'indonesia', 'teknik', 'penarikan', 'sampel', 'metode', 'purpossive', 'sampling', 'dianalisis', 'uji', 'regresi', 'linier', 'berganda', 'bantuan', 'alat', 'analisis', 'statistical', 'program', 'for', 'service', 'solution', 'spss', 'versi', 'hipotesis', 'penelitian', 'duga', 'pengaruh', 'parsial', 'simultan', 'variabel', 'rasio', 'likuiditas', 'current', 'ratio', 'struktur', 'modal', 'debt', 'to', 'equity', 'ratio', 'profitabilitas', 'roe', 'perusahaan', 'liquid', 'terdaftar', 'bursa', 'efek', 'indonesia', 'hasil', 'penelitian', 'variabel', 'current', 'ratio', 'parsial', 'memiliki', 'pengaruh', 'signifikan', 'profitabilitas', 'roe', 'variabel', 'debt', 'to', 'equity', 'ratio', 'parsial', 'memiliki', 'pengaruh', 'signifikan', 'profitabilitas', 'roe', 'berdasarkan', 'hasil', 'uji', 'simultan', 'uji', 'f', 'didapatkan', 'hasil', 'current', 'ratio', 'debt', 'to', 'equity', 'ratio', 'memiliki', 'pengaruh', 'signifikan', 'profitabilitas', 'lq', 'kunci', 'likuiditas', 'current', 'ratio', 'struktur', 'modal', 'debt', 'to', 'equity', 'ratio', 'profitabilitas', 'roe'], ['diana', 'agustini', 'dewi', 'analisis', 'kinerja', 'keuangan', 'perusahaan', 'terdaftar', 'bei', 'akuisisi', 'studi', 'perusahaan', 'manufaktur', 'melakuukan', 'akuisisi', 'jurusan', 'ekonomi', 'manajemen', 'fakultas', 'ekonomi', 'universitas', 'trunojoyo', 'madura', 'penelitian', 'bertujuan', 'menganalisis', 'perbedaan', 'kinerja', 'keuangan', 'perusahaan', 'manufaktur', 'akuisisi', 'penelitian', 'perusahaan', 'manufaktur', 'terdaftar', 'bursa', 'efek', 'indonesia', 'populasi', 'penelitian', 'perusahaan', 'manufaktur', 'terdaftar', 'bursa', 'efek', 'indonesia', 'akuisisi', 'perusahaan', 'populasi', 'dipilih', 'sample', 'metode', 'purposive', 'sampling', 'didasarkan', 'kriteria', 'perusahaan', 'manufaktur', 'terdaftar', 'bei', 'tersedia', 'laporan', 'keuangan', 'aktivitas', 'akuisisi', 'akuisisi', 'perusahaan', 'pengambil', 'alih', 'asset', 'perusahaan', 'mengakuisisi', 'langsung', 'anak', 'perusahaan', 'berdasarkan', 'kriteria', 'diperoleh', 'perusahaan', 'sampel', 'penelitian', 'sampel', 'akuisisi', 'akuisisi', 'variabel', 'penelitian', 'kinerja', 'keuangan', 'perusahaan', 'diukur', 'alat', 'analisis', 'current', 'ratio', 'total', 'asset', 'turnover', 'debt', 'ratio', 'return', 'on', 'investmen', 'earning', 'rasio', 'dianalisisi', 'metode', 'analisis', 't', 'test'], ['tujuan', 'penelitian', 'pengaruh', 'variabel', 'relationship', 'marketing', 'keuntungan', 'komitmen', 'komunikasi', 'kebenaran', 'loyalitas', 'nasabah', 'adira', 'finance', 'variabel', 'relationship', 'marketing', 'berpengaruh', 'loyalitas', 'nasabah', 'adira', 'finance', 'wilayah', 'surabaya', 'barat', 'berdasarkan', 'uji', 'f', 'variabel', 'relationship', 'marketing', 'keuntungan', 'komitmen', 'komunikasi', 'kebenaran', 'simultan', 'berpengaruh', 'signifikan', 'loyalitas', 'nasabah', 'adira', 'finance', 'wilayah', 'surabaya', 'barat', 'berdasarkan', 'uji', 't', 'parsial', 'variabel', 'keuntungan', 'komitmen', 'kebenaran', 'berpengaruh', 'signifikan', 'variabel', 'terikat', 'variabel', 'komunikasi', 'berpengaruh', 'negatif', 'variabel', 'terikat', 'variabel', 'berpengaruh', 'variabel', 'komitmen', 'kunci', 'relationship', 'marketing', 'keuntungan', 'komitmen', 'komunikasi', 'kebenaran', 'loyalitas'], ['tujuan', 'penelitian', 'pengaruh', 'variabel', 'self', 'efficacy', 'magnitude', 'generality', 'strength', 'prestasi', 'akademik', 'mahasiswa', 'berprestasi', 'universitas', 'trunojoyo', 'madura', 'dimana', 'mahasiswa', 'diambil', 'mahasiswa', 'mengikuti', 'mawapres', 'universitas', 'trunojoyo', 'madura', 'orang', 'teknik', 'analisis', 'analisis', 'regresi', 'linier', 'berganda', 'hipotesis', 'penelitian', 'self', 'efficacy', 'variabel', 'magnitude', 'generality', 'strength', 'berpengaruh', 'prestasi', 'akademik', 'berdasarkan', 'pengujian', 'hipotesis', 'diterima', 'temuan', 'penelitian', 'variabel', 'self', 'efficacy', 'teridiri', 'magnitude', 'generality', 'strength', 'berpengaruh', 'signifikan', 'prestasi', 'akademik', 'mawapres', 'universitas', 'trunojoyo', 'madura', 'diperoleh', 'nilai', 'variabel', 'magnitude', 'generality', 'strength', 'pengaruh', 'prestasi', 'akademik', 'sisanya', 'dipengaruhi', 'faktor', 'variabel', 'diteliti', 'kunci', 'self', 'efficacy', 'prestasi', 'akademik'], ['muhammad', 'sholeh', 'pengaruh', 'iklan', 'televisi', 'keputusan', 'konsumen', 'memakai', 'kartu', 'seluler', 'xl', 'kecamatan', 'geger', 'dibawah', 'bimbingan', 'bambang', 'setiyo', 'pambudi', 'mm', 'suyono', 'penelitian', 'bertujuan', 'pengaruh', 'iklan', 'keputusan', 'konsumen', 'kartu', 'seluler', 'xl', 'masyarakat', 'kecamatan', 'geger', 'kabupaten', 'bangkalan', 'responden', 'penelitian', 'responden', 'data', 'terkumpul', 'analisis', 'regresi', 'linier', 'berganda', 'alat', 'bantu', 'software', 'spss', 'hasil', 'analisis', 'pengujian', 'hipotesis', 'diperoleh', 'pengaruh', 'iklan', 'isi', 'pesan', 'struktur', 'pesan', 'format', 'pesan', 'sumber', 'pesan', 'pengaruh', 'signifikan', 'keputusan', 'konsumen', 'kartu', 'seluler', 'xl', 'uji', 'parsial', 'variabel', 'isi', 'pesan', 'variabel', 'dominan', 'pengaruh', 'keputusan', 'konsumen', 'kartu', 'seluler', 'xl', 'kecamatan', 'geger', 'keywords', 'isi', 'pesan', 'struktur', 'pesan', 'format', 'pesan', 'sumber', 'pesan'], ['abstrak', 'satiyah', 'pengaruh', 'pelatihan', 'pengembangan', 'produktivitas', 'kerja', 'dinas', 'kelautan', 'perikanan', 'bangkalan', 'dibawah', 'bimbingan', 'irawati', 'mm', 'helmi', 'buyung', 'aulia', 's', 'upaya', 'meningkatkan', 'produktivitas', 'kerja', 'mudah', 'salah', 'usaha', 'produktivitas', 'meningkat', 'menerapkan', 'program', 'pelatihan', 'pengembangan', 'sumber', 'daya', 'manusia', 'sdm', 'dilaksanakan', 'instansi', 'produktivitas', 'tercapai', 'meningkat', 'kemampuan', 'pegawai', 'efektif', 'efisien', 'pelatihan', 'pengembnagan', 'diharapkan', 'pegawai', 'menyesuaikan', 'sikap', 'tingkah', 'laku', 'keterampilan', 'pengetahuan', 'sesuai', 'tuntutan', 'perubahan', 'pelatihan', 'pengembangan', 'pegawai', 'mendukung', 'terciptanya', 'suasana', 'kerja', 'kondusif', 'instansi', 'produktivitasi', 'kerja', 'meningkat', 'tujuan', 'penelitian', 'pengaruh', 'pelatihan', 'pengembangan', 'produktivitas', 'kerja', 'dinas', 'kelautan', 'perikanan', 'bangkalan', 'mengukur', 'menganalisa', 'hubungan', 'variabel', 'peneliti', 'pendekatan', 'observasional', 'analitik', 'pengamatan', 'langsung', 'responden', 'penyebaran', 'kuisioner', 'dianalisis', 'penelitian', 'penelitian', 'populasi', 'responden', 'sampel', 'diolah', 'spss', 'versi', 'dianalisis', 'metode', 'statistik', 'metode', 'non', 'probality', 'sampling', 'simple', 'random', 'sampling', 'kesimpulan', 'penelitian', 'pelatihan', 'pengembangan', 'perbedaan', 'individu', 'pegawai', 'hubungan', 'analisis', 'jabatan', 'motivasi', 'partisipasi', 'aktif', 'seleksi', 'peserta', 'seleksi', 'instruktur', 'metode', 'pelatihan', 'pengembangan', 'pengaruh', 'simultan', 'produktivitas', 'kerja', 'pegawai', 'dinas', 'kelautan', 'perikanan', 'kabupaten', 'bangkalan', 'terbukti', 'nilai', 'koefisien', 'determinasi', 'berganda', 'r', 'square', 'fhitung', 'ftabel', 'faktor', 'hubungan', 'analisis', 'jabatan', 'berpengaruh', 'parsial', 'produktivitas', 'kerja', 'pegawai', 'dinas', 'kelautan', 'perikanan', 'kabupaten', 'bangkalan', 'pengujian', 'hipotesis', 'variabel', 'motivasi', 'terbukti', 'nilai', 'thitung', 'seleksi', 'peserta', 'pengaruh', 'dominan', 'produktivitas', 'kerja', 'pegawai', 'instansi', 'dinas', 'kelautan', 'perikanan', 'bangkalan', 'kunci', 'dinas', 'kelautan', 'perikanan', 'pelatihan', 'pengembangan', 'produktivitas', 'kerja'], ['tujuan', 'penelitian', 'persepsi', 'brand', 'association', 'pelanggan', 'pakaian', 'kiddrock', 'studi', 'distro', 'cranberries', 'pamekasan', 'penelitian', 'metode', 'deskriptif', 'metode', 'survei', 'populasi', 'penelitian', 'pelanggan', 'pakaian', 'kiddrock', 'distro', 'cranberries', 'sampel', 'penelitian', 'orang', 'responden', 'distro', 'cranberries', 'desember', 'metode', 'pengambilan', 'sampel', 'sampling', 'aksidental', 'metode', 'pengumpulan', 'data', 'penelitian', 'lapangan', 'field', 'research', 'membagikan', 'kuesioner', 'riset', 'perpustakaan', 'data', 'teknik', 'pengolahan', 'data', 'pengolaha', 'data', 'bantuan', 'perangkat', 'lunak', 'spss', 'versi', 'uji', 'validitas', 'uji', 'reabilitas', 'skala', 'likert', 'persepsi', 'konsumen', 'brand', 'association', 'dimensi', 'dimensi', 'jaminan', 'dimensi', 'identifikasi', 'pribadi', 'dimensi', 'identifikasi', 'sosial', 'dimensi', 'status', 'dimensi', 'kesediaan', 'menerima', 'perluasan', 'merek', 'dimensi', 'kesediaan', 'merekomendasikan', 'merek', 'hasil', 'analisis', 'menunjukan', 'persepsi', 'brand', 'association', 'pelanggan', 'pakaian', 'kiddrock', 'distro', 'cranberriess', 'apresisasikan', 'dimensi', 'jaminan', 'kunci', 'brand', 'association', 'presepsi', 'kiddrock', 'cranberries'], ['aplikasi', 'nyata', 'pemanfaatan', 'teknologi', 'informasi', 'komunikasi', 'bidang', 'layanan', 'administrasi', 'akademik', 'perguruan', 'salah', 'satunya', 'sistem', 'portal', 'akademik', 'universitas', 'trunojoyo', 'madura', 'implementasi', 'proses', 'penyelenggaraannya', 'menemui', 'kendala', 'teknis', 'non', 'teknis', 'penelitian', 'bertujuan', 'kepuasan', 'pelanggan', 'berdasarkan', 'analisis', 'indeks', 'kepuasan', 'pelanggan', 'ditinjau', 'webqual', 'fokus', 'perbaikan', 'mutu', 'pelayanan', 'website', 'portal', 'akademik', 'universitas', 'trunjoyo', 'madura', 'berdasarkan', 'importance', 'performance', 'analysis', 'ditinjau', 'webqual', 'penelitian', 'penelitian', 'kuantitaif', 'deskriptif', 'gambaran', 'deskripsi', 'lukisan', 'sistematis', 'faktual', 'akurat', 'kualitas', 'pelayanan', 'jasa', 'online', 'teknik', 'sampel', 'teknik', 'stratified', 'random', 'sampling', 'alat', 'analisis', 'indeks', 'kepuasan', 'pelanggan', 'analisis', 'tingkat', 'kepentingan', 'kinerja', 'hasil', 'penelitian', 'skor', 'indeks', 'kepuasan', 'pelanggan', 'ikp', 'masuk', 'kategori', 'puas', 'diagram', 'kartesius', 'importance', 'performance', 'atribut', 'prioritas', 'utama', 'perbaikan', 'mutu', 'situs', 'portal', 'akademik', 'universitas', 'trunojoyo', 'madura', 'informasi', 'administrasi', 'akademik', 'mahasiswa', 'detail', 'ter', 'update', 'ki', 'informasi', 'administrasi', 'akademik', 'disitus', 'portal', 'akademik', 'utm', 'dipercaya', 'ki', 'portal', 'utm', 'pengguna', 'aman', 'data', 'akademik', 'mahasiswa', 'krs', 'khs', 'transkrip', 'data', 'personal', 'sesuai', 'kip', 'kunci', 'website', 'importance', 'performance', 'webqual', 'indeks', 'kepuasan', 'pelanggan'], ['tujuan', 'penelitian', 'pengaruh', 'celebrity', 'endorser', 'iwan', 'fals', 'minat', 'beli', 'produk', 'top', 'coffee', 'studi', 'masyarakat', 'sumur', 'kembang', 'kelurahan', 'pejagan', 'kecamatan', 'bangkalan', 'kabupaten', 'bangkalan', 'penelitian', 'metode', 'kuantitatif', 'pendekatan', 'survey', 'populasi', 'penelitian', 'masyarakat', 'sumur', 'kembang', 'kelurahan', 'pejagan', 'kecamatan', 'bangkalan', 'kabupaten', 'bangkalan', 'menngunakan', 'metode', 'sampling', 'aksidental', 'penelitian', 'responden', 'desember', 'metode', 'pengumpulan', 'data', 'penelitian', 'lapang', 'membagikan', 'kuesioner', 'riset', 'perpustakaan', 'teknik', 'pengolahan', 'data', 'pengolahan', 'data', 'bantuan', 'erangkat', 'lunak', 'spss', 'versi', 'for', 'windows', 'skala', 'likert', 'hasil', 'penelitian', 'hasil', 'uji', 'f', 'simultan', 'variabel', 'bebas', 'trustworthiness', 'expertise', 'attractiveness', 'respect', 'similarity', 'mempengaruhi', 'variabel', 'terikat', 'minet', 'beli', 'y', 'produk', 'top', 'coffee', 'hasil', 'uji', 't', 'parsial', 'membuktikan', 'variabel', 'bebas', 'trustworthiness', 'expertise', 'attractiveness', 'respect', 'similarity', 'berpengaruh', 'signifikan', 'minat', 'beli', 'y', 'produk', 'top', 'coffee', 'disimpulkan', 'variabel', 'bebas', 'pengaruh', 'miant', 'beli', 'y', 'produk', 'top', 'coffee', 'variabel', 'trustworthiness'], ['abstrak', 'penelitian', 'metode', 'kuantitatif', 'menekankan', 'pengujian', 'hipotesis', 'variabel', 'penelitian', 'kepemimpinan', 'kompensasi', 'penelitian', 'dilaksanakan', 'kantor', 'dinas', 'pendidikan', 'kabupaten', 'sampang', 'sampel', 'orang', 'pegawai', 'negeri', 'sipil', 'non', 'pns', 'hipotesis', 'variabel', 'bebas', 'hubungan', 'signifikan', 'simultan', 'kepemimpinan', 'kompensasi', 'kinerja', 'pegawai', 'y', 'terbukti', 'nilai', 'fhitung', 'tingkat', 'nilai', 'hipotesis', 'variabel', 'kompensasi', 'variabel', 'pengaruh', 'dominan', 'terbukti', 'nilai', 't', 'hitung', 'pengaruh', 'positif', 'signifikan', 'parsial', 'variabel', 'bebas', 'variabel', 'terikat', 'y', 'kesimpulan', 'penelitian', 'pengujian', 'hipotesis', 'berdasarkan', 'pengujian', 'statistik', 'simultan', 'variabel', 'bebas', 'memiliki', 'pengaruh', 'signifikan', 'variabel', 'terikat', 'pengujian', 'hipotesis', 'membuktikan', 'variabel', 'kompensasi', 'variabel', 'berpengaruh', 'dominan', 'kinerja', 'pegawai', 'dinas', 'pendidikan', 'kabupaten', 'sampang', 'kunci', 'kepemimpinan', 'kompensasi', 'kinerja'], ['abstrak', 'tujuan', 'penelitian', 'pengaruh', 'variabel', 'current', 'ratio', 'return', 'on', 'equity', 'firm', 'size', 'leverage', 'business', 'risk', 'kebijakan', 'deviden', 'perusahaan', 'manufaktur', 'terdaftar', 'bursa', 'efek', 'indonesia', 'periode', 'pendekatan', 'penelitian', 'penelitian', 'kuantitatif', 'sampel', 'penelitian', 'perusahaan', 'manufaktur', 'membagikan', 'deviden', 'periode', 'metode', 'pengambilan', 'sampel', 'purposive', 'sampling', 'pengujian', 'instrumen', 'uji', 'asumsi', 'klasik', 'teknik', 'analisis', 'data', 'menguji', 'hipotesis', 'regresi', 'linier', 'berganda', 'memakai', 'uji', 'f', 'uji', 'berdasarkan', 'hasil', 'penelitian', 'nilai', 'r', 'square', 'berdasarkan', 'uji', 'f', 'variabel', 'current', 'ratio', 'return', 'on', 'equity', 'firm', 'size', 'leverage', 'businees', 'risk', 'simultan', 'berpengaruh', 'signifikan', 'dividend', 'payout', 'ratio', 'berdasarkan', 'uji', 't', 'parsial', 'variabel', 'current', 'ratio', 'firm', 'size', 'businees', 'risk', 'berpengaruh', 'signifikan', 'dividend', 'payout', 'ratio', 'variabel', 'return', 'on', 'equity', 'leverage', 'berpengaruh', 'signifikan', 'dividend', 'payout', 'ratio', 'kunci', 'current', 'ratio', 'return', 'on', 'equity', 'firm', 'size', 'leverage', 'businees', 'risk'], ['ali', 'rahbini', 'pengaruh', 'harga', 'kualitas', 'pelayanan', 'kepuasan', 'berbelanja', 'swalayan', 'tom', 'jerry', 'bangkalan', 'dibawah', 'bimbingan', 'pribanus', 'wantara', 'nirma', 'penelitian', 'bertujuan', 'mengukur', 'pengaruh', 'harga', 'kualitas', 'pelayanan', 'kepuasan', 'berbelanja', 'swalayan', 'tom', 'jerry', 'konsumen', 'berbelanja', 'swalayan', 'tom', 'jerry', 'responden', 'penelitian', 'responden', 'data', 'terkumpul', 'analisis', 'regresi', 'linier', 'berganda', 'alat', 'bantu', 'software', 'spss', 'hasil', 'analisis', 'pengujian', 'hipotesis', 'diperoleh', 'harga', 'kualitas', 'pelayanan', 'pengaruh', 'simultan', 'kepuasan', 'berbelanja', 'swalayan', 'tom', 'jerry', 'parsial', 'variabel', 'harga', 'kehandalan', 'daya', 'tanggap', 'jaminan', 'empati', 'bukti', 'fisik', 'pengaruh', 'parsial', 'kepuasan', 'berbelanja', 'swalayan', 'tom', 'jerry', 'bangkalan', 'variabel', 'harga', 'variabel', 'dominan', 'berpengaruh', 'kepuasan', 'berbelanja', 'swalayan', 'tom', 'jerry', 'bangkalan', 'kunci', 'harga', 'keandalan', 'daya', 'tanggap', 'jaminan', 'empati', 'bukti', 'fisik'], ['bauran', 'eceran', 'salah', 'langkah', 'pemasaran', 'keberhasilan', 'perusahaan', 'bergerak', 'bidang', 'produksi', 'barang', 'swalayan', 'bangkalan', 'salah', 'bisnis', 'eceran', 'bergerak', 'jual', 'beli', 'barang', 'memperhatikan', 'perilaku', 'konsumen', 'mengambil', 'keputusan', 'variabel', 'bauran', 'eceran', 'teori', 'berman', 'evans', 'foster', 'lokasi', 'pelayanan', 'produk', 'harga', 'suasana', 'harga', 'promosi', 'tujuan', 'penelitian', 'pengaruh', 'bauran', 'eceran', 'lokasi', 'pelayanan', 'produk', 'harga', 'suasana', 'harga', 'promosi', 'simultan', 'keputusan', 'pembelian', 'konsumen', 'studi', 'indah', 'swalayan', 'bangkalan', 'variabel', 'bauran', 'eceran', 'berpengaruh', 'keputusan', 'pembelian', 'studi', 'indah', 'swalayan', 'bangkalan', 'penelitian', 'pendekatan', 'pendekatan', 'kuantitatif', 'teknik', 'pengambilan', 'sampel', 'purposive', 'sampling', 'pengumpulan', 'data', 'wawancara', 'kepustakaan', 'kuesioner', 'skala', 'likert', 'mengukur', 'menguji', 'instrumen', 'uji', 'validitas', 'uji', 'reliabilitas', 'uji', 'asumsi', 'teknik', 'analisis', 'data', 'analisis', 'regresi', 'linier', 'berganda', 'variabel', 'variabel', 'uji', 'f', 'uji', 'hasil', 'penelitian', 'variabel', 'bauran', 'eceran', 'lokasi', 'pelayanan', 'produk', 'harga', 'suasana', 'harga', 'promosi', 'berpengaruh', 'simultan', 'keputusan', 'pembelian', 'studi', 'indah', 'swalayan', 'bangkalan', 'variabel', 'bauran', 'eceran', 'berpengaruh', 'parsial', 'keputusan', 'pembelian', 'indah', 'swalayan', 'bangakalan', 'harga', 'berpengaruh', 'keputusan', 'pemebelian', 'indah', 'swalayan', 'bangkalan', 'kuci', 'bauran', 'eceran', 'lokasi', 'pelayanan', 'produk', 'harga', 'suasana', 'toko', 'karyawan', 'promosi', 'keputusan', 'pembelian'], ['abstrak', 'penelitian', 'bertujuan', 'mengukur', 'efektivitas', 'iklan', 'consumer', 'decision', 'model', 'cdm', 'mahasiswa', 'universitas', 'trunojoyo', 'madura', 'responden', 'penelitian', 'orang', 'mahasiswa', 'data', 'terkumpul', 'analisis', 'jalur', 'path', 'analysis', 'alat', 'bantu', 'software', 'spss', 'hasil', 'analisis', 'pengujian', 'hipotesis', 'diperoleh', 'pengaruh', 'langsung', 'pengaruh', 'langsung', 'signifikan', 'pengaruh', 'langsung', 'signifikan', 'pengaruh', 'langsung', 'pengaruh', 'langsung', 'signifikan', 'pengaruh', 'langsung', 'signifikan', 'kunci', 'cdm', 'analisis', 'jalur', 'pesan', 'iklan', 'pengenalan', 'merek', 'keyakinan', 'konsumen', 'sikap', 'konsumen', 'niat', 'beli', 'pembelian', 'nyata'], ['abstrak', 'aththaariq', 'pengaruh', 'kompetensi', 'dosen', 'kinerja', 'dosen', 'universitas', 'trunojoyo', 'madura', 'dibawah', 'bimbingan', 'moch', 'wispandono', 'muhammad', 'alkirom', 'wildan', 'penelitian', 'bertujuan', 'menganalisis', 'pengaruh', 'kompetensi', 'pedagogik', 'kompetensi', 'profesional', 'kompetensi', 'sosial', 'kompetensi', 'kepribadian', 'variabel', 'terikat', 'kinerja', 'dosen', 'universitas', 'trunojoyo', 'madura', 'data', 'penelitian', 'data', 'primer', 'data', 'diperoleh', 'hasil', 'penyebaran', 'kuesioner', 'responden', 'penelitian', 'dosen', 'universitas', 'trunojoyo', 'madura', 'tersertifikasi', 'aktif', 'dosen', 'teknik', 'pengambilan', 'sampel', 'judgmental', 'sampling', 'metode', 'analisis', 'regresi', 'linier', 'berganda', 'hasil', 'penelitian', 'berdasarkan', 'hasil', 'analisis', 'disimpulkan', 'kompetensi', 'pedagogik', 'kompetensi', 'profesional', 'kompetensi', 'sosial', 'kompetensi', 'kepribadian', 'berpengaruh', 'signifikan', 'variabel', 'terikat', 'kinerja', 'dosen', 'y', 'simultan', 'parsial', 'nilai', 'koefisiensi', 'determinasi', 'berganda', 'nilai', 'kinerja', 'dosen', 'dipengaruhi', 'perubahan', 'variabel', 'bebas', 'diteliti', 'sisanya', 'dipengaruhi', 'variabel', 'diteliti', 'variabel', 'memiliki', 'pengaruh', 'dominan', 'variabel', 'kompetensi', 'pedagogik', 'nilai', 'signifikansi', 'memiliki', 'nilai', 'beta', 'kunci', 'kompetensi', 'pedagogik', 'kompetensi', 'profesional', 'kompetensi', 'sosial', 'kompetensi', 'kepribadian', 'kinerja', 'dosen'], ['abstrak', 'haryono', 'arifin', 'pengaruh', 'perilaku', 'konsumen', 'keputusan', 'pembelian', 'produk', 'honda', 'merek', 'vario', 'studi', 'dealler', 'surya', 'agung', 'motor', 'bangkalan', 'tujuan', 'penelitian', 'pengaruh', 'perilaku', 'konsumen', 'keputusan', 'pembelian', 'honda', 'merek', 'vario', 'dealer', 'surya', 'agung', 'motor', 'bangkalan', 'variabel', 'manakah', 'perilaku', 'konsumen', 'kebudayaan', 'sosial', 'pribadi', 'psikologis', 'dominan', 'keputusan', 'pembelian', 'konsumen', 'honda', 'merek', 'vario', 'penelitian', 'pendekatan', 'kuantitatif', 'pengamatan', 'langsung', 'responden', 'penyebaran', 'kuesioner', 'dianalisa', 'penelitian', 'penelitian', 'populasi', 'responden', 'konsumen', 'pembelian', 'honda', 'merek', 'vario', 'dealer', 'surya', 'agung', 'motor', 'bangkalan', 'dijadikan', 'responden', 'dianalisis', 'spss', 'versi', 'kesimpulan', 'penelitian', 'pengujian', 'hipotesis', 'variabel', 'perilaku', 'konsumen', 'kebudayaan', 'sosial', 'pribadi', 'psikologis', 'berpengaruh', 'simultan', 'keputusan', 'pembelian', 'honda', 'merek', 'vario', 'pengujian', 'hipotesis', 'variabel', 'psikologis', 'variabel', 'berpengaruh', 'dominan', 'kunci', 'kebudayaan', 'sosial', 'pribadi', 'psikologis', 'keputusan', 'pembelian'], ['abstrak', 'dharma', 'abidin', 'syah', 'kesimpulan', 'pengaruh', 'signifikan', 'variabel', 'tipe', 'kepemimpinan', 'autoritarian', 'demokratis', 'simultan', 'variabel', 'prestasi', 'kerja', 'pegawai', 'kantor', 'kecamatan', 'pangarengan', 'kabupaten', 'sampang', 'hasil', 'uji', 'f', 'anova', 'menunjukan', 'nilai', 'fhitung', 'ftabel', 'variabel', 'tipe', 'kepemimpinan', 'autoritarian', 'demokratis', 'simultan', 'kontribusi', 'prestasi', 'kerja', 'pegawai', 'pengaruh', 'signifikan', 'variabel', 'kepemimpinan', 'tipe', 'autoritariansecara', 'parsial', 'prestasi', 'kerja', 'pegawaidikantor', 'kecamatan', 'pangarengan', 'kabupaten', 'sampang', 'hasil', 'uji', 't', 'menunjukan', 'nilai', 't', 'hitung', 't', 'tabel', 'parsial', 'variabel', 'kepemimpinan', 'tipe', 'autoritarian', 'kontribusi', 'variabel', 'prestasi', 'kerja', 'pegawai', 'pengaruh', 'signifikan', 'variabel', 'kepemimpinan', 'tipe', 'parsial', 'prestasi', 'kerja', 'pegawaidikantor', 'kecamatan', 'pangarengan', 'kabupaten', 'sampang', 'hasil', 'uji', 't', 'menunjukan', 'nilai', 't', 'hitung', 't', 'tabel', 'parsial', 'variabel', 'kepemimpinan', 'tipe', 'kontribusi', 'variabel', 'prestasi', 'kerja', 'pegawai', 'pengaruh', 'signifikan', 'variabel', 'kepemimpinan', 'tipe', 'demokratis', 'parsial', 'prestasi', 'kerja', 'pegawaidikantor', 'kecamatan', 'pangarengan', 'kabupaten', 'sampang', 'hasil', 'uji', 't', 'menunjukan', 'nilai', 't', 'hitung', 't', 'tabel', 'parsial', 'variabel', 'kepemimpinan', 'tipe', 'demokratis', 'kontribusi', 'variabel', 'prestasi', 'kerja', 'pegawai', 'variabel', 'tipe', 'demokratis', 'nilai', 'koefisien', 'determinasi', 'variabel', 'bebas', 'lainya', 'variabel', 'dominan', 'berpengaruh', 'variabel', 'prestasi', 'kerja', 'pegawai', 'dikantor', 'kecamatan', 'pangarengan', 'kabupaten', 'sampang', 'kunci', 'tipe', 'kepemimpinan', 'prestasi', 'kerja', 'pegawai'], ['abstrak', 'tujuan', 'penelitian', 'mengidentifikasi', 'mempengaruhi', 'kepuasan', 'konsumen', 'simultan', 'parsial', 'metode', 'metode', 'kuantitatif', 'populasi', 'konsumen', 'depot', 'barokah', 'prambon', 'pelayanan', 'depot', 'barokah', 'prambon', 'sampel', 'responden', 'teknik', 'accidental', 'sampling', 'teknik', 'analisis', 'analisis', 'regresi', 'linier', 'berganda', 'hasil', 'penelitian', 'variabel', 'independen', 'variabel', 'bukti', 'fisik', 'kehandalan', 'jaminan', 'parsial', 'berpengaruh', 'signifikan', 'kepuasan', 'konsumen', 'y', 'variabel', 'independen', 'daya', 'tanggap', 'empati', 'berpengaruh', 'signifikan', 'variabel', 'dependen', 'kepuasan', 'konsumen', 'y', 'variabel', 'jaminan', 'pengaruh', 'kepuasan', 'konsumen', 'y', 'simultan', 'variabel', 'independen', 'kualitas', 'pelayanan', 'x', 'simultan', 'berpengaruh', 'signifikan', 'variabel', 'dependen', 'kepuasan', 'konsumen', 'y', 'kunci', 'kualitas', 'pelayanan', 'bukti', 'fisik', 'kehandalan', 'daya', 'tanggap', 'jaminan', 'empati', 'kepuasan', 'konsumen'], ['hasil', 'penelitian', 'perhitungan', 'credit', 'risk', 'ratio', 'menunjukan', 'npl', 'pd', 'bpr', 'bank', 'daerah', 'lamongan', 'mengalami', 'penurunan', 'tingkat', 'resiko', 'kesimpulan', 'penelitian', 'tingkat', 'resiko', 'pd', 'bpr', 'bank', 'daerah', 'lamongan', 'mengalami', 'penurunan', 'tingkat', 'resiko', 'npl', 'dikatagorikan', 'berdasarkan', 'ketentuan', 'bank', 'indonesia', 'syarat', 'npl', 'maksimal', 'kunci', 'credit', 'risk', 'ratio', 'non', 'performing', 'loan'], ['keputusan', 'investasi', 'berhubungan', 'keuntungan', 'risiko', 'investor', 'rasional', 'menginvestasikan', 'dananya', 'saham', 'efisien', 'saham', 'return', 'risiko', 'minimal', 'sampel', 'penelitian', 'saham', 'aktif', 'berdasarkan', 'frekuensi', 'perdagangan', 'membagi', 'dividen', 'tujuan', 'penelitian', 'membentuk', 'portofolio', 'optimal', 'perbedaan', 'return', 'risiko', 'saham', 'kandidat', 'non', 'kandidat', 'portofolio', 'hasil', 'penelitian', 'saham', 'kandidat', 'portofolio', 'saham', 'diteliti', 'nilai', 'portofolio', 'optimal', 'dibentuk', 'saham', 'excess', 'returns', 'to', 'beta', 'erb', 'ci', 'diperoleh', 'saham', 'masuk', 'perhitungan', 'portofolio', 'optimal', 'komposisi', 'proporsi', 'dana', 'saham', 'pt', 'adaro', 'energy', 'tbk', 'pt', 'gudang', 'garam', 'tbk', 'pt', 'hm', 'sampoerna', 'tbk', 'pt', 'astra', 'otopart', 'tbk', 'pt', 'multi', 'bintang', 'indonesia', 'tbk', 'pt', 'astra', 'agro', 'lestari', 'tbk', 'pt', 'goodyear', 'indonesia', 'tbk', 'pt', 'indika', 'energy', 'tbk', 'pt', 'united', 'tractors', 'tbk', 'pt', 'pabrik', 'kertas', 'tjiwi', 'kimia', 'tbk', 'pt', 'indofood', 'sukses', 'makmur', 'tbk', 'pt', 'astra', 'international', 'tbk', 'pt', 'bank', 'negara', 'indonesia', 'tbk', 'return', 'portofolio', 'risiko', 'portofolio', 'excess', 'return', 'to', 'beta', 'portofolio', 'berdasarkan', 'hasil', 'diatas', 'disimpulkan', 'metode', 'indeks', 'tunggal', 'portofolio', 'optimal', 'diperoleh', 'perhitungan', 'aktiva', 'bebas', 'risiko', 'kunci', 'model', 'indeks', 'tunggal', 'portofolio', 'optimal', 'expected', 'return', 'excess', 'return', 'to', 'beta'], ['penelitian', 'bertujuan', 'pengaruh', 'rekrutmen', 'pengembangan', 'karir', 'terhdap', 'kinerja', 'karyawan', 'kantor', 'pusat', 'pt', 'gresik', 'cipta', 'sejahtera', 'kabupaten', 'gresik', 'responden', 'penelitian', 'orang', 'karyawan', 'data', 'terkumpul', 'analisis', 'regresi', 'linier', 'berganda', 'alat', 'bantu', 'software', 'spss', 'hasil', 'analisis', 'pengujian', 'hipotesis', 'diperoleh', 'variabel', 'rekrutmen', 'variabel', 'pengembangan', 'karir', 'pengaruh', 'simultan', 'kinerja', 'karyawan', 'variabel', 'rekrutmen', 'variabel', 'dominan', 'mempengaruhi', 'kinerja', 'karyawan', 'kantor', 'pusat', 'pt', 'gresik', 'cipta', 'sejahtera', 'kabupaten', 'gresik', 'katakunci', 'rekrutmen', 'pengembangan', 'karir', 'kinerja'], ['abstrak', 'hening', 'ary', 'putra', 'pengaruh', 'iklan', 'online', 'media', 'facebook', 'keputusan', 'pembelian', 'pakaian', 'studi', 'mahasiswa', 'fakultas', 'ekonomi', 'bisnis', 'universitas', 'trunojoyo', 'madura', 'pemimbing', 'bambang', 'setiyo', 'pambudi', 'suyono', 'tujuan', 'penelitian', 'mengidentifikasi', 'variabel', 'sikap', 'iklan', 'online', 'daya', 'iklan', 'online', 'frekuensi', 'klik', 'iklan', 'online', 'mempengaruhi', 'keputusan', 'pembelian', 'pakaian', 'mahasiswa', 'fakultas', 'ekonomi', 'bisnis', 'universitas', 'trunojoyo', 'madura', 'simultan', 'parsial', 'hipotesis', 'penelitian', 'mempengaruhi', 'keputusan', 'pembelian', 'pakaian', 'sikap', 'iklan', 'online', 'daya', 'iklan', 'online', 'frekuensi', 'klik', 'iklan', 'online', 'berpengaruh', 'signifikan', 'keputusan', 'pembelian', 'pakaian', 'simultan', 'parsial', 'penelitian', 'metode', 'kuantitatif', 'dimana', 'populasi', 'penelitian', 'mahasiswa', 'fakultas', 'ekonomi', 'bisnis', 'universitas', 'trunojoyo', 'madura', 'diperoleh', 'sampel', 'responden', 'diambil', 'metode', 'accidental', 'sampling', 'menyebarkan', 'kuesioner', 'kesimpulan', 'penelitian', 'simultan', 'pengaruh', 'signifikan', 'variabel', 'bebas', 'sikap', 'iklan', 'online', 'daya', 'iklan', 'online', 'frekuensi', 'klik', 'iklan', 'online', 'keputusan', 'pembelian', 'pakaian', 'parsial', 'vairabel', 'sikap', 'iklan', 'online', 'daya', 'iklan', 'online', 'berpengaruh', 'positif', 'signifikan', 'keputusan', 'pembelian', 'pakaian', 'kecuali', 'variabel', 'frekuensi', 'klik', 'iklan', 'online', 'berpengaruh', 'positif', 'signifikan', 'keputusan', 'pembelian', 'pakaian', 'parsial', 'variabel', 'daya', 'pengaruh', 'keputusan', 'pembelian', 'pakaian', 'kunci', 'sikap', 'daya', 'frekuensi', 'klik', 'keputusan', 'pembelian', 'pakaian'], ['habibah', 'pengaruh', 'ekuitas', 'merek', 'keputusan', 'pembelian', 'notebook', 'acer', 'dibawah', 'bimbingan', 'bambang', 'setiyo', 'pambudi', 'mm', 'suyono', 'notebook', 'merek', 'acer', 'notebook', 'ekuitas', 'merek', 'dibuktikan', 'penguasaan', 'acer', 'hamper', 'pasar', 'notebook', 'indonesia', 'dasar', 'kenyataan', 'pasar', 'penelitian', 'tujuan', 'ekuitas', 'merek', 'persepsi', 'konsumen', 'lokasi', 'penelitiannya', 'dilaksanakan', 'fakultas', 'ekonomi', 'universitas', 'trunojoyo', 'madura', 'penelitan', 'penelitan', 'kuantitatif', 'pendekatan', 'survey', 'sampel', 'konsumen', 'penelitian', 'variabel', 'bebasnya', 'kesadaran', 'merek', 'asosiasi', 'merek', 'persepsi', 'kualitas', 'loyalitas', 'merek', 'persepsi', 'nilai', 'variabel', 'terikatnya', 'keputusan', 'pembelian', 'konsumen', 'metode', 'penelitian', 'sampel', 'purposive', 'sampling', 'pengujian', 'instrument', 'uji', 'validitas', 'realibilitas', 'uji', 'asumsi', 'klasik', 'metode', 'analisis', 'data', 'menguji', 'hipotesis', 'regresi', 'linier', 'berganda', 'memakai', 'uji', 'f', 'uji', 'hasil', 'penelitan', 'variabel', 'nilai', 'adjusted', 'r', 'square', 'besarnya', 'pengaruh', 'variabel', 'bebas', 'variabel', 'terikat', 'sisanya', 'dipengaruhi', 'variabel', 'diteliti', 'penelitian', 'berdasarkan', 'uji', 'f', 'variabel', 'ekuitas', 'merek', 'kesadaran', 'merek', 'asosiasi', 'merek', 'persepsi', 'kualitas', 'loyalitas', 'merek', 'persepsi', 'nilai', 'simultan', 'berpengaruh', 'signifikan', 'keputusan', 'pembelian', 'mahasiswa', 'fakultas', 'ekonomi', 'universitas', 'trunojoyo', 'madura', 'berdasarkan', 'uji', 't', 'parsial', 'kesadaran', 'merek', 'asosiasi', 'merek', 'persepsi', 'kualitas', 'loyalitas', 'merek', 'persepsi', 'nilai', 'berpengaruh', 'signifikan', 'variabel', 'terikat', 'variabel', 'persepsi', 'nilai', 'berpengaruh', 'variabel', 'terikat', 'variabel', 'berpengaruh', 'dominan', 'persepsi', 'kualitas', 'kunci', 'ekuitas', 'merek', 'keputusan', 'pembelian'], ['atribut', 'produk', 'pandangan', 'gambaran', 'produk', 'dealer', 'surya', 'agung', 'motor', 'bangkalan', 'salah', 'dealer', 'resmi', 'honda', 'bergerak', 'penjualan', 'sepeda', 'motor', 'memperhatikan', 'perilaku', 'konsumen', 'mengambil', 'keputusan', 'pembelian', 'atribut', 'produk', 'teori', 'kotler', 'armstrong', 'kualitas', 'produk', 'fitur', 'produk', 'gaya', 'desain', 'produk', 'tujuan', 'penelitian', 'mengidentifikasi', 'mempengaruhi', 'atribut', 'produk', 'memutuskan', 'membeli', 'sepeda', 'motor', 'honda', 'supra', 'parsial', 'simultan', 'penelitian', 'metode', 'kuantitatif', 'dimana', 'populasi', 'penelitian', 'konsumen', 'sepeda', 'motor', 'honda', 'supra', 'x', 'dealer', 'surya', 'agung', 'motor', 'bangkalan', 'diperoleh', 'sampel', 'responden', 'diambil', 'metode', 'purposive', 'sampling', 'menyebarkan', 'kuesioner', 'hipotesis', 'penelitian', 'atribut', 'produk', 'mempengaruhi', 'keputusan', 'pembelian', 'kualitas', 'produk', 'fitur', 'produk', 'gaya', 'desain', 'produk', 'berpengaruh', 'signifikan', 'keputusan', 'pembelian', 'sepeda', 'motor', 'honda', 'supra', 'x', 'simultan', 'parsial', 'hasil', 'penelitian', 'uji', 'f', 'variabel', 'bebas', 'atribut', 'produk', 'kualitas', 'produk', 'fitur', 'produk', 'gaya', 'desain', 'produk', 'berpengaruh', 'simultan', 'keputusan', 'pembelian', 'sepeda', 'motor', 'honda', 'supra', 'x', 'studi', 'dealer', 'surya', 'agung', 'motor', 'bangkalan', 'uji', 't', 'parsial', 'variabel', 'kualitas', 'produk', 'fitur', 'produk', 'gaya', 'desain', 'produk', 'keputusan', 'pembelian', 'sepeda', 'motor', 'honda', 'supra', 'x', 'studi', 'dealer', 'surya', 'agung', 'motor', 'bangkalan', 'parsial', 'variabel', 'kualitas', 'produk', 'mempunyah', 'pengaruh', 'dominan', 'keputusan', 'pembelian', 'sepeda', 'motor', 'honda', 'supra', 'x', 'studi', 'dealer', 'surya', 'agung', 'motor', 'bangkalan', 'kunci', 'atribut', 'produk', 'keputusan', 'pembelian'], ['abstrak', 'tujuan', 'penelitian', 'pengaruh', 'perilaku', 'konsumen', 'kebudayaan', 'sosial', 'pribadi', 'psikologis', 'keputusan', 'pembelian', 'produk', 'susu', 'cair', 'merek', 'indomilk', 'swalayan', 'tom', 'jerry', 'bangkalan', 'variabel', 'manakah', 'perilaku', 'konsumen', 'berpengaruh', 'dominan', 'keputusan', 'pembelian', 'konsumen', 'produk', 'susu', 'cair', 'merek', 'indomilk', 'penelitian', 'pendekatan', 'pendekatan', 'kuantitatif', 'berusaha', 'pengaruh', 'perilaku', 'konsumen', 'keputusan', 'pembelian', 'produk', 'susu', 'cair', 'merek', 'indomilk', 'studi', 'konsumen', 'swalayan', 'tom', 'jerry', 'bangkalan', 'teknik', 'pengambilan', 'sampel', 'purposive', 'sampling', 'pengumpulan', 'data', 'wawancara', 'kepustakaan', 'kuesioner', 'skala', 'likert', 'mengukur', 'menguji', 'instrumen', 'uji', 'validitas', 'uji', 'reliabilitas', 'uji', 'asumsi', 'teknik', 'analisis', 'data', 'analisis', 'regresi', 'linier', 'berganda', 'variabel', 'variabel', 'uji', 'f', 'uji', 'hasil', 'penelitian', 'variabel', 'perilaku', 'konsumen', 'kebudayaan', 'sosial', 'pribadi', 'psikologis', 'berpengaruh', 'simultan', 'keputusan', 'pembelian', 'produk', 'susu', 'cair', 'merek', 'indomilk', 'variabel', 'psikologis', 'berpengaruh', 'dominan', 'keputusan', 'pembelian', 'produk', 'susu', 'cair', 'merek', 'indomilk', 'kunci', 'perilaku', 'konsumen', 'kebudayaan', 'sosial', 'pribadi', 'psikologis', 'keputusan', 'pembelian'], ['abstrak', 'penelitian', 'bertujuan', 'pengaruh', 'unsur', 'unsur', 'komunikasi', 'pengirim', 'pesan', 'komunikator', 'pesan', 'media', 'komunikasi', 'penerima', 'pesan', 'komunikan', 'umpan', 'produktifitas', 'kerja', 'pegawai', 'negeri', 'sipil', 'dinas', 'pendidikian', 'kabupaten', 'bangkalan', 'simultan', 'parsial', 'populasi', 'penelitian', 'pegawai', 'negeri', 'sipil', 'dinas', 'pendidikan', 'kabupaten', 'bangkalan', 'pegawai', 'sampel', 'pegawai', 'diambil', 'proporsional', 'random', 'sampling', 'metode', 'pengumpulan', 'data', 'membagikan', 'kuesioner', 'riset', 'perpustakaan', 'data', 'teknik', 'pengolahan', 'data', 'pengolahan', 'data', 'bantuan', 'perangkat', 'lunak', 'spss', 'versi', 'uji', 'validitas', 'uji', 'reabilitas', 'skala', 'likert', 'hasil', 'penelitian', 'faktor', 'faktor', 'komunikasi', 'simultan', 'pengaruh', 'signifikan', 'produktifitas', 'kerja', 'nilai', 'fhitung', 'ftabel', 'tingkat', 'signifikansi', 'koefisien', 'determinasi', 'berganda', 'variabel', 'komunikator', 'pesan', 'media', 'komunikasi', 'komunikan', 'umpan', 'menerangkan', 'variabel', 'produktifitas', 'kerja', 'y', 'sisanya', 'dipengaruhi', 'variabel', 'dimasukkan', 'model', 'penelitian', 'parsial', 'varibel', 'pengaruh', 'langsung', 'positif', 'signifikan', 'variabel', 'kominkator', 'komunikan', 'pesan', 'media', 'komunikasi', 'umpan', 'berpengaruh', 'positif', 'sigifikan', 'hasil', 'analisis', 'variabel', 'komunikator', 'peranan', 'dominan', 'upaya', 'meningkatkan', 'produktifitas', 'kerja', 'kunci', 'pengirim', 'pesan', 'komunikator', 'pesan', 'media', 'komunikasi', 'penerima', 'pesan', 'komunikan', 'umpan', 'produktivitas', 'kerja'], ['abstrak', 'tujuan', 'penelitian', 'mengidentifikasi', 'atribut', 'produk', 'mempengaruhi', 'keputusan', 'pembelian', 'produk', 'penyedap', 'masako', 'simultan', 'parsial', 'variabel', 'manakah', 'berpengaruh', 'penelitian', 'metode', 'kuantitatif', 'dimana', 'populasinya', 'kecamatan', 'robatal', 'sampang', 'membeli', 'mengkonsumsi', 'produk', 'penyedap', 'masako', 'teknik', 'pengambilan', 'sampel', 'accidental', 'sampling', 'diperoleh', 'sampel', 'responden', 'hipotesis', 'penelitian', 'variabel', 'atribut', 'produk', 'merek', 'kemasan', 'pelabelan', 'layanan', 'pelengkap', 'berpengaruh', 'simultan', 'keputusan', 'pembelian', 'produk', 'penyedap', 'masako', 'variabel', 'merek', 'berpengaruh', 'keputusan', 'pembelian', 'produk', 'penyedap', 'masako', 'hasil', 'penelitian', 'uji', 'f', 'simultan', 'simultan', 'variabel', 'independen', 'merek', 'kemasan', 'pelabelan', 'layanan', 'pelengkap', 'mempengaruhi', 'variabel', 'dependen', 'keputusan', 'pembelian', 'hipotesis', 'diterima', 'hasil', 'uji', 't', 'parsial', 'membuktikan', 'individu', 'variabel', 'bebas', 'berpengaruh', 'positif', 'signifikan', 'keputusan', 'pembelian', 'hasil', 'variabel', 'merek', 'pengaruh', 'hipotesis', 'diterima', 'simpulan', 'penelitian', 'simultan', 'pengaruh', 'signifikan', 'variabel', 'bebas', 'variabel', 'terikatnya', 'keputusan', 'pembelian', 'parsial', 'variabel', 'bebas', 'berpengaruh', 'positif', 'signifikan', 'keputusan', 'pembelian', 'variabel', 'bebas', 'parsial', 'individu', 'pengaruh', 'variabel', 'keputusan', 'pembelian', 'kunci', 'atribut', 'produk', 'keputusan', 'pembelian'], ['abstrak', 'tujuan', 'penelitian', 'pengaruh', 'bauran', 'pemasaran', 'produk', 'harga', 'distribusi', 'promosi', 'signifikan', 'simultan', 'parsial', 'keputusan', 'pembelian', 'konsumen', 'variabel', 'manakah', 'berpengaruh', 'dominan', 'keputusan', 'konsumen', 'pembelian', 'produk', 'petis', 'ikan', 'tuna', 'kelurahan', 'banyuanyar', 'kabupaten', 'sampang', 'objek', 'penelitian', 'kosumen', 'produk', 'petis', 'ikan', 'tuna', 'kelurahan', 'banyuanyar', 'kabupaten', 'sampang', 'sampel', 'konsumen', 'teknik', 'analisis', 'data', 'meguji', 'hipotesis', 'regresi', 'linier', 'berganda', 'memakai', 'uji', 'f', 'uji', 'berdasar', 'hasil', 'penelitian', 'model', 'regresi', 'linier', 'berganda', 'sistematis', 'hasil', 'analisis', 'penelitian', 'simultan', 'uji', 'bauran', 'pemasaran', 'produk', 'harga', 'distribusi', 'promosi', 'pengaruh', 'signifikan', 'keputusan', 'pembelian', 'produk', 'petis', 'ikan', 'tuna', 'kelurahan', 'banyuanyar', 'kabupaten', 'sampang', 'parsial', 'uji', 't', 'variabel', 'produk', 'harga', 'promosi', 'berpengaruh', 'signifikan', 'variabel', 'ditribusi', 'berpengaruh', 'signifikan', 'keputusan', 'pembelian', 'produk', 'petis', 'ikan', 'tuna', 'kelurahan', 'banyuanyar', 'kabupaten', 'sampang', 'variabel', 'produk', 'berpengaruh', 'keputusan', 'pembelian', 'kunci', 'produk', 'harga', 'promosi', 'distribusi', 'keputusan', 'pembelian'], ['abstrak', 'tujuan', 'penelitian', 'pengaruh', 'pesan', 'iklan', 'televisi', 'isi', 'pesan', 'struktur', 'pesan', 'format', 'pesan', 'sumber', 'pesan', 'simultan', 'minat', 'beli', 'jamu', 'tolak', 'angin', 'sido', 'muncul', 'konsumen', 'pasar', 'manyar', 'surabaya', 'variabel', 'pesan', 'iklan', 'televisi', 'berpengaruh', 'dominan', 'minat', 'beli', 'jamu', 'tolak', 'angin', 'sido', 'muncul', 'konsumen', 'pasar', 'manyar', 'surabaya', 'penelitian', 'pendekatan', 'pendekatan', 'kuantitatif', 'berusaha', 'pengaruh', 'pesan', 'iklan', 'televisi', 'minat', 'beli', 'jamu', 'tolak', 'angin', 'sido', 'muncul', 'konsumen', 'pasar', 'manyar', 'surabaya', 'teknik', 'pengambilan', 'sampel', 'purposive', 'sampling', 'pengumpulan', 'data', 'wawancara', 'kepustakaan', 'kuesioner', 'skala', 'likert', 'mengukur', 'menguji', 'instrumen', 'uji', 'validitas', 'uji', 'reliabilitas', 'uji', 'asumsi', 'teknik', 'analisis', 'data', 'analisis', 'regresi', 'linier', 'berganda', 'variabel', 'variabel', 'uji', 'f', 'uji', 'hasil', 'penelitian', 'variabel', 'pesan', 'iklan', 'televisi', 'isi', 'pesan', 'struktur', 'pesan', 'format', 'pesan', 'sumber', 'pesan', 'simultan', 'minat', 'beli', 'jamu', 'tolak', 'angin', 'sido', 'muncul', 'konsumen', 'pasar', 'manyar', 'surabaya', 'variabel', 'isi', 'pesan', 'berpengaruh', 'dominan', 'minat', 'beli', 'jamu', 'tolak', 'angin', 'sido', 'muncul', 'konsumen', 'pasar', 'manyar', 'surabaya', 'kuci', 'pesan', 'iklan', 'televisi', 'isi', 'pesan', 'struktur', 'pesan', 'format', 'pesan', 'sumber', 'pesan', 'minat', 'beli'], ['tujuan', 'penlitian', 'variabel', 'iklan', 'berdasarkan', 'konsep', 'aida', 'berpengaruh', 'signifikan', 'keputusan', 'pembelian', 'helm', 'ink', 'kota', 'bangkalan', 'variabel', 'konsep', 'iklan', 'aida', 'manakah', 'berpengaruh', 'dominan', 'keputusan', 'pembelian', 'helm', 'ink', 'kota', 'bangkalan', 'penelitian', 'pendekatan', 'pendekatan', 'kuantitatif', 'berusaha', 'pengaruh', 'iklan', 'keputusan', 'pembelian', 'konsumen', 'helm', 'ink', 'bangkalan', 'teknik', 'pengambilan', 'sampel', 'purposive', 'sampling', 'responden', 'teknik', 'pengumpulan', 'data', 'kuesioner', 'kepustakaan', 'skala', 'likert', 'mengukur', 'responden', 'menguji', 'instrumen', 'uji', 'validitas', 'uji', 'reliabilitas', 'uji', 'asumsi', 'klasik', 'teknik', 'analisis', 'data', 'analisis', 'regresi', 'linier', 'berganda', 'variabel', 'variabel', 'uji', 'f', 'uji', 'hasil', 'penelitian', 'variabel', 'iklan', 'attention', 'interest', 'desire', 'action', 'berpengaruh', 'simultan', 'keputusan', 'pembelian', 'konsumen', 'helm', 'ink', 'bangkalan', 'variabel', 'attention', 'berpengaruh', 'dominan', 'keputusan', 'pembelian', 'konsumen', 'helm', 'ink', 'bangkalan', 'kunci', 'iklan', 'attention', 'interest', 'desire', 'action', 'keputusan', 'pembelian', 'konsumen'], ['abstrak', 'tujuan', 'penelitian', 'pengaruh', 'variabel', 'kualitas', 'pelayanan', 'profesionalisme', 'keterampilan', 'sikap', 'perilaku', 'aksesibilitas', 'fleksibilitas', 'reliabilitas', 'kepercayaan', 'reputasi', 'kredibilitas', 'service', 'recovery', 'serviscape', 'kepuasan', 'pasien', 'y', 'rumah', 'sakit', 'terpadu', 'surabaya', 'variabel', 'kualitas', 'pelayanan', 'berpengaruh', 'kepuasan', 'pasien', 'rumah', 'sakit', 'terpadu', 'surabaya', 'berdasarkan', 'hasil', 'penelitian', 'nilai', 'r', 'square', 'besarnya', 'pengaruh', 'variabel', 'bebas', 'variabel', 'terikat', 'sisanya', 'dipengaruhi', 'variabel', 'diteliti', 'penelitian', 'berdasarkan', 'uji', 'f', 'variabel', 'variabel', 'kualitas', 'pelayanan', 'profesionalisme', 'keterampilan', 'sikap', 'perilaku', 'aksesibilitas', 'fleksibilitas', 'reliabilitas', 'kepercayaan', 'reputasi', 'kredibilitas', 'service', 'recovery', 'servisecape', 'simultan', 'berpengaruh', 'signifikan', 'kepuasan', 'pasien', 'y', 'rumah', 'sakit', 'terpadu', 'surabaya', 'berdasarkan', 'uji', 't', 'parsial', 'variabel', 'profesionalisme', 'keterampilan', 'sikap', 'perilaku', 'aksesibilitas', 'fleksibilitas', 'reliabilitas', 'kepercayaan', 'reputasi', 'kredibilitas', 'servisecape', 'berpengaruh', 'signifikan', 'variabel', 'terikat', 'variabel', 'service', 'recovery', 'berpengaruh', 'signifikan', 'kepuasan', 'pasien', 'y', 'rumah', 'sakit', 'terpadu', 'surabaya', 'variabel', 'berpengaruh', 'variabel', 'service', 'recovery', 'kunci', 'kualitas', 'pelayanan', 'kepuasan', 'pasien'], ['abstrak', 'tujuan', 'penelitian', 'harga', 'kualitas', 'produk', 'berpengaruh', 'simultan', 'keputusan', 'pembelian', 'deterjen', 'rinso', 'anti', 'noda', 'harga', 'kualitas', 'produk', 'berpengaruh', 'parsial', 'keputusan', 'pembelian', 'deterjen', 'rinso', 'anti', 'noda', 'variabel', 'berpengaruh', 'dominan', 'keputusan', 'pembelian', 'deterjen', 'rinso', 'anti', 'noda', 'berdasarkan', 'hasil', 'penelitian', 'nilai', 'adjusted', 'r', 'square', 'besarnya', 'pengaruh', 'variabel', 'bebas', 'variabel', 'terikat', 'sisanya', 'dipengaruhi', 'variabel', 'diteliti', 'penelitian', 'berdasarkan', 'uji', 'f', 'harga', 'kualitas', 'produk', 'simultan', 'berpengaruh', 'signifikan', 'keputusan', 'pembelian', 'deterjen', 'rinso', 'anti', 'noda', 'studi', 'mahasiswa', 'universitas', 'trunojoyo', 'madura', 'berdomisili', 'desa', 'telang', 'bangkalan', 'berdasarkan', 'uji', 't', 'parsial', 'variabel', 'harga', 'kualitas', 'produk', 'berpengaruh', 'signifikan', 'variabel', 'terikat', 'variabel', 'berpengaruh', 'dominan', 'variabel', 'harga', 'kunci', 'harga', 'kualitas', 'produk', 'keputusan', 'pembelian'], ['abstrak', 'tujuan', 'penelitian', 'menganalisis', 'atribut', 'kualitas', 'pelayanan', 'berdasarkan', 'tingkat', 'kepentingan', 'tingkat', 'kinerja', 'pengguna', 'sepeda', 'motor', 'jembatan', 'suramadu', 'kepuasan', 'pengguna', 'sepeda', 'motor', 'kualitas', 'pelayanan', 'jembatan', 'suramadu', 'berdasarkan', 'hasil', 'penelitian', 'diagram', 'kartesius', 'importance', 'performance', 'enam', 'atribut', 'fokus', 'utama', 'ketidak', 'puasan', 'responden', 'lampu', 'penerangan', 'jembatan', 'suramadu', 'terpasang', 'menyala', 'malam', 'petugas', 'jasa', 'marga', 'berpenampilan', 'rapi', 'kondisi', 'jalan', 'jembatan', 'suramadu', 'mulus', 'berlubang', 'petugas', 'tiket', 'teliti', 'uang', 'kembalian', 'pt', 'jasa', 'marga', 'jaminan', 'asuransi', 'kecelakaan', 'pengguna', 'sepeda', 'motor', 'jembatan', 'suramadu', 'petugas', 'patroli', 'memperhatikan', 'kepentingan', 'pengguna', 'sepeda', 'motor', 'mogok', 'ban', 'bocor', 'dll', 'kunci', 'kualitas', 'pelayanan', 'kepuasan', 'importance', 'performance'], ['abstrak', 'tujuan', 'penelitian', 'variabel', 'harga', 'kualitas', 'produk', 'berpengaruh', 'simultan', 'keputusan', 'pembelian', 'martabak', 'hawaii', 'bangkalan', 'harga', 'kualitas', 'produk', 'berpengaruh', 'parsial', 'keputusan', 'pembelian', 'martabak', 'hawaii', 'bangkalan', 'variabel', 'harga', 'kualitas', 'produk', 'pengaruh', 'dominan', 'keputusan', 'pembelian', 'martabak', 'hawaii', 'bangkalan', 'pendekatan', 'penelitian', 'penelitian', 'kuantitatif', 'penelitian', 'berlandaskan', 'filsafat', 'positivisme', 'bertujuan', 'menguji', 'hipotesis', 'ditetapkan', 'sampel', 'penelitian', 'konsumen', 'pembelian', 'martabak', 'hawaii', 'bangkalan', 'konsumen', 'metode', 'pengambilan', 'sampel', 'accidental', 'sampling', 'pengujian', 'instrumen', 'uji', 'validitas', 'reliabilitas', 'uji', 'asumsi', 'klasik', 'teknik', 'analisis', 'data', 'menguji', 'hipotesis', 'regresi', 'linier', 'berganda', 'memakai', 'uji', 'f', 'uji', 'berdasarkan', 'hasil', 'penelitian', 'nilai', 'adjusted', 'r', 'square', 'besarnya', 'pengaruh', 'variabel', 'bebas', 'variabel', 'terikat', 'sisanya', 'dipengaruhi', 'variabel', 'diteliti', 'penelitian', 'berdasarkan', 'uji', 'f', 'variabel', 'harga', 'kualitas', 'produk', 'simultan', 'berpengaruh', 'signifikan', 'keputusan', 'pembelian', 'martabak', 'hawaii', 'bangkalan', 'berdasarkan', 'uji', 't', 'parsial', 'variabel', 'harga', 'kualitas', 'produk', 'berpengaruh', 'signifikan', 'variabel', 'terikat', 'variabel', 'berpengaruh', 'variabel', 'kualitas', 'produk', 'kunci', 'harga', 'kualitas', 'produk', 'keputusan', 'pembelian'], ['ulfiyatun', 'mutohharoh', 'analisis', 'menentukan', 'preferensi', 'belanja', 'online', 'produk', 'fashion', 'studi', 'mahasiwa', 'fakultas', 'ekonomi', 'trunojoyo', 'journal', 'of', 'economics', 'program', 'studi', 'manajemen', 'fakultas', 'ekonomi', 'universitas', 'trunojoyo', 'madura', 'universitas', 'trunojoyo', 'madura', 'dibawah', 'bimbingan', 'drs', 'mohamad', 'tambrin', 'mm', 'yustina', 'crismardani', 'mm', 'internet', 'sistem', 'informasi', 'global', 'berbasis', 'komputer', 'internet', 'menggeser', 'budaya', 'pembelian', 'produk', 'konvensional', 'praktis', 'modern', 'berbelanja', 'online', 'dirilis', 'mahasiswa', 'pembelian', 'produk', 'online', 'produk', 'dibeli', 'mahasiswa', 'produk', 'fashion', 'penelitian', 'tujuan', 'menganalisis', 'menentukan', 'preferensi', 'belanja', 'online', 'produk', 'fashion', 'mahasiswa', 'fakultas', 'ekonomi', 'universitas', 'trunojoyo', 'madura', 'faktor', 'dipertimbangkan', 'menetukan', 'preferensi', 'belanja', 'online', 'produk', 'fashion', 'mahasiswa', 'fakultas', 'ekonomi', 'universitas', 'trunojoyo', 'madura', 'penelitian', 'variabel', 'bebas', 'variabel', 'terikat', 'variabel', 'berketergantungan', 'interdependent', 'variable', 'jenis', 'penelitian', 'penelitian', 'deskriptif', 'metode', 'penelitian', 'sampel', 'accidental', 'sampling', 'populasi', 'responden', 'mahasiswa', 'fakultas', 'ekonomi', 'universitas', 'trunojoyo', 'madura', 'berbelanja', 'produk', 'fashion', 'online', 'metode', 'analisis', 'analisis', 'faktor', 'hasil', 'penelitian', 'hasil', 'statistic', 'analisis', 'faktor', 'konfirmatori', 'didapatkan', 'nilai', 'kmo', 'item', 'variabel', 'preferensi', 'belanja', 'online', 'menghasilkan', 'nilai', 'rendah', 'klasifikasi', 'miserable', 'kmo', 'rendah', 'hasil', 'statistik', 'analisis', 'faktor', 'konfirmatori', 'didapatkan', 'nilai', 'kmo', 'ukuran', 'kecukuperatan', 'hubungan', 'variabel', 'analisis', 'faktor', 'data', 'uji', 'analisis', 'faktor', 'layak', 'kesimpulan', 'penelitian', 'harga', 'pelayanan', 'alternatif', 'faktor', 'menentukan', 'preferensi', 'belanja', 'online', 'produk', 'fashion', 'mahasiswa', 'fakultas', 'ekonomi', 'universitas', 'trunojoyo', 'madura', 'berdasarkan', 'hasil', 'pengujian', 'faktor', 'harga', 'faktor', 'dipertimbangkan', 'mahasiswa', 'fakultas', 'ekonomi', 'universitas', 'trunojoyo', 'madura', 'menentukan', 'preferensi', 'belanja', 'online', 'produk', 'fashion'], ['abstrak', 'tujuan', 'penelitian', 'pengaruh', 'ekuitas', 'merek', 'kesadaran', 'merek', 'brand', 'awareness', 'asosiasi', 'merek', 'brand', 'assocations', 'kesan', 'kualitas', 'perceived', 'quality', 'loyalitas', 'merek', 'brand', 'loyalty', 'simultan', 'keputusan', 'pembelian', 'variabel', 'ekuitas', 'merek', 'variabel', 'manakah', 'dominan', 'pengaruh', 'keputusan', 'pembelian', 'handphone', 'blackberry', 'penelitian', 'pendekatan', 'kuantitatif', 'berusaha', 'pengaruh', 'ekuitas', 'merek', 'keputusan', 'pembelian', 'handphone', 'blackberry', 'studi', 'mahasiswa', 'universitas', 'trunojoyo', 'madura', 'pengambilan', 'sampel', 'purposive', 'sampling', 'pengumpulan', 'data', 'wawancara', 'kepustakaan', 'kuesioner', 'skala', 'likert', 'mengukur', 'menguji', 'instrumen', 'uji', 'validitas', 'uji', 'reliabilitas', 'uji', 'asumsi', 'teknik', 'analisis', 'data', 'analisis', 'regresi', 'linier', 'berganda', 'variabel', 'variabel', 'uji', 'f', 'uji', 'hasil', 'penelitian', 'variabel', 'ekuitas', 'merek', 'kesadaran', 'merek', 'kesan', 'kualitas', 'asosiasi', 'merek', 'loyalitas', 'merek', 'berpengaruh', 'simultan', 'keputusan', 'pembelian', 'handphone', 'blackberry', 'studi', 'mahasiswa', 'universitas', 'trunojoyo', 'madura', 'loyalitas', 'merek', 'berpengaruh', 'dominan', 'keputusan', 'pembelian'], ['abstrak', 'harga', 'merek', 'salah', 'langkah', 'diperhatikan', 'perusahaan', 'menghasilkan', 'produk', 'merek', 'pemasaran', 'diharapkan', 'perusahaan', 'diterima', 'konsumen', 'bergerak', 'bidang', 'produksi', 'barang', 'jasa', 'swalayan', 'kopontren', 'sidogiri', 'cabang', 'tanah', 'merah', 'salah', 'bisnis', 'eceran', 'bergerak', 'jual', 'beli', 'barang', 'memperhatikan', 'perilaku', 'konsumen', 'mengambil', 'keputusan', 'tujuan', 'penelitian', 'pengaruh', 'harga', 'merek', 'simultan', 'keputusan', 'pembelian', 'konsumen', 'studi', 'swalayan', 'kopontren', 'sidogiri', 'cabang', 'tanah', 'merah', 'variabel', 'berpengaruh', 'keputusan', 'pembelian', 'studi', 'swalayan', 'kopontren', 'sidogiri', 'cabang', 'tanah', 'merah', 'penelitian', 'pendekatan', 'pendekatan', 'kuantitatif', 'berusaha', 'pengaruh', 'harga', 'merek', 'keputusan', 'pembelian', 'studi', 'swalayan', 'kopontren', 'sidogiri', 'cabang', 'tanah', 'merah', 'teknik', 'pengambilan', 'sampel', 'purposive', 'sampling', 'responden', 'teknik', 'pengumpulan', 'data', 'wawancara', 'kepustakaan', 'kuesioner', 'skala', 'likert', 'mengukur', 'responden', 'menguji', 'instrumen', 'uji', 'validitas', 'uji', 'reliabilitas', 'uji', 'asumsi', 'klasik', 'teknik', 'analisis', 'data', 'analisis', 'regresi', 'linier', 'berganda', 'variabel', 'variabel', 'uji', 'f', 'uji', 'hasil', 'penelitian', 'variabel', 'harga', 'merek', 'berpengaruh', 'parsial', 'simultan', 'keputusan', 'pembelian', 'studi', 'swalayan', 'kopontren', 'sidogiri', 'cabang', 'tanah', 'merah', 'variabel', 'merek', 'berpengaruh', 'keputusan', 'pemebelian', 'studi', 'swalayan', 'kopontren', 'sidogiri', 'cabang', 'tanah', 'merah', 'kuci', 'harga', 'merek', 'keputusan', 'pembelian'], ['tujuan', 'penelitian', 'marketing', 'mix', 'produk', 'harga', 'promosi', 'distribusi', 'berpengaruh', 'simultan', 'parsial', 'keputusan', 'pembelian', 'konsumen', 'variabel', 'manakah', 'berpengaruh', 'dominan', 'keputusan', 'konsumen', 'pembelian', 'rokok', 'u', 'mild', 'objek', 'penelitian', 'konsumen', 'rokok', 'u', 'mild', 'socah', 'sampel', 'konsumen', 'teknik', 'analisis', 'data', 'meguji', 'hipotesis', 'regresi', 'linier', 'berganda', 'hasil', 'analisis', 'penelitian', 'simultan', 'uji', 'f', 'marketing', 'mix', 'produk', 'harga', 'promosi', 'distribusi', 'pengaruh', 'signifikan', 'keputusan', 'pembelian', 'rokok', 'u', 'mild', 'socah', 'parsial', 'uji', 't', 'variabel', 'promosi', 'harga', 'promosi', 'distribusi', 'berpengaruh', 'signifikan', 'variabel', 'harga', 'berpengaruh', 'keputusan', 'pembelian', 'disimpulkan', 'meningkatkan', 'keputusan', 'pembelian', 'rokok', 'u', 'mild', 'socah', 'meningkatkan', 'marketing', 'mix', 'segi', 'produk', 'harga', 'promosi', 'distribusi', 'kunci', 'produk', 'harga', 'promosi', 'distribusi', 'keputusan', 'pembelian'], ['menjalani', 'pekerjaan', 'mencampur', 'adukkan', 'permasalahan', 'dirumah', 'rumah', 'tangga', 'membawa', 'permasalahan', 'pekerjaan', 'kedalam', 'keluarga', 'sulit', 'penuh', 'beban', 'berat', 'rumah', 'tangga', 'berdampak', 'pekerjaannya', 'jenis', 'tugas', 'maksimal', 'dilakukannya', 'tugas', 'kota', 'tugas', 'mengikuti', 'pendidikan', 'pelatihan', 'jangka', 'kerja', 'lembur', 'tujuan', 'penelitian', 'pengaruh', 'konflik', 'peran', 'ganda', 'variabel', 'konflik', 'konflik', 'berpengaruh', 'simultan', 'kinerja', 'perawat', 'wanita', 'rs', 'syamrabu', 'bangkalan', 'pengaruh', 'konflik', 'peran', 'ganda', 'konflik', 'konflik', 'berpengaruh', 'parsial', 'kinerja', 'perawat', 'wanita', 'rs', 'syamrabu', 'bangkalan', 'sampel', 'penelitian', 'perawat', 'wanita', 'rs', 'syamrabu', 'bangkalan', 'orang', 'metode', 'pengambilan', 'sampel', 'purpossive', 'sampling', 'pengujian', 'instrumen', 'uji', 'validitas', 'reliabilitas', 'uji', 'asumsi', 'klasik', 'teknik', 'analisis', 'data', 'menguji', 'hipotesis', 'regresi', 'linier', 'berganda', 'memakai', 'uji', 'f', 'uji', 'berdasarkan', 'hasil', 'penelitian', 'nilai', 'adjusted', 'r', 'square', 'besarnya', 'pengaruh', 'variabel', 'bebas', 'variabel', 'terikat', 'sisanya', 'dipengaruhi', 'variabel', 'diteliti', 'penelitian', 'berdasarkan', 'uji', 'f', 'variabel', 'konflik', 'konflik', 'simultan', 'berpengaruh', 'signifikan', 'kinerjanya', 'rs', 'syamrabu', 'bangkalan', 'berdasarkan', 'uji', 't', 'parsial', 'variabel', 'konflik', 'berpengaruh', 'signifikan', 'positif', 'variabel', 'konflik', 'berpengaruh', 'signifikan', 'negatif', 'variabel', 'terikat', 'kunci', 'konflik', 'peran', 'ganda', 'konflik', 'konflik', 'kinerja'], ['tujuan', 'penelitian', 'pengaruh', 'variabel', 'persepsi', 'nilai', 'kualitas', 'produk', 'kualitas', 'pelayanan', 'harga', 'faktor', 'emosional', 'kemudahan', 'kepuasan', 'pelanggan', 'simultan', 'parsial', 'variebel', 'manakah', 'memilik', 'pengaruh', 'terbesar', 'kepuasan', 'pelanggan', 'produk', 'sepeda', 'motor', 'merek', 'yamaha', 'new', 'jupiter', 'z', 'kota', 'bangkalan', 'penelitian', 'pendekatan', 'kuantitatif', 'metode', 'analisis', 'data', 'regresi', 'liniear', 'berganda', 'populasi', 'penelitian', 'pelanggan', 'sepeda', 'motor', 'merek', 'yamaha', 'new', 'jupiter', 'z', 'kota', 'bangkalan', 'teknik', 'pengambilan', 'sampel', 'penelitian', 'metode', 'purposive', 'sampling', 'responden', 'responden', 'metode', 'pengumpulan', 'data', 'menyebarkan', 'kuesioner', 'hasilnya', 'diolah', 'bantuan', 'aplikasi', 'komputer', 'spss', 'for', 'windows', 'hasil', 'penelitian', 'membuktikan', 'uji', 'f', 'simultan', 'variabel', 'persepsi', 'nilai', 'kualitas', 'produk', 'kualitas', 'pelayanan', 'harga', 'faktor', 'emosional', 'kemudahan', 'berpengaruh', 'kepuasan', 'pelanggan', 'sepeda', 'motor', 'merek', 'yamaha', 'new', 'jupiter', 'z', 'kota', 'bangkalan', 'hasil', 'penelitian', 'membuktikan', 'uji', 't', 'parsial', 'variabel', 'persepsi', 'nilai', 'kualitas', 'produk', 'kualitas', 'pelayanan', 'harga', 'faktor', 'emosional', 'kemudahan', 'berpengaruh', 'kepuasan', 'pelanggan', 'sepeda', 'motor', 'merek', 'yamaha', 'new', 'jupiter', 'z', 'kota', 'bangkalan', 'variabel', 'harga', 'memiliki', 'pengaruh', 'terbesar'], ['kusniyah', 'analisis', 'volume', 'perdagangan', 'saham', 'return', 'saham', 'stock', 'split', 'perusahaan', 'go', 'public', 'bursa', 'efek', 'indonesia', 'dibawah', 'bimbingan', 'hj', 'evaliati', 'amaniyah', 'msm', 'prasetyo', 'nugroho', 'mm', 'kenaikan', 'harga', 'saham', 'menyebabkan', 'permintaan', 'pembelian', 'saham', 'mengalami', 'penurunan', 'menyebabkan', 'harga', 'saham', 'perusahaan', 'statis', 'fluktuatif', 'menghindari', 'munculnya', 'kondisi', 'salah', 'langkah', 'diambil', 'perusahaan', 'stock', 'split', 'diharapkan', 'meningkatkan', 'likuiditas', 'saham', 'tujuan', 'penelitian', 'bertujuan', 'memperoleh', 'bukti', 'empiris', 'aktifitas', 'stock', 'split', 'perbedaan', 'volume', 'perdagangan', 'saham', 'memperoleh', 'bukti', 'empiris', 'aktifitas', 'stock', 'split', 'perbedaan', 'return', 'saham', 'pendekatan', 'penelitian', 'penelitian', 'pendekatan', 'kuantitatif', 'populasi', 'penelitian', 'perusahaan', 'go', 'public', 'bursa', 'efek', 'indonesia', 'aktifitas', 'stock', 'split', 'teknik', 'pengambilan', 'sampel', 'metode', 'purposive', 'sampling', 'sampel', 'perusahaan', 'dianalisis', 'uji', 't', 'paired', 'sample', 'kesimpulan', 'penelitian', 'perbedaan', 'volume', 'perdagangan', 'saham', 'stock', 'split', 'perusahaan', 'sampel', 'perbedaan', 'volume', 'perdagangan', 'saham', 'stock', 'split', 'perusahaan', 'sampel', 'perbedaan', 'return', 'saham', 'stock', 'split', 'perusahaan', 'sampel', 'perbedaan', 'return', 'saham', 'stock', 'split', 'perusahaan', 'sampel', 'kunci', 'stock', 'split', 'volume', 'perdagangan', 'saham', 'return', 'saham'], ['abstrak', 'ike', 'miranti', 'pengaruh', 'strategi', 'promosi', 'keputusan', 'pembelian', 'studi', 'pt', 'maan', 'ghodaqo', 'siddiq', 'lestari', 'jombang', 'dibimbing', 'bambang', 'setiyo', 'pambudi', 'mm', 'nirma', 'kurriwati', 'sp', 'msi', 'tujuan', 'penelitian', 'pengaruh', 'strategi', 'promosi', 'periklanan', 'promosi', 'penjualan', 'publisitas', 'penjualan', 'personal', 'berpengaruh', 'keputusan', 'pembelian', 'y', 'pt', 'maan', 'ghodaqo', 'siddiq', 'lestari', 'variabel', 'strategi', 'promosi', 'berpengaruh', 'keputusan', 'pembelian', 'studi', 'pt', 'maan', 'ghodaqo', 'siddiq', 'lestari', 'pendekatan', 'penelitian', 'penelitian', 'kuantitatif', 'penelitian', 'menitikberatkan', 'pengujian', 'hipotesis', 'populasi', 'penelitian', 'konsumen', 'membeli', 'air', 'mineral', 'kemasan', 'metode', 'pengambilan', 'sampel', 'purprosive', 'sampling', 'responden', 'penelitian', 'maret', 'metode', 'pengumpulan', 'data', 'menyebarkan', 'kuesioner', 'menguji', 'instrument', 'uji', 'validitas', 'uji', 'reabilitas', 'uji', 'asumsi', 'klasik', 'teknis', 'analisis', 'data', 'analisis', 'regresi', 'linier', 'berganda', 'memakaiuji', 'f', 'uji', 'teknik', 'pengolahan', 'data', 'penelitian', 'software', 'spss', 'versi', 'skala', 'likert', 'berdasarkan', 'hasil', 'penelitian', 'nilai', 'r', 'square', 'besarnya', 'pengaruh', 'variabel', 'bebas', 'variabel', 'terikat', 'sisanya', 'dipengaruhi', 'variabel', 'diteliti', 'penelitian', 'berdasarkan', 'uji', 'f', 'variabel', 'strategi', 'promosi', 'periklanan', 'promosi', 'penjualan', 'publisitas', 'penjualan', 'personal', 'simultan', 'berpengaruh', 'signifikan', 'keputusan', 'pembelian', 'y', 'air', 'mineral', 'kemasan', 'pt', 'maan', 'ghodaqo', 'siddiq', 'lestari', 'berdasarkan', 'uji', 't', 'parsial', 'variabel', 'periklanan', 'berpengaruh', 'signifikan', 'variabel', 'terikat', 'variabel', 'promosi', 'penjualan', 'publisitas', 'penjualan', 'personal', 'berpengaruh', 'signifikan', 'keputusan', 'pembelian', 'y', 'variabel', 'berpengaruh', 'variabel', 'penjualan', 'personal', 'kunci', 'strategi', 'promosi', 'keputusan', 'pembelian'], ['muzanni', 'peranan', 'manajemen', 'piutang', 'tertahadap', 'rentabilitas', 'koperasi', 'berbasis', 'syariah', 'koperasi', 'berbasis', 'konvensional', 'studi', 'koperasi', 'bmt', 'ugt', 'sidogiri', 'cabang', 'pembantu', 'bangkalan', 'kpri', 'kopergu', 'bangkalan', 'bimbingan', 'hj', 'evaliati', 'amaniyah', 'msm', 'purnamawati', 'lembaga', 'keuangan', 'memperoleh', 'pendapatan', 'pinjaman', 'pendanaan', 'nasabah', 'anggota', 'otomatis', 'piutang', 'modal', 'tertanam', 'piutang', 'potensi', 'keuntungan', 'diperoleh', 'modal', 'tertanam', 'piutang', 'potensi', 'keuntungan', 'didapatkan', 'besarnya', 'piutang', 'penerapan', 'manajemen', 'piutang', 'berpengaruh', 'rentabilitas', 'lembaga', 'tujuan', 'penelitian', 'peranan', 'pengelolaan', 'piutang', 'rentabilitas', 'diterapkan', 'koperasi', 'bmt', 'ugt', 'sidogiri', 'cabang', 'pembantu', 'bangkalan', 'kpri', 'kopergu', 'bangkalan', 'penelitian', 'pendekatan', 'deskriptif', 'alat', 'analisis', 'rasio', 'aktivitas', 'rasio', 'rentabilitas', 'kesimpulan', 'penelitian', 'studi', 'manajemen', 'piutang', 'koperasi', 'bmt', 'ugt', 'sidogiri', 'cabang', 'pembantu', 'bangkalan', 'memiliki', 'kriterian', 'efisien', 'kpri', 'kopergu', 'bangkalan', 'efisien', 'koperasi', 'memiliki', 'tingkat', 'pertumbuhan', 'signifikan', 'koperasi', 'bmt', 'ugt', 'sidogiri', 'cabang', 'pembantu', 'bangkalan', 'memiliki', 'tingkat', 'perputaran', 'piutang', 'periode', 'pengumpulan', 'cepat', 'kpri', 'kopergu', 'bangkalan', 'global', 'rasio', 'rentabilitas', 'ekonomi', 'koperasi', 'bmt', 'ugt', 'sidogiri', 'cabang', 'pembantu', 'bangkalan', 'kategori', 'efisien', 'kpri', 'kopergu', 'bangkalan', 'kategori', 'efisien', 'perkembangan', 'rentabilitas', 'lembaga', 'kategori', 'efisien', 'perkembangan', 'rasio', 'rentabilitas', 'modal', 'dimiliki', 'koperasi', 'bmt', 'ugt', 'sidogiri', 'cabang', 'pembantu', 'bangkalan', 'mengalami', 'perkembangan', 'meningkat', 'kpri', 'kopergu', 'bangkalan', 'mengalami', 'penurunan', 'kunci', 'manajemen', 'piutang', 'rentabilitas'], ['anissa', 'novianti', 'pengaruh', 'atribut', 'produk', 'keputusan', 'pembelian', 'minyak', 'goreng', 'sania', 'studi', 'perumahan', 'graha', 'kamal', 'permai', 'kecamatan', 'kamal', 'dibawah', 'bimbingan', 'nurita', 'andriani', 'ir', 'hadi', 'purnomo', 'mm', 'tujuan', 'penelitian', 'pengaruh', 'atribut', 'produk', 'merek', 'kemasan', 'label', 'simultan', 'keputusan', 'pembelian', 'minyak', 'goreng', 'sania', 'studi', 'perumahan', 'graha', 'kamal', 'permai', 'kecamatan', 'kamal', 'pengaruh', 'atribut', 'produk', 'merek', 'kemasan', 'label', 'parsial', 'keputusan', 'pembelian', 'minyak', 'goreng', 'sania', 'studi', 'perumahan', 'graha', 'kamal', 'permai', 'kecamatan', 'kamal', 'variabel', 'atribut', 'produk', 'berpengaruh', 'dominan', 'keputusan', 'pembelian', 'studi', 'perumahan', 'graha', 'kamal', 'permai', 'kecamatan', 'kamal', 'penelitian', 'pendekatan', 'kuantitatif', 'berusaha', 'pengaruh', 'atribut', 'produk', 'keputusan', 'pembelian', 'minyak', 'goreng', 'sania', 'studi', 'perumahan', 'graha', 'kamal', 'permai', 'kecamatan', 'kamal', 'teknik', 'pengambilan', 'sampel', 'simple', 'random', 'sampling', 'responden', 'teknik', 'pengumpulan', 'data', 'wawancara', 'kepustakaan', 'kuesioner', 'skala', 'likert', 'mengukur', 'responden', 'menguji', 'instrumen', 'uji', 'validitas', 'uji', 'reliabilitas', 'uji', 'asumsi', 'klasik', 'teknik', 'analisis', 'data', 'analisis', 'regresi', 'linier', 'berganda', 'variabel', 'variabel', 'uji', 'f', 'uji', 'hasil', 'penelitian', 'variabel', 'atribut', 'produk', 'merek', 'kemasan', 'label', 'berpengaruh', 'simultan', 'parsial', 'keputusan', 'pembelian', 'studi', 'perumahan', 'graha', 'kamal', 'permai', 'kecamatan', 'kamal', 'variabel', 'atribut', 'produk', 'berpengaruh', 'parsial', 'keputusan', 'pembelian', 'minyak', 'goreng', 'sania', 'studi', 'perumahan', 'graha', 'kamal', 'permai', 'kecamatan', 'kamal', 'variabel', 'berpengaruh', 'dominan', 'variabel', 'merek', 'kunci', 'atribut', 'produk', 'keputusan', 'pembelian']]\n"
     ]
    }
   ],
   "source": [
    "print(array_stopwords)"
   ]
  },
  {
   "cell_type": "markdown",
   "metadata": {},
   "source": [
    ">hasil stopword berupa list tiap dokumen"
   ]
  },
  {
   "cell_type": "code",
   "execution_count": 11,
   "metadata": {},
   "outputs": [],
   "source": [
    "array_stemming = [] \n",
    "for j in array_stopwords:\n",
    "    # proses stem per kalimat\n",
    "    temp = \"\"\n",
    "    for i in j:\n",
    "        # print(i)\n",
    "        temp = temp +\" \"+ i\n",
    "\n",
    "    array_stemming.append(temp)"
   ]
  },
  {
   "cell_type": "code",
   "execution_count": 12,
   "metadata": {},
   "outputs": [],
   "source": [
    "df['stop_kata'] = np.array(array_stemming)"
   ]
  },
  {
   "cell_type": "code",
   "execution_count": 13,
   "metadata": {},
   "outputs": [
    {
     "data": {
      "text/plain": [
       "0      abtrak uswatun khasanah pengaruh etos kerja p...\n",
       "1      munculnya asumsi lahirnya budaya mengemis dis...\n",
       "2      abstrak penelitian bertujuan meneliti pendidi...\n",
       "3      objek penelitian pembelian produk xl kecamata...\n",
       "4      abstrak tujuan penelitian variabel kompensasi...\n",
       "5      intention of this research is to know influen...\n",
       "6      tujuan penelitian tingkat kebangkrutan perusa...\n",
       "7      abstrak penelitian bertujuan pengaruh stres k...\n",
       "8      kenaikan harga menyebabkan permintaan pembeli...\n",
       "9      pengaruh bundling strategy keputusan pembelia...\n",
       "10     abstrak penelitian rumusan pelaporan biaya ku...\n",
       "11     abstrak tujuan penelitian mendeskripsikan ino...\n",
       "12     tujuan penelitian pengaruh variabel retailing...\n",
       "13     pln badan usaha milik negara bergerak bidang ...\n",
       "14     tujuan penelitian mengidentifikasi mempengaru...\n",
       "15     pendekatan penelitian penelitian pendekatan k...\n",
       "16     diana agustini dewi analisis kinerja keuangan...\n",
       "17     tujuan penelitian pengaruh variabel relations...\n",
       "18     tujuan penelitian pengaruh variabel self effi...\n",
       "19     muhammad sholeh pengaruh iklan televisi keput...\n",
       "20     abstrak satiyah pengaruh pelatihan pengembang...\n",
       "21     tujuan penelitian persepsi brand association ...\n",
       "23     aplikasi nyata pemanfaatan teknologi informas...\n",
       "24     tujuan penelitian pengaruh celebrity endorser...\n",
       "25     abstrak penelitian metode kuantitatif menekan...\n",
       "26     abstrak tujuan penelitian pengaruh variabel c...\n",
       "27     ali rahbini pengaruh harga kualitas pelayanan...\n",
       "28     bauran eceran salah langkah pemasaran keberha...\n",
       "29     abstrak penelitian bertujuan mengukur efektiv...\n",
       "30     abstrak aththaariq pengaruh kompetensi dosen ...\n",
       "31     abstrak haryono arifin pengaruh perilaku kons...\n",
       "32     abstrak dharma abidin syah kesimpulan pengaru...\n",
       "33     abstrak tujuan penelitian mengidentifikasi me...\n",
       "34     hasil penelitian perhitungan credit risk rati...\n",
       "35     keputusan investasi berhubungan keuntungan ri...\n",
       "36     penelitian bertujuan pengaruh rekrutmen penge...\n",
       "37     abstrak hening ary putra pengaruh iklan onlin...\n",
       "38     habibah pengaruh ekuitas merek keputusan pemb...\n",
       "39     atribut produk pandangan gambaran produk deal...\n",
       "40     abstrak tujuan penelitian pengaruh perilaku k...\n",
       "41     abstrak penelitian bertujuan pengaruh unsur u...\n",
       "42     abstrak tujuan penelitian mengidentifikasi at...\n",
       "43     abstrak tujuan penelitian pengaruh bauran pem...\n",
       "44     abstrak tujuan penelitian pengaruh pesan ikla...\n",
       "45     tujuan penlitian variabel iklan berdasarkan k...\n",
       "46     abstrak tujuan penelitian pengaruh variabel k...\n",
       "47     abstrak tujuan penelitian harga kualitas prod...\n",
       "48     abstrak tujuan penelitian menganalisis atribu...\n",
       "49     abstrak tujuan penelitian variabel harga kual...\n",
       "50     ulfiyatun mutohharoh analisis menentukan pref...\n",
       "51     abstrak tujuan penelitian pengaruh ekuitas me...\n",
       "52     abstrak harga merek salah langkah diperhatika...\n",
       "53     tujuan penelitian marketing mix produk harga ...\n",
       "54     menjalani pekerjaan mencampur adukkan permasa...\n",
       "55     tujuan penelitian pengaruh variabel persepsi ...\n",
       "56     kusniyah analisis volume perdagangan saham re...\n",
       "57     abstrak ike miranti pengaruh strategi promosi...\n",
       "58     muzanni peranan manajemen piutang tertahadap ...\n",
       "59     anissa novianti pengaruh atribut produk keput...\n",
       "Name: stop_kata, dtype: object"
      ]
     },
     "execution_count": 13,
     "metadata": {},
     "output_type": "execute_result"
    }
   ],
   "source": [
    "df['stop_kata']"
   ]
  },
  {
   "cell_type": "markdown",
   "metadata": {},
   "source": [
    "## Term Frequency — Inverse Document Frequency (TF-IDF)"
   ]
  },
  {
   "cell_type": "markdown",
   "metadata": {},
   "source": [
    "Dalam tahap ini, data yang sudah di hilangkan kata penghubung dan simbolnya di lakukan proses TF-IDF <br>\n",
    "TF-IDF adalah suatu metode algoritma untuk menghitung bobot setiap kata di setiap dokumen dalam korpus. Metode ini juga terkenal efisien, mudah dan memiliki hasil yang akurat."
   ]
  },
  {
   "cell_type": "markdown",
   "metadata": {},
   "source": [
    "Inti utama dari algoritma ini adalah melakukan perhitungan nilai TF dan nilai IDF dari sebuah setiap kata kunci terhadap masing-masing dokumen. Nilai TF dihitung dengan rumus TF = jumlah frekuensi kata terpilih / jumlah kata dan nilai IDF dihitung dengan rumus IDF = log(jumlah dokumen / jumlah frekuensi kata terpilih). Selanjutnya kedua hasil ini akan dikalikan sehingga menghasilkan TF-IDF. <br><br> TF-IDF dihitung dengan menggunakan persamaan seperti berikut.\n",
    "\n",
    "$$\n",
    "W_{i, j}=\\frac{n_{i, j}}{\\sum_{j=1}^{p} n_{j, i}} \\log _{2} \\frac{D}{d_{j}}\n",
    "$$\n",
    "\n",
    "Keterangan:\n",
    "\n",
    "$\n",
    "{W_{i, j}}\\quad\\quad\\>: \\text { pembobotan tf-idf untuk term ke-j pada dokumen ke-i } \\\\\n",
    "$\n",
    "\n",
    "$\n",
    "{n_{i, j}}\\quad\\quad\\>\\>: \\text { jumlah kemunculan term ke-j pada dokumen ke-i }\\\\\n",
    "$\n",
    "\n",
    "$\n",
    "{p} \\quad\\quad\\quad\\>\\>: \\text { banyaknya term yang terbentuk }\\\\\n",
    "$\n",
    "\n",
    "$\n",
    "{\\sum_{j=1}^{p} n_{j, i}}: \\text { jumlah kemunculan seluruh term pada dokumen ke-i }\\\\\n",
    "$\n",
    "\n",
    "$\n",
    "{d_{j}} \\quad\\quad\\quad: \\text { banyaknya dokumen yang mengandung term ke-j }\\\\\n",
    "$"
   ]
  },
  {
   "cell_type": "markdown",
   "metadata": {},
   "source": [
    ">import library"
   ]
  },
  {
   "cell_type": "code",
   "execution_count": 14,
   "metadata": {},
   "outputs": [],
   "source": [
    "from sklearn.feature_extraction.text import TfidfTransformer, CountVectorizer"
   ]
  },
  {
   "cell_type": "markdown",
   "metadata": {},
   "source": [
    ">Menggunakan library CountVectorizer untuk mendapatkan value dari setiap kata yang muncul didalam sebuah dokumen"
   ]
  },
  {
   "cell_type": "code",
   "execution_count": 15,
   "metadata": {},
   "outputs": [],
   "source": [
    "vectorizer = CountVectorizer()\n",
    "bag = vectorizer.fit_transform(df['stop_kata'])"
   ]
  },
  {
   "cell_type": "code",
   "execution_count": 16,
   "metadata": {},
   "outputs": [
    {
     "name": "stdout",
     "output_type": "stream",
     "text": [
      "  (0, 2)\t1\n",
      "  (0, 1131)\t1\n",
      "  (0, 479)\t1\n",
      "  (0, 792)\t2\n",
      "  (0, 280)\t5\n",
      "  (0, 462)\t19\n",
      "  (0, 873)\t1\n",
      "  (0, 423)\t7\n",
      "  (0, 844)\t5\n",
      "  (0, 201)\t1\n",
      "  (0, 404)\t5\n",
      "  (0, 1091)\t5\n",
      "  (0, 50)\t5\n",
      "  (0, 690)\t5\n",
      "  (0, 806)\t1\n",
      "  (0, 173)\t2\n",
      "  (0, 783)\t2\n",
      "  (0, 647)\t1\n",
      "  (0, 1041)\t1\n",
      "  (0, 530)\t2\n",
      "  (0, 202)\t1\n",
      "  (0, 897)\t4\n",
      "  (0, 856)\t4\n",
      "  (0, 236)\t4\n",
      "  (0, 1056)\t1\n",
      "  :\t:\n",
      "  (58, 1030)\t7\n",
      "  (58, 203)\t1\n",
      "  (58, 126)\t1\n",
      "  (58, 682)\t1\n",
      "  (58, 993)\t1\n",
      "  (58, 915)\t1\n",
      "  (58, 666)\t4\n",
      "  (58, 65)\t8\n",
      "  (58, 460)\t1\n",
      "  (58, 120)\t1\n",
      "  (58, 448)\t3\n",
      "  (58, 44)\t1\n",
      "  (58, 717)\t1\n",
      "  (58, 678)\t5\n",
      "  (58, 328)\t5\n",
      "  (58, 965)\t5\n",
      "  (58, 848)\t7\n",
      "  (58, 329)\t7\n",
      "  (58, 838)\t7\n",
      "  (58, 720)\t1\n",
      "  (58, 41)\t1\n",
      "  (58, 390)\t1\n",
      "  (58, 333)\t1\n",
      "  (58, 905)\t1\n",
      "  (58, 537)\t3 \n",
      "\n",
      "(59, 1159)\n"
     ]
    }
   ],
   "source": [
    "print(bag, '\\n')\n",
    "print(bag.shape)"
   ]
  },
  {
   "cell_type": "markdown",
   "metadata": {},
   "source": [
    "Variabel \"bag\" berisi total kemunculan kata dalam corpus yang muncul dalam setiap dokumen.  Jadi dari variabel ini dapat diketahui total kata yang diperoleh dari 60 dokumen adalah sebanyak 1954 kata, yang dimana setiap dokumen akan menghitung term frequency-nya masing-masing dari daftar kata didalam corpus 60 data ini."
   ]
  },
  {
   "cell_type": "code",
   "execution_count": 17,
   "metadata": {},
   "outputs": [
    {
     "name": "stdout",
     "output_type": "stream",
     "text": [
      "{'abtrak': 2, 'uswatun': 1131, 'khasanah': 479, 'pengaruh': 792, 'etos': 280, 'kerja': 462, 'presatasi': 873, 'karyawan': 423, 'persero': 844, 'diatribusi': 201, 'jawa': 404, 'timur': 1091, 'area': 50, 'mojokerto': 690, 'pengumpulan': 806, 'data': 173, 'penelitian': 783, 'mengunakan': 647, 'survey': 1041, 'kuesioner': 530, 'dibagikan': 202, 'pt': 897, 'pln': 856, 'distribusi': 236, 'teknik': 1056, 'analisis': 37, 'meguji': 596, 'hipotesis': 347, 'regresi': 926, 'linier': 559, 'berganda': 104, 'memakai': 599, 'uji': 1118, 'hasil': 338, 'simultan': 995, 'semanagt': 976, 'disiplin': 232, 'signifikan': 989, 'prestasi': 875, 'parsial': 747, 'variabel': 1136, 'semangat': 977, 'berpengaruh': 113, 'dominan': 251, 'mempengaruhi': 611, 'disimpulkan': 231, 'meningkatkan': 651, 'kunci': 532, 'munculnya': 700, 'asumsi': 60, 'lahirnya': 538, 'budaya': 137, 'mengemis': 635, 'disebabkan': 230, 'anak': 36, 'memilih': 607, 'profesi': 886, 'pengemis': 796, 'lingkungan': 557, 'keluarga': 445, 'sikap': 991, 'periaku': 829, 'kebiasaan': 432, 'kehidupan': 441, 'berdasarkan': 102, 'perilaku': 832, 'kamal': 416, 'kab': 414, 'bangkalan': 76, 'memprihatinkan': 614, 'indikator': 367, 'mengukur': 646, 'etnografis': 279, 'persepsi': 843, 'sosialisasi': 1010, 'peran': 816, 'menyebabkan': 661, 'berprofesi': 115, 'modus': 687, 'operandi': 729, 'bentuk': 95, 'praktek': 868, 'jaringan': 402, 'desa': 182, 'variable': 1137, 'indicator': 365, 'behavioral': 91, 'sociology': 1006, 'menerangkan': 625, 'tingkah': 1092, 'laku': 540, 'akibatnya': 18, 'teory': 1064, 'exchange': 284, 'of': 725, 'social': 1005, 'kekecewaan': 442, 'manusia': 583, 'bersumber': 118, 'adnya': 10, 'faktor': 288, 'dorongan': 252, 'sosial': 1009, 'abstrak': 1, 'bertujuan': 119, 'meneliti': 622, 'pendidikan': 779, 'pelatihan': 765, 'rangka': 916, 'produktivitas': 884, 'meniliti': 649, 'membuktikan': 606, 'alat': 27, 'bantuan': 81, 'spss': 1015, 'pengujian': 805, 'nilai': 711, 'fhitung': 295, 'pos': 863, 'indonesia': 371, 'kantor': 418, 'cabang': 145, 'koefisien': 493, 'determinasi': 190, 'square': 1016, 'perubahan': 847, 'sisanya': 997, 'masuk': 591, 'model': 685, 'terbukti': 1068, 'kebenarannya': 430, 'beta': 122, 'objek': 722, 'pembelian': 771, 'produk': 881, 'xl': 1156, 'kecamatan': 435, 'sampel': 961, 'konsumen': 509, 'berdasar': 101, 'sistematis': 999, 'bauran': 86, 'pemasaran': 769, 'harga': 336, 'promosi': 891, 'keputusan': 461, 'strategi': 1023, 'segi': 970, 'tujuan': 1109, 'kompensasi': 497, 'finansial': 299, 'langsung': 544, 'nonfinansial': 715, 'memiliki': 609, 'kinerja': 484, 'manakah': 580, 'intention': 380, 'this': 1087, 'research': 933, 'is': 392, 'to': 1096, 'know': 492, 'influence': 372, 'location': 563, 'effort': 266, 'and': 40, 'service': 979, 'quality': 911, 'decision': 178, 'purchasing': 903, 'also': 31, 'having': 341, 'bigger': 125, 'ppengaruh': 867, 'at': 62, 'home': 351, 'eat': 259, 'depot': 181, 'soto': 1011, 'glorious': 325, 'asih': 54, 'lamongan': 541, 'use': 1129, 'quantitative': 912, 'method': 668, 'with': 1155, 'approach': 48, 'population': 860, 'consumer': 161, 'the': 1086, 'used': 1130, 'accidental': 3, 'sampling': 963, 'hence': 345, 'get': 322, 'responder': 938, 'collecting': 157, 'into': 386, 'library': 554, 'result': 940, 'mention': 656, 'tied': 1089, 'that': 1085, 'while': 1150, 'from': 313, 'test': 1084, 'prove': 895, 'free': 311, 'consisting': 160, 'by': 144, 'or': 732, 'together': 1097, 'can': 148, 'be': 87, 'concluded': 158, 'both': 133, 'which': 1149, 'have': 340, 'keywords': 478, 'business': 142, 'purchase': 902, 'tingkat': 1093, 'kebangkrutan': 428, 'perusahaan': 849, 'makanan': 575, 'minuman': 677, 'terdaftar': 1071, 'bursa': 140, 'efek': 262, 'kondisi': 504, 'bangkrut': 77, 'altman': 33, 'memperoleh': 613, 'peringatan': 833, 'metode': 669, 'diskriptif': 234, 'peneliti': 782, 'mengambil': 631, 'periode': 834, 'dijadikan': 211, 'populasi': 858, 'purposive': 906, 'menghasilkan': 638, 'kritis': 522, 'sehat': 971, 'stres': 1027, 'terhdap': 1072, 'dosen': 253, 'universitas': 1124, 'trunojoyo': 1106, 'madura': 571, 'responden': 937, 'orang': 733, 'terkumpul': 1076, 'bantu': 80, 'software': 1007, 'diperoleh': 225, 'stressor': 1028, 'fisik': 301, 'individu': 368, 'kelompok': 444, 'organisasi': 734, 'katakunci': 424, 'kenaikan': 452, 'permintaan': 840, 'saham': 956, 'mengalami': 630, 'penurunan': 811, 'menghindari': 639, 'menurunkan': 659, 'kisaran': 487, 'menarik': 617, 'minat': 673, 'investor': 389, 'membeli': 604, 'pemecahan': 773, 'stock': 1022, 'split': 1013, 'dasarnya': 172, 'permasalahan': 839, 'bei': 92, 'paired': 739, 'sample': 962, 'pengamatan': 789, 'penetuan': 788, 'perbedaan': 821, 'return': 943, 'tva': 1115, 'volume': 1143, 'perdagangan': 823, 'meningkat': 650, 'pergerakan': 826, 'bundling': 139, 'strategy': 1024, 'restoran': 939, 'quick': 913, 'chicken': 152, 'raya': 921, 'dukuh': 257, 'kupang': 533, 'pribanus': 877, 'wantara': 1145, 'yustina': 1158, 'chrismardani': 153, 'focus': 305, 'form': 308, 'cepat': 151, 'saji': 957, 'surabaya': 1038, 'paketan': 741, 'desember': 184, 'lapang': 545, 'mebagikan': 594, 'riset': 947, 'perpustakaan': 841, 'pengolahan': 803, 'perangkat': 818, 'lunak': 569, 'versi': 1142, 'for': 307, 'windows': 1153, 'skala': 1002, 'likert': 555, 'menunjukan': 658, 'bebas': 89, 'terikat': 1074, 'rumusan': 955, 'pelaporan': 764, 'biaya': 123, 'kualitas': 524, 'meminimalkan': 610, 'risiko': 948, 'cacat': 146, 'cv': 167, 'kapuas': 419, 'inti': 385, 'sarana': 966, 'profitabilitas': 889, 'deskriptif': 187, 'menggambarkan': 636, 'fenomena': 293, 'mendeskripsikan': 619, 'berasal': 96, 'periodik': 835, 'terperinci': 1079, 'peningkatan': 807, 'mengurangi': 648, 'berkurang': 108, 'penjualan': 808, 'meningkatnya': 652, 'inovasi': 375, 'keunggulan': 475, 'bersaing': 116, 'diterapkannya': 241, 'optik': 730, 'reza': 945, 'kualitatif': 525, 'pendekatan': 778, 'fenomenologi': 294, 'wawancara': 1146, 'observasi': 723, 'penggunaan': 800, 'dokumen': 250, 'reduction': 925, 'display': 235, 'conclusion': 159, 'drawing': 254, 'verification': 1141, 'menerapkan': 626, 'omzet': 726, 'ditawarkannya': 238, 'perbaikan': 820, 'pangsa': 746, 'pasarnya': 750, 'meluas': 598, 'daerah': 168, 'retailing': 942, 'mix': 681, 'lokasi': 564, 'merchandise': 665, 'atmosfer': 64, 'gerai': 321, 'pelayanan': 766, 'retailimg': 941, 'idola': 355, 'mart': 588, 'kwanyar': 536, 'kuantitatif': 527, 'berlandaskan': 109, 'filsafat': 297, 'positivisme': 865, 'menguji': 645, 'ditetapkan': 243, 'pengambilan': 791, 'instrumen': 378, 'validitas': 1135, 'reliabilitas': 929, 'klasik': 489, 'adjusted': 8, 'besarnya': 121, 'dipengaruhi': 222, 'diteliti': 239, 'badan': 72, 'usaha': 1128, 'milik': 672, 'negara': 706, 'bergerak': 105, 'bidang': 124, 'penyediaan': 814, 'listrik': 561, 'nasional': 705, 'mengelola': 634, 'bisnisnya': 129, 'terbaik': 1066, 'mengoptimalisasikan': 644, 'sumbr': 1035, 'daya': 174, 'dimiliki': 219, 'salah': 959, 'proses': 894, 'pengembangan': 794, 'karir': 420, 'bersifat': 117, 'pengenalan': 797, 'kesetiaan': 468, 'orgnisasional': 735, 'mentor': 657, 'sponsor': 1014, 'kesempatan': 467, 'tumbuh': 1110, 'positif': 864, 'diatas': 200, 'kuat': 528, 'mengidentifikasi': 640, 'ulang': 1120, 'nasabah': 704, 'bri': 136, 'layanan': 549, 'internet': 384, 'banking': 79, 'dimana': 216, 'kota': 516, 'diambil': 195, 'manfaat': 581, 'kemudahan': 451, 'keamanan': 426, 'ketersediaan': 472, 'fitur': 302, 'kecuali': 437, 'liquid': 560, 'penarikan': 775, 'purpossive': 907, 'dianalisis': 198, 'statistical': 1019, 'program': 890, 'solution': 1008, 'duga': 256, 'rasio': 918, 'likuiditas': 556, 'current': 166, 'ratio': 920, 'struktur': 1029, 'modal': 684, 'debt': 177, 'equity': 276, 'roe': 951, 'didapatkan': 208, 'lq': 567, 'diana': 196, 'agustini': 14, 'dewi': 192, 'keuangan': 474, 'akuisisi': 25, 'studi': 1030, 'manufaktur': 582, 'melakuukan': 597, 'jurusan': 413, 'ekonomi': 268, 'manajemen': 579, 'fakultas': 290, 'menganalisis': 633, 'dipilih': 227, 'didasarkan': 209, 'kriteria': 520, 'tersedia': 1080, 'laporan': 547, 'aktivitas': 24, 'pengambil': 790, 'alih': 29, 'asset': 56, 'mengakuisisi': 629, 'diukur': 246, 'total': 1102, 'turnover': 1114, 'on': 727, 'investmen': 388, 'earning': 258, 'dianalisisi': 199, 'relationship': 928, 'marketing': 587, 'keuntungan': 476, 'komitmen': 496, 'komunikasi': 502, 'kebenaran': 429, 'loyalitas': 565, 'adira': 7, 'finance': 298, 'wilayah': 1151, 'barat': 84, 'negatif': 707, 'self': 974, 'efficacy': 265, 'magnitude': 572, 'generality': 320, 'strength': 1026, 'akademik': 17, 'mahasiswa': 573, 'berprestasi': 114, 'mengikuti': 641, 'mawapres': 593, 'diterima': 242, 'temuan': 1062, 'teridiri': 1073, 'muhammad': 696, 'sholeh': 984, 'iklan': 358, 'televisi': 1060, 'kartu': 422, 'seluler': 975, 'geger': 319, 'dibawah': 203, 'bimbingan': 126, 'bambang': 73, 'setiyo': 983, 'pambudi': 742, 'mm': 682, 'suyono': 1044, 'masyarakat': 592, 'kabupaten': 415, 'isi': 393, 'pesan': 850, 'format': 309, 'sumber': 1034, 'satiyah': 967, 'dinas': 220, 'kelautan': 443, 'perikanan': 830, 'irawati': 391, 'helmi': 344, 'buyung': 143, 'aulia': 68, 'upaya': 1126, 'mudah': 695, 'sdm': 969, 'dilaksanakan': 214, 'instansi': 376, 'tercapai': 1069, 'kemampuan': 447, 'pegawai': 757, 'efektif': 263, 'efisien': 267, 'pengembnagan': 795, 'diharapkan': 210, 'menyesuaikan': 663, 'keterampilan': 471, 'pengetahuan': 798, 'sesuai': 982, 'tuntutan': 1113, 'mendukung': 620, 'terciptanya': 1070, 'suasana': 1031, 'kondusif': 505, 'produktivitasi': 885, 'menganalisa': 632, 'hubungan': 353, 'observasional': 724, 'analitik': 38, 'penyebaran': 812, 'kuisioner': 531, 'diolah': 221, 'statistik': 1020, 'non': 714, 'probality': 880, 'simple': 993, 'random': 915, 'kesimpulan': 469, 'jabatan': 396, 'motivasi': 691, 'partisipasi': 748, 'aktif': 21, 'seleksi': 973, 'peserta': 851, 'instruktur': 377, 'ftabel': 314, 'thitung': 1088, 'brand': 135, 'association': 58, 'pelanggan': 763, 'pakaian': 740, 'kiddrock': 482, 'distro': 237, 'cranberries': 162, 'pamekasan': 743, 'survei': 1040, 'aksidental': 20, 'lapangan': 546, 'field': 296, 'membagikan': 602, 'pengolaha': 802, 'reabilitas': 922, 'dimensi': 218, 'jaminan': 399, 'identifikasi': 354, 'pribadi': 876, 'status': 1021, 'kesediaan': 466, 'menerima': 627, 'perluasan': 837, 'merek': 666, 'merekomendasikan': 667, 'cranberriess': 163, 'apresisasikan': 49, 'presepsi': 874, 'aplikasi': 47, 'nyata': 721, 'pemanfaatan': 768, 'teknologi': 1058, 'informasi': 373, 'administrasi': 9, 'perguruan': 827, 'satunya': 968, 'sistem': 998, 'portal': 861, 'implementasi': 360, 'penyelenggaraannya': 815, 'menemui': 623, 'kendala': 453, 'teknis': 1057, 'kepuasan': 459, 'indeks': 363, 'ditinjau': 244, 'webqual': 1147, 'fokus': 306, 'mutu': 702, 'website': 1148, 'trunjoyo': 1105, 'importance': 361, 'performance': 824, 'analysis': 39, 'kuantitaif': 526, 'gambaran': 315, 'deskripsi': 186, 'lukisan': 568, 'faktual': 289, 'akurat': 26, 'jasa': 403, 'online': 728, 'stratified': 1025, 'kepentingan': 456, 'skor': 1003, 'ikp': 359, 'kategori': 425, 'puas': 898, 'diagram': 194, 'kartesius': 421, 'atribut': 65, 'prioritas': 879, 'utama': 1132, 'situs': 1000, 'detail': 188, 'ter': 1065, 'update': 1127, 'ki': 481, 'disitus': 233, 'utm': 1133, 'dipercaya': 223, 'pengguna': 799, 'aman': 34, 'krs': 523, 'khs': 480, 'transkrip': 1104, 'personal': 845, 'kip': 486, 'celebrity': 150, 'endorser': 274, 'iwan': 395, 'fals': 291, 'beli': 94, 'top': 1101, 'coffee': 156, 'sumur': 1036, 'kembang': 450, 'kelurahan': 446, 'pejagan': 759, 'menngunakan': 655, 'erangkat': 277, 'trustworthiness': 1107, 'expertise': 286, 'attractiveness': 67, 'respect': 936, 'similarity': 992, 'minet': 675, 'miant': 670, 'menekankan': 621, 'kepemimpinan': 455, 'sampang': 960, 'negeri': 708, 'sipil': 996, 'pns': 857, 'hitung': 348, 'firm': 300, 'size': 1001, 'leverage': 553, 'risk': 949, 'kebijakan': 433, 'deviden': 191, 'businees': 141, 'dividend': 248, 'payout': 754, 'ali': 28, 'rahbini': 914, 'berbelanja': 99, 'swalayan': 1045, 'tom': 1100, 'jerry': 407, 'nirma': 712, 'kehandalan': 440, 'tanggap': 1054, 'empati': 271, 'bukti': 138, 'keandalan': 427, 'eceran': 260, 'langkah': 543, 'keberhasilan': 431, 'produksi': 882, 'barang': 83, 'bisnis': 128, 'jual': 410, 'memperhatikan': 612, 'teori': 1063, 'berman': 111, 'evans': 282, 'foster': 310, 'indah': 362, 'kepustakaan': 460, 'bangakalan': 75, 'pemebelian': 772, 'kuci': 529, 'toko': 1098, 'efektivitas': 264, 'cdm': 149, 'jalur': 398, 'path': 752, 'keyakinan': 477, 'niat': 710, 'aththaariq': 63, 'kompetensi': 498, 'moch': 683, 'wispandono': 1154, 'alkirom': 30, 'wildan': 1152, 'pedagogik': 756, 'profesional': 887, 'kepribadian': 458, 'primer': 878, 'tersertifikasi': 1081, 'judgmental': 411, 'koefisiensi': 494, 'signifikansi': 990, 'haryono': 337, 'arifin': 51, 'honda': 352, 'vario': 1140, 'dealler': 176, 'surya': 1042, 'agung': 13, 'motor': 692, 'dealer': 175, 'kebudayaan': 434, 'psikologis': 896, 'dianalisa': 197, 'dharma': 193, 'abidin': 0, 'syah': 1046, 'tipe': 1094, 'autoritarian': 69, 'demokratis': 179, 'pangarengan': 745, 'anova': 45, 'kontribusi': 510, 'autoritariansecara': 70, 'pegawaidikantor': 758, 'tabel': 1050, 'lainya': 539, 'dikantor': 212, 'barokah': 85, 'prambon': 870, 'independen': 364, 'dependen': 180, 'perhitungan': 828, 'credit': 164, 'npl': 718, 'pd': 755, 'bpr': 134, 'bank': 78, 'resiko': 934, 'dikatagorikan': 213, 'ketentuan': 470, 'syarat': 1048, 'maksimal': 577, 'performing': 825, 'loan': 562, 'investasi': 387, 'berhubungan': 106, 'rasional': 919, 'menginvestasikan': 642, 'dananya': 170, 'minimal': 676, 'frekuensi': 312, 'membagi': 601, 'dividen': 247, 'membentuk': 605, 'portofolio': 862, 'optimal': 731, 'kandidat': 417, 'dibentuk': 205, 'excess': 283, 'returns': 944, 'erb': 278, 'ci': 154, 'komposisi': 499, 'proporsi': 892, 'dana': 169, 'adaro': 6, 'energy': 275, 'tbk': 1055, 'gudang': 331, 'garam': 317, 'hm': 350, 'sampoerna': 964, 'astra': 59, 'otopart': 737, 'multi': 697, 'bintang': 127, 'agro': 12, 'lestari': 552, 'goodyear': 327, 'indika': 366, 'united': 1123, 'tractors': 1103, 'pabrik': 738, 'kertas': 463, 'tjiwi': 1095, 'kimia': 483, 'indofood': 369, 'sukses': 1032, 'makmur': 576, 'international': 383, 'tunggal': 1112, 'aktiva': 23, 'expected': 285, 'rekrutmen': 927, 'pusat': 909, 'gresik': 330, 'cipta': 155, 'sejahtera': 972, 'hening': 346, 'ary': 53, 'putra': 910, 'media': 595, 'facebook': 287, 'pemimbing': 774, 'klik': 490, 'menyebarkan': 662, 'vairabel': 1134, 'habibah': 332, 'ekuitas': 269, 'notebook': 716, 'acer': 4, 'dibuktikan': 207, 'penguasaan': 804, 'hamper': 334, 'pasar': 749, 'dasar': 171, 'kenyataan': 454, 'penelitiannya': 784, 'penelitan': 781, 'bebasnya': 90, 'kesadaran': 464, 'asosiasi': 55, 'terikatnya': 1075, 'instrument': 379, 'realibilitas': 923, 'pandangan': 744, 'resmi': 935, 'sepeda': 978, 'kotler': 517, 'armstrong': 52, 'gaya': 318, 'desain': 183, 'memutuskan': 616, 'supra': 1037, 'mempunyah': 615, 'susu': 1043, 'cair': 147, 'indomilk': 370, 'berusaha': 120, 'unsur': 1125, 'pengirim': 801, 'komunikator': 503, 'penerima': 787, 'komunikan': 501, 'umpan': 1122, 'produktifitas': 883, 'pendidikian': 780, 'proporsional': 893, 'dimasukkan': 217, 'varibel': 1138, 'kominkator': 495, 'sigifikan': 988, 'peranan': 817, 'penyedap': 813, 'masako': 590, 'populasinya': 859, 'robatal': 950, 'mengkonsumsi': 643, 'kemasan': 448, 'pelabelan': 762, 'pelengkap': 767, 'simpulan': 994, 'petis': 852, 'ikan': 356, 'tuna': 1111, 'banyuanyar': 82, 'kosumen': 515, 'ditribusi': 245, 'jamu': 400, 'tolak': 1099, 'angin': 43, 'sido': 986, 'muncul': 699, 'manyar': 584, 'penlitian': 809, 'konsep': 508, 'aida': 15, 'helm': 343, 'ink': 374, 'attention': 66, 'interest': 382, 'desire': 185, 'action': 5, 'profesionalisme': 888, 'aksesibilitas': 19, 'fleksibilitas': 303, 'kepercayaan': 457, 'reputasi': 932, 'kredibilitas': 519, 'recovery': 924, 'serviscape': 980, 'pasien': 751, 'rumah': 954, 'sakit': 958, 'terpadu': 1077, 'servisecape': 981, 'deterjen': 189, 'rinso': 946, 'anti': 46, 'noda': 713, 'berdomisili': 103, 'telang': 1059, 'jembatan': 405, 'suramadu': 1039, 'enam': 273, 'ketidak': 473, 'puasan': 899, 'lampu': 542, 'penerangan': 785, 'terpasang': 1078, 'menyala': 660, 'malam': 578, 'petugas': 853, 'marga': 586, 'berpenampilan': 112, 'rapi': 917, 'jalan': 397, 'mulus': 698, 'berlubang': 110, 'tiket': 1090, 'teliti': 1061, 'uang': 1116, 'kembalian': 449, 'asuransi': 61, 'kecelakaan': 436, 'patroli': 753, 'mogok': 688, 'ban': 74, 'bocor': 132, 'dll': 249, 'martabak': 589, 'hawaii': 342, 'ulfiyatun': 1121, 'mutohharoh': 701, 'menentukan': 624, 'preferensi': 872, 'belanja': 93, 'fashion': 292, 'mahasiwa': 574, 'journal': 409, 'economics': 261, 'drs': 255, 'mohamad': 689, 'tambrin': 1051, 'crismardani': 165, 'global': 324, 'berbasis': 98, 'komputer': 500, 'menggeser': 637, 'konvensional': 511, 'praktis': 869, 'modern': 686, 'dirilis': 228, 'dibeli': 204, 'dipertimbangkan': 226, 'menetukan': 628, 'berketergantungan': 107, 'interdependent': 381, 'jenis': 406, 'statistic': 1018, 'konfirmatori': 506, 'kmo': 491, 'item': 394, 'rendah': 930, 'klasifikasi': 488, 'miserable': 680, 'ukuran': 1119, 'kecukuperatan': 438, 'layak': 548, 'alternatif': 32, 'awareness': 71, 'assocations': 57, 'kesan': 465, 'perceived': 822, 'loyalty': 566, 'handphone': 335, 'blackberry': 130, 'diperhatikan': 224, 'kopontren': 514, 'sidogiri': 987, 'tanah': 1052, 'merah': 664, 'rokok': 952, 'mild': 671, 'socah': 1004, 'menjalani': 654, 'pekerjaan': 760, 'mencampur': 618, 'adukkan': 11, 'dirumah': 229, 'tangga': 1053, 'membawa': 603, 'kedalam': 439, 'sulit': 1033, 'penuh': 810, 'beban': 88, 'berat': 97, 'berdampak': 100, 'pekerjaannya': 761, 'tugas': 1108, 'dilakukannya': 215, 'jangka': 401, 'lembur': 551, 'konflik': 507, 'ganda': 316, 'perawat': 819, 'wanita': 1144, 'rs': 953, 'syamrabu': 1047, 'kinerjanya': 485, 'emosional': 270, 'variebel': 1139, 'memilik': 608, 'terbesar': 1067, 'yamaha': 1157, 'new': 709, 'jupiter': 412, 'liniear': 558, 'hasilnya': 339, 'kusniyah': 535, 'go': 326, 'public': 900, 'hj': 349, 'evaliati': 281, 'amaniyah': 35, 'msm': 694, 'prasetyo': 871, 'nugroho': 719, 'statis': 1017, 'fluktuatif': 304, 'empiris': 272, 'aktifitas': 22, 'ike': 357, 'miranti': 679, 'maan': 570, 'ghodaqo': 323, 'siddiq': 985, 'jombang': 408, 'dibimbing': 206, 'kurriwati': 534, 'sp': 1012, 'msi': 693, 'periklanan': 831, 'publisitas': 901, 'menitikberatkan': 653, 'air': 16, 'mineral': 674, 'purprosive': 908, 'maret': 585, 'memakaiuji': 600, 'muzanni': 703, 'piutang': 855, 'tertahadap': 1082, 'rentabilitas': 931, 'koperasi': 512, 'syariah': 1049, 'bmt': 131, 'ugt': 1117, 'pembantu': 770, 'kpri': 518, 'kopergu': 513, 'purnamawati': 904, 'lembaga': 550, 'pendapatan': 777, 'pinjaman': 854, 'pendanaan': 776, 'anggota': 42, 'otomatis': 736, 'tertanam': 1083, 'potensi': 866, 'penerapan': 786, 'pengelolaan': 793, 'diterapkan': 240, 'kriterian': 521, 'pertumbuhan': 846, 'perputaran': 842, 'perkembangan': 836, 'anissa': 44, 'novianti': 717, 'minyak': 678, 'goreng': 328, 'sania': 965, 'perumahan': 848, 'graha': 329, 'permai': 838, 'nurita': 720, 'andriani': 41, 'ir': 390, 'hadi': 333, 'purnomo': 905, 'label': 537}\n"
     ]
    }
   ],
   "source": [
    "print(vectorizer.vocabulary_)"
   ]
  },
  {
   "cell_type": "markdown",
   "metadata": {},
   "source": [
    ">Pemrosesan TF-IDF"
   ]
  },
  {
   "cell_type": "code",
   "execution_count": 18,
   "metadata": {},
   "outputs": [],
   "source": [
    "tfidf = TfidfTransformer(use_idf=True,norm='l2',smooth_idf=True)\n",
    "vect_abstrak=tfidf.fit_transform(bag)"
   ]
  },
  {
   "cell_type": "code",
   "execution_count": 19,
   "metadata": {},
   "outputs": [
    {
     "name": "stdout",
     "output_type": "stream",
     "text": [
      "  (0, 1136)\t0.05544275451804377\n",
      "  (0, 1131)\t0.04987446194577282\n",
      "  (0, 1118)\t0.06975976376817894\n",
      "  (0, 1091)\t0.22639861376496923\n",
      "  (0, 1056)\t0.018106722734538613\n",
      "  (0, 1041)\t0.039491035965258624\n",
      "  (0, 995)\t0.015373869198909235\n",
      "  (0, 989)\t0.05330528497153387\n",
      "  (0, 977)\t0.09055944550598768\n",
      "  (0, 976)\t0.04987446194577282\n",
      "  (0, 926)\t0.018815204744023966\n",
      "  (0, 897)\t0.13665977953612546\n",
      "  (0, 875)\t0.1974551798262931\n",
      "  (0, 873)\t0.04987446194577282\n",
      "  (0, 856)\t0.18111889101197537\n",
      "  (0, 844)\t0.21009851707451044\n",
      "  (0, 806)\t0.025623186854715343\n",
      "  (0, 792)\t0.028198532616898395\n",
      "  (0, 783)\t0.023432388562973333\n",
      "  (0, 747)\t0.017120707967602695\n",
      "  (0, 690)\t0.24937230972886412\n",
      "  (0, 651)\t0.06566045005868829\n",
      "  (0, 647)\t0.04527972275299384\n",
      "  (0, 611)\t0.029570205691252394\n",
      "  (0, 599)\t0.0316362774343879\n",
      "  :\t:\n",
      "  (58, 527)\t0.01853666702329799\n",
      "  (58, 489)\t0.02700525281965307\n",
      "  (58, 461)\t0.15502676507863963\n",
      "  (58, 460)\t0.02916376542961718\n",
      "  (58, 448)\t0.10760615402488734\n",
      "  (58, 435)\t0.21318809079215753\n",
      "  (58, 416)\t0.5411213466306729\n",
      "  (58, 390)\t0.04257367058697438\n",
      "  (58, 378)\t0.025241619601976586\n",
      "  (58, 338)\t0.011436835052331768\n",
      "  (58, 333)\t0.04257367058697438\n",
      "  (58, 329)\t0.2980156941088207\n",
      "  (58, 328)\t0.2128683529348719\n",
      "  (58, 251)\t0.03628357526202073\n",
      "  (58, 203)\t0.028024426353014584\n",
      "  (58, 173)\t0.029774047548830965\n",
      "  (58, 126)\t0.02700525281965307\n",
      "  (58, 120)\t0.030455441541736787\n",
      "  (58, 113)\t0.05249356222695598\n",
      "  (58, 104)\t0.015456199807189357\n",
      "  (58, 65)\t0.2555725774452415\n",
      "  (58, 60)\t0.023083106992012478\n",
      "  (58, 44)\t0.04257367058697438\n",
      "  (58, 41)\t0.04257367058697438\n",
      "  (58, 37)\t0.02579155061204071\n",
      "(59, 1159)\n"
     ]
    }
   ],
   "source": [
    "print(vect_abstrak)\n",
    "print(vect_abstrak.shape)"
   ]
  },
  {
   "cell_type": "markdown",
   "metadata": {},
   "source": [
    "Diatas ini merupakan daftar TF-IDF didalam setiap dokumen."
   ]
  },
  {
   "cell_type": "markdown",
   "metadata": {},
   "source": [
    ">Menampilkan data hasil pemrosesan TD-IDF kedalam bentuk DataFrame agar lebih mudah dibaca"
   ]
  },
  {
   "cell_type": "code",
   "execution_count": 20,
   "metadata": {},
   "outputs": [
    {
     "data": {
      "text/plain": [
       "array(['abidin', 'abstrak', 'abtrak', ..., 'xl', 'yamaha', 'yustina'],\n",
       "      dtype=object)"
      ]
     },
     "execution_count": 20,
     "metadata": {},
     "output_type": "execute_result"
    }
   ],
   "source": [
    "term=vectorizer.get_feature_names_out()\n",
    "term"
   ]
  },
  {
   "cell_type": "markdown",
   "metadata": {},
   "source": [
    "variabel \"term\" berisi daftar list kata didalam corpus"
   ]
  },
  {
   "cell_type": "code",
   "execution_count": 21,
   "metadata": {},
   "outputs": [
    {
     "data": {
      "text/html": [
       "<div>\n",
       "<style scoped>\n",
       "    .dataframe tbody tr th:only-of-type {\n",
       "        vertical-align: middle;\n",
       "    }\n",
       "\n",
       "    .dataframe tbody tr th {\n",
       "        vertical-align: top;\n",
       "    }\n",
       "\n",
       "    .dataframe thead tr th {\n",
       "        text-align: left;\n",
       "    }\n",
       "</style>\n",
       "<table border=\"1\" class=\"dataframe\">\n",
       "  <thead>\n",
       "    <tr>\n",
       "      <th></th>\n",
       "      <th>abidin</th>\n",
       "      <th>abstrak</th>\n",
       "      <th>abtrak</th>\n",
       "      <th>accidental</th>\n",
       "      <th>acer</th>\n",
       "      <th>action</th>\n",
       "      <th>adaro</th>\n",
       "      <th>adira</th>\n",
       "      <th>adjusted</th>\n",
       "      <th>administrasi</th>\n",
       "      <th>...</th>\n",
       "      <th>which</th>\n",
       "      <th>while</th>\n",
       "      <th>wilayah</th>\n",
       "      <th>wildan</th>\n",
       "      <th>windows</th>\n",
       "      <th>wispandono</th>\n",
       "      <th>with</th>\n",
       "      <th>xl</th>\n",
       "      <th>yamaha</th>\n",
       "      <th>yustina</th>\n",
       "    </tr>\n",
       "  </thead>\n",
       "  <tbody>\n",
       "    <tr>\n",
       "      <th>0</th>\n",
       "      <td>0.0</td>\n",
       "      <td>0.000000</td>\n",
       "      <td>0.049874</td>\n",
       "      <td>0.000000</td>\n",
       "      <td>0.0</td>\n",
       "      <td>0.0</td>\n",
       "      <td>0.0</td>\n",
       "      <td>0.0</td>\n",
       "      <td>0.0</td>\n",
       "      <td>0.0</td>\n",
       "      <td>...</td>\n",
       "      <td>0.000000</td>\n",
       "      <td>0.000000</td>\n",
       "      <td>0.0</td>\n",
       "      <td>0.0</td>\n",
       "      <td>0.00000</td>\n",
       "      <td>0.0</td>\n",
       "      <td>0.000000</td>\n",
       "      <td>0.000000</td>\n",
       "      <td>0.0</td>\n",
       "      <td>0.000000</td>\n",
       "    </tr>\n",
       "    <tr>\n",
       "      <th>1</th>\n",
       "      <td>0.0</td>\n",
       "      <td>0.000000</td>\n",
       "      <td>0.000000</td>\n",
       "      <td>0.000000</td>\n",
       "      <td>0.0</td>\n",
       "      <td>0.0</td>\n",
       "      <td>0.0</td>\n",
       "      <td>0.0</td>\n",
       "      <td>0.0</td>\n",
       "      <td>0.0</td>\n",
       "      <td>...</td>\n",
       "      <td>0.000000</td>\n",
       "      <td>0.000000</td>\n",
       "      <td>0.0</td>\n",
       "      <td>0.0</td>\n",
       "      <td>0.00000</td>\n",
       "      <td>0.0</td>\n",
       "      <td>0.000000</td>\n",
       "      <td>0.000000</td>\n",
       "      <td>0.0</td>\n",
       "      <td>0.000000</td>\n",
       "    </tr>\n",
       "    <tr>\n",
       "      <th>2</th>\n",
       "      <td>0.0</td>\n",
       "      <td>0.044543</td>\n",
       "      <td>0.000000</td>\n",
       "      <td>0.000000</td>\n",
       "      <td>0.0</td>\n",
       "      <td>0.0</td>\n",
       "      <td>0.0</td>\n",
       "      <td>0.0</td>\n",
       "      <td>0.0</td>\n",
       "      <td>0.0</td>\n",
       "      <td>...</td>\n",
       "      <td>0.000000</td>\n",
       "      <td>0.000000</td>\n",
       "      <td>0.0</td>\n",
       "      <td>0.0</td>\n",
       "      <td>0.00000</td>\n",
       "      <td>0.0</td>\n",
       "      <td>0.000000</td>\n",
       "      <td>0.000000</td>\n",
       "      <td>0.0</td>\n",
       "      <td>0.000000</td>\n",
       "    </tr>\n",
       "    <tr>\n",
       "      <th>3</th>\n",
       "      <td>0.0</td>\n",
       "      <td>0.000000</td>\n",
       "      <td>0.000000</td>\n",
       "      <td>0.000000</td>\n",
       "      <td>0.0</td>\n",
       "      <td>0.0</td>\n",
       "      <td>0.0</td>\n",
       "      <td>0.0</td>\n",
       "      <td>0.0</td>\n",
       "      <td>0.0</td>\n",
       "      <td>...</td>\n",
       "      <td>0.000000</td>\n",
       "      <td>0.000000</td>\n",
       "      <td>0.0</td>\n",
       "      <td>0.0</td>\n",
       "      <td>0.00000</td>\n",
       "      <td>0.0</td>\n",
       "      <td>0.000000</td>\n",
       "      <td>0.413761</td>\n",
       "      <td>0.0</td>\n",
       "      <td>0.000000</td>\n",
       "    </tr>\n",
       "    <tr>\n",
       "      <th>4</th>\n",
       "      <td>0.0</td>\n",
       "      <td>0.031131</td>\n",
       "      <td>0.000000</td>\n",
       "      <td>0.000000</td>\n",
       "      <td>0.0</td>\n",
       "      <td>0.0</td>\n",
       "      <td>0.0</td>\n",
       "      <td>0.0</td>\n",
       "      <td>0.0</td>\n",
       "      <td>0.0</td>\n",
       "      <td>...</td>\n",
       "      <td>0.000000</td>\n",
       "      <td>0.000000</td>\n",
       "      <td>0.0</td>\n",
       "      <td>0.0</td>\n",
       "      <td>0.00000</td>\n",
       "      <td>0.0</td>\n",
       "      <td>0.000000</td>\n",
       "      <td>0.000000</td>\n",
       "      <td>0.0</td>\n",
       "      <td>0.000000</td>\n",
       "    </tr>\n",
       "    <tr>\n",
       "      <th>5</th>\n",
       "      <td>0.0</td>\n",
       "      <td>0.000000</td>\n",
       "      <td>0.000000</td>\n",
       "      <td>0.022992</td>\n",
       "      <td>0.0</td>\n",
       "      <td>0.0</td>\n",
       "      <td>0.0</td>\n",
       "      <td>0.0</td>\n",
       "      <td>0.0</td>\n",
       "      <td>0.0</td>\n",
       "      <td>...</td>\n",
       "      <td>0.033565</td>\n",
       "      <td>0.033565</td>\n",
       "      <td>0.0</td>\n",
       "      <td>0.0</td>\n",
       "      <td>0.00000</td>\n",
       "      <td>0.0</td>\n",
       "      <td>0.033565</td>\n",
       "      <td>0.000000</td>\n",
       "      <td>0.0</td>\n",
       "      <td>0.000000</td>\n",
       "    </tr>\n",
       "    <tr>\n",
       "      <th>6</th>\n",
       "      <td>0.0</td>\n",
       "      <td>0.000000</td>\n",
       "      <td>0.000000</td>\n",
       "      <td>0.000000</td>\n",
       "      <td>0.0</td>\n",
       "      <td>0.0</td>\n",
       "      <td>0.0</td>\n",
       "      <td>0.0</td>\n",
       "      <td>0.0</td>\n",
       "      <td>0.0</td>\n",
       "      <td>...</td>\n",
       "      <td>0.000000</td>\n",
       "      <td>0.000000</td>\n",
       "      <td>0.0</td>\n",
       "      <td>0.0</td>\n",
       "      <td>0.00000</td>\n",
       "      <td>0.0</td>\n",
       "      <td>0.000000</td>\n",
       "      <td>0.000000</td>\n",
       "      <td>0.0</td>\n",
       "      <td>0.000000</td>\n",
       "    </tr>\n",
       "    <tr>\n",
       "      <th>7</th>\n",
       "      <td>0.0</td>\n",
       "      <td>0.031753</td>\n",
       "      <td>0.000000</td>\n",
       "      <td>0.000000</td>\n",
       "      <td>0.0</td>\n",
       "      <td>0.0</td>\n",
       "      <td>0.0</td>\n",
       "      <td>0.0</td>\n",
       "      <td>0.0</td>\n",
       "      <td>0.0</td>\n",
       "      <td>...</td>\n",
       "      <td>0.000000</td>\n",
       "      <td>0.000000</td>\n",
       "      <td>0.0</td>\n",
       "      <td>0.0</td>\n",
       "      <td>0.00000</td>\n",
       "      <td>0.0</td>\n",
       "      <td>0.000000</td>\n",
       "      <td>0.000000</td>\n",
       "      <td>0.0</td>\n",
       "      <td>0.000000</td>\n",
       "    </tr>\n",
       "    <tr>\n",
       "      <th>8</th>\n",
       "      <td>0.0</td>\n",
       "      <td>0.000000</td>\n",
       "      <td>0.000000</td>\n",
       "      <td>0.000000</td>\n",
       "      <td>0.0</td>\n",
       "      <td>0.0</td>\n",
       "      <td>0.0</td>\n",
       "      <td>0.0</td>\n",
       "      <td>0.0</td>\n",
       "      <td>0.0</td>\n",
       "      <td>...</td>\n",
       "      <td>0.000000</td>\n",
       "      <td>0.000000</td>\n",
       "      <td>0.0</td>\n",
       "      <td>0.0</td>\n",
       "      <td>0.00000</td>\n",
       "      <td>0.0</td>\n",
       "      <td>0.000000</td>\n",
       "      <td>0.000000</td>\n",
       "      <td>0.0</td>\n",
       "      <td>0.000000</td>\n",
       "    </tr>\n",
       "    <tr>\n",
       "      <th>9</th>\n",
       "      <td>0.0</td>\n",
       "      <td>0.000000</td>\n",
       "      <td>0.000000</td>\n",
       "      <td>0.028645</td>\n",
       "      <td>0.0</td>\n",
       "      <td>0.0</td>\n",
       "      <td>0.0</td>\n",
       "      <td>0.0</td>\n",
       "      <td>0.0</td>\n",
       "      <td>0.0</td>\n",
       "      <td>...</td>\n",
       "      <td>0.000000</td>\n",
       "      <td>0.000000</td>\n",
       "      <td>0.0</td>\n",
       "      <td>0.0</td>\n",
       "      <td>0.03523</td>\n",
       "      <td>0.0</td>\n",
       "      <td>0.000000</td>\n",
       "      <td>0.000000</td>\n",
       "      <td>0.0</td>\n",
       "      <td>0.037963</td>\n",
       "    </tr>\n",
       "  </tbody>\n",
       "</table>\n",
       "<p>10 rows × 1159 columns</p>\n",
       "</div>"
      ],
      "text/plain": [
       "  abidin   abstrak    abtrak accidental acer action adaro adira adjusted  \\\n",
       "0    0.0  0.000000  0.049874   0.000000  0.0    0.0   0.0   0.0      0.0   \n",
       "1    0.0  0.000000  0.000000   0.000000  0.0    0.0   0.0   0.0      0.0   \n",
       "2    0.0  0.044543  0.000000   0.000000  0.0    0.0   0.0   0.0      0.0   \n",
       "3    0.0  0.000000  0.000000   0.000000  0.0    0.0   0.0   0.0      0.0   \n",
       "4    0.0  0.031131  0.000000   0.000000  0.0    0.0   0.0   0.0      0.0   \n",
       "5    0.0  0.000000  0.000000   0.022992  0.0    0.0   0.0   0.0      0.0   \n",
       "6    0.0  0.000000  0.000000   0.000000  0.0    0.0   0.0   0.0      0.0   \n",
       "7    0.0  0.031753  0.000000   0.000000  0.0    0.0   0.0   0.0      0.0   \n",
       "8    0.0  0.000000  0.000000   0.000000  0.0    0.0   0.0   0.0      0.0   \n",
       "9    0.0  0.000000  0.000000   0.028645  0.0    0.0   0.0   0.0      0.0   \n",
       "\n",
       "  administrasi  ...     which     while wilayah wildan  windows wispandono  \\\n",
       "0          0.0  ...  0.000000  0.000000     0.0    0.0  0.00000        0.0   \n",
       "1          0.0  ...  0.000000  0.000000     0.0    0.0  0.00000        0.0   \n",
       "2          0.0  ...  0.000000  0.000000     0.0    0.0  0.00000        0.0   \n",
       "3          0.0  ...  0.000000  0.000000     0.0    0.0  0.00000        0.0   \n",
       "4          0.0  ...  0.000000  0.000000     0.0    0.0  0.00000        0.0   \n",
       "5          0.0  ...  0.033565  0.033565     0.0    0.0  0.00000        0.0   \n",
       "6          0.0  ...  0.000000  0.000000     0.0    0.0  0.00000        0.0   \n",
       "7          0.0  ...  0.000000  0.000000     0.0    0.0  0.00000        0.0   \n",
       "8          0.0  ...  0.000000  0.000000     0.0    0.0  0.00000        0.0   \n",
       "9          0.0  ...  0.000000  0.000000     0.0    0.0  0.03523        0.0   \n",
       "\n",
       "       with        xl yamaha   yustina  \n",
       "0  0.000000  0.000000    0.0  0.000000  \n",
       "1  0.000000  0.000000    0.0  0.000000  \n",
       "2  0.000000  0.000000    0.0  0.000000  \n",
       "3  0.000000  0.413761    0.0  0.000000  \n",
       "4  0.000000  0.000000    0.0  0.000000  \n",
       "5  0.033565  0.000000    0.0  0.000000  \n",
       "6  0.000000  0.000000    0.0  0.000000  \n",
       "7  0.000000  0.000000    0.0  0.000000  \n",
       "8  0.000000  0.000000    0.0  0.000000  \n",
       "9  0.000000  0.000000    0.0  0.037963  \n",
       "\n",
       "[10 rows x 1159 columns]"
      ]
     },
     "execution_count": 21,
     "metadata": {},
     "output_type": "execute_result"
    }
   ],
   "source": [
    "df_Tf_Idf =pd.DataFrame(data=vect_abstrak.toarray(), columns=[term])\n",
    "df_Tf_Idf.head(10)"
   ]
  },
  {
   "cell_type": "code",
   "execution_count": 22,
   "metadata": {},
   "outputs": [
    {
     "data": {
      "text/plain": [
       "(59, 1159)"
      ]
     },
     "execution_count": 22,
     "metadata": {},
     "output_type": "execute_result"
    }
   ],
   "source": [
    "df_Tf_Idf.shape"
   ]
  },
  {
   "cell_type": "markdown",
   "metadata": {},
   "source": [
    "Dari hasil diatas dapat diketahui kata-kata yang tidak muncul didalam setiap dokumen memiliki nilai TF-IDF nol (0) sedangkan kata-kata yang muncul memiliki nilainya masing-masing"
   ]
  },
  {
   "cell_type": "markdown",
   "metadata": {},
   "source": [
    "## Latent Simantic Analysis (LSA)"
   ]
  },
  {
   "cell_type": "markdown",
   "metadata": {},
   "source": [
    "Algoritma LSA (Latent Semantic Analysis) adalah salah satu algoritma yang dapat digunakan untuk menganalisa hubungan antara sebuah frase/kalimat dengan sekumpulan dokumen. LSA bisa digunakan untuk menilai esai dengan mengkonversikan esai menjadi matriks-matriks yang diberi nilai pada masing-masing term untuk dicari kesamaan dengan term referensi."
   ]
  },
  {
   "cell_type": "markdown",
   "metadata": {},
   "source": [
    "Dalam pemrosesan LSA ada tahap yang dinamakan Singular Value Decomposition (SVD), SVD adalah salah satu teknik reduksi dimensi yang bermanfaat untuk memperkecil nilai kompleksitas dalam pemrosesan term-document matrix. Dengan SVD, term-document matrix dapat dipecah/didekomposisikan menjadi tiga matriks, yaitu :\n",
    "- Matriks ortogonal U\n",
    "- Matriks diagonal S\n",
    "- Transpose dari matriks ortogonal V\n",
    "\n",
    "$$\n",
    "A_{m n}=U_{m m} x S_{m n} x V_{n n}^{T}\n",
    "$$\n",
    "\n",
    "Keterangan:\n",
    "\n",
    "$\n",
    "{A_{m n}}: \\text { Matrix Awal } \\\\\n",
    "$\n",
    "\n",
    "$\n",
    "{U_{m m}}: \\text { Matrix ortogonal U }\\\\\n",
    "$\n",
    "\n",
    "$\n",
    "{S_{m n}}\\>: \\text { Matrix diagonal S }\\\\\n",
    "$\n",
    "\n",
    "$\n",
    "{V_{n n}^{T}}\\>\\>: \\text { Transpose matrix ortogonal V }\\\\\n",
    "$"
   ]
  },
  {
   "cell_type": "markdown",
   "metadata": {},
   "source": [
    "Output dari SVD ini digunakan untuk menghitung similaritasnya dengan pendekatan cosine similarity."
   ]
  },
  {
   "cell_type": "markdown",
   "metadata": {},
   "source": [
    "Cosine similarity merupakan metode untuk menghitung nilai kosinus sudut antara vektor dokumen dengan vektor query. Semakin kecil sudut yang dihasilkan, maka tingkat kemiripan esai semakin tinggi.<br>\n",
    "Untuk rumusnya sendiri seperti berikut.\n",
    "\n",
    "$$\n",
    "\\cos \\alpha=\\frac{\\boldsymbol{A} \\cdot \\boldsymbol{B}}{|\\boldsymbol{A}||\\boldsymbol{B}|}=\\frac{\\sum_{i=1}^{n} \\boldsymbol{A}_{i} X \\boldsymbol{B}_{i}}{\\sqrt{\\sum_{i=1}^{n}\\left(\\boldsymbol{A}_{i}\\right)^{2}} X \\sqrt{\\sum_{i=1}^{n}\\left(\\boldsymbol{B}_{i}\\right)^{2}}}\n",
    "$$\n",
    "\n",
    "Keterangan:\n",
    "\n",
    "$\n",
    "{A}\\> \\quad\\quad: \\text { vektor dokumen } \\\\\n",
    "$\n",
    "\n",
    "$\n",
    "{B}\\>\\quad\\quad: \\text { vektor query }\\\\\n",
    "$\n",
    "\n",
    "$\n",
    "{\\boldsymbol{A} \\cdot \\boldsymbol{B}}\\>: \\text { perkalian dot vektor }\\\\\n",
    "$\n",
    "\n",
    "$\n",
    "{|\\boldsymbol{A}|}\\>\\quad: \\text { panjang vektor A }\\\\\n",
    "$\n",
    "\n",
    "$\n",
    "{|\\boldsymbol{B}|}\\>\\quad: \\text { panjang vektor B }\\\\\n",
    "$\n",
    "\n",
    "$\n",
    "{|\\boldsymbol{A}||\\boldsymbol{B}|}: \\text { Perkalian panjang vektor }\\\\\n",
    "$\n",
    "\n",
    "$\n",
    "\\alpha\\> \\quad\\quad: \\text { sudut yang terbentuk antara vektor A dengan vektor B }\\\\\n",
    "$\n"
   ]
  },
  {
   "cell_type": "markdown",
   "metadata": {},
   "source": [
    ">import library"
   ]
  },
  {
   "cell_type": "code",
   "execution_count": 23,
   "metadata": {},
   "outputs": [],
   "source": [
    "from sklearn.decomposition import TruncatedSVD"
   ]
  },
  {
   "cell_type": "markdown",
   "metadata": {},
   "source": [
    ">Pemrosesan LSA"
   ]
  },
  {
   "cell_type": "code",
   "execution_count": 24,
   "metadata": {},
   "outputs": [
    {
     "data": {
      "text/plain": [
       "(59, 1159)"
      ]
     },
     "execution_count": 24,
     "metadata": {},
     "output_type": "execute_result"
    }
   ],
   "source": [
    "vect_abstrak.shape"
   ]
  },
  {
   "cell_type": "code",
   "execution_count": 25,
   "metadata": {},
   "outputs": [],
   "source": [
    "lsa_model = TruncatedSVD(n_components=30, algorithm='randomized', n_iter=10, random_state=42)\n",
    "lsa_top=lsa_model.fit_transform(vect_abstrak)"
   ]
  },
  {
   "cell_type": "markdown",
   "metadata": {},
   "source": [
    "Matrix A yang dicontohkan pada studi kasus kali ini berada di variabel \"vect_abstrak\" yang merupakan hasil TF-IDF, untuk ukurannya sendiri adalah 60x1594."
   ]
  },
  {
   "cell_type": "markdown",
   "metadata": {},
   "source": [
    ">Matrix U"
   ]
  },
  {
   "cell_type": "code",
   "execution_count": 26,
   "metadata": {},
   "outputs": [
    {
     "name": "stdout",
     "output_type": "stream",
     "text": [
      "[[ 0.18099558  0.48180096 -0.15764456 ... -0.03560371  0.02064297\n",
      "   0.04937421]\n",
      " [ 0.08440985  0.02825398  0.00995621 ...  0.05936627 -0.08193686\n",
      "  -0.08966508]\n",
      " [ 0.26672423  0.40429469 -0.0672981  ... -0.160646    0.19661449\n",
      "  -0.03114953]\n",
      " ...\n",
      " [ 0.42366471 -0.03513473 -0.00446444 ... -0.19068761 -0.18338265\n",
      "   0.08491488]\n",
      " [ 0.0796338   0.04545515  0.0379146  ... -0.13255556 -0.02279668\n",
      "  -0.32392005]\n",
      " [ 0.34055444 -0.14544199 -0.05012558 ...  0.08750611  0.16797629\n",
      "  -0.04895872]]\n",
      "(59, 30)\n"
     ]
    }
   ],
   "source": [
    "print(lsa_top)\n",
    "print(lsa_top.shape)  # (proporsi topik pada setiap dokumen)"
   ]
  },
  {
   "cell_type": "markdown",
   "metadata": {},
   "source": [
    ">Proporsi topik pada dokumen 0"
   ]
  },
  {
   "cell_type": "code",
   "execution_count": 27,
   "metadata": {},
   "outputs": [
    {
     "name": "stdout",
     "output_type": "stream",
     "text": [
      "Document 0 :\n",
      "Topic  0  :  5.429867300632296\n",
      "Topic  1  :  14.454028762719153\n",
      "Topic  2  :  -4.729336801867316\n",
      "Topic  3  :  -7.48143539094987\n",
      "Topic  4  :  -3.721156158836755\n",
      "Topic  5  :  5.088257972480239\n",
      "Topic  6  :  -5.291607991484489\n",
      "Topic  7  :  -11.118385969475979\n",
      "Topic  8  :  4.259361896564361\n",
      "Topic  9  :  -2.555788736891936\n",
      "Topic  10  :  -1.7968760395483083\n",
      "Topic  11  :  -2.2610339515331632\n",
      "Topic  12  :  0.06871504772327058\n",
      "Topic  13  :  -2.9179035063363212\n",
      "Topic  14  :  -2.780589127703718\n",
      "Topic  15  :  -1.3202348921602316\n",
      "Topic  16  :  -1.3942550779684195\n",
      "Topic  17  :  0.0034650653767786853\n",
      "Topic  18  :  1.6437296907228243\n",
      "Topic  19  :  2.4066321108166173\n",
      "Topic  20  :  1.3425724317624077\n",
      "Topic  21  :  1.2668858208088638\n",
      "Topic  22  :  4.058227603205693\n",
      "Topic  23  :  -1.6709905967403733\n",
      "Topic  24  :  2.49917222478541\n",
      "Topic  25  :  3.1310436326092095\n",
      "Topic  26  :  -1.7471329105651374\n",
      "Topic  27  :  -1.0681112449428019\n",
      "Topic  28  :  0.6192892043321264\n",
      "Topic  29  :  1.481226388505777\n"
     ]
    }
   ],
   "source": [
    "l=lsa_top[0]\n",
    "print(\"Document 0 :\")\n",
    "for i,topic in enumerate(l):\n",
    "    print(\"Topic \",i,\" : \",topic*30)"
   ]
  },
  {
   "cell_type": "markdown",
   "metadata": {},
   "source": [
    ">Matrix V"
   ]
  },
  {
   "cell_type": "code",
   "execution_count": 28,
   "metadata": {},
   "outputs": [
    {
     "name": "stdout",
     "output_type": "stream",
     "text": [
      "(30, 1159)\n",
      "[[ 0.00167713  0.04449431  0.00155991 ...  0.0553884   0.0191683\n",
      "   0.0031619 ]\n",
      " [ 0.0075476   0.02846252  0.00990111 ... -0.01548744 -0.00532405\n",
      "  -0.00019721]\n",
      " [-0.00336643 -0.00731059 -0.00369369 ... -0.0260161   0.00481326\n",
      "   0.00024531]\n",
      " ...\n",
      " [-0.00399284 -0.01802613 -0.00198515 ... -0.02352163 -0.00652283\n",
      "   0.00132739]\n",
      " [-0.01271723  0.01112512  0.00109498 ...  0.08037389  0.0222461\n",
      "   0.00432387]\n",
      " [-0.00133051  0.00037884  0.00296217 ... -0.08992467 -0.02335729\n",
      "   0.0066939 ]]\n"
     ]
    }
   ],
   "source": [
    "print(lsa_model.components_.shape) # (proporsi topik terhadap term)\n",
    "print(lsa_model.components_)"
   ]
  },
  {
   "cell_type": "markdown",
   "metadata": {},
   "source": [
    ">S"
   ]
  },
  {
   "cell_type": "code",
   "execution_count": 29,
   "metadata": {},
   "outputs": [
    {
     "name": "stdout",
     "output_type": "stream",
     "text": [
      "(30, 30)\n",
      "[[2.40559637 0.         0.         0.         0.         0.\n",
      "  0.         0.         0.         0.         0.         0.\n",
      "  0.         0.         0.         0.         0.         0.\n",
      "  0.         0.         0.         0.         0.         0.\n",
      "  0.         0.         0.         0.         0.         0.        ]\n",
      " [0.         1.55786892 0.         0.         0.         0.\n",
      "  0.         0.         0.         0.         0.         0.\n",
      "  0.         0.         0.         0.         0.         0.\n",
      "  0.         0.         0.         0.         0.         0.\n",
      "  0.         0.         0.         0.         0.         0.        ]\n",
      " [0.         0.         1.45897354 0.         0.         0.\n",
      "  0.         0.         0.         0.         0.         0.\n",
      "  0.         0.         0.         0.         0.         0.\n",
      "  0.         0.         0.         0.         0.         0.\n",
      "  0.         0.         0.         0.         0.         0.        ]\n",
      " [0.         0.         0.         1.35127451 0.         0.\n",
      "  0.         0.         0.         0.         0.         0.\n",
      "  0.         0.         0.         0.         0.         0.\n",
      "  0.         0.         0.         0.         0.         0.\n",
      "  0.         0.         0.         0.         0.         0.        ]\n",
      " [0.         0.         0.         0.         1.31414361 0.\n",
      "  0.         0.         0.         0.         0.         0.\n",
      "  0.         0.         0.         0.         0.         0.\n",
      "  0.         0.         0.         0.         0.         0.\n",
      "  0.         0.         0.         0.         0.         0.        ]\n",
      " [0.         0.         0.         0.         0.         1.26221225\n",
      "  0.         0.         0.         0.         0.         0.\n",
      "  0.         0.         0.         0.         0.         0.\n",
      "  0.         0.         0.         0.         0.         0.\n",
      "  0.         0.         0.         0.         0.         0.        ]\n",
      " [0.         0.         0.         0.         0.         0.\n",
      "  1.25354264 0.         0.         0.         0.         0.\n",
      "  0.         0.         0.         0.         0.         0.\n",
      "  0.         0.         0.         0.         0.         0.\n",
      "  0.         0.         0.         0.         0.         0.        ]\n",
      " [0.         0.         0.         0.         0.         0.\n",
      "  0.         1.20343833 0.         0.         0.         0.\n",
      "  0.         0.         0.         0.         0.         0.\n",
      "  0.         0.         0.         0.         0.         0.\n",
      "  0.         0.         0.         0.         0.         0.        ]\n",
      " [0.         0.         0.         0.         0.         0.\n",
      "  0.         0.         1.19421733 0.         0.         0.\n",
      "  0.         0.         0.         0.         0.         0.\n",
      "  0.         0.         0.         0.         0.         0.\n",
      "  0.         0.         0.         0.         0.         0.        ]\n",
      " [0.         0.         0.         0.         0.         0.\n",
      "  0.         0.         0.         1.18327999 0.         0.\n",
      "  0.         0.         0.         0.         0.         0.\n",
      "  0.         0.         0.         0.         0.         0.\n",
      "  0.         0.         0.         0.         0.         0.        ]\n",
      " [0.         0.         0.         0.         0.         0.\n",
      "  0.         0.         0.         0.         1.14517909 0.\n",
      "  0.         0.         0.         0.         0.         0.\n",
      "  0.         0.         0.         0.         0.         0.\n",
      "  0.         0.         0.         0.         0.         0.        ]\n",
      " [0.         0.         0.         0.         0.         0.\n",
      "  0.         0.         0.         0.         0.         1.08407054\n",
      "  0.         0.         0.         0.         0.         0.\n",
      "  0.         0.         0.         0.         0.         0.\n",
      "  0.         0.         0.         0.         0.         0.        ]\n",
      " [0.         0.         0.         0.         0.         0.\n",
      "  0.         0.         0.         0.         0.         0.\n",
      "  1.07368019 0.         0.         0.         0.         0.\n",
      "  0.         0.         0.         0.         0.         0.\n",
      "  0.         0.         0.         0.         0.         0.        ]\n",
      " [0.         0.         0.         0.         0.         0.\n",
      "  0.         0.         0.         0.         0.         0.\n",
      "  0.         1.06367696 0.         0.         0.         0.\n",
      "  0.         0.         0.         0.         0.         0.\n",
      "  0.         0.         0.         0.         0.         0.        ]\n",
      " [0.         0.         0.         0.         0.         0.\n",
      "  0.         0.         0.         0.         0.         0.\n",
      "  0.         0.         1.04803657 0.         0.         0.\n",
      "  0.         0.         0.         0.         0.         0.\n",
      "  0.         0.         0.         0.         0.         0.        ]\n",
      " [0.         0.         0.         0.         0.         0.\n",
      "  0.         0.         0.         0.         0.         0.\n",
      "  0.         0.         0.         1.04116914 0.         0.\n",
      "  0.         0.         0.         0.         0.         0.\n",
      "  0.         0.         0.         0.         0.         0.        ]\n",
      " [0.         0.         0.         0.         0.         0.\n",
      "  0.         0.         0.         0.         0.         0.\n",
      "  0.         0.         0.         0.         1.03701464 0.\n",
      "  0.         0.         0.         0.         0.         0.\n",
      "  0.         0.         0.         0.         0.         0.        ]\n",
      " [0.         0.         0.         0.         0.         0.\n",
      "  0.         0.         0.         0.         0.         0.\n",
      "  0.         0.         0.         0.         0.         1.02816798\n",
      "  0.         0.         0.         0.         0.         0.\n",
      "  0.         0.         0.         0.         0.         0.        ]\n",
      " [0.         0.         0.         0.         0.         0.\n",
      "  0.         0.         0.         0.         0.         0.\n",
      "  0.         0.         0.         0.         0.         0.\n",
      "  1.01814346 0.         0.         0.         0.         0.\n",
      "  0.         0.         0.         0.         0.         0.        ]\n",
      " [0.         0.         0.         0.         0.         0.\n",
      "  0.         0.         0.         0.         0.         0.\n",
      "  0.         0.         0.         0.         0.         0.\n",
      "  0.         1.00956292 0.         0.         0.         0.\n",
      "  0.         0.         0.         0.         0.         0.        ]\n",
      " [0.         0.         0.         0.         0.         0.\n",
      "  0.         0.         0.         0.         0.         0.\n",
      "  0.         0.         0.         0.         0.         0.\n",
      "  0.         0.         1.00603589 0.         0.         0.\n",
      "  0.         0.         0.         0.         0.         0.        ]\n",
      " [0.         0.         0.         0.         0.         0.\n",
      "  0.         0.         0.         0.         0.         0.\n",
      "  0.         0.         0.         0.         0.         0.\n",
      "  0.         0.         0.         0.99131697 0.         0.\n",
      "  0.         0.         0.         0.         0.         0.        ]\n",
      " [0.         0.         0.         0.         0.         0.\n",
      "  0.         0.         0.         0.         0.         0.\n",
      "  0.         0.         0.         0.         0.         0.\n",
      "  0.         0.         0.         0.         0.98890035 0.\n",
      "  0.         0.         0.         0.         0.         0.        ]\n",
      " [0.         0.         0.         0.         0.         0.\n",
      "  0.         0.         0.         0.         0.         0.\n",
      "  0.         0.         0.         0.         0.         0.\n",
      "  0.         0.         0.         0.         0.         0.98112044\n",
      "  0.         0.         0.         0.         0.         0.        ]\n",
      " [0.         0.         0.         0.         0.         0.\n",
      "  0.         0.         0.         0.         0.         0.\n",
      "  0.         0.         0.         0.         0.         0.\n",
      "  0.         0.         0.         0.         0.         0.\n",
      "  0.97575846 0.         0.         0.         0.         0.        ]\n",
      " [0.         0.         0.         0.         0.         0.\n",
      "  0.         0.         0.         0.         0.         0.\n",
      "  0.         0.         0.         0.         0.         0.\n",
      "  0.         0.         0.         0.         0.         0.\n",
      "  0.         0.96238698 0.         0.         0.         0.        ]\n",
      " [0.         0.         0.         0.         0.         0.\n",
      "  0.         0.         0.         0.         0.         0.\n",
      "  0.         0.         0.         0.         0.         0.\n",
      "  0.         0.         0.         0.         0.         0.\n",
      "  0.         0.         0.9608132  0.         0.         0.        ]\n",
      " [0.         0.         0.         0.         0.         0.\n",
      "  0.         0.         0.         0.         0.         0.\n",
      "  0.         0.         0.         0.         0.         0.\n",
      "  0.         0.         0.         0.         0.         0.\n",
      "  0.         0.         0.         0.95385688 0.         0.        ]\n",
      " [0.         0.         0.         0.         0.         0.\n",
      "  0.         0.         0.         0.         0.         0.\n",
      "  0.         0.         0.         0.         0.         0.\n",
      "  0.         0.         0.         0.         0.         0.\n",
      "  0.         0.         0.         0.         0.93836157 0.        ]\n",
      " [0.         0.         0.         0.         0.         0.\n",
      "  0.         0.         0.         0.         0.         0.\n",
      "  0.         0.         0.         0.         0.         0.\n",
      "  0.         0.         0.         0.         0.         0.\n",
      "  0.         0.         0.         0.         0.         0.92561975]]\n"
     ]
    }
   ],
   "source": [
    "s = np.diag(lsa_model.singular_values_)\n",
    "print(s.shape)\n",
    "print(s)"
   ]
  },
  {
   "cell_type": "markdown",
   "metadata": {},
   "source": [
    ">Hasil ranking dari setiap topik dalam dokumen seperti dibawah"
   ]
  },
  {
   "cell_type": "code",
   "execution_count": 30,
   "metadata": {},
   "outputs": [
    {
     "name": "stdout",
     "output_type": "stream",
     "text": [
      "Topic 0: \n",
      "variabel keputusan pembelian produk harga uji merek penelitian berpengaruh konsumen promosi kualitas bangkalan signifikan pengaruh simultan parsial distribusi analisis hipotesis data swalayan kecamatan kerja hasil iklan pelayanan berdasarkan kepuasan pesan \n",
      "\n",
      "Topic 1: \n",
      "kerja karyawan kompensasi pegawai pengembangan prestasi pesan produktivitas kinerja variabel kepemimpinan pln pendidikan pelatihan karir langsung nilai dinas pengaruh pt perusahaan kabupaten stressor persero semangat signifikan penelitian fhitung tipe ratio \n",
      "\n",
      "Topic 2: \n",
      "saham perusahaan split stock ratio return perbedaan akuisisi terdaftar perdagangan harga volume bursa efek penelitian indonesia pemecahan manufaktur current tbk equity profitabilitas menyebabkan portofolio bangkrut kritis sehat sampel keuangan to \n",
      "\n",
      "Topic 3: \n",
      "merek kepuasan persepsi kualitas ekuitas pelanggan madura universitas trunojoyo mahasiswa akademik online motor loyalitas langsung brand iklan sepeda pelayanan dimensi asosiasi kesadaran ekonomi faktor fakultas kemudahan jaminan pakaian perilaku ratio \n",
      "\n",
      "Topic 4: \n",
      "pesan iklan isi xl kartu seluler televisi beli konsumen format struktur geger sumber keputusan langsung kecamatan minat angin jamu manyar muncul sido tolak pasar online perusahaan komunikasi pengaruh pakaian media \n",
      "\n",
      "Topic 5: \n",
      "merek ekuitas kerja pembelian keputusan loyalitas psikologis brand asosiasi kesadaran persepsi karyawan perusahaan blackberry handphone studi cabang pln kebudayaan vario pribadi uji pengembangan sosial kamal notebook perilaku cair indomilk susu \n",
      "\n",
      "Topic 6: \n",
      "ratio perusahaan current equity profitabilitas akuisisi kompensasi manufaktur risk terdaftar debt roe on firm leverage size bursa efek signifikan kinerja promosi indonesia produk to variabel businees dividend payout keuangan berdasarkan \n",
      "\n",
      "Topic 7: \n",
      "kompensasi variabel saham finansial langsung kinerja nilai terikat pendidikan hipotesis signifikan kepemimpinan pengujian bebas nonfinansial split stock fhitung konflik kompetensi berpengaruh sampang kantor loyalitas terbukti berdasarkan tbk mahasiswa promosi komitmen \n",
      "\n",
      "Topic 8: \n",
      "online akademik trunojoyo madura universitas mahasiswa prestasi fakultas ekonomi iklan stressor fashion pakaian kerja efficacy generality magnitude self strength faktor belanja preferensi dosen distribusi promosi kompetensi portal analisis klik menentukan \n",
      "\n",
      "Topic 9: \n",
      "produk motor sepeda honda kompensasi atribut dealer agung surya supra langsung online kecamatan jembatan suramadu desain gaya kinerja fitur saham vario finansial kamal biaya faktor kabupaten pengguna bebas cacat pelaporan \n",
      "\n",
      "Topic 10: \n",
      "langsung kompensasi swalayan karyawan konsumen perusahaan kinerja finansial iklan jerry tom berbelanja online cabang psikologis gresik rekrutmen analisis eceran perilaku akuisisi sidogiri cdm jalur karir daya alat kebudayaan nonfinansial pengembangan \n",
      "\n",
      "Topic 11: \n",
      "perusahaan persepsi akuisisi harga cabang bangkrut kritis sehat kemudahan swalayan sidogiri dimensi banking internet minat produk eceran makanan coffee top metode bri ulang bangkalan pelanggan kopontren merah tanah bauran pegawai \n",
      "\n",
      "Topic 12: \n",
      "dimensi karyawan pt persepsi pelanggan cabang tbk lamongan karir ratio piutang bersaing inovasi keunggulan npl resiko bank gresik rekrutmen data mengalami koperasi bangkalan promosi pengembangan sidogiri portofolio risk kemudahan rentabilitas \n",
      "\n",
      "Topic 13: \n",
      "online budaya bangkalan of pengemis iklan piutang produktivitas konflik cabang koperasi pelatihan pakaian rentabilitas bundling perilaku sikap faktor ekonomi fashion fakultas sidogiri bmt kopergu kpri pembantu ugt keluarga belanja preferensi \n",
      "\n",
      "Topic 14: \n",
      "akademik pegawai kepemimpinan prestasi sidogiri piutang swalayan tipe koperasi cabang rentabilitas tingkat npl resiko efficacy generality magnitude self strength kopontren merah tanah bank dinas kompensasi sampang bmt kopergu kpri pembantu \n",
      "\n",
      "Topic 15: \n",
      "kompetensi of budaya dosen stressor dimensi bersaing inovasi keunggulan lamongan pengemis lingkungan perilaku pemasaran data sosial persepsi optik reza coffee top kinerja kepemimpinan mengalami fisik kelurahan is association cranberries distro \n",
      "\n",
      "Topic 16: \n",
      "kompetensi dosen konflik kinerja bersaing inovasi keunggulan pesan budaya piutang akademik komitmen koperasi cabang komunikasi sidogiri berdasarkan surabaya rentabilitas pengemis keuntungan stressor pedagogik optik reza perusahaan terikat kebenaran relationship lamongan \n",
      "\n",
      "Topic 17: \n",
      "kualitas biaya profitabilitas harga cacat pelaporan stressor produk kompetensi dosen risiko merek swalayan anti deterjen noda rinso langsung berbelanja hawaii martabak ratio ekuitas pesan jerry tom cv inti kapuas sarana \n",
      "\n",
      "Topic 18: \n",
      "of is budaya research purchasing this produktivitas decision biaya pengemis merek kualitas variable service quality location bersaing inovasi keunggulan lamongan cacat pelaporan perusahaan pelatihan and effort influence method meningkatkan risiko \n",
      "\n",
      "Topic 19: \n",
      "bundling of kamal chicken dukuh kupang quick raya restoran surabaya prestasi cabang saji kecamatan cepat makanan kepuasan biaya focus paketan strategy coffee top profitabilitas risiko cacat pelaporan service graha permai \n",
      "\n",
      "Topic 20: \n",
      "bersaing inovasi keunggulan iklan online lamongan pakaian optik reza mengalami npl resiko daerah helm ink daya bank jawa perusahaan klik pembelian kerja tingkat bpr credit pd frekuensi pemasaran konflik bundling \n",
      "\n",
      "Topic 21: \n",
      "konflik kamal karir prestasi kinerja rs syamrabu bersaing inovasi keunggulan banking pln minat gresik rekrutmen internet uji iklan kecamatan karyawan ganda perawat tugas wanita kemudahan peran bri ulang semangat helm \n",
      "\n",
      "Topic 22: \n",
      "komitmen marketing nasabah kebenaran relationship keuntungan banking internet loyalitas piutang komunikasi adira finance bri ulang langsung kemudahan kompensasi persepsi koperasi of motor rentabilitas distribusi kerja barat wilayah fitur stressor bmt \n",
      "\n",
      "Topic 23: \n",
      "of kompetensi kamal atribut jembatan suramadu dosen is sepeda stressor pengguna graha permai perumahan petugas research purchasing this motor keputusan pelayanan kecamatan location quality goreng minyak sania studi decision marga \n",
      "\n",
      "Topic 24: \n",
      "konflik of dimensi langsung is bangkalan kerja research association cranberries distro kiddrock decision rs syamrabu uji helm ink brand piutang iklan motor purchasing this prestasi koperasi pelanggan honda pakaian kompensasi \n",
      "\n",
      "Topic 25: \n",
      "budaya pengemis bundling kompensasi langsung lingkungan stressor harga kerja finansial jembatan suramadu chicken dukuh kupang quick raya restoran keluarga anak bentuk dimensi sepeda kualitas saji tingkat makanan cabang pengguna kehidupan \n",
      "\n",
      "Topic 26: \n",
      "bundling harga chicken dukuh kupang quick raya restoran of pengembangan saji karir makanan pesan gresik rekrutmen kompetensi karyawan focus paketan strategy cepat surabaya honda produktivitas akademik efficacy generality magnitude self \n",
      "\n",
      "Topic 27: \n",
      "komitmen komunikasi dimensi kebenaran relationship marketing karir loyalitas gresik rekrutmen finance adira keuntungan produk pengembangan harga online coffee top brand association cranberries distro kiddrock barat wilayah karyawan kinerja pakaian kabupaten \n",
      "\n",
      "Topic 28: \n",
      "konflik langsung produktivitas pelatihan distribusi stressor bundling meningkatkan kamal kepuasan signifikan merek pendidikan cdm jalur xl rs syamrabu split stock pengaruh fisik produk kelautan perikanan akademik ganda perawat tugas wanita \n",
      "\n",
      "Topic 29: \n",
      "konflik swalayan tbk portofolio pt eceran stressor komunikasi langsung rs syamrabu beli kopontren merah tanah komitmen risiko jerry tom berbelanja indah kerja coffee top optimal internet banking kebenaran relationship ganda \n",
      "\n"
     ]
    }
   ],
   "source": [
    "# most important words for each topic\n",
    "vocab = vectorizer.get_feature_names_out()\n",
    "\n",
    "for i, comp in enumerate(lsa_model.components_):\n",
    "    vocab_comp = zip(vocab, comp)\n",
    "    sorted_words = sorted(vocab_comp, key= lambda x:x[1], reverse=True)[:30]\n",
    "    print(\"Topic \"+str(i)+\": \")\n",
    "    for t in sorted_words:\n",
    "        print(t[0],end=\" \")\n",
    "    print(\"\\n\")"
   ]
  },
  {
   "cell_type": "code",
   "execution_count": 31,
   "metadata": {},
   "outputs": [],
   "source": [
    "from wordcloud import WordCloud"
   ]
  },
  {
   "cell_type": "code",
   "execution_count": 32,
   "metadata": {},
   "outputs": [],
   "source": [
    "def draw_word_cloud(index):\n",
    "    imp_words_topic=\"\"\n",
    "    comp=lsa_model.components_[index]\n",
    "    vocab_comp = zip(vocab, comp)\n",
    "    sorted_words = sorted(vocab_comp, key= lambda x:x[1], reverse=True)[:30]\n",
    "    for word in sorted_words:\n",
    "        imp_words_topic=imp_words_topic+\" \"+word[0]\n",
    "\n",
    "    wordcloud = WordCloud(width=600, height=400).generate(imp_words_topic)\n",
    "    plt.figure(figsize=(5,5))\n",
    "    plt.imshow(wordcloud)\n",
    "    plt.axis(\"off\")\n",
    "    plt.tight_layout()\n",
    "    plt.show()"
   ]
  },
  {
   "cell_type": "code",
   "execution_count": 33,
   "metadata": {},
   "outputs": [
    {
     "data": {
      "image/png": "[encoded data removed]",
      "text/plain": [
       "<Figure size 360x360 with 1 Axes>"
      ]
     },
     "metadata": {
      "filenames": {
       "image/png": "C:\\Users\\uchih\\OneDrive - student.trunojoyo.ac.id\\Dokumen\\Data\\semester VI\\PPW\\uaslagi\\_build\\jupyter_execute\\lsa_73_0.png"
      },
      "needs_background": "light"
     },
     "output_type": "display_data"
    }
   ],
   "source": [
    "draw_word_cloud(0)"
   ]
  },
  {
   "cell_type": "code",
   "execution_count": null,
   "metadata": {},
   "outputs": [],
   "source": []
  }
 ],
 "metadata": {
  "interpreter": {
   "hash": "e1b15f5df67a702be8f228f6d0b6061fe0c39795279c81537b9d6008feba9a7d"
  },
  "kernelspec": {
   "display_name": "Python 3.10.2 64-bit",
   "language": "python",
   "name": "python3"
  },
  "language_info": {
   "codemirror_mode": {
    "name": "ipython",
    "version": 3
   },
   "file_extension": ".py",
   "mimetype": "text/x-python",
   "name": "python",
   "nbconvert_exporter": "python",
   "pygments_lexer": "ipython3",
   "version": "3.10.2"
  }
 },
 "nbformat": 4,
 "nbformat_minor": 2
}